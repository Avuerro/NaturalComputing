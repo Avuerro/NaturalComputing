{
 "cells": [
  {
   "cell_type": "markdown",
   "metadata": {},
   "source": [
    "# Natural Computing - Assignment 1 - Evolutionary Computation\n",
    "## Exercise 8 - Genetic Programming Behaviour\n",
    "#### Submission by group 25 (Chihab Amghane, Max Driessen, Jordy Naus)\n",
    "\n",
    "This file contains our solution to exercise 8 of the \"Evolutionary Computation\" assignment of the Natural Computing course.<br><br>\n",
    "The code below uses the DEAP framework (https://github.com/deap/deap), which is a very intuitive framework for evolutionary algorithms and genetic programming."
   ]
  },
  {
   "cell_type": "markdown",
   "metadata": {},
   "source": [
    "### Installing the DEAP framework"
   ]
  },
  {
   "cell_type": "code",
   "execution_count": 1,
   "metadata": {},
   "outputs": [
    {
     "name": "stdout",
     "output_type": "stream",
     "text": [
      "Requirement already satisfied: deap in /home/chb3k/anaconda3/envs/py37nc/lib/python3.8/site-packages (1.3.1)\r\n",
      "Requirement already satisfied: numpy in /home/chb3k/.local/lib/python3.8/site-packages (from deap) (1.18.1)\r\n"
     ]
    }
   ],
   "source": [
    "!pip install deap"
   ]
  },
  {
   "cell_type": "markdown",
   "metadata": {},
   "source": [
    "### Imports"
   ]
  },
  {
   "cell_type": "code",
   "execution_count": 2,
   "metadata": {},
   "outputs": [],
   "source": [
    "from deap import gp, base, tools, creator, algorithms\n",
    "import numpy as np\n",
    "import matplotlib.pyplot as plt\n",
    "import operator\n",
    "import math\n",
    "\n",
    "%matplotlib inline"
   ]
  },
  {
   "cell_type": "markdown",
   "metadata": {},
   "source": [
    "### Constants"
   ]
  },
  {
   "cell_type": "code",
   "execution_count": 3,
   "metadata": {},
   "outputs": [],
   "source": [
    "POP_SIZE = 1000\n",
    "N_GENERATIONS = 50\n",
    "CROSSOVER_PROB = 0.7\n",
    "MUTATION_PROB = 0.0\n",
    "\n",
    "CONTROL_BLOAT = False"
   ]
  },
  {
   "cell_type": "markdown",
   "metadata": {},
   "source": [
    "### Defining the fitness function"
   ]
  },
  {
   "cell_type": "code",
   "execution_count": 4,
   "metadata": {},
   "outputs": [],
   "source": [
    "solution_dict = {-1.0 :  0.0000, \n",
    "                 -0.9 : -0.1629, \n",
    "                 -0.8 : -0.2624, \n",
    "                 -0.7 : -0.3129, \n",
    "                 -0.6 : -0.3264, \n",
    "                 -0.5 : -0.3125, \n",
    "                 -0.4 : -0.2784, \n",
    "                 -0.3 : -0.2289, \n",
    "                 -0.2 : -0.1664, \n",
    "                 -0.1 : -0.0909, \n",
    "                  0.0 : 0.0, \n",
    "                  0.1 : 0.1111, \n",
    "                  0.2 : 0.2496, \n",
    "                  0.3 : 0.4251, \n",
    "                  0.4 : 0.6496, \n",
    "                  0.5 : 0.9375, \n",
    "                  0.6 : 1.3056, \n",
    "                  0.7 : 1.7731, \n",
    "                  0.8 : 2.3616, \n",
    "                  0.9 : 3.0951, \n",
    "                  1.0 : 4.0000}"
   ]
  },
  {
   "cell_type": "code",
   "execution_count": 5,
   "metadata": {},
   "outputs": [],
   "source": [
    "def fitness(individual, points):\n",
    "    # Transform tree expression into callable function\n",
    "    func = toolbox.compile(expr=individual)\n",
    "    # Compute sum of absolute errors\n",
    "    error = 0\n",
    "    for x, y in points.items():\n",
    "        error += abs(func(x) - y)\n",
    "    return -error,"
   ]
  },
  {
   "cell_type": "markdown",
   "metadata": {},
   "source": [
    "### Defining the set of operators and terminals"
   ]
  },
  {
   "cell_type": "code",
   "execution_count": 6,
   "metadata": {},
   "outputs": [],
   "source": [
    "def div(a,b):\n",
    "    # Ensure no division by 0 takes place\n",
    "    return a/b if b else 0\n",
    "\n",
    "def log(a):\n",
    "    # Ensure no logarithm is taken of a non-positive value\n",
    "    return math.log(a) if (a > 0) else 0\n",
    "\n",
    "def exp(a):\n",
    "    # Ensure no exponential is too big\n",
    "    return math.exp(min(a,100))\n",
    "\n",
    "\n",
    "# Create set of functions and terminals, with one terminal: x\n",
    "pset = gp.PrimitiveSet(\"main\", 1)\n",
    "pset.renameArguments(ARG0=\"x\")\n",
    "\n",
    "# Add all operators to the set\n",
    "pset.addPrimitive(operator.add, 2)\n",
    "pset.addPrimitive(operator.sub, 2)\n",
    "pset.addPrimitive(operator.mul, 2)\n",
    "pset.addPrimitive(div, 2)\n",
    "pset.addPrimitive(log, 1)\n",
    "pset.addPrimitive(exp, 1)\n",
    "pset.addPrimitive(math.sin, 1)\n",
    "pset.addPrimitive(math.cos, 1)"
   ]
  },
  {
   "cell_type": "markdown",
   "metadata": {},
   "source": [
    "### Define the creator that creates individuals (i.e. trees)"
   ]
  },
  {
   "cell_type": "code",
   "execution_count": 7,
   "metadata": {},
   "outputs": [],
   "source": [
    "creator.create(\"FitnessMin\", base.Fitness, weights=(1.0,))\n",
    "creator.create(\"Individual\", gp.PrimitiveTree, fitness=creator.FitnessMin)"
   ]
  },
  {
   "cell_type": "markdown",
   "metadata": {},
   "source": [
    "### Define the toolbox \n",
    "<b>(describes how to form a population, compile an expression as a function, evaluate fitness, select parents, perform cross-over and mutation)</b>"
   ]
  },
  {
   "cell_type": "code",
   "execution_count": 8,
   "metadata": {},
   "outputs": [],
   "source": [
    "toolbox = base.Toolbox()\n",
    "# Initial generation is generated using ramped half-and-half initialization, with a tree size between 1 and 5\n",
    "toolbox.register(\"expr\", gp.genHalfAndHalf, pset=pset, min_=1, max_=5)\n",
    "# Define how to generate a population of individuals\n",
    "toolbox.register(\"individual\", tools.initIterate, creator.Individual, toolbox.expr)\n",
    "toolbox.register(\"population\", tools.initRepeat, list, toolbox.individual)\n",
    "# Define how to compile a tree as a function that can be evaluated\n",
    "toolbox.register(\"compile\", gp.compile, pset=pset)\n",
    "# Define how to determine the fitness of an individual (using the fitness function defined above)\n",
    "toolbox.register(\"evaluate\", fitness, points=solution_dict)\n",
    "\n",
    "# Define how to select parents (tournament selection; either controlling for bloat or not controlling for it)\n",
    "if CONTROL_BLOAT:\n",
    "    toolbox.register(\"select\", tools.selDoubleTournament, fitness_size=3, parsimony_size=1.3, fitness_first=False)\n",
    "else:\n",
    "    toolbox.register(\"select\", tools.selTournament, tournsize=3) # Do not control\n",
    "# Define how to perform cross-over (pick one node of both parents & swap subtrees)\n",
    "toolbox.register(\"mate\", gp.cxOnePoint)\n",
    "# Define how to perform mutation (not very important as mutation probability is set to 0)\n",
    "toolbox.register(\"expr_mut\", gp.genHalfAndHalf, min_=0, max_=2)\n",
    "toolbox.register(\"mutate\", gp.mutUniform, expr=toolbox.expr_mut, pset=pset)\n",
    "\n",
    "# Define upper limits for height of trees\n",
    "toolbox.decorate(\"mate\", gp.staticLimit(key=operator.attrgetter(\"height\"), max_value=50))\n",
    "toolbox.decorate(\"mutate\", gp.staticLimit(key=operator.attrgetter(\"height\"), max_value=50))"
   ]
  },
  {
   "cell_type": "markdown",
   "metadata": {},
   "source": [
    "### Define statistics that will be gathered"
   ]
  },
  {
   "cell_type": "code",
   "execution_count": 9,
   "metadata": {},
   "outputs": [],
   "source": [
    "# Functions for determining average, min and max, which control for the possibility that the input might consist of tuples\n",
    "def tuple_avg(a):\n",
    "    if len(a[0]) == 2:\n",
    "        return np.mean([x[0] for x in a])\n",
    "    return np.mean(a)\n",
    "\n",
    "def tuple_min(a):\n",
    "    if len(a[0]) == 2:\n",
    "        return np.min([x[0] for x in a])\n",
    "    return np.min(a)\n",
    "\n",
    "def tuple_max(a):\n",
    "    if len(a[0]) == 2:\n",
    "        return np.max([x[0] for x in a])\n",
    "    return np.max(a)\n",
    "\n",
    "# Function for determining the size of the agent with the best fitness\n",
    "def tuple_best_size(a):\n",
    "    if len(a[0]) == 2:\n",
    "        return np.amax(a, 1)[0]\n",
    "    return None"
   ]
  },
  {
   "cell_type": "code",
   "execution_count": 10,
   "metadata": {},
   "outputs": [],
   "source": [
    "stats_fit = tools.Statistics(lambda ind: ind.fitness.values)\n",
    "stats_size = tools.Statistics(lambda ind: [len(ind), ind.fitness.values[0]])\n",
    "mstats = tools.MultiStatistics(fitness=stats_fit, size=stats_size)\n",
    "mstats.register(\"avg\",  tuple_avg)\n",
    "mstats.register(\"min\",  tuple_min)\n",
    "mstats.register(\"max\",  tuple_max)\n",
    "mstats.register(\"best\", tuple_best_size)"
   ]
  },
  {
   "cell_type": "markdown",
   "metadata": {},
   "source": [
    "### Run the genetic programming algorithm using the definitions above"
   ]
  },
  {
   "cell_type": "code",
   "execution_count": 11,
   "metadata": {
    "scrolled": false
   },
   "outputs": [
    {
     "name": "stdout",
     "output_type": "stream",
     "text": [
      "   \t      \t                               fitness                                \t                     size                     \n",
      "   \t      \t----------------------------------------------------------------------\t----------------------------------------------\n",
      "gen\tnevals\tavg         \tbest\tgen\tmax     \tmin         \tnevals\tavg  \tbest\tgen\tmax\tmin\tnevals\n",
      "0  \t1000  \t-2.67203e+42\tNone\t0  \t-4.65971\t-2.67203e+45\t1000  \t9.013\t7   \t0  \t50 \t2  \t1000  \n",
      "1  \t674   \t-1090.8     \tNone\t1  \t-4.24698\t-1.07202e+06\t674   \t7.35 \t5   \t1  \t43 \t2  \t674   \n",
      "2  \t728   \t-30.1243    \tNone\t2  \t-2.96026\t-14213.2    \t728   \t7.087\t2   \t2  \t45 \t2  \t728   \n",
      "3  \t704   \t-15.9867    \tNone\t3  \t-2.96026\t-973.349    \t704   \t6.63 \t5   \t3  \t43 \t2  \t704   \n",
      "4  \t678   \t-14.1154    \tNone\t4  \t-2.96026\t-741.744    \t678   \t7.917\t4   \t4  \t45 \t2  \t678   \n",
      "5  \t670   \t-44.3103    \tNone\t5  \t-2.39262\t-14376.6    \t670   \t9.93 \t22  \t5  \t50 \t2  \t670   \n",
      "6  \t738   \t-18.171     \tNone\t6  \t-1.04586\t-2292.64    \t738   \t11.832\t40  \t6  \t53 \t2  \t738   \n",
      "7  \t732   \t-29.6577    \tNone\t7  \t-1.87878\t-13002      \t732   \t12.221\t5   \t7  \t53 \t2  \t732   \n",
      "8  \t726   \t-25.7341    \tNone\t8  \t-1.87878\t-14372      \t726   \t12.232\t14  \t8  \t57 \t2  \t726   \n",
      "9  \t682   \t-27.4846    \tNone\t9  \t-1.10539\t-14372      \t682   \t12.875\t4   \t9  \t61 \t3  \t682   \n",
      "10 \t692   \t-24.2208    \tNone\t10 \t-1.10539\t-9059.74    \t692   \t15.004\t11  \t10 \t62 \t3  \t692   \n",
      "11 \t690   \t-53.0671    \tNone\t11 \t-1.3266 \t-14372      \t690   \t18.324\t9   \t11 \t69 \t3  \t690   \n",
      "12 \t678   \t-2.68824e+40\tNone\t12 \t-1.12617\t-2.68824e+43\t678   \t20.863\t15  \t12 \t69 \t3  \t678   \n",
      "13 \t672   \t-129.325    \tNone\t13 \t-0.781731\t-63730.5    \t672   \t21.155\t5   \t13 \t76 \t3  \t672   \n",
      "14 \t724   \t-185.054    \tNone\t14 \t-0.781731\t-130150     \t724   \t21.246\t17  \t14 \t76 \t3  \t724   \n",
      "15 \t756   \t-29.1723    \tNone\t15 \t-0.781731\t-14372      \t756   \t19.294\t7   \t15 \t81 \t3  \t756   \n",
      "16 \t700   \t-56.2611    \tNone\t16 \t-0.963665\t-15978.5    \t700   \t18.538\t12  \t16 \t70 \t3  \t700   \n",
      "17 \t704   \t-16.9725    \tNone\t17 \t-0.717637\t-4130.01    \t704   \t18.59 \t20  \t17 \t73 \t3  \t704   \n",
      "18 \t704   \t-13.6765    \tNone\t18 \t-0.717637\t-2983.63    \t704   \t19.618\t25  \t18 \t69 \t3  \t704   \n",
      "19 \t702   \t-11.2125    \tNone\t19 \t-0.717637\t-2022.7     \t702   \t19.988\t53  \t19 \t61 \t3  \t702   \n",
      "20 \t706   \t-6.58466    \tNone\t20 \t-0.717637\t-319.346    \t706   \t20.821\t16  \t20 \t51 \t3  \t706   \n",
      "21 \t692   \t-13.6498    \tNone\t21 \t-0.717637\t-1833.02    \t692   \t21.619\t29  \t21 \t63 \t3  \t692   \n",
      "22 \t678   \t-6.69189    \tNone\t22 \t-0.668535\t-312.331    \t678   \t23.06 \t27  \t22 \t78 \t3  \t678   \n",
      "23 \t740   \t-15.4313    \tNone\t23 \t-0.647483\t-1828.85    \t740   \t24    \t38  \t23 \t65 \t3  \t740   \n",
      "24 \t672   \t-9.50729    \tNone\t24 \t-0.609265\t-1792.21    \t672   \t25.643\t44  \t24 \t69 \t3  \t672   \n",
      "25 \t710   \t-12.1804    \tNone\t25 \t-0.609265\t-1828.85    \t710   \t27.54 \t27  \t25 \t77 \t3  \t710   \n",
      "26 \t682   \t-8.48057    \tNone\t26 \t-0.609265\t-1828.85    \t682   \t30.092\t41  \t26 \t77 \t3  \t682   \n",
      "27 \t682   \t-8.503      \tNone\t27 \t-0.514447\t-1890.22    \t682   \t31.89 \t20  \t27 \t93 \t3  \t682   \n",
      "28 \t662   \t-7.664      \tNone\t28 \t-0.454723\t-1828.85    \t662   \t32.852\t35  \t28 \t88 \t3  \t662   \n",
      "29 \t686   \t-8.18237    \tNone\t29 \t-0.454723\t-1795.8     \t686   \t33.308\t47  \t29 \t102\t6  \t686   \n",
      "30 \t690   \t-4.81071    \tNone\t30 \t-0.454723\t-439.687    \t690   \t34.266\t36  \t30 \t89 \t5  \t690   \n",
      "31 \t722   \t-4.52392    \tNone\t31 \t-0.454723\t-569.92     \t722   \t34.607\t40  \t31 \t101\t3  \t722   \n",
      "32 \t704   \t-3.76673    \tNone\t32 \t-0.454723\t-66.7843    \t704   \t35.313\t42  \t32 \t93 \t6  \t704   \n",
      "33 \t700   \t-3.97895    \tNone\t33 \t-0.454723\t-65.7549    \t700   \t35.806\t7   \t33 \t88 \t3  \t700   \n",
      "34 \t696   \t-3.66225    \tNone\t34 \t-0.454723\t-65.9034    \t696   \t36.726\t29  \t34 \t101\t7  \t696   \n",
      "35 \t688   \t-3.69436    \tNone\t35 \t-0.454723\t-65.7549    \t688   \t36.794\t40  \t35 \t102\t7  \t688   \n",
      "36 \t692   \t-4.31196    \tNone\t36 \t-0.454723\t-63.4041    \t692   \t37.142\t33  \t36 \t101\t7  \t692   \n",
      "37 \t712   \t-4.12962    \tNone\t37 \t-0.454723\t-43.0621    \t712   \t37.251\t26  \t37 \t102\t7  \t712   \n",
      "38 \t738   \t-4.39879    \tNone\t38 \t-0.454723\t-72.8825    \t738   \t37.463\t26  \t38 \t118\t7  \t738   \n",
      "39 \t716   \t-4.05566    \tNone\t39 \t-0.454723\t-65.7478    \t716   \t38.481\t31  \t39 \t136\t7  \t716   \n",
      "40 \t694   \t-3.90669    \tNone\t40 \t-0.407885\t-66.9627    \t694   \t40.273\t49  \t40 \t141\t7  \t694   \n",
      "41 \t702   \t-3.45072    \tNone\t41 \t-0.407885\t-60.8634    \t702   \t41.026\t8   \t41 \t155\t7  \t702   \n",
      "42 \t738   \t-3.96149    \tNone\t42 \t-0.454723\t-65.2879    \t738   \t41.183\t36  \t42 \t147\t7  \t738   \n",
      "43 \t676   \t-3.98094    \tNone\t43 \t-0.454723\t-65.6302    \t676   \t42.474\t40  \t43 \t146\t7  \t676   \n",
      "44 \t678   \t-3.94141    \tNone\t44 \t-0.407885\t-70.9689    \t678   \t43.784\t45  \t44 \t146\t7  \t678   \n",
      "45 \t706   \t-3.40454    \tNone\t45 \t-0.454723\t-33.0568    \t706   \t44.803\t33  \t45 \t186\t7  \t706   \n",
      "46 \t728   \t-3.64284    \tNone\t46 \t-0.454723\t-65.5914    \t728   \t45.742\t7   \t46 \t155\t7  \t728   \n",
      "47 \t724   \t-3.28943    \tNone\t47 \t-0.407885\t-65.2879    \t724   \t48.563\t25  \t47 \t165\t7  \t724   \n",
      "48 \t700   \t-3.33978    \tNone\t48 \t-0.407885\t-65.0322    \t700   \t52.082\t38  \t48 \t197\t7  \t700   \n",
      "49 \t704   \t-3.28705    \tNone\t49 \t-0.407885\t-70.2485    \t704   \t55.589\t147 \t49 \t242\t7  \t704   \n",
      "50 \t672   \t-3.07021    \tNone\t50 \t-0.454723\t-65.5914    \t672   \t55.791\t40  \t50 \t184\t7  \t672   \n"
     ]
    }
   ],
   "source": [
    "pop = toolbox.population(POP_SIZE)\n",
    "hof = tools.HallOfFame(1)\n",
    "pop, log = algorithms.eaSimple(population=pop, \n",
    "                               toolbox=toolbox, \n",
    "                               cxpb=CROSSOVER_PROB, \n",
    "                               mutpb=MUTATION_PROB, \n",
    "                               ngen=N_GENERATIONS, \n",
    "                               stats=mstats, \n",
    "                               halloffame=hof, \n",
    "                               verbose=True)"
   ]
  },
  {
   "cell_type": "markdown",
   "metadata": {},
   "source": [
    "### Inspect best solution found"
   ]
  },
  {
   "cell_type": "code",
   "execution_count": 12,
   "metadata": {},
   "outputs": [
    {
     "name": "stdout",
     "output_type": "stream",
     "text": [
      "sub(mul(sin(mul(sin(x), mul(mul(exp(x), cos(x)), add(sin(x), sub(x, x))))), mul(mul(exp(x), sin(sub(sub(exp(x), sin(x)), x))), x)), sub(cos(x), exp(x)))\n"
     ]
    }
   ],
   "source": [
    "print(str(hof[0]))"
   ]
  },
  {
   "cell_type": "markdown",
   "metadata": {},
   "source": [
    "### Plotting"
   ]
  },
  {
   "cell_type": "code",
   "execution_count": 13,
   "metadata": {},
   "outputs": [],
   "source": [
    "# Extract fitness of best individual in each generation\n",
    "max_fitness = log.chapters[\"fitness\"].select(\"max\")\n",
    "\n",
    "# Extract average, minimum and maximum size in each generation, as well as size corresponding to agent with best fitness\n",
    "avg_size = log.chapters[\"size\"].select(\"avg\")\n",
    "min_size = log.chapters[\"size\"].select(\"min\")\n",
    "max_size = log.chapters[\"size\"].select(\"max\")\n",
    "best_size = log.chapters[\"size\"].select(\"best\")"
   ]
  },
  {
   "cell_type": "code",
   "execution_count": 14,
   "metadata": {},
   "outputs": [
    {
     "data": {
      "image/png": "[encoded data removed]",
      "text/plain": [
       "<Figure size 432x288 with 1 Axes>"
      ]
     },
     "metadata": {
      "needs_background": "light"
     },
     "output_type": "display_data"
    }
   ],
   "source": [
    "# Plot best fitness as a function of generation\n",
    "plt.plot(max_fitness, label=\"best fitness\")\n",
    "plt.legend(loc=\"upper left\")\n",
    "plt.title(\"best fitness as a function of generation\")\n",
    "plt.xlabel(\"generation\")\n",
    "plt.ylabel(\"fitness\")\n",
    "plt.show()"
   ]
  },
  {
   "cell_type": "code",
   "execution_count": 15,
   "metadata": {},
   "outputs": [
    {
     "data": {
      "image/png": "[encoded data removed]",
      "text/plain": [
       "<Figure size 432x288 with 1 Axes>"
      ]
     },
     "metadata": {
      "needs_background": "light"
     },
     "output_type": "display_data"
    }
   ],
   "source": [
    "# Plot size as a function of generation\n",
    "plt.plot(avg_size, label=\"average size\")\n",
    "plt.fill_between(np.arange(0,51,1), min_size, max_size, facecolor=\"blue\", alpha=0.1, label=\"spread between min and max\")\n",
    "plt.plot(best_size, label=\"size of individual with best fitness\")\n",
    "plt.legend(loc=\"upper left\")\n",
    "plt.title(\"size as a function of generation\")\n",
    "plt.xlabel(\"generation\")\n",
    "plt.ylabel(\"size\")\n",
    "plt.show()"
   ]
  },
  {
   "cell_type": "code",
   "execution_count": null,
   "metadata": {},
   "outputs": [],
   "source": []
  }
 ],
 "metadata": {
  "kernelspec": {
   "display_name": "Python 3",
   "language": "python",
   "name": "python3"
  },
  "language_info": {
   "codemirror_mode": {
    "name": "ipython",
    "version": 3
   },
   "file_extension": ".py",
   "mimetype": "text/x-python",
   "name": "python",
   "nbconvert_exporter": "python",
   "pygments_lexer": "ipython3",
   "version": "3.8.5"
  }
 },
 "nbformat": 4,
 "nbformat_minor": 4
}
