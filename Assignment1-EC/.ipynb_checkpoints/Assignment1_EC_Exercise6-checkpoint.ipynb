{
 "cells": [
  {
   "cell_type": "markdown",
   "metadata": {},
   "source": [
    "# Natural Computing - Assignment 1 - Evolutionary Computation\n",
    "## Exercise 6 - Memetic algorithms vs simple EAs\n",
    "#### Submission by group 25 (Chihab Amghane, Max Driessen, Jordy Naus)\n",
    "\n",
    "This file contains our solution to exercise 6 of the \"Evolutionary Computation\" assignment of the Natural Computing course.<br><br>\n",
    "\n",
    "\n",
    "\n",
    "\n",
    "### Instructions\n",
    "\n",
    "#### TSP instances\n",
    "Make sure that the folder in which this notebook is stored contains the TSP instances in .txt format. \n",
    "#### Loading TSP instances\n",
    "The following code can be used to load the TSP instances\n",
    "```\n",
    "tsp = np.genfromtxt(fname='file-tsp.txt')\n",
    "tour = np.arange(len(tsp)) ## necessary to create the tours\n",
    "\n",
    "```\n",
    "\n",
    "#### Running the Simple Evolutionary Algorithm\n",
    "The following code can be used to run the simple evolutionary algorithm. Modify the iters and pm parameters if you would like to run more or fewer iterations or use a modified mutation rate.\n",
    "```\n",
    "avg_fitness, best_fitness = tsp_GA(tsp,iters=1500,pm=0.01)\n",
    "```\n",
    "\n",
    "\n",
    "#### Running the Memetic Algorithm\n",
    "The following code can be used to run the memetic algorithm.Modify the iters and pm parameters if you would like to run more or fewer iterations or use a modified mutation rate.\n",
    "```\n",
    "avg_fitness_memetic, best_fitness_memetic  = tsp_memetic(tsp,iters=1500,pm=0.01)\n",
    "```\n",
    "\n",
    "#### Examples\n",
    "The last two cells contain examples for two TSP instances, the first TSP instance is provided with the course  and the second TSP instance is the 48 US capital TSP (Padberg/Rinaldi): (http://elib.zib.de/pub/mp-testdata/tsp/tsplib/tsplib.html)."
   ]
  },
  {
   "cell_type": "markdown",
   "metadata": {},
   "source": [
    "### Imports"
   ]
  },
  {
   "cell_type": "code",
   "execution_count": 1,
   "metadata": {},
   "outputs": [],
   "source": [
    "import numpy as np\n",
    "import math\n",
    "import pdb\n",
    "import matplotlib.pyplot as plt\n",
    "import pdb\n",
    "from itertools import combinations"
   ]
  },
  {
   "cell_type": "markdown",
   "metadata": {},
   "source": [
    "### Auxiliary functions for EA/MA"
   ]
  },
  {
   "cell_type": "code",
   "execution_count": 2,
   "metadata": {},
   "outputs": [],
   "source": [
    "def calculate_fitness(tour, tsp):\n",
    "    fitness = 0\n",
    "    for i in range(0,len(tour)-1):\n",
    "        start = tsp[tour[i]]\n",
    "        end = tsp[tour[i+1]]\n",
    "        fitness = fitness + math.dist(start, end)\n",
    "    return fitness"
   ]
  },
  {
   "cell_type": "code",
   "execution_count": 3,
   "metadata": {},
   "outputs": [],
   "source": [
    "def generate_tour(tsp):\n",
    "    tour = np.arange(len(tsp))\n",
    "    np.random.shuffle(tour)\n",
    "    return tour"
   ]
  },
  {
   "cell_type": "code",
   "execution_count": 4,
   "metadata": {},
   "outputs": [],
   "source": [
    "def initialize_population(size, tsp):\n",
    "    population = []\n",
    "    for i in range(size):\n",
    "        tour = generate_tour(tsp)\n",
    "        population.append(tour)\n",
    "    return population"
   ]
  },
  {
   "cell_type": "code",
   "execution_count": 5,
   "metadata": {},
   "outputs": [],
   "source": [
    "def tournament_selection(population, tsp, k=5):\n",
    "    \n",
    "    # Define how to perform a tournament\n",
    "    def single_tournament(population):\n",
    "        idx = np.random.choice( range(0,len(population)) , size=k, replace=False)\n",
    "        k_candidates = population[idx, :]\n",
    "        p = None\n",
    "        best_fitness = float('inf')\n",
    "        for p_ in k_candidates:\n",
    "            p_fitness = calculate_fitness(p_, tsp)\n",
    "            if p_fitness < best_fitness:\n",
    "                best_fitness = p_fitness\n",
    "                p = p_\n",
    "        return p\n",
    "\n",
    "    population = np.array(population)\n",
    "    \n",
    "    # Select the first parent using a tournament\n",
    "    p1 = single_tournament(population)\n",
    "    # Remove the first parent from the \"parent pool\"\n",
    "    np.delete(population, p1)\n",
    "    # Select the second parent using a tournament\n",
    "    p2 = single_tournament(population)\n",
    "    \n",
    "    return p1, p2"
   ]
  },
  {
   "cell_type": "code",
   "execution_count": 6,
   "metadata": {},
   "outputs": [],
   "source": [
    "def random_mutation(population, pm = 0.01):\n",
    "    for p in population:\n",
    "        probabilities = np.random.rand(len(p))\n",
    "        mutations = np.where(probabilities < pm)[0]\n",
    "        if len(mutations) > 1:\n",
    "            for idx in range(0, len(mutations)-1):\n",
    "                p[[mutations[idx], mutations[idx+1]]] = p[[mutations[idx+1], mutations[idx]]]\n",
    "    \n",
    "    return population"
   ]
  },
  {
   "cell_type": "code",
   "execution_count": 7,
   "metadata": {},
   "outputs": [],
   "source": [
    "def random_crossover(parent1, parent2, population, fitness):\n",
    "    idx_to_replace = np.argsort(fitness)[-2:]\n",
    "    \n",
    "    # Select two crossover indices\n",
    "    cut = np.random.randint(0, len(parent1)+1, 2)\n",
    "    \n",
    "    # Create offspring arrays\n",
    "    offspring1 = np.zeros(len(parent1))\n",
    "    offspring2 = np.zeros(len(parent2))\n",
    "    \n",
    "    # Copy the parts between the crossover indices\n",
    "    offspring1[min(cut):max(cut)] = parent1[min(cut):max(cut)]\n",
    "    offspring2[min(cut):max(cut)] = parent2[min(cut):max(cut)]\n",
    "    \n",
    "    # Define how to fill the remainder of offspring\n",
    "    def fill_remainder(offspring, other_parent):\n",
    "        counter = 0\n",
    "        for i in range(0, len(other_parent)):\n",
    "            idx = (i + max(cut)) % len(other_parent)\n",
    "            city = other_parent[idx]\n",
    "            if not city in offspring:\n",
    "                placement = (max(cut) + counter) % len(other_parent)\n",
    "                offspring[placement] = city\n",
    "                counter = counter + 1\n",
    "        return offspring\n",
    "\n",
    "    # Fill remainder of offspring1 using order of parent2 and remainder of offspring2 using order of parent1\n",
    "    offspring1 = fill_remainder(offspring1, parent2)\n",
    "    offspring2 = fill_remainder(offspring2, parent1)\n",
    "    \n",
    "    return offspring1, offspring2"
   ]
  },
  {
   "cell_type": "markdown",
   "metadata": {},
   "source": [
    "### Evolutionary algorithm"
   ]
  },
  {
   "cell_type": "code",
   "execution_count": 8,
   "metadata": {},
   "outputs": [],
   "source": [
    "def tsp_EA(tsp, iters = 1500, pm = 0.01):\n",
    "    avg_fitness = []\n",
    "    best_fitness = []\n",
    "    population_size = 25\n",
    "    population = initialize_population(population_size, tsp)\n",
    "    \n",
    "    fitness = []\n",
    "    for p in population:\n",
    "        fitness.append(calculate_fitness(p, tsp))\n",
    "    \n",
    "    avg_fitness.append(np.average(fitness))\n",
    "    best_fitness.append(min(fitness))\n",
    "    \n",
    "    for i in range(0, iters):\n",
    "        #print(f\"Iteration {i+1}\")\n",
    "        \n",
    "        # Tournament Selection\n",
    "        parent1, parent2 = tournament_selection(population, tsp, k=5)\n",
    "        \n",
    "        # Perform Crossover\n",
    "        offspring1, offspring2 = random_crossover(parent1, parent2, population, fitness)\n",
    "        \n",
    "        # Perform Random Mutation\n",
    "        mutated_offspring = random_mutation([offspring1, offspring2], pm)\n",
    "\n",
    "        # Replace worst individuals\n",
    "        idx_to_replace = np.argsort(fitness)[-2:]\n",
    "        population = np.array(population)\n",
    "        population[idx_to_replace] = mutated_offspring\n",
    "        \n",
    "        # Assess fitness\n",
    "        fitness = []\n",
    "        for p in population:\n",
    "            fitness.append(calculate_fitness(p, tsp))\n",
    "        avg_fitness.append(np.average(fitness))\n",
    "        best_fitness.append(min(fitness))\n",
    "        \n",
    "    return avg_fitness, best_fitness"
   ]
  },
  {
   "cell_type": "markdown",
   "metadata": {},
   "source": [
    "### 2-opt algorithm for local search"
   ]
  },
  {
   "cell_type": "code",
   "execution_count": 9,
   "metadata": {},
   "outputs": [],
   "source": [
    "# create matrix with all distances for tsp\n",
    "def create_distance_matrix(tsp):\n",
    "    distance_matrix = np.zeros((len(tsp),len(tsp)))\n",
    "\n",
    "    for index,x  in np.ndenumerate(distance_matrix):\n",
    "        if index[0] is not index[1]:\n",
    "            distance_matrix[index] = math.dist(tsp[index[0]],tsp[index[1]])\n",
    "        else:\n",
    "            distance_matrix[index] = 9999\n",
    "    return distance_matrix"
   ]
  },
  {
   "cell_type": "code",
   "execution_count": 10,
   "metadata": {},
   "outputs": [],
   "source": [
    "def city_combinations(cities):\n",
    "    non_repeating_combinations = list(sorted(set(combinations(cities,r=2))))\n",
    "    combination_matrix = np.reshape(non_repeating_combinations, newshape=(len(non_repeating_combinations), 2))\n",
    "    # split based on the starting city\n",
    "    splitted = np.split(combination_matrix, np.where(np.diff(combination_matrix[:,0]))[0]+1)\n",
    "    return splitted"
   ]
  },
  {
   "cell_type": "code",
   "execution_count": 11,
   "metadata": {},
   "outputs": [],
   "source": [
    "def find_end_city(tour, start_city):\n",
    "    first_index = tour.index(start_city)\n",
    "    end_city = tour[first_index + 1]\n",
    "    return end_city"
   ]
  },
  {
   "cell_type": "code",
   "execution_count": 12,
   "metadata": {},
   "outputs": [],
   "source": [
    "# implementation of the 2-opt algorithm\n",
    "def two_opt(tsp, current_tour, distance_matrix, return_fitness = False):\n",
    "    \n",
    "    possible_city_combinations = city_combinations(current_tour)\n",
    "\n",
    "    current_best_tour = current_tour\n",
    "\n",
    "    current_best_tour_fitness = calculate_fitness(current_tour, tsp)\n",
    "    \n",
    "    for combination_set in possible_city_combinations:\n",
    "        start_city = combination_set[0][0] # first element is always starting city\n",
    "        end_city = find_end_city(current_tour.tolist(), start_city) # the current city connect to start city\n",
    "        current_combination = (start_city, end_city)  \n",
    "        current_combination_distance = distance_matrix[start_city,end_city]\n",
    "        \n",
    "        smallest_distance_combination = sorted(combination_set, key = lambda combination: distance_matrix[combination[0],combination[1]]) \n",
    "        smallest_distance = distance_matrix[smallest_distance_combination[0][0], smallest_distance_combination[0][1]]\n",
    "        \n",
    "        # perform the swap if the new tour is better\n",
    "        if smallest_distance < current_combination_distance:\n",
    "            \n",
    "            # get indices of the cities in the current tour\n",
    "            old_city_two = current_tour.tolist().index(end_city)\n",
    "            new_city_two = current_tour.tolist().index(smallest_distance_combination[0][1])\n",
    "            \n",
    "            # construct the new tour\n",
    "            new_tour = current_tour.copy()\n",
    "            new_tour[old_city_two] = smallest_distance_combination[0][1]\n",
    "            new_tour[new_city_two] = end_city\n",
    "            \n",
    "            new_tour_fitness = calculate_fitness(new_tour,tsp)\n",
    "            \n",
    "            if new_tour_fitness < current_best_tour_fitness:\n",
    "                current_best_tour_fitness = new_tour_fitness\n",
    "                current_best_tour = new_tour\n",
    "    if return_fitness:\n",
    "        return current_best_tour,current_best_tour_fitness\n",
    "    else:\n",
    "        return current_best_tour"
   ]
  },
  {
   "cell_type": "markdown",
   "metadata": {},
   "source": [
    "### Memetic algorithm"
   ]
  },
  {
   "cell_type": "code",
   "execution_count": 13,
   "metadata": {},
   "outputs": [],
   "source": [
    "def tsp_MA(tsp, iters = 1500, pm = 0.01):\n",
    "    avg_fitness = []\n",
    "    best_fitness = []\n",
    "    population_size = 25\n",
    "    population = initialize_population(population_size, tsp)\n",
    "    \n",
    "    distance_matrix = create_distance_matrix(tsp)\n",
    "    \n",
    "    # perform local search for each individual\n",
    "    fitness = []\n",
    "    for p in population:\n",
    "        local_search_p,local_search_fitness = two_opt(tsp,p,distance_matrix, return_fitness =True)\n",
    "        fitness.append(local_search_fitness)\n",
    "    \n",
    "    avg_fitness.append(np.average(fitness))\n",
    "    best_fitness.append(min(fitness))\n",
    "    \n",
    "    for i in range(0, iters):\n",
    "        #print(f\"Iteration {i+1}\")\n",
    "        \n",
    "        # Tournament Selection\n",
    "        parent1, parent2 = tournament_selection(population, tsp, k=5)\n",
    "        \n",
    "        \n",
    "        # Perform Crossover\n",
    "        offspring1, offspring2 = random_crossover(parent1, parent2, population, fitness)\n",
    "\n",
    "        # Perform Random Mutation\n",
    "        mutated_offspring = random_mutation([offspring1, offspring2], pm)\n",
    "\n",
    "        # Local Search\n",
    "        local_search_offspring = [two_opt(tsp, offspring.astype(np.int64),distance_matrix) for offspring in mutated_offspring]\n",
    "        \n",
    "        # Replace worst individuals\n",
    "        idx_to_replace = np.argsort(fitness)[-2:]\n",
    "        population = np.array(population)\n",
    "        population[idx_to_replace] = local_search_offspring\n",
    "\n",
    "        # Assess fitness\n",
    "        fitness = []\n",
    "        for p in population:\n",
    "            fitness.append(calculate_fitness(p, tsp))\n",
    "        avg_fitness.append(np.average(fitness))\n",
    "        best_fitness.append(min(fitness))\n",
    "        \n",
    "    return avg_fitness, best_fitness"
   ]
  },
  {
   "cell_type": "markdown",
   "metadata": {},
   "source": [
    "### Examples\n",
    "\n",
    "#### TSP instance 1"
   ]
  },
  {
   "cell_type": "code",
   "execution_count": 14,
   "metadata": {},
   "outputs": [
    {
     "data": {
      "image/png": "[encoded data removed]",
      "text/plain": [
       "<Figure size 432x288 with 1 Axes>"
      ]
     },
     "metadata": {
      "needs_background": "light"
     },
     "output_type": "display_data"
    }
   ],
   "source": [
    "tsp1 = np.genfromtxt(fname='file-tsp.txt') # load tsp instance\n",
    "tour = np.arange(len(tsp1)) # create tour\n",
    "\n",
    "avg_fitness_ea_tsp1, best_fitness_ea_tsp1 = tsp_EA(tsp1, iters=1500, pm=0.01) # run EA\n",
    "avg_fitness_ma_tsp1, best_fitness_ma_tsp1 = tsp_MA(tsp1, iters=1500, pm=0.01) # run MA\n",
    "\n",
    "plt.plot(avg_fitness_ea_tsp1, label=\"EA average fitness\")\n",
    "plt.plot(best_fitness_ea_tsp1, label=\"EA best fitness\")\n",
    "plt.plot(avg_fitness_ma_tsp1, label=\"MA average fitness\")\n",
    "plt.plot(best_fitness_ma_tsp1, label=\"MA best fitness\")\n",
    "plt.title('Evolutionary Algorithm vs. the Memetic Algorithm with local search,\\n\\\n",
    "            with population size of 25, on the provided TSP problem')\n",
    "plt.xlabel('Iterations')\n",
    "plt.ylabel('Average Fitness')\n",
    "plt.legend(loc=\"upper right\")\n",
    "plt.show()"
   ]
  },
  {
   "cell_type": "markdown",
   "metadata": {},
   "source": [
    "#### TSP instance 2, 48 US capitals"
   ]
  },
  {
   "cell_type": "code",
   "execution_count": 15,
   "metadata": {},
   "outputs": [
    {
     "data": {
      "image/png": "[encoded data removed]",
      "text/plain": [
       "<Figure size 432x288 with 1 Axes>"
      ]
     },
     "metadata": {
      "needs_background": "light"
     },
     "output_type": "display_data"
    }
   ],
   "source": [
    "tsp2 =  np.genfromtxt(fname='file-tsp2.txt') # load tsp instance\n",
    "tsp2 = tsp2/1000 # scale down all values\n",
    "tour2 = np.arange(len(tsp2)) # create tour\n",
    "\n",
    "avg_fitness_ea_tsp2, best_fitness_ea_tsp2  = tsp_EA(tsp2,iters=1500,pm=0.01) # run EA\n",
    "avg_fitness_ma_tsp2, best_fitness_ma_tsp2  = tsp_MA(tsp2,iters=1500,pm=0.01) # run MA\n",
    "\n",
    "plt.plot(avg_fitness_ea_tsp2, label=\"EA average fitness\")\n",
    "plt.plot(best_fitness_ea_tsp2, label=\"EA best fitness\")\n",
    "plt.plot(avg_fitness_ma_tsp2, label=\"MA average fitness\")\n",
    "plt.plot(best_fitness_ma_tsp2, label=\"MA best fitness\")\n",
    "plt.title('Evolutionary Algorithm vs. the Memetic Algorithm with local search,\\n\\\n",
    "            with population size of 25, on the 48 US capitals TSP problem')\n",
    "plt.xlabel('Iterations')\n",
    "plt.ylabel('Average Fitness')\n",
    "plt.legend(loc=\"upper right\")\n",
    "plt.show()"
   ]
  }
 ],
 "metadata": {
  "kernelspec": {
   "display_name": "Python 3",
   "language": "python",
   "name": "python3"
  },
  "language_info": {
   "codemirror_mode": {
    "name": "ipython",
    "version": 3
   },
   "file_extension": ".py",
   "mimetype": "text/x-python",
   "name": "python",
   "nbconvert_exporter": "python",
   "pygments_lexer": "ipython3",
   "version": "3.8.3"
  }
 },
 "nbformat": 4,
 "nbformat_minor": 4
}
