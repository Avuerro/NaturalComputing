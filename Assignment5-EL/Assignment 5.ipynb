{
 "cells": [
  {
   "cell_type": "code",
   "execution_count": 1,
   "metadata": {},
   "outputs": [],
   "source": [
    "import numpy as np"
   ]
  },
  {
   "cell_type": "markdown",
   "metadata": {},
   "source": [
    "### Exercise 2\n",
    "\n",
    "A general formula to calculate and/or code a simulation for the probability that c doctors with competence p make the correct decision by majority voting can be written as:\n",
    "\n",
    "\\begin{equation*}\n",
    "        p(\\text{majority correct}) = p^c + \\sum_{n = c/2}^{c-1} c \\cdot (p)^n \\cdot (1-p)^{c-n}\n",
    "\\end{equation*}\n",
    "\n",
    "So, for a group of 31 medical students, each of which has $p=0.6$, we get the following probability for making a correct decision with majority vote:"
   ]
  },
  {
   "cell_type": "code",
   "execution_count": 7,
   "metadata": {},
   "outputs": [
    {
     "name": "stdout",
     "output_type": "stream",
     "text": [
      "8.344073704826405e-06\n"
     ]
    }
   ],
   "source": [
    "c = 31\n",
    "p = 0.6\n",
    "\n",
    "p_correct = p**c\n",
    "\n",
    "# By rounding 31/2 to 15, we make sure that 16 people should be correct\n",
    "for n in range(int(c / 2), c):\n",
    "    p_correct += c * p**n * (1-p)**(c-n)\n",
    "    \n",
    "\n",
    "print(p_correct)"
   ]
  },
  {
   "cell_type": "markdown",
   "metadata": {},
   "source": [
    "This is too small though.. For our doctor example, we do get the same result as I have written down in Overleaf:"
   ]
  },
  {
   "cell_type": "code",
   "execution_count": 8,
   "metadata": {},
   "outputs": [
    {
     "name": "stdout",
     "output_type": "stream",
     "text": [
      "0.984375\n"
     ]
    }
   ],
   "source": [
    "c = 3\n",
    "p = 0.75\n",
    "\n",
    "p_correct = p**c\n",
    "\n",
    "for n in range(int(c / 2), c):\n",
    "    p_correct += c * p**n * (1-p)**(c-n)\n",
    "\n",
    "print(p_correct)"
   ]
  },
  {
   "cell_type": "code",
   "execution_count": null,
   "metadata": {},
   "outputs": [],
   "source": []
  }
 ],
 "metadata": {
  "kernelspec": {
   "display_name": "Python 3",
   "language": "python",
   "name": "python3"
  },
  "language_info": {
   "codemirror_mode": {
    "name": "ipython",
    "version": 3
   },
   "file_extension": ".py",
   "mimetype": "text/x-python",
   "name": "python",
   "nbconvert_exporter": "python",
   "pygments_lexer": "ipython3",
   "version": "3.8.1"
  }
 },
 "nbformat": 4,
 "nbformat_minor": 4
}
