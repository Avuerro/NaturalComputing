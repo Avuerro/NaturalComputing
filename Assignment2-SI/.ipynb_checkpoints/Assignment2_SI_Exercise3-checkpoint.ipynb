{
 "cells": [
  {
   "cell_type": "markdown",
   "metadata": {},
   "source": [
    "# Natural Computing - Assignment 2 - Swarm Intelligence\n",
    "## Exercise 3 - PSO\n",
    "#### Submission by group 25 (Chihab Amghane, Max Driessen, Jordy Naus)\n",
    "\n",
    "This file contains our solution to exercise 3 of the \"Swarm Intelligence\" assignment of the Natural Computing course.\n",
    "\n",
    "**NOTE:** (\"!!!\" denotes remarks/TODOs)"
   ]
  },
  {
   "cell_type": "markdown",
   "metadata": {},
   "source": [
    "### Imports"
   ]
  },
  {
   "cell_type": "code",
   "execution_count": 1,
   "metadata": {},
   "outputs": [],
   "source": [
    "from sklearn.cluster import KMeans # !!! Temporary (?), see K-means clustering algorithm below\n",
    "from sklearn import datasets\n",
    "import numpy as np\n",
    "import random\n",
    "import pdb\n",
    "import matplotlib.pyplot as plt \n",
    "import itertools\n"
   ]
  },
  {
   "cell_type": "markdown",
   "metadata": {},
   "source": [
    "### PSO clustering algorithm"
   ]
  },
  {
   "cell_type": "code",
   "execution_count": 2,
   "metadata": {},
   "outputs": [],
   "source": [
    "def PSO_clustering(n_clusters, n_particles, n_iterations, data, omega=0.7298, alpha_1=1.49618, alpha_2=1.49618, verbose=False):\n",
    "    # Compute number of dimensions\n",
    "    n_dims = data.shape[1]\n",
    "    \n",
    "    # Compute range of input data in every dimension (to ensure reasonable initial particles)\n",
    "    ranges = [(min(data[:,dim]), max(data[:,dim])) for dim in range(n_dims)]\n",
    "    \n",
    "    # Initialize particles with random centroids\n",
    "    particles, speeds = [], []\n",
    "    for n in range(n_particles):\n",
    "        # Generate a random particle by creating the desired number of random centroids\n",
    "        particle = np.array([[random.uniform(r[0]-10,r[1]+10) for r in ranges] for c in range(n_clusters)])\n",
    "        # Add the particle to the list of particles\n",
    "        particles.append(particle)\n",
    "        # Add a speed of 0 to the list of speeds !!! 0 or random?\n",
    "        speeds.append(np.zeros(particle.shape)) # speeds.append(np.random.uniform(-1,1,particle.shape))\n",
    "    \n",
    "    # Initialize local & global bests\n",
    "    local_bests = [([],float('inf')) for particle in particles]\n",
    "    global_best = ([],float('inf'))\n",
    "    \n",
    "    # Perform iterations until termination\n",
    "    for iteration in range(n_iterations):\n",
    "        if verbose:\n",
    "            print(f\"iteration {iteration}\")\n",
    "        \n",
    "        # For each particle:\n",
    "        for i,particle in enumerate(particles):\n",
    "            # Compute fitness (quantization error)\n",
    "            fitness = quantization_error(particle, data)\n",
    "            # Update local best\n",
    "            if fitness < local_bests[i][1]:\n",
    "                local_bests[i] = (particle, fitness)\n",
    "        \n",
    "        # Update global best\n",
    "        best_in_iteration = np.argmin([local_best[1] for local_best in local_bests])\n",
    "        if local_bests[best_in_iteration][1] < global_best[1]:\n",
    "            global_best = local_bests[best_in_iteration]\n",
    "        \n",
    "        # Update particles\n",
    "        for i in range(n_particles):\n",
    "            r_1 = np.random.uniform(0,1,particle.shape)\n",
    "            r_2 = np.random.uniform(0,1,particle.shape)\n",
    "            speeds[i] = omega*speeds[i] \\\n",
    "                      + np.multiply(alpha_1*r_1, local_bests[i][0]-particles[i]) \\\n",
    "                      + np.multiply(alpha_2*r_2, global_best[0]-particles[i])\n",
    "            particles[i] = particles[i] + speeds[i]\n",
    "    \n",
    "    # Return the global best\n",
    "    return global_best[0]"
   ]
  },
  {
   "cell_type": "markdown",
   "metadata": {},
   "source": [
    "### Quantization error"
   ]
  },
  {
   "cell_type": "code",
   "execution_count": 3,
   "metadata": {},
   "outputs": [],
   "source": [
    "def quantization_error(particle, X):\n",
    "    # Retrieve number of clusters\n",
    "    n_clusters = len(particle)\n",
    "    \n",
    "    # Assign datapoints to clusters; store computed distances to corresponding centroids\n",
    "    clusters = {i:[] for i in range(n_clusters)}\n",
    "    for datapoint in X:\n",
    "        # Compute Euler distance between this datapoint and all centroids\n",
    "        distances = [np.sqrt(np.sum((centroid-datapoint)**2)) for centroid in particle]\n",
    "        # Assign datapoint to centroid with smallest distance, by storing distance in the corresponding array\n",
    "        clusters[np.argmin(distances)].append(min(distances))\n",
    "    \n",
    "    # Compute quantization error as described in paper\n",
    "    error = 0\n",
    "    for c in clusters:\n",
    "        error += sum(clusters[c])/len(clusters[c]) if clusters[c] else 0\n",
    "    error = error/n_clusters\n",
    "    \n",
    "    # Return the computed error\n",
    "    return error"
   ]
  },
  {
   "cell_type": "markdown",
   "metadata": {},
   "source": [
    "### K-means clustering algorithm"
   ]
  },
  {
   "cell_type": "code",
   "execution_count": 120,
   "metadata": {},
   "outputs": [
    {
     "name": "stdout",
     "output_type": "stream",
     "text": [
      "[[5.4 3.  4.5 1.5]\n",
      " [6.4 3.2 5.3 2.3]\n",
      " [6.3 3.4 5.6 2.4]]\n"
     ]
    }
   ],
   "source": []
  },
  {
   "cell_type": "code",
   "execution_count": 132,
   "metadata": {},
   "outputs": [],
   "source": [
    "# custom implementation\n",
    "\"\"\"\n",
    "\n",
    "SHOULD THE CLUSTERS BE RANDOMLY INITIALIZED IN THE BEGINNING?\n",
    "\n",
    "\"\"\"\n",
    "def KMeans_clustering(n_clusters, max_iter, data):\n",
    "    \n",
    "    input_dimension = data.shape[1]\n",
    "    number_of_data_vectors = data.shape[0]\n",
    "    ranges = [(min(data[:,dim]), max(data[:,dim])) for dim in range(input_dimension)]\n",
    "    \n",
    "    ## FROM SKLEARN SOURCE CODE...\n",
    "    seeds = np.random.RandomState()\n",
    "    seeds = seeds.permutation(data.shape[0])[:n_clusters]\n",
    "    cluster_centroids = data[seeds]\n",
    "#     cluster_centroids =  np.random.rand(n_clusters,input_dimension)\n",
    "    \n",
    "#     cluster_centroids = np.array([[random.uniform(r[0],r[1]) for r in ranges] for c in range(n_clusters)])\n",
    "#     print(cluster_centroids.shape)\n",
    "#     pdb.set_trace()\n",
    "    clusters = [ [] for x in range(n_clusters)]\n",
    "    cluster_indices =  [ [] for x in range(n_clusters)] ## the indices of the data vectors..\n",
    "    ## repeat for n_init iterations\n",
    "    for iteration in range(max_iter):\n",
    "        \n",
    "        # calculate distance for each data vector\n",
    "        # determine closest centroid vector\n",
    "\n",
    "        for index, data_vector in enumerate(data):\n",
    "\n",
    "            closest_centroid = np.argmin(np.sqrt(np.sum( (data_vector-cluster_centroids) ** 2 , axis=1)))\n",
    "            if len(clusters[closest_centroid]) == 0:\n",
    "                clusters[closest_centroid] = data_vector\n",
    "            else:\n",
    "                clusters[closest_centroid] = np.vstack( (clusters[closest_centroid], data_vector) )\n",
    "            cluster_indices[closest_centroid].append(index)\n",
    "\n",
    "\n",
    "        # recalculate cluster centroid vectors\n",
    "        for index, centroid in enumerate(cluster_centroids):\n",
    "            if (len(clusters[index]) == 0): # clusters could be empty..\n",
    "                centroid = centroid\n",
    "            else:\n",
    "                centroid = (1 / len(clusters[index])) * np.sum(clusters[index])\n",
    "        \n",
    "    return cluster_centroids, clusters, cluster_indices"
   ]
  },
  {
   "cell_type": "code",
   "execution_count": 133,
   "metadata": {},
   "outputs": [],
   "source": [
    "def intra_cluster_distance(cluster, cluster_centroid):\n",
    "    \"\"\"    \n",
    "    the distance between\n",
    "    data vectors within a cluster, where the objective is to\n",
    "    minimize the intra-cluster distances;\n",
    "\n",
    "    chosen method is average distance between each data vector and the centroid of a cluster\n",
    "    \"\"\"\n",
    "\n",
    "    average_distance_to_centroid = (1/cluster.shape[0]) * np.sum(np.sqrt(np.sum( (cluster - cluster_centroid) ** 2,axis=1) ))\n",
    "    \n",
    "    return average_distance_to_centroid \n",
    "\n",
    "def intra_cluster_distances(clusters, cluster_centroids):\n",
    "    \"\"\"\n",
    "        average over all intra cluster distances\n",
    "        calculate intra cluster distance for each cluster \n",
    "        returns averages and std\n",
    "    \"\"\"\n",
    "    intra_cluster_distances = [intra_cluster_distance(cluster,centroid) for cluster,centroid in zip(clusters,cluster_centroids)]\n",
    "    return np.average(intra_cluster_distances) ,np.std(intra_cluster_distances)\n"
   ]
  },
  {
   "cell_type": "code",
   "execution_count": 87,
   "metadata": {},
   "outputs": [],
   "source": [
    "def inter_cluster_distances(cluster_centroids):\n",
    "    \"\"\"\n",
    "        the inter-cluster distances, i.e. the distance between\n",
    "        the centroids of the clusters\n",
    "        \n",
    "        chosen method is to return the average distance between the cluster centroids\n",
    "        \n",
    "    \"\"\"\n",
    "    \n",
    "    combinations =list(itertools.combinations(range(len(cluster_centroids)),2))\n",
    "    distance_func = lambda x,y: np.sqrt( np.sum( (x-y) **2 ) )\n",
    "    distances = sum([distance_func( cluster_centroids[combination[0]],cluster_centroids[combination[1]] ) for combination in combinations])\n",
    "    distances *= 2 # distance from a - b = b - a ,e.g. calculate once use twice\n",
    "    return (1/len(cluster_centroids)) * distances\n",
    "\n",
    "    \n",
    "        \n",
    "     "
   ]
  },
  {
   "cell_type": "code",
   "execution_count": 9,
   "metadata": {},
   "outputs": [],
   "source": [
    "# !!! We should probably implement this ourselves...\n",
    "# def KMeans_clustering(n_clusters, n_init, max_iter, data):\n",
    "#     kmeans = KMeans(init=\"random\", n_clusters=n_clusters, n_init=n_init, max_iter=max_iter)\n",
    "#     kmeans.fit(data)\n",
    "#     return kmeans.cluster_centers_"
   ]
  },
  {
   "cell_type": "markdown",
   "metadata": {},
   "source": [
    "### Loading datasets\n",
    "\n",
    "#### Artificial dataset I \n",
    "(as described [here](https://scholar.google.nl/scholar?hl=nl&as_sdt=0%2C5&q=Van+der+Merwe%2C+D.+W.%2C+and+Andries+Petrus+Engelbrecht.+%22Data+clustering+using+particle+swarm+optimization%22&btnG=))"
   ]
  },
  {
   "cell_type": "code",
   "execution_count": 10,
   "metadata": {},
   "outputs": [],
   "source": [
    "artificial_dataset_size = 400\n",
    "\n",
    "artificial_X = np.array([(random.uniform(-1,1), random.uniform(-1,1)) for i in range(artificial_dataset_size)])\n",
    "artificial_Y = np.array([int((z_1 >= 0.7) or ((z_1 <= 0.3) and (z_2 >= -0.2 - z_1))) for (z_1,z_2) in artificial_X])\n",
    "artificial_n_clusters = len(np.unique(artificial_Y))"
   ]
  },
  {
   "cell_type": "markdown",
   "metadata": {},
   "source": [
    "#### Iris dataset"
   ]
  },
  {
   "cell_type": "code",
   "execution_count": 11,
   "metadata": {},
   "outputs": [],
   "source": [
    "iris = datasets.load_iris()\n",
    "\n",
    "iris_X = iris.data\n",
    "iris_Y = iris.target\n",
    "iris_n_clusters = len(np.unique(iris_Y))"
   ]
  },
  {
   "cell_type": "markdown",
   "metadata": {},
   "source": [
    "### Testing\n",
    "\n",
    "!!! Don't know if this is sufficient"
   ]
  },
  {
   "cell_type": "markdown",
   "metadata": {},
   "source": [
    "#### Artificial dataset I"
   ]
  },
  {
   "cell_type": "code",
   "execution_count": 123,
   "metadata": {},
   "outputs": [
    {
     "name": "stdout",
     "output_type": "stream",
     "text": [
      "[[-9.39594749e-01  6.68085862e-04]\n",
      " [ 4.02695039e-01  5.71776338e-01]]\n"
     ]
    }
   ],
   "source": [
    "artificial_solution_PSO = PSO_clustering(artificial_n_clusters, 5, 100, artificial_X)\n",
    "artificial_solution_KMeans,clusters,_ = KMeans_clustering(artificial_n_clusters, 100, artificial_X)"
   ]
  },
  {
   "cell_type": "code",
   "execution_count": null,
   "metadata": {},
   "outputs": [],
   "source": []
  },
  {
   "cell_type": "code",
   "execution_count": 124,
   "metadata": {},
   "outputs": [
    {
     "name": "stdout",
     "output_type": "stream",
     "text": [
      "PSO quantization error on artificial dataset I: 0.3734233315510045\n",
      "KMeans quantization error on artificial dataset I: 0.7297732929108061\n"
     ]
    }
   ],
   "source": [
    "artificial_error_PSO = quantization_error(artificial_solution_PSO, artificial_X)\n",
    "artificial_error_KMeans= quantization_error(artificial_solution_KMeans, artificial_X)\n",
    "print(f\"PSO quantization error on artificial dataset I: {artificial_error_PSO}\")\n",
    "print(f\"KMeans quantization error on artificial dataset I: {artificial_error_KMeans}\")"
   ]
  },
  {
   "cell_type": "code",
   "execution_count": 23,
   "metadata": {},
   "outputs": [],
   "source": [
    "## 30 iterations \n",
    "\"\"\"\n",
    "    QUESTION: Are we going to go for this method as evaluation??\n",
    "    IF so then PSO should return the clusters as well as the centroids\n",
    "\n",
    "\"\"\"\n",
    "pso_quantization_errors = []\n",
    "pso_intra_cluster_diff = []\n",
    "pso_inter_cluster_diff = []\n",
    "\n",
    "kmeans_quantization_errors = []\n",
    "kmeans_intra_cluster_diff = []\n",
    "kmeans_inter_cluster_diff = []\n",
    "\n",
    "\n",
    "\n",
    "for trial in range(30):\n",
    "    artificial_solution_PSO = PSO_clustering(artificial_n_clusters, 100, artificial_X)\n",
    "    artificial_solution_KMeans,kmeans_clusters,_ = KMeans_clustering(artificial_n_clusters, 5, 100, artificial_X)\n",
    "    artificial_error_PSO = quantization_error(artificial_solution_PSO, artificial_X)\n",
    "    artificial_error_KMeans = quantization_error(artificial_solution_KMeans, artificial_X)\n",
    "    \n",
    "#     intra_cluster_diff_PSO = intra_cluster_distances()\n",
    "    intra_cluster_diff_kmeans = intra_cluster_distances(kmeans_clusters,artificial_solution_KMeans)\n",
    "#     inter_cluster_diff_PSO = inter_cluster_distances()\n",
    "    inter_cluster_diff_kmeans = inter_cluster_distances(artificial_solution_KMeans)\n",
    "    \n",
    "    pso_quantization_errors.append(artificial_error_PSO)\n",
    "    kmeans_quantization_errors.append(artificial_error_KMeans)\n",
    "    kmeans_intra_cluster_diff.append(intra_cluster_diff_kmeans)\n",
    "    kmeans_inter_cluster_diff.append(inter_cluster_diff_kmeans)\n",
    "\n",
    "    "
   ]
  },
  {
   "cell_type": "code",
   "execution_count": 24,
   "metadata": {},
   "outputs": [
    {
     "name": "stdout",
     "output_type": "stream",
     "text": [
      "Average kmeans quantization error over 30 simulations 0.7386143354839689 ± 0.10084391895438163\n",
      "Average PSO quantization error over 30 simulations 0.3734233400479887 ± 3.482760780842633e-08\n",
      "Average kmeans intra cluster difference over 30 simulations 0.39916849831330853 ± 0.3499799410389029\n",
      "Average kmeans inter cluster difference over 30 simulations 1.1415935306591587 ± 0.42014366011210447\n"
     ]
    }
   ],
   "source": [
    "print(f\"Average kmeans quantization error over 30 simulations {np.average(kmeans_quantization_errors)} ± {np.std(kmeans_quantization_errors)}\")\n",
    "print(f\"Average PSO quantization error over 30 simulations {np.average(pso_quantization_errors)} ± {np.std(pso_quantization_errors)}\")\n",
    "print(f\"Average kmeans intra cluster difference over 30 simulations {np.average(kmeans_intra_cluster_diff)} ± {np.std(kmeans_intra_cluster_diff)}\")\n",
    "print(f\"Average kmeans inter cluster difference over 30 simulations {np.average(kmeans_inter_cluster_diff)} ± {np.std(kmeans_inter_cluster_diff)}\")\n",
    "\n",
    "\n"
   ]
  },
  {
   "cell_type": "markdown",
   "metadata": {},
   "source": [
    "#### Iris dataset"
   ]
  },
  {
   "cell_type": "code",
   "execution_count": 134,
   "metadata": {},
   "outputs": [],
   "source": [
    "iris_solution_PSO = PSO_clustering(iris_n_clusters, 5, 100, iris_X)\n",
    "iris_solution_KMeans,clusters,cluster_indices = KMeans_clustering(iris_n_clusters, 100, iris_X)"
   ]
  },
  {
   "cell_type": "code",
   "execution_count": 135,
   "metadata": {},
   "outputs": [
    {
     "name": "stdout",
     "output_type": "stream",
     "text": [
      "PSO quantization error on iris dataset: 0.6295281783115066\n",
      "KMeans quantization error on iris dataset: 0.9623051643789307\n"
     ]
    }
   ],
   "source": [
    "iris_error_PSO = quantization_error(iris_solution_PSO, iris_X)\n",
    "iris_error_KMeans = quantization_error(iris_solution_KMeans, iris_X)\n",
    "print(f\"PSO quantization error on iris dataset: {iris_error_PSO}\")\n",
    "print(f\"KMeans quantization error on iris dataset: {iris_error_KMeans}\")"
   ]
  },
  {
   "cell_type": "code",
   "execution_count": null,
   "metadata": {},
   "outputs": [],
   "source": []
  },
  {
   "cell_type": "code",
   "execution_count": 136,
   "metadata": {},
   "outputs": [
    {
     "name": "stdout",
     "output_type": "stream",
     "text": [
      "[(0, 1), (0, 2), (0, 3), (1, 2), (1, 3), (2, 3)]\n"
     ]
    },
    {
     "data": {
      "image/png": "[encoded data removed]",
      "text/plain": [
       "<Figure size 432x288 with 6 Axes>"
      ]
     },
     "metadata": {
      "needs_background": "light"
     },
     "output_type": "display_data"
    }
   ],
   "source": [
    "## I wanted to do some visual inspection on the clusters\n",
    "\n",
    "features = [0,1,2,3]\n",
    "combinations = list(itertools.combinations(features,2))\n",
    "print(combinations)\n",
    "\"\"\"\n",
    "    0 / 2 = 0\n",
    "    1 / 2 = 0\n",
    "    3 / 2 = 1.5 = 1\n",
    "\"\"\"\n",
    "\n",
    "fig,axes = plt.subplots(3,2)\n",
    "for index,combination in enumerate(combinations):\n",
    "    x = combination[0]\n",
    "    y = combination[1]\n",
    "    axes[int(index/2)][index%2].scatter(clusters[0][:,x],clusters[0][:,y] ,c=iris_Y[cluster_indices[0]])\n",
    "    axes[int(index/2)][index%2].scatter(clusters[1][:,x],clusters[1][:,y] ,c=iris_Y[cluster_indices[1]])\n",
    "    axes[int(index/2)][index%2].scatter(clusters[2][:,x],clusters[2][:,y] ,c=iris_Y[cluster_indices[2]])\n",
    "    \n",
    "\n",
    "plt.show()"
   ]
  },
  {
   "cell_type": "code",
   "execution_count": null,
   "metadata": {},
   "outputs": [],
   "source": []
  }
 ],
 "metadata": {
  "kernelspec": {
   "display_name": "Python 3",
   "language": "python",
   "name": "python3"
  },
  "language_info": {
   "codemirror_mode": {
    "name": "ipython",
    "version": 3
   },
   "file_extension": ".py",
   "mimetype": "text/x-python",
   "name": "python",
   "nbconvert_exporter": "python",
   "pygments_lexer": "ipython3",
   "version": "3.8.3"
  }
 },
 "nbformat": 4,
 "nbformat_minor": 4
}
