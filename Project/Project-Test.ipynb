{
 "cells": [
  {
   "cell_type": "markdown",
   "metadata": {},
   "source": [
    "# Natural Computing - Project\n",
    "#### Submission by group 25 (Chihab Amghane, Max Driessen, Jordy Naus)\n",
    "\n",
    "The code below uses the DEAP framework (https://github.com/deap/deap), which is a very intuitive framework for evolutionary algorithms and genetic programming."
   ]
  },
  {
   "cell_type": "markdown",
   "metadata": {},
   "source": [
    "### Installing the DEAP framework"
   ]
  },
  {
   "cell_type": "code",
   "execution_count": null,
   "metadata": {},
   "outputs": [],
   "source": [
    "!pip install deap"
   ]
  },
  {
   "cell_type": "markdown",
   "metadata": {},
   "source": [
    "### Imports"
   ]
  },
  {
   "cell_type": "code",
   "execution_count": 1,
   "metadata": {},
   "outputs": [],
   "source": [
    "from deap import gp, base, tools, creator, algorithms\n",
    "import numpy as np\n",
    "import matplotlib.pyplot as plt\n",
    "import operator\n",
    "import pandas as pd\n",
    "import math\n",
    "from sklearn.metrics import log_loss\n",
    "import pdb\n",
    "%matplotlib inline"
   ]
  },
  {
   "cell_type": "markdown",
   "metadata": {},
   "source": [
    "## Constants"
   ]
  },
  {
   "cell_type": "code",
   "execution_count": 12,
   "metadata": {},
   "outputs": [],
   "source": [
    "POP_SIZE = 10\n",
    "N_GENERATIONS = 10\n",
    "CROSSOVER_PROB = 0.7\n",
    "MUTATION_PROB = 0.0 \n",
    "CONTROL_BLOAT = False"
   ]
  },
  {
   "cell_type": "markdown",
   "metadata": {},
   "source": [
    "### Define fitness function"
   ]
  },
  {
   "cell_type": "code",
   "execution_count": 13,
   "metadata": {},
   "outputs": [],
   "source": [
    "mnist_df = pd.read_csv(\"../../../mnist.csv\")"
   ]
  },
  {
   "cell_type": "code",
   "execution_count": 14,
   "metadata": {},
   "outputs": [],
   "source": [
    "zeros_ones_df = mnist_df[mnist_df.label <= 1]"
   ]
  },
  {
   "cell_type": "code",
   "execution_count": 15,
   "metadata": {},
   "outputs": [],
   "source": [
    "zeros_ones_labels = zeros_ones_df['label'].to_numpy()\n",
    "zeros_ones_data = zeros_ones_df.drop('label', axis=1).to_numpy() / 255"
   ]
  },
  {
   "cell_type": "code",
   "execution_count": 16,
   "metadata": {},
   "outputs": [],
   "source": [
    "def softmax(x):\n",
    "    exp = np.exp(x -np.max(x))\n",
    "    return exp / np.sum(exp)"
   ]
  },
  {
   "cell_type": "code",
   "execution_count": 17,
   "metadata": {},
   "outputs": [],
   "source": [
    "def fitness(individual):\n",
    "    # Transform tree expression into callable function\n",
    "    # we have two outputs thus we should create two populations..\n",
    "    func1 = toolbox.compile(expr = individual[0]) # predicts zeros?\n",
    "    func2 = toolbox.compile(expr = individual[1]) # predicts ones?\n",
    "    \n",
    "    #simple case, lets start with evaluation on 10 random samples\n",
    "    evaluation_indices = np.random.randint(len(zeros_ones_labels), size=(10,))\n",
    "    \n",
    "    # Compute sum of absolute errors\n",
    "    # error = 0\n",
    "    # for x, y in points.items():\n",
    "    #     error += abs(func(x) - y)\n",
    "\n",
    "    # we will try to compute the softmax cross entropy aka log loss\n",
    "    y_trues = [zeros_ones_labels[x] for x in evaluation_indices]\n",
    "    while (np.sum(y_trues) == 10 or np.sum(y_trues) == 0):\n",
    "        evaluation_indices = np.random.randint(len(zeros_ones_labels), size=(10,))\n",
    "        y_trues = [zeros_ones_labels[x] for x in evaluation_indices]\n",
    "    \n",
    "    y_preds = []\n",
    "    for index in evaluation_indices:\n",
    "        x = zeros_ones_data[index]\n",
    "        y_pred_0 = func1(*x)\n",
    "        y_pred_1 = func2(*x)\n",
    "        y_pred_softmax = softmax([y_pred_0,y_pred_1])\n",
    "        y_preds.append(y_pred_softmax)\n",
    "    error = log_loss(y_trues,y_preds)\n",
    "    return (error),"
   ]
  },
  {
   "cell_type": "markdown",
   "metadata": {},
   "source": [
    "### Defining the set of operators and terminals"
   ]
  },
  {
   "cell_type": "code",
   "execution_count": 18,
   "metadata": {},
   "outputs": [],
   "source": [
    "## determine number of inputs\n",
    "nr_of_inputs = zeros_ones_data[0].shape[0]"
   ]
  },
  {
   "cell_type": "code",
   "execution_count": 19,
   "metadata": {},
   "outputs": [],
   "source": [
    "# Create set of functions and terminals, with one terminal: x\n",
    "pset = gp.PrimitiveSet(\"main\", nr_of_inputs)\n",
    "pset.renameArguments(ARG0=\"x\")"
   ]
  },
  {
   "cell_type": "code",
   "execution_count": 20,
   "metadata": {},
   "outputs": [],
   "source": [
    "# Define additional operators\n",
    "\n",
    "### Basic mathematical functions with caveats ###\n",
    "\n",
    "def div(a,b):\n",
    "    # Ensure no division by 0 takes place\n",
    "    return a/b if b else 0\n",
    "\n",
    "def log(a):\n",
    "    # Ensure no logarithm is taken of a non-positive value\n",
    "    return math.log(a) if (a > 0) else 0\n",
    "\n",
    "def exp(a):\n",
    "    # Ensure no exponential is too big\n",
    "    return math.exp(min(a,100))\n",
    "\n",
    "\n",
    "### Activation functions ###\n",
    "\n",
    "def relu(a):\n",
    "    return a if a > 0.0 else 0.0\n",
    "\n",
    "def sigmoid(a):\n",
    "    return 1.0/(1.0 + math.exp(-a))\n",
    "\n",
    "def tanh(a):\n",
    "    return math.tanh(a)"
   ]
  },
  {
   "cell_type": "code",
   "execution_count": 21,
   "metadata": {},
   "outputs": [],
   "source": [
    "# Add standard math operators to the set\n",
    "pset.addPrimitive(operator.add, 2)\n",
    "pset.addPrimitive(operator.sub, 2)\n",
    "pset.addPrimitive(operator.mul, 2)\n",
    "pset.addPrimitive(math.sin, 1)\n",
    "pset.addPrimitive(math.cos, 1)\n",
    "\n",
    "# Add math operators with caveats to the set\n",
    "pset.addPrimitive(div, 2)\n",
    "pset.addPrimitive(log, 1)\n",
    "pset.addPrimitive(exp, 1)\n",
    "\n",
    "# Add activation functions to the set\n",
    "pset.addPrimitive(relu, 1)\n",
    "pset.addPrimitive(sigmoid, 1)\n",
    "pset.addPrimitive(tanh, 1)"
   ]
  },
  {
   "cell_type": "markdown",
   "metadata": {},
   "source": [
    "### Define the creator that creates individuals (i.e. trees)"
   ]
  },
  {
   "cell_type": "code",
   "execution_count": 22,
   "metadata": {},
   "outputs": [],
   "source": [
    "creator.create(\"FitnessMin\", base.Fitness, weights=(1.0,))\n",
    "creator.create(\"Individual\", gp.PrimitiveTree, fitness=creator.FitnessMin)"
   ]
  },
  {
   "cell_type": "markdown",
   "metadata": {},
   "source": [
    "### Define the toolbox \n",
    "<b>(describes how to form a population, compile an expression as a function, evaluate fitness, select parents, perform cross-over and mutation)</b>"
   ]
  },
  {
   "cell_type": "code",
   "execution_count": 23,
   "metadata": {},
   "outputs": [],
   "source": [
    "toolbox = base.Toolbox()\n",
    "# Initial generation is generated using ramped half-and-half initialization, with a tree size between 1 and 5\n",
    "toolbox.register(\"expr\", gp.genHalfAndHalf, pset=pset, min_=1, max_=5)\n",
    "# Define how to generate a population of individuals\n",
    "## we want two outputs, we are prediciting 0 or 1 digit.\n",
    "toolbox.register(\"individual1\", tools.initIterate, creator.Individual, toolbox.expr)\n",
    "toolbox.register(\"individual2\", tools.initIterate, creator.Individual, toolbox.expr)\n",
    "\n",
    "toolbox.register(\"population1\", tools.initRepeat, list, toolbox.individual1)\n",
    "toolbox.register(\"population2\", tools.initRepeat, list, toolbox.individual2)\n",
    "\n",
    "# Define how to compile a tree as a function that can be evaluated\n",
    "toolbox.register(\"compile\", gp.compile, pset=pset)\n",
    "# Define how to determine the fitness of an individual (using the fitness function defined above)\n",
    "toolbox.register(\"evaluate\", fitness)\n",
    "\n",
    "# Define how to select parents (tournament selection; either controlling for bloat or not controlling for it)\n",
    "if CONTROL_BLOAT:\n",
    "    toolbox.register(\"select\", tools.selDoubleTournament, fitness_size=3, parsimony_size=1.3, fitness_first=False)\n",
    "else:\n",
    "    toolbox.register(\"select\", tools.selTournament, tournsize=3) # Do not control\n",
    "# Define how to perform cross-over (pick one node of both parents & swap subtrees)\n",
    "toolbox.register(\"mate\", gp.cxOnePoint)\n",
    "# Define how to perform mutation (not very important as mutation probability is set to 0)\n",
    "toolbox.register(\"expr_mut\", gp.genHalfAndHalf, min_=0, max_=2)\n",
    "toolbox.register(\"mutate\", gp.mutUniform, expr=toolbox.expr_mut, pset=pset)\n",
    "\n",
    "# Define upper limits for height of trees\n",
    "toolbox.decorate(\"mate\", gp.staticLimit(key=operator.attrgetter(\"height\"), max_value=50))\n",
    "toolbox.decorate(\"mutate\", gp.staticLimit(key=operator.attrgetter(\"height\"), max_value=50))"
   ]
  },
  {
   "cell_type": "markdown",
   "metadata": {},
   "source": [
    "### Define statistics that will be gathered"
   ]
  },
  {
   "cell_type": "code",
   "execution_count": 24,
   "metadata": {},
   "outputs": [],
   "source": [
    "# Functions for determining average, min and max, which control for the possibility that the input might consist of tuples\n",
    "def tuple_avg(a):\n",
    "    if len(a[0]) == 2:\n",
    "        return np.mean([x[0] for x in a])\n",
    "    return np.mean(a)\n",
    "\n",
    "def tuple_min(a):\n",
    "    if len(a[0]) == 2:\n",
    "        return np.min([x[0] for x in a])\n",
    "    return np.min(a)\n",
    "\n",
    "def tuple_max(a):\n",
    "    if len(a[0]) == 2:\n",
    "        return np.max([x[0] for x in a])\n",
    "    return np.max(a)\n",
    "\n",
    "# Function for determining the size of the agent with the best fitness\n",
    "def tuple_best_size(a):\n",
    "    if len(a[0]) == 2:\n",
    "        return np.amax(a, 1)[0]\n",
    "    return None"
   ]
  },
  {
   "cell_type": "code",
   "execution_count": 25,
   "metadata": {},
   "outputs": [],
   "source": [
    "stats_fit = tools.Statistics(lambda ind: ind.fitness.values)\n",
    "stats_size = tools.Statistics(lambda ind: [len(ind), ind.fitness.values[0]])\n",
    "mstats = tools.MultiStatistics(fitness=stats_fit, size=stats_size)\n",
    "mstats.register(\"avg\",  tuple_avg)\n",
    "mstats.register(\"min\",  tuple_min)\n",
    "mstats.register(\"max\",  tuple_max)\n",
    "mstats.register(\"best\", tuple_best_size)"
   ]
  },
  {
   "cell_type": "markdown",
   "metadata": {},
   "source": [
    "### Run the genetic programming algorithm using the definitions above"
   ]
  },
  {
   "cell_type": "code",
   "execution_count": 26,
   "metadata": {
    "scrolled": false
   },
   "outputs": [],
   "source": [
    "pop1 = toolbox.population1(POP_SIZE)\n",
    "pop2 = toolbox.population2(POP_SIZE)\n",
    "hof1 = tools.HallOfFame(1)\n",
    "hof2 = tools.HallOfFame(1)\n",
    "# popa, loga = algorithms.eaSimple(population=pop1, \n",
    "#                                toolbox=toolbox, \n",
    "#                                cxpb=CROSSOVER_PROB, \n",
    "#                                mutpb=MUTATION_PROB, \n",
    "#                                ngen=N_GENERATIONS, \n",
    "#                                stats=mstats, \n",
    "#                                halloffame=hof, \n",
    "#                                verbose=True)"
   ]
  },
  {
   "cell_type": "code",
   "execution_count": 36,
   "metadata": {},
   "outputs": [],
   "source": [
    "\n",
    "# inspired by https://github.com/DEAP/deap/issues/491\n",
    "def Evolve(pop, toolbox, cxpb, mutpb, ngen, stats=None, halloffame=None, verbose=__debug__):\n",
    "    pop1 = pop[0]\n",
    "    pop2 = pop[1]\n",
    "   \n",
    "    hof1 = halloffame[0]\n",
    "    hof2 = halloffame[1]\n",
    "\n",
    "    logbook1 = tools.Logbook()\n",
    "    logbook2 = tools.Logbook()\n",
    "    \n",
    "    logbook1.header = ['gen', 'nevals'] + (stats.fields if stats else [])\n",
    "    logbook2.header = ['gen', 'nevals'] + (stats.fields if stats else [])\n",
    "\n",
    "    \n",
    "    invalid_ind1 = [ind for ind in pop1 if not ind.fitness.valid]\n",
    "    invalid_ind2 = [ind for ind in pop2 if not ind.fitness.valid]\n",
    "  \n",
    "    \n",
    "    #Here, the function cost_function takes in 4 inputs. Thus, we need to zip the 4 individuals and pass it to the cost_function, that is represented here as \"toolbox.evaluate\". The returned list of cost is then evaluated for each of the individuals.\n",
    "    fitnesses1 = toolbox.map(toolbox.evaluate, zip(invalid_ind1, invalid_ind2))\n",
    "    for ind, fit in zip(invalid_ind1, fitnesses1):\n",
    "        ind.fitness.values = fit\n",
    "    fitnesses2 = toolbox.map(toolbox.evaluate, zip(invalid_ind1, invalid_ind2))\n",
    "    for ind, fit in zip(invalid_ind2, fitnesses2):\n",
    "        ind.fitness.values = fit\n",
    "\n",
    "    hof1.update(pop1)\n",
    "    hof2.update(pop2)\n",
    "\n",
    "    \n",
    "    record1 = stats.compile(pop1) if stats else {}\n",
    "    record2 = stats.compile(pop2) if stats else {}\n",
    "\n",
    "    logbook1.record(gen=0, nevals=len(invalid_ind1), **record1)\n",
    "    logbook2.record(gen=0, nevals=len(invalid_ind2), **record2)\n",
    "\n",
    "    if verbose:\n",
    "        print(logbook1.stream, logbook2.stream)\n",
    "\n",
    "    for gen in range(1, ngen + 1):\n",
    "        offspring1 = toolbox.select(pop1, len(pop1))\n",
    "        offspring2 = toolbox.select(pop2, len(pop2))\n",
    "\n",
    "        \n",
    "        offspring1 = algorithms.varAnd(offspring1, toolbox, cxpb, mutpb)\n",
    "        offspring2 = algorithms.varAnd(offspring2, toolbox, cxpb, mutpb)\n",
    "     \n",
    "        \n",
    "        invalid_ind1 = [ind for ind in offspring1 if not ind.fitness.valid]\n",
    "        invalid_ind2 = [ind for ind in offspring2 if not ind.fitness.valid]\n",
    "       \n",
    "        \n",
    "        fitness1 = toolbox.map(toolbox.evaluate, zip(invalid_ind1,invalid_ind2))\n",
    "        for ind, fit in zip(invalid_ind1, fitness1):\n",
    "            ind.fitness.values = fit\n",
    "\n",
    "        fitness2 = toolbox.map(toolbox.evaluate, zip(invalid_ind1,invalid_ind2))\n",
    "        for ind, fit in zip(invalid_ind2, fitness2):\n",
    "            ind.fitness.values = fit\n",
    "        \n",
    "      \n",
    "        \n",
    "        hof1.update(offspring1)\n",
    "        hof2.update(offspring2)\n",
    "      \n",
    "        \n",
    "        pop1[:] = offspring1\n",
    "        pop2[:] = offspring2\n",
    "       \n",
    "        record1 = stats.compile(pop1[0]) if stats else {}\n",
    "        record2 = stats.compile(pop2[0]) if stats else {}\n",
    "      \n",
    "        logbook1.record(gen=gen, nevals=len(invalid_ind1), **record1)\n",
    "        logbook2.record(gen=gen, nevals=len(invalid_ind2), **record2)\n",
    "        \n",
    "        if verbose:\n",
    "            print(logbook1.stream, logbook2.stream)\n",
    "            \n",
    "    pop = [pop1, pop2]\n",
    "    log = [logbook1, logbook2]\n",
    "        \n",
    "    return pop,log"
   ]
  },
  {
   "cell_type": "code",
   "execution_count": 40,
   "metadata": {},
   "outputs": [
    {
     "name": "stdout",
     "output_type": "stream",
     "text": [
      "gen\tnevals\n",
      "0  \t10     gen\tnevals\n",
      "0  \t10    \n",
      "1  \t8      1  \t6     \n",
      "2  \t6      2  \t8     \n",
      "3  \t4      3  \t4     \n",
      "4  \t8      4  \t10    \n",
      "5  \t8      5  \t8     \n",
      "6  \t8      6  \t6     \n",
      "7  \t8      7  \t8     \n",
      "8  \t6      8  \t8     \n",
      "9  \t2      9  \t6     \n",
      "10 \t8      10 \t6     \n"
     ]
    }
   ],
   "source": [
    "pop1 = toolbox.population1(POP_SIZE)\n",
    "pop2 = toolbox.population2(POP_SIZE)\n",
    "hof1 = tools.HallOfFame(1)\n",
    "hof2 = tools.HallOfFame(1)\n",
    "\n",
    "\n",
    "pop,log = Evolve([pop1,pop2], toolbox, cxpb=CROSSOVER_PROB, \n",
    "                 mutpb=MUTATION_PROB, ngen=N_GENERATIONS, halloffame=[hof1,hof2], verbose=True)\n"
   ]
  },
  {
   "cell_type": "markdown",
   "metadata": {},
   "source": [
    "### Inspect best solution found"
   ]
  },
  {
   "cell_type": "code",
   "execution_count": 50,
   "metadata": {},
   "outputs": [
    {
     "name": "stdout",
     "output_type": "stream",
     "text": [
      "cos(ARG780)\n",
      "sub(relu(ARG293), exp(sigmoid(div(ARG407, exp(ARG436)))))\n"
     ]
    }
   ],
   "source": [
    "print(str(hof1[0])) #weird output..\n",
    "print(str(hof2[0]))"
   ]
  },
  {
   "cell_type": "code",
   "execution_count": null,
   "metadata": {},
   "outputs": [],
   "source": [
    "\n"
   ]
  },
  {
   "cell_type": "markdown",
   "metadata": {},
   "source": [
    "### Plotting"
   ]
  },
  {
   "cell_type": "code",
   "execution_count": 47,
   "metadata": {},
   "outputs": [],
   "source": [
    "# Extract fitness of best individual in each generation\n",
    "max_fitness = log[0].chapters[\"fitness\"].select(\"max\")\n",
    "\n",
    "# Extract average, minimum and maximum size in each generation, as well as size corresponding to agent with best fitness\n",
    "avg_size = log[0].chapters[\"size\"].select(\"avg\")\n",
    "min_size = log[0].chapters[\"size\"].select(\"min\")\n",
    "max_size = log[0].chapters[\"size\"].select(\"max\")\n",
    "best_size = log[0].chapters[\"size\"].select(\"best\")"
   ]
  },
  {
   "cell_type": "code",
   "execution_count": 48,
   "metadata": {},
   "outputs": [
    {
     "data": {
      "image/png": "[encoded data removed]",
      "text/plain": [
       "<Figure size 432x288 with 1 Axes>"
      ]
     },
     "metadata": {
      "needs_background": "light"
     },
     "output_type": "display_data"
    }
   ],
   "source": [
    "# Plot best fitness as a function of generation\n",
    "plt.plot(max_fitness, label=\"best fitness\")\n",
    "plt.legend(loc=\"upper left\")\n",
    "plt.title(\"best fitness as a function of generation\")\n",
    "plt.xlabel(\"generation\")\n",
    "plt.ylabel(\"fitness\")\n",
    "plt.show()"
   ]
  },
  {
   "cell_type": "code",
   "execution_count": 49,
   "metadata": {},
   "outputs": [
    {
     "ename": "ValueError",
     "evalue": "operands could not be broadcast together with shapes (51,) (0,) ",
     "output_type": "error",
     "traceback": [
      "\u001b[0;31m---------------------------------------------------------------------------\u001b[0m",
      "\u001b[0;31mValueError\u001b[0m                                Traceback (most recent call last)",
      "\u001b[0;32m<ipython-input-49-9bd711b3492d>\u001b[0m in \u001b[0;36m<module>\u001b[0;34m\u001b[0m\n\u001b[1;32m      1\u001b[0m \u001b[0;31m# Plot size as a function of generation\u001b[0m\u001b[0;34m\u001b[0m\u001b[0;34m\u001b[0m\u001b[0;34m\u001b[0m\u001b[0m\n\u001b[1;32m      2\u001b[0m \u001b[0mplt\u001b[0m\u001b[0;34m.\u001b[0m\u001b[0mplot\u001b[0m\u001b[0;34m(\u001b[0m\u001b[0mavg_size\u001b[0m\u001b[0;34m,\u001b[0m \u001b[0mlabel\u001b[0m\u001b[0;34m=\u001b[0m\u001b[0;34m\"average size\"\u001b[0m\u001b[0;34m)\u001b[0m\u001b[0;34m\u001b[0m\u001b[0;34m\u001b[0m\u001b[0m\n\u001b[0;32m----> 3\u001b[0;31m \u001b[0mplt\u001b[0m\u001b[0;34m.\u001b[0m\u001b[0mfill_between\u001b[0m\u001b[0;34m(\u001b[0m\u001b[0mnp\u001b[0m\u001b[0;34m.\u001b[0m\u001b[0marange\u001b[0m\u001b[0;34m(\u001b[0m\u001b[0;36m0\u001b[0m\u001b[0;34m,\u001b[0m\u001b[0;36m51\u001b[0m\u001b[0;34m,\u001b[0m\u001b[0;36m1\u001b[0m\u001b[0;34m)\u001b[0m\u001b[0;34m,\u001b[0m \u001b[0mmin_size\u001b[0m\u001b[0;34m,\u001b[0m \u001b[0mmax_size\u001b[0m\u001b[0;34m,\u001b[0m \u001b[0mfacecolor\u001b[0m\u001b[0;34m=\u001b[0m\u001b[0;34m\"blue\"\u001b[0m\u001b[0;34m,\u001b[0m \u001b[0malpha\u001b[0m\u001b[0;34m=\u001b[0m\u001b[0;36m0.1\u001b[0m\u001b[0;34m,\u001b[0m \u001b[0mlabel\u001b[0m\u001b[0;34m=\u001b[0m\u001b[0;34m\"spread between min and max\"\u001b[0m\u001b[0;34m)\u001b[0m\u001b[0;34m\u001b[0m\u001b[0;34m\u001b[0m\u001b[0m\n\u001b[0m\u001b[1;32m      4\u001b[0m \u001b[0mplt\u001b[0m\u001b[0;34m.\u001b[0m\u001b[0mplot\u001b[0m\u001b[0;34m(\u001b[0m\u001b[0mbest_size\u001b[0m\u001b[0;34m,\u001b[0m \u001b[0mlabel\u001b[0m\u001b[0;34m=\u001b[0m\u001b[0;34m\"size of individual with best fitness\"\u001b[0m\u001b[0;34m)\u001b[0m\u001b[0;34m\u001b[0m\u001b[0;34m\u001b[0m\u001b[0m\n\u001b[1;32m      5\u001b[0m \u001b[0mplt\u001b[0m\u001b[0;34m.\u001b[0m\u001b[0mlegend\u001b[0m\u001b[0;34m(\u001b[0m\u001b[0mloc\u001b[0m\u001b[0;34m=\u001b[0m\u001b[0;34m\"upper left\"\u001b[0m\u001b[0;34m)\u001b[0m\u001b[0;34m\u001b[0m\u001b[0;34m\u001b[0m\u001b[0m\n",
      "\u001b[0;32m~/.local/lib/python3.8/site-packages/matplotlib/pyplot.py\u001b[0m in \u001b[0;36mfill_between\u001b[0;34m(x, y1, y2, where, interpolate, step, data, **kwargs)\u001b[0m\n\u001b[1;32m   2588\u001b[0m         \u001b[0mx\u001b[0m\u001b[0;34m,\u001b[0m \u001b[0my1\u001b[0m\u001b[0;34m,\u001b[0m \u001b[0my2\u001b[0m\u001b[0;34m=\u001b[0m\u001b[0;36m0\u001b[0m\u001b[0;34m,\u001b[0m \u001b[0mwhere\u001b[0m\u001b[0;34m=\u001b[0m\u001b[0;32mNone\u001b[0m\u001b[0;34m,\u001b[0m \u001b[0minterpolate\u001b[0m\u001b[0;34m=\u001b[0m\u001b[0;32mFalse\u001b[0m\u001b[0;34m,\u001b[0m \u001b[0mstep\u001b[0m\u001b[0;34m=\u001b[0m\u001b[0;32mNone\u001b[0m\u001b[0;34m,\u001b[0m \u001b[0;34m*\u001b[0m\u001b[0;34m,\u001b[0m\u001b[0;34m\u001b[0m\u001b[0;34m\u001b[0m\u001b[0m\n\u001b[1;32m   2589\u001b[0m         data=None, **kwargs):\n\u001b[0;32m-> 2590\u001b[0;31m     return gca().fill_between(\n\u001b[0m\u001b[1;32m   2591\u001b[0m         \u001b[0mx\u001b[0m\u001b[0;34m,\u001b[0m \u001b[0my1\u001b[0m\u001b[0;34m,\u001b[0m \u001b[0my2\u001b[0m\u001b[0;34m=\u001b[0m\u001b[0my2\u001b[0m\u001b[0;34m,\u001b[0m \u001b[0mwhere\u001b[0m\u001b[0;34m=\u001b[0m\u001b[0mwhere\u001b[0m\u001b[0;34m,\u001b[0m \u001b[0minterpolate\u001b[0m\u001b[0;34m=\u001b[0m\u001b[0minterpolate\u001b[0m\u001b[0;34m,\u001b[0m \u001b[0mstep\u001b[0m\u001b[0;34m=\u001b[0m\u001b[0mstep\u001b[0m\u001b[0;34m,\u001b[0m\u001b[0;34m\u001b[0m\u001b[0;34m\u001b[0m\u001b[0m\n\u001b[1;32m   2592\u001b[0m         **({\"data\": data} if data is not None else {}), **kwargs)\n",
      "\u001b[0;32m~/.local/lib/python3.8/site-packages/matplotlib/__init__.py\u001b[0m in \u001b[0;36minner\u001b[0;34m(ax, data, *args, **kwargs)\u001b[0m\n\u001b[1;32m   1597\u001b[0m     \u001b[0;32mdef\u001b[0m \u001b[0minner\u001b[0m\u001b[0;34m(\u001b[0m\u001b[0max\u001b[0m\u001b[0;34m,\u001b[0m \u001b[0;34m*\u001b[0m\u001b[0margs\u001b[0m\u001b[0;34m,\u001b[0m \u001b[0mdata\u001b[0m\u001b[0;34m=\u001b[0m\u001b[0;32mNone\u001b[0m\u001b[0;34m,\u001b[0m \u001b[0;34m**\u001b[0m\u001b[0mkwargs\u001b[0m\u001b[0;34m)\u001b[0m\u001b[0;34m:\u001b[0m\u001b[0;34m\u001b[0m\u001b[0;34m\u001b[0m\u001b[0m\n\u001b[1;32m   1598\u001b[0m         \u001b[0;32mif\u001b[0m \u001b[0mdata\u001b[0m \u001b[0;32mis\u001b[0m \u001b[0;32mNone\u001b[0m\u001b[0;34m:\u001b[0m\u001b[0;34m\u001b[0m\u001b[0;34m\u001b[0m\u001b[0m\n\u001b[0;32m-> 1599\u001b[0;31m             \u001b[0;32mreturn\u001b[0m \u001b[0mfunc\u001b[0m\u001b[0;34m(\u001b[0m\u001b[0max\u001b[0m\u001b[0;34m,\u001b[0m \u001b[0;34m*\u001b[0m\u001b[0mmap\u001b[0m\u001b[0;34m(\u001b[0m\u001b[0msanitize_sequence\u001b[0m\u001b[0;34m,\u001b[0m \u001b[0margs\u001b[0m\u001b[0;34m)\u001b[0m\u001b[0;34m,\u001b[0m \u001b[0;34m**\u001b[0m\u001b[0mkwargs\u001b[0m\u001b[0;34m)\u001b[0m\u001b[0;34m\u001b[0m\u001b[0;34m\u001b[0m\u001b[0m\n\u001b[0m\u001b[1;32m   1600\u001b[0m \u001b[0;34m\u001b[0m\u001b[0m\n\u001b[1;32m   1601\u001b[0m         \u001b[0mbound\u001b[0m \u001b[0;34m=\u001b[0m \u001b[0mnew_sig\u001b[0m\u001b[0;34m.\u001b[0m\u001b[0mbind\u001b[0m\u001b[0;34m(\u001b[0m\u001b[0max\u001b[0m\u001b[0;34m,\u001b[0m \u001b[0;34m*\u001b[0m\u001b[0margs\u001b[0m\u001b[0;34m,\u001b[0m \u001b[0;34m**\u001b[0m\u001b[0mkwargs\u001b[0m\u001b[0;34m)\u001b[0m\u001b[0;34m\u001b[0m\u001b[0;34m\u001b[0m\u001b[0m\n",
      "\u001b[0;32m~/.local/lib/python3.8/site-packages/matplotlib/axes/_axes.py\u001b[0m in \u001b[0;36mfill_between\u001b[0;34m(self, x, y1, y2, where, interpolate, step, **kwargs)\u001b[0m\n\u001b[1;32m   5241\u001b[0m         \u001b[0;32mif\u001b[0m \u001b[0mwhere\u001b[0m \u001b[0;32mis\u001b[0m \u001b[0;32mNone\u001b[0m\u001b[0;34m:\u001b[0m\u001b[0;34m\u001b[0m\u001b[0;34m\u001b[0m\u001b[0m\n\u001b[1;32m   5242\u001b[0m             \u001b[0mwhere\u001b[0m \u001b[0;34m=\u001b[0m \u001b[0;32mTrue\u001b[0m\u001b[0;34m\u001b[0m\u001b[0;34m\u001b[0m\u001b[0m\n\u001b[0;32m-> 5243\u001b[0;31m         where = where & ~functools.reduce(np.logical_or,\n\u001b[0m\u001b[1;32m   5244\u001b[0m                                           map(np.ma.getmask, [x, y1, y2]))\n\u001b[1;32m   5245\u001b[0m \u001b[0;34m\u001b[0m\u001b[0m\n",
      "\u001b[0;31mValueError\u001b[0m: operands could not be broadcast together with shapes (51,) (0,) "
     ]
    },
    {
     "data": {
      "image/png": "[encoded data removed]",
      "text/plain": [
       "<Figure size 432x288 with 1 Axes>"
      ]
     },
     "metadata": {
      "needs_background": "light"
     },
     "output_type": "display_data"
    }
   ],
   "source": [
    "# Plot size as a function of generation\n",
    "plt.plot(avg_size, label=\"average size\")\n",
    "plt.fill_between(np.arange(0,51,1), min_size, max_size, facecolor=\"blue\", alpha=0.1, label=\"spread between min and max\")\n",
    "plt.plot(best_size, label=\"size of individual with best fitness\")\n",
    "plt.legend(loc=\"upper left\")\n",
    "plt.title(\"size as a function of generation\")\n",
    "plt.xlabel(\"generation\")\n",
    "plt.ylabel(\"size\")\n",
    "plt.show()"
   ]
  },
  {
   "cell_type": "code",
   "execution_count": null,
   "metadata": {},
   "outputs": [],
   "source": []
  }
 ],
 "metadata": {
  "kernelspec": {
   "display_name": "Python 3",
   "language": "python",
   "name": "python3"
  },
  "language_info": {
   "codemirror_mode": {
    "name": "ipython",
    "version": 3
   },
   "file_extension": ".py",
   "mimetype": "text/x-python",
   "name": "python",
   "nbconvert_exporter": "python",
   "pygments_lexer": "ipython3",
   "version": "3.8.5"
  }
 },
 "nbformat": 4,
 "nbformat_minor": 4
}
