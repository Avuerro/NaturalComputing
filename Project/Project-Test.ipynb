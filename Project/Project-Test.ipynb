{
 "cells": [
  {
   "cell_type": "markdown",
   "metadata": {},
   "source": [
    "# Natural Computing - Project\n",
    "#### Submission by group 25 (Chihab Amghane, Max Driessen, Jordy Naus)\n",
    "\n",
    "The code below uses the DEAP framework (https://github.com/deap/deap), which is a very intuitive framework for evolutionary algorithms and genetic programming."
   ]
  },
  {
   "cell_type": "markdown",
   "metadata": {},
   "source": [
    "### Installing the DEAP framework"
   ]
  },
  {
   "cell_type": "code",
   "execution_count": 1,
   "metadata": {},
   "outputs": [
    {
     "name": "stdout",
     "output_type": "stream",
     "text": [
      "Requirement already satisfied: deap in c:\\users\\max\\anaconda3\\lib\\site-packages (1.3.1)\n",
      "Requirement already satisfied: numpy in c:\\users\\max\\anaconda3\\lib\\site-packages (from deap) (1.20.1)\n"
     ]
    }
   ],
   "source": [
    "!pip install deap"
   ]
  },
  {
   "cell_type": "markdown",
   "metadata": {},
   "source": [
    "### Imports"
   ]
  },
  {
   "cell_type": "code",
   "execution_count": 2,
   "metadata": {},
   "outputs": [],
   "source": [
    "from deap import gp, base, tools, creator, algorithms\n",
    "import numpy as np\n",
    "import matplotlib.pyplot as plt\n",
    "import operator\n",
    "import pandas as pd\n",
    "import math\n",
    "\n",
    "%matplotlib inline"
   ]
  },
  {
   "cell_type": "markdown",
   "metadata": {},
   "source": [
    "### Define fitness function"
   ]
  },
  {
   "cell_type": "code",
   "execution_count": 22,
   "metadata": {},
   "outputs": [],
   "source": [
    "mnist_df = pd.read_csv(\"mnist.csv\")"
   ]
  },
  {
   "cell_type": "code",
   "execution_count": 23,
   "metadata": {},
   "outputs": [],
   "source": [
    "zeros_ones_df = mnist_df[mnist_df.label <= 1]"
   ]
  },
  {
   "cell_type": "code",
   "execution_count": 25,
   "metadata": {},
   "outputs": [],
   "source": [
    "zeros_ones_labels = zeros_ones_df['label'].to_numpy()\n",
    "zeros_ones_data = zeros_ones_df.drop('label', axis=1).to_numpy()"
   ]
  },
  {
   "cell_type": "code",
   "execution_count": null,
   "metadata": {},
   "outputs": [],
   "source": [
    "def fitness(individual, points):\n",
    "    # Transform tree expression into callable function\n",
    "    func = toolbox.compile(expr=individual)\n",
    "    # Compute sum of absolute errors\n",
    "    error = 0\n",
    "    for x, y in points.items():\n",
    "        error += abs(func(x) - y)\n",
    "    return -error"
   ]
  },
  {
   "cell_type": "markdown",
   "metadata": {},
   "source": [
    "### Defining the set of operators and terminals"
   ]
  },
  {
   "cell_type": "code",
   "execution_count": 3,
   "metadata": {},
   "outputs": [],
   "source": [
    "# Create set of functions and terminals, with one terminal: x\n",
    "pset = gp.PrimitiveSet(\"main\", 1)\n",
    "pset.renameArguments(ARG0=\"x\")"
   ]
  },
  {
   "cell_type": "code",
   "execution_count": 4,
   "metadata": {},
   "outputs": [],
   "source": [
    "# Define additional operators\n",
    "\n",
    "### Basic mathematical functions with caveats ###\n",
    "\n",
    "def div(a,b):\n",
    "    # Ensure no division by 0 takes place\n",
    "    return a/b if b else 0\n",
    "\n",
    "def log(a):\n",
    "    # Ensure no logarithm is taken of a non-positive value\n",
    "    return math.log(a) if (a > 0) else 0\n",
    "\n",
    "def exp(a):\n",
    "    # Ensure no exponential is too big\n",
    "    return math.exp(min(a,100))\n",
    "\n",
    "\n",
    "### Activation functions ###\n",
    "\n",
    "def relu(a):\n",
    "    return a if a > 0.0 else 0.0\n",
    "\n",
    "def sigmoid(a):\n",
    "    return 1.0/(1.0 + math.exp(-a))\n",
    "\n",
    "def tanh(a):\n",
    "    return math.tanh(a)"
   ]
  },
  {
   "cell_type": "code",
   "execution_count": 5,
   "metadata": {},
   "outputs": [],
   "source": [
    "# Add standard math operators to the set\n",
    "pset.addPrimitive(operator.add, 2)\n",
    "pset.addPrimitive(operator.sub, 2)\n",
    "pset.addPrimitive(operator.mul, 2)\n",
    "pset.addPrimitive(math.sin, 1)\n",
    "pset.addPrimitive(math.cos, 1)\n",
    "\n",
    "# Add math operators with caveats to the set\n",
    "pset.addPrimitive(div, 2)\n",
    "pset.addPrimitive(log, 1)\n",
    "pset.addPrimitive(exp, 1)\n",
    "\n",
    "# Add activation functions to the set\n",
    "pset.addPrimitive(relu, 1)\n",
    "pset.addPrimitive(sigmoid, 1)\n",
    "pset.addPrimitive(tanh, 1)"
   ]
  },
  {
   "cell_type": "markdown",
   "metadata": {},
   "source": [
    "### Define the creator that creates individuals (i.e. trees)"
   ]
  },
  {
   "cell_type": "code",
   "execution_count": 6,
   "metadata": {},
   "outputs": [],
   "source": [
    "creator.create(\"FitnessMin\", base.Fitness, weights=(1.0,))\n",
    "creator.create(\"Individual\", gp.PrimitiveTree, fitness=creator.FitnessMin)"
   ]
  },
  {
   "cell_type": "markdown",
   "metadata": {},
   "source": [
    "### Define the toolbox \n",
    "<b>(describes how to form a population, compile an expression as a function, evaluate fitness, select parents, perform cross-over and mutation)</b>"
   ]
  },
  {
   "cell_type": "code",
   "execution_count": 12,
   "metadata": {},
   "outputs": [
    {
     "ename": "NameError",
     "evalue": "name 'fitness' is not defined",
     "output_type": "error",
     "traceback": [
      "\u001b[1;31m---------------------------------------------------------------------------\u001b[0m",
      "\u001b[1;31mNameError\u001b[0m                                 Traceback (most recent call last)",
      "\u001b[1;32m<ipython-input-12-1380786289c2>\u001b[0m in \u001b[0;36m<module>\u001b[1;34m\u001b[0m\n\u001b[0;32m      8\u001b[0m \u001b[0mtoolbox\u001b[0m\u001b[1;33m.\u001b[0m\u001b[0mregister\u001b[0m\u001b[1;33m(\u001b[0m\u001b[1;34m\"compile\"\u001b[0m\u001b[1;33m,\u001b[0m \u001b[0mgp\u001b[0m\u001b[1;33m.\u001b[0m\u001b[0mcompile\u001b[0m\u001b[1;33m,\u001b[0m \u001b[0mpset\u001b[0m\u001b[1;33m=\u001b[0m\u001b[0mpset\u001b[0m\u001b[1;33m)\u001b[0m\u001b[1;33m\u001b[0m\u001b[1;33m\u001b[0m\u001b[0m\n\u001b[0;32m      9\u001b[0m \u001b[1;31m# Define how to determine the fitness of an individual (using the fitness function defined above)\u001b[0m\u001b[1;33m\u001b[0m\u001b[1;33m\u001b[0m\u001b[1;33m\u001b[0m\u001b[0m\n\u001b[1;32m---> 10\u001b[1;33m \u001b[0mtoolbox\u001b[0m\u001b[1;33m.\u001b[0m\u001b[0mregister\u001b[0m\u001b[1;33m(\u001b[0m\u001b[1;34m\"evaluate\"\u001b[0m\u001b[1;33m,\u001b[0m \u001b[0mfitness\u001b[0m\u001b[1;33m,\u001b[0m \u001b[0mpoints\u001b[0m\u001b[1;33m=\u001b[0m\u001b[0msolution_dict\u001b[0m\u001b[1;33m)\u001b[0m\u001b[1;33m\u001b[0m\u001b[1;33m\u001b[0m\u001b[0m\n\u001b[0m\u001b[0;32m     11\u001b[0m \u001b[1;33m\u001b[0m\u001b[0m\n\u001b[0;32m     12\u001b[0m \u001b[1;31m# Define how to select parents (tournament selection; either controlling for bloat or not controlling for it)\u001b[0m\u001b[1;33m\u001b[0m\u001b[1;33m\u001b[0m\u001b[1;33m\u001b[0m\u001b[0m\n",
      "\u001b[1;31mNameError\u001b[0m: name 'fitness' is not defined"
     ]
    }
   ],
   "source": [
    "toolbox = base.Toolbox()\n",
    "# Initial generation is generated using ramped half-and-half initialization, with a tree size between 1 and 5\n",
    "toolbox.register(\"expr\", gp.genHalfAndHalf, pset=pset, min_=1, max_=5)\n",
    "# Define how to generate a population of individuals\n",
    "toolbox.register(\"individual\", tools.initIterate, creator.Individual, toolbox.expr)\n",
    "toolbox.register(\"population\", tools.initRepeat, list, toolbox.individual)\n",
    "# Define how to compile a tree as a function that can be evaluated\n",
    "toolbox.register(\"compile\", gp.compile, pset=pset)\n",
    "# Define how to determine the fitness of an individual (using the fitness function defined above)\n",
    "toolbox.register(\"evaluate\", fitness, points=solution_dict)\n",
    "\n",
    "# Define how to select parents (tournament selection; either controlling for bloat or not controlling for it)\n",
    "if CONTROL_BLOAT:\n",
    "    toolbox.register(\"select\", tools.selDoubleTournament, fitness_size=3, parsimony_size=1.3, fitness_first=False)\n",
    "else:\n",
    "    toolbox.register(\"select\", tools.selTournament, tournsize=3) # Do not control\n",
    "# Define how to perform cross-over (pick one node of both parents & swap subtrees)\n",
    "toolbox.register(\"mate\", gp.cxOnePoint)\n",
    "# Define how to perform mutation (not very important as mutation probability is set to 0)\n",
    "toolbox.register(\"expr_mut\", gp.genHalfAndHalf, min_=0, max_=2)\n",
    "toolbox.register(\"mutate\", gp.mutUniform, expr=toolbox.expr_mut, pset=pset)\n",
    "\n",
    "# Define upper limits for height of trees\n",
    "toolbox.decorate(\"mate\", gp.staticLimit(key=operator.attrgetter(\"height\"), max_value=50))\n",
    "toolbox.decorate(\"mutate\", gp.staticLimit(key=operator.attrgetter(\"height\"), max_value=50))"
   ]
  },
  {
   "cell_type": "markdown",
   "metadata": {},
   "source": [
    "### Define statistics that will be gathered"
   ]
  },
  {
   "cell_type": "code",
   "execution_count": 9,
   "metadata": {},
   "outputs": [],
   "source": [
    "# Functions for determining average, min and max, which control for the possibility that the input might consist of tuples\n",
    "def tuple_avg(a):\n",
    "    if len(a[0]) == 2:\n",
    "        return np.mean([x[0] for x in a])\n",
    "    return np.mean(a)\n",
    "\n",
    "def tuple_min(a):\n",
    "    if len(a[0]) == 2:\n",
    "        return np.min([x[0] for x in a])\n",
    "    return np.min(a)\n",
    "\n",
    "def tuple_max(a):\n",
    "    if len(a[0]) == 2:\n",
    "        return np.max([x[0] for x in a])\n",
    "    return np.max(a)\n",
    "\n",
    "# Function for determining the size of the agent with the best fitness\n",
    "def tuple_best_size(a):\n",
    "    if len(a[0]) == 2:\n",
    "        return np.amax(a, 1)[0]\n",
    "    return None"
   ]
  },
  {
   "cell_type": "code",
   "execution_count": 10,
   "metadata": {},
   "outputs": [],
   "source": [
    "stats_fit = tools.Statistics(lambda ind: ind.fitness.values)\n",
    "stats_size = tools.Statistics(lambda ind: [len(ind), ind.fitness.values[0]])\n",
    "mstats = tools.MultiStatistics(fitness=stats_fit, size=stats_size)\n",
    "mstats.register(\"avg\",  tuple_avg)\n",
    "mstats.register(\"min\",  tuple_min)\n",
    "mstats.register(\"max\",  tuple_max)\n",
    "mstats.register(\"best\", tuple_best_size)"
   ]
  },
  {
   "cell_type": "markdown",
   "metadata": {},
   "source": [
    "### Run the genetic programming algorithm using the definitions above"
   ]
  },
  {
   "cell_type": "code",
   "execution_count": 11,
   "metadata": {
    "scrolled": false
   },
   "outputs": [
    {
     "name": "stdout",
     "output_type": "stream",
     "text": [
      "   \t      \t                               fitness                                \t                     size                     \n",
      "   \t      \t----------------------------------------------------------------------\t----------------------------------------------\n",
      "gen\tnevals\tavg         \tbest\tgen\tmax     \tmin         \tnevals\tavg  \tbest\tgen\tmax\tmin\tnevals\n",
      "0  \t1000  \t-5.37623e+40\tNone\t0  \t-4.24698\t-5.37623e+43\t1000  \t9.419\t7   \t0  \t43 \t2  \t1000  \n",
      "1  \t704   \t-19.0204    \tNone\t1  \t-4.24698\t-322.72     \t704   \t7.978\t3   \t1  \t44 \t2  \t704   \n",
      "2  \t682   \t-2.68812e+40\tNone\t2  \t-3.91227\t-2.68812e+43\t682   \t7.358\t4   \t2  \t40 \t2  \t682   \n",
      "3  \t686   \t-719668     \tNone\t3  \t-3.51482\t-3.59822e+08\t686   \t7.201\t3   \t3  \t40 \t2  \t686   \n",
      "4  \t662   \t-17.2326    \tNone\t4  \t-1.81107\t-2088.88    \t662   \t8.023\t2   \t4  \t38 \t2  \t662   \n",
      "5  \t704   \t-7.14408e+07\tNone\t5  \t-1.81107\t-6.52066e+10\t704   \t9.266\t4   \t5  \t42 \t2  \t704   \n",
      "6  \t716   \t-4.2485e+06 \tNone\t6  \t-1.81107\t-4.24849e+09\t716   \t10.494\t6   \t6  \t39 \t2  \t716   \n",
      "7  \t714   \t-4.24882e+06\tNone\t7  \t-1.81107\t-4.24373e+09\t714   \t11.581\t14  \t7  \t42 \t2  \t714   \n",
      "8  \t734   \t-6.79489e+09\tNone\t8  \t-1.81107\t-6.79065e+12\t734   \t12.602\t24  \t8  \t43 \t2  \t734   \n",
      "9  \t716   \t-5.88544e+13\tNone\t9  \t-1.76701\t-5.88544e+16\t716   \t13.528\t8   \t9  \t44 \t2  \t716   \n",
      "10 \t670   \t-4.24573e+06\tNone\t10 \t-1.76701\t-4.24307e+09\t670   \t13.427\t28  \t10 \t58 \t2  \t670   \n",
      "11 \t706   \t-27.9945    \tNone\t11 \t-1.76701\t-10395.9    \t706   \t12.44 \t10  \t11 \t52 \t2  \t706   \n",
      "12 \t718   \t-1.15433e+07\tNone\t12 \t-1.35031\t-1.15339e+10\t718   \t11.468\t8   \t12 \t45 \t2  \t718   \n",
      "13 \t746   \t-9.59932e+06\tNone\t13 \t-1.35031\t-7.85278e+09\t746   \t10.859\t8   \t13 \t45 \t2  \t746   \n",
      "14 \t700   \t-8.12838    \tNone\t14 \t-1.45596\t-218.904    \t700   \t10.193\t8   \t14 \t43 \t3  \t700   \n",
      "15 \t694   \t-16.4697    \tNone\t15 \t-1.38988\t-4085.72    \t694   \t9.688 \t29  \t15 \t42 \t2  \t694   \n",
      "16 \t728   \t-9.68458    \tNone\t16 \t-0.771009\t-307.919    \t728   \t9.547 \t8   \t16 \t40 \t3  \t728   \n",
      "17 \t676   \t-5952.96    \tNone\t17 \t-0.771009\t-5.94241e+06\t676   \t9.421 \t5   \t17 \t40 \t3  \t676   \n",
      "18 \t694   \t-16.637     \tNone\t18 \t-0.771009\t-4085.72    \t694   \t9.644 \t3   \t18 \t40 \t3  \t694   \n",
      "19 \t694   \t-1.72445e+24\tNone\t19 \t-0.771009\t-1.72445e+27\t694   \t10.081\t7   \t19 \t40 \t3  \t694   \n",
      "20 \t754   \t-25.3611    \tNone\t20 \t-0.771009\t-6554.42    \t754   \t11.212\t8   \t20 \t39 \t2  \t754   \n",
      "21 \t698   \t-1.72445e+24\tNone\t21 \t-0.77079 \t-1.72445e+27\t698   \t12.476\t7   \t21 \t41 \t2  \t698   \n",
      "22 \t678   \t-1.2043e+15 \tNone\t22 \t-0.77079 \t-5.41756e+17\t678   \t14.228\t28  \t22 \t53 \t2  \t678   \n",
      "23 \t732   \t-2.04933e+24\tNone\t23 \t-0.719924\t-2.04933e+27\t732   \t16.066\t8   \t23 \t55 \t2  \t732   \n",
      "24 \t716   \t-1.06984e+16\tNone\t24 \t-0.573594\t-9.98047e+18\t716   \t18.222\t7   \t24 \t64 \t2  \t716   \n",
      "25 \t692   \t-6.2553e+40 \tNone\t25 \t-0.573594\t-6.2553e+43 \t692   \t20.526\t12  \t25 \t76 \t2  \t692   \n",
      "26 \t692   \t-5.12521e+40\tNone\t26 \t-0.573594\t-5.12521e+43\t692   \t22.699\t28  \t26 \t76 \t2  \t692   \n",
      "27 \t710   \t-1.58293e+09\tNone\t27 \t-0.573594\t-1.58293e+12\t710   \t25.571\t14  \t27 \t76 \t2  \t710   \n",
      "28 \t712   \t-9.3297e+37 \tNone\t28 \t-0.573594\t-9.3297e+40 \t712   \t27.953\t28  \t28 \t105\t2  \t712   \n",
      "29 \t726   \t-6.91196e+40\tNone\t29 \t-0.573594\t-6.91196e+43\t726   \t29.309\t41  \t29 \t85 \t2  \t726   \n",
      "30 \t716   \t-2.08255e+14\tNone\t30 \t-0.573594\t-2.08255e+17\t716   \t31.46 \t26  \t30 \t87 \t2  \t716   \n",
      "31 \t700   \t-3525.53    \tNone\t31 \t-0.573594\t-3.45643e+06\t700   \t33.937\t34  \t31 \t96 \t2  \t700   \n",
      "32 \t748   \t-9.1396e+40 \tNone\t32 \t-0.573594\t-9.1396e+43 \t748   \t36.3  \t2   \t32 \t119\t2  \t748   \n",
      "33 \t666   \t-6.37553    \tNone\t33 \t-0.573594\t-644.794    \t666   \t37.981\t48  \t33 \t114\t2  \t666   \n",
      "34 \t676   \t-5.93892    \tNone\t34 \t-0.573594\t-269.886    \t676   \t39.75 \t22  \t34 \t116\t2  \t676   \n",
      "35 \t696   \t-6.98129    \tNone\t35 \t-0.573594\t-602.516    \t696   \t41.925\t69  \t35 \t129\t2  \t696   \n",
      "36 \t716   \t-5.44191    \tNone\t36 \t-0.573594\t-419.921    \t716   \t45.801\t51  \t36 \t145\t2  \t716   \n",
      "37 \t746   \t-5.81026    \tNone\t37 \t-0.573594\t-297.888    \t746   \t51.168\t52  \t37 \t153\t2  \t746   \n",
      "38 \t740   \t-6.00487    \tNone\t38 \t-0.561813\t-738.558    \t740   \t54.642\t26  \t38 \t172\t2  \t740   \n",
      "39 \t678   \t-7.95961    \tNone\t39 \t-0.561813\t-646.448    \t678   \t58.629\t35  \t39 \t200\t2  \t678   \n",
      "40 \t700   \t-5.98837    \tNone\t40 \t-0.561813\t-631.716    \t700   \t61.378\t33  \t40 \t220\t2  \t700   \n",
      "41 \t700   \t-7.91523    \tNone\t41 \t-0.573594\t-571.676    \t700   \t61.245\t35  \t41 \t213\t2  \t700   \n",
      "42 \t712   \t-6.04118    \tNone\t42 \t-0.516263\t-503.237    \t712   \t60.454\t45  \t42 \t213\t2  \t712   \n",
      "43 \t688   \t-5.18749    \tNone\t43 \t-0.516263\t-499.656    \t688   \t62.935\t35  \t43 \t226\t2  \t688   \n",
      "44 \t682   \t-4.73566    \tNone\t44 \t-0.516263\t-606.351    \t682   \t62.028\t96  \t44 \t250\t2  \t682   \n",
      "45 \t680   \t-3.88324    \tNone\t45 \t-0.571015\t-206.126    \t680   \t61.273\t88  \t45 \t240\t2  \t680   \n",
      "46 \t694   \t-4.16232    \tNone\t46 \t-0.571015\t-76.0511    \t694   \t57.214\t99  \t46 \t233\t2  \t694   \n",
      "47 \t680   \t-4.68973    \tNone\t47 \t-0.515604\t-613.761    \t680   \t55.204\t88  \t47 \t198\t2  \t680   \n",
      "48 \t712   \t-4.36015    \tNone\t48 \t-0.515604\t-145.995    \t712   \t54.113\t39  \t48 \t239\t2  \t712   \n",
      "49 \t720   \t-5.52644    \tNone\t49 \t-0.515604\t-884.252    \t720   \t53.172\t87  \t49 \t239\t2  \t720   \n",
      "50 \t698   \t-4.63255    \tNone\t50 \t-0.515604\t-115.204    \t698   \t55.112\t44  \t50 \t255\t2  \t698   \n"
     ]
    }
   ],
   "source": [
    "pop = toolbox.population(POP_SIZE)\n",
    "hof = tools.HallOfFame(1)\n",
    "pop, log = algorithms.eaSimple(population=pop, \n",
    "                               toolbox=toolbox, \n",
    "                               cxpb=CROSSOVER_PROB, \n",
    "                               mutpb=MUTATION_PROB, \n",
    "                               ngen=N_GENERATIONS, \n",
    "                               stats=mstats, \n",
    "                               halloffame=hof, \n",
    "                               verbose=True)"
   ]
  },
  {
   "cell_type": "markdown",
   "metadata": {},
   "source": [
    "### Inspect best solution found"
   ]
  },
  {
   "cell_type": "code",
   "execution_count": 12,
   "metadata": {},
   "outputs": [
    {
     "name": "stdout",
     "output_type": "stream",
     "text": [
      "log(add(cos(mul(add(mul(sin(exp(mul(x, mul(exp(mul(x, mul(sin(exp(x)), mul(add(mul(exp(x), x), log(exp(exp(x)))), mul(add(x, x), x))))), add(mul(exp(mul(x, mul(add(x, mul(x, log(x))), x))), x), log(mul(x, x))))))), mul(exp(x), x)), log(exp(exp(x)))), x)), mul(add(mul(x, x), x), exp(add(mul(add(x, x), x), x)))))\n"
     ]
    }
   ],
   "source": [
    "print(str(hof[0]))"
   ]
  },
  {
   "cell_type": "markdown",
   "metadata": {},
   "source": [
    "### Plotting"
   ]
  },
  {
   "cell_type": "code",
   "execution_count": 13,
   "metadata": {},
   "outputs": [],
   "source": [
    "# Extract fitness of best individual in each generation\n",
    "max_fitness = log.chapters[\"fitness\"].select(\"max\")\n",
    "\n",
    "# Extract average, minimum and maximum size in each generation, as well as size corresponding to agent with best fitness\n",
    "avg_size = log.chapters[\"size\"].select(\"avg\")\n",
    "min_size = log.chapters[\"size\"].select(\"min\")\n",
    "max_size = log.chapters[\"size\"].select(\"max\")\n",
    "best_size = log.chapters[\"size\"].select(\"best\")"
   ]
  },
  {
   "cell_type": "code",
   "execution_count": 14,
   "metadata": {},
   "outputs": [
    {
     "data": {
      "image/png": "[encoded data removed]",
      "text/plain": [
       "<Figure size 432x288 with 1 Axes>"
      ]
     },
     "metadata": {
      "needs_background": "light"
     },
     "output_type": "display_data"
    }
   ],
   "source": [
    "# Plot best fitness as a function of generation\n",
    "plt.plot(max_fitness, label=\"best fitness\")\n",
    "plt.legend(loc=\"upper left\")\n",
    "plt.title(\"best fitness as a function of generation\")\n",
    "plt.xlabel(\"generation\")\n",
    "plt.ylabel(\"fitness\")\n",
    "plt.show()"
   ]
  },
  {
   "cell_type": "code",
   "execution_count": 15,
   "metadata": {},
   "outputs": [
    {
     "data": {
      "image/png": "[encoded data removed]",
      "text/plain": [
       "<Figure size 432x288 with 1 Axes>"
      ]
     },
     "metadata": {
      "needs_background": "light"
     },
     "output_type": "display_data"
    }
   ],
   "source": [
    "# Plot size as a function of generation\n",
    "plt.plot(avg_size, label=\"average size\")\n",
    "plt.fill_between(np.arange(0,51,1), min_size, max_size, facecolor=\"blue\", alpha=0.1, label=\"spread between min and max\")\n",
    "plt.plot(best_size, label=\"size of individual with best fitness\")\n",
    "plt.legend(loc=\"upper left\")\n",
    "plt.title(\"size as a function of generation\")\n",
    "plt.xlabel(\"generation\")\n",
    "plt.ylabel(\"size\")\n",
    "plt.show()"
   ]
  }
 ],
 "metadata": {
  "kernelspec": {
   "display_name": "Python 3",
   "language": "python",
   "name": "python3"
  },
  "language_info": {
   "codemirror_mode": {
    "name": "ipython",
    "version": 3
   },
   "file_extension": ".py",
   "mimetype": "text/x-python",
   "name": "python",
   "nbconvert_exporter": "python",
   "pygments_lexer": "ipython3",
   "version": "3.8.3"
  }
 },
 "nbformat": 4,
 "nbformat_minor": 4
}
