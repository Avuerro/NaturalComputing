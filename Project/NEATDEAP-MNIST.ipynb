{
 "cells": [
  {
   "cell_type": "markdown",
   "metadata": {},
   "source": [
    "# Natural Computing - Project\n",
    "#### Submission by group 25 (Chihab Amghane, Max Driessen, Jordy Naus)\n",
    "\n",
    "The code below uses the DEAP framework (https://github.com/deap/deap), which is a very intuitive framework for evolutionary algorithms and genetic programming."
   ]
  },
  {
   "cell_type": "markdown",
   "metadata": {},
   "source": [
    "## Imports"
   ]
  },
  {
   "cell_type": "code",
   "execution_count": 1,
   "metadata": {},
   "outputs": [],
   "source": [
    "# DEAP\n",
    "from deap import gp, base, tools, creator, algorithms\n",
    "\n",
    "# Data processing and plotting\n",
    "from sklearn.metrics import confusion_matrix\n",
    "import matplotlib.pyplot as plt\n",
    "import seaborn as sns\n",
    "\n",
    "# Requirements for the algorithm\n",
    "from operator import attrgetter\n",
    "from functools import partial\n",
    "\n",
    "# Standard python imports\n",
    "import random, pickle, math, re, os, copy\n",
    "import numpy as np\n",
    "\n",
    "# Magic for inline plots\n",
    "%matplotlib inline"
   ]
  },
  {
   "cell_type": "markdown",
   "metadata": {},
   "source": [
    "## Helper functions"
   ]
  },
  {
   "cell_type": "code",
   "execution_count": 2,
   "metadata": {},
   "outputs": [],
   "source": [
    "def exp(x):\n",
    "    return np.exp(np.clip(x, -float('inf'), 709.))"
   ]
  },
  {
   "cell_type": "markdown",
   "metadata": {},
   "source": [
    "## Global parameters"
   ]
  },
  {
   "cell_type": "code",
   "execution_count": 3,
   "metadata": {},
   "outputs": [],
   "source": [
    "# Dataset parameters\n",
    "DATASET = \"MNIST\" # choose from {\"MNIST\", \"Fashion-MNIST\"} \n",
    "N_CLASSES_TO_USE = 10 # at most 10\n",
    "USE_NORMALIZATION = True\n",
    "USE_ANTI_ALIASING = False\n",
    "\n",
    "# Individual tree parameters\n",
    "N_INITIAL_CONNECTIONS = 100\n",
    "CONNECTIONS_CAPPED = True\n",
    "MAX_CONNECTIONS = 300\n",
    "\n",
    "# Fitness parameters\n",
    "N_SAMPLES_TO_TEST = 200\n",
    "\n",
    "# Evolution parameters\n",
    "N_GENERATIONS = 500\n",
    "POPULATION_SIZE = 100\n",
    "\n",
    "TOURNAMENT_SIZE = 10\n",
    "SIZE_TOURNAMENT = True\n",
    "P_SMALLER_WINS = 0.65\n",
    "\n",
    "P_ADD_CONNECTION = 0.5\n",
    "P_REMOVE_CONNECTION = 0.3\n",
    "P_ADD_NODE = 0.2\n",
    "P_REMOVE_NODE = 0.2\n",
    "P_CHANGE_OPERATOR = 0.3\n",
    "\n",
    "# Filename parameters\n",
    "RESULTS_FILENAME = \"results.pkl\""
   ]
  },
  {
   "cell_type": "markdown",
   "metadata": {},
   "source": [
    "## Loading preprocessed data"
   ]
  },
  {
   "cell_type": "code",
   "execution_count": 4,
   "metadata": {},
   "outputs": [
    {
     "name": "stdout",
     "output_type": "stream",
     "text": [
      "Preprocessed dataset does not exist yet, creating now.\n"
     ]
    }
   ],
   "source": [
    "# Set the correct data filename\n",
    "filename = f\"{DATASET}-{N_CLASSES_TO_USE}{'-Norm' if USE_NORMALIZATION else ''}{'-AA' if USE_ANTI_ALIASING else ''}.pkl\"\n",
    "\n",
    "# If the data has not yet been preprocessed in the specified way, do so now\n",
    "if not os.path.exists(os.path.join(\"data\", filename)):\n",
    "    print(\"Preprocessed dataset does not exist yet, creating now.\")\n",
    "    os.system(f\"python Preprocessing.py -d {DATASET} -c {N_CLASSES_TO_USE}\" + \\\n",
    "              f\"{' --aa' if USE_ANTI_ALIASING else ''}{' --n' if USE_NORMALIZATION else ''}\")\n",
    "\n",
    "# Load the preprocessed data\n",
    "with open(os.path.join(\"data\", filename), \"rb\") as f:\n",
    "    (X_train, Y_train), (X_test, Y_test) = pickle.load(f)"
   ]
  },
  {
   "cell_type": "markdown",
   "metadata": {},
   "source": [
    "## Defining operators"
   ]
  },
  {
   "cell_type": "code",
   "execution_count": 5,
   "metadata": {},
   "outputs": [],
   "source": [
    "# Define operators (with a variable number of inputs)\n",
    "def linear(*args):\n",
    "    return sum(args)\n",
    "\n",
    "def inverse(*args):\n",
    "    return -sum(args)\n",
    "\n",
    "def tanh(*args):\n",
    "    return math.tanh(sum(args))\n",
    "\n",
    "def sigmoid(*args):\n",
    "    return 1.0/(1.0 + exp(-sum(args)))\n",
    "\n",
    "def step(*args):\n",
    "    return float(sum(args) >= 0)\n",
    "\n",
    "def sine(*args):\n",
    "    return math.sin(sum(args))\n",
    "\n",
    "def cosine(*args):\n",
    "    return math.cos(sum(args))\n",
    "\n",
    "def gaussian(*args):\n",
    "    return 0.5*sum(args)*(1.0+math.tanh(math.sqrt(2.0/math.pi)*(sum(args) + 0.044715*sum(args)**3)))\n",
    "                          \n",
    "def absolute(*args):\n",
    "    return abs(sum(args))"
   ]
  },
  {
   "cell_type": "code",
   "execution_count": 6,
   "metadata": {},
   "outputs": [],
   "source": [
    "# Define dictionary of functions for compiling\n",
    "function_context = {'linear':linear, 'inverse':inverse, 'tanh':tanh, 'sigmoid':sigmoid, 'step':step, \n",
    "                    'sine':sine, 'cosine':cosine, 'gaussian':gaussian, 'absolute':absolute}\n",
    "\n",
    "# Create lists of function and argument names\n",
    "function_names = list(function_context.keys())\n",
    "argument_names = [f\"ARG{i}\" for i in range(X_train.shape[1])]"
   ]
  },
  {
   "cell_type": "markdown",
   "metadata": {},
   "source": [
    "## Defining individuals\n",
    "\n",
    "##### Defining nodes"
   ]
  },
  {
   "cell_type": "code",
   "execution_count": 7,
   "metadata": {},
   "outputs": [],
   "source": [
    "# Generic Node class\n",
    "class Node:\n",
    "    def __init__(self, name):\n",
    "        self.name = name\n",
    "        self.parents = []\n",
    "        self.children = []\n",
    "    \n",
    "    def __str__(self):\n",
    "        raise NotImplementedError(\"String function is only implemented for subclasses\")\n",
    "\n",
    "# Class for terminal nodes (inputs)\n",
    "class TerminalNode(Node):\n",
    "    def __init__(self, name):\n",
    "        super().__init__(name)\n",
    "\n",
    "    def __str__(self):\n",
    "        return self.name\n",
    "\n",
    "# Class for primitive nodes (internals + outputs)\n",
    "class PrimitiveNode(Node):\n",
    "    def __init__(self, name):\n",
    "        super().__init__(name)\n",
    "\n",
    "    def __str__(self):\n",
    "        return f\"{self.name}({', '.join([str(child) for child in self.children])})\""
   ]
  },
  {
   "cell_type": "code",
   "execution_count": 8,
   "metadata": {},
   "outputs": [],
   "source": [
    "# Class for multi-output trees\n",
    "class MultiClassTree:\n",
    "    def __init__(self, n_inputs, n_outputs, n_initial_connections):\n",
    "        # Initialize lists of input, output and internal nodes\n",
    "        self.inputs = [TerminalNode(argument_names[i]) for i in range(n_inputs)]\n",
    "        self.outputs = [PrimitiveNode(\"sigmoid\") for _ in range(n_outputs)]\n",
    "        self.internals = []\n",
    "        \n",
    "        # Add initial connections so that initial tree is valid\n",
    "        self.n_connections = n_initial_connections\n",
    "        for output in self.outputs:\n",
    "            initial_children = random.choices(self.inputs, k=n_initial_connections)\n",
    "            output.children.extend(initial_children)\n",
    "            for child in initial_children:\n",
    "                child.parents.append(output)\n",
    "\n",
    "    def __str__(self):\n",
    "        return f\"MultiClassTree with {len(self.inputs)} inputs, \" + \\\n",
    "                                   f\"{len(self.outputs)} outputs and \" + \\\n",
    "                                   f\"{len(self.internals)} internal nodes.\\n\"\n",
    "    \n",
    "    # Retrieving output function strings\n",
    "    def get_strings(self):\n",
    "        try:\n",
    "            return [str(output) for output in self.outputs]\n",
    "        except RecursionError:\n",
    "            print(\"Maximum recursion depth reached\")\n",
    "            return None"
   ]
  },
  {
   "cell_type": "code",
   "execution_count": 9,
   "metadata": {},
   "outputs": [],
   "source": [
    "# Intialize the toolbox which will contain all sorts of functions for the genetic programming process\n",
    "toolbox = base.Toolbox()"
   ]
  },
  {
   "cell_type": "code",
   "execution_count": 10,
   "metadata": {},
   "outputs": [],
   "source": [
    "# Define classes for fitness and individuals (using DEAP's creator module)\n",
    "creator.create(\"FitnessMax\", base.Fitness, weights=(1.0,))\n",
    "creator.create(\"Individual\", MultiClassTree, fitness=creator.FitnessMax)"
   ]
  },
  {
   "cell_type": "code",
   "execution_count": 11,
   "metadata": {},
   "outputs": [],
   "source": [
    "# Define how to initialize an individual or population\n",
    "toolbox.register(\"individual\", creator.Individual, X_train.shape[1], \n",
    "                               N_CLASSES_TO_USE, N_INITIAL_CONNECTIONS)\n",
    "toolbox.register(\"population\", tools.initRepeat, list, toolbox.individual)"
   ]
  },
  {
   "cell_type": "markdown",
   "metadata": {},
   "source": [
    "## Fitness function"
   ]
  },
  {
   "cell_type": "code",
   "execution_count": 12,
   "metadata": {},
   "outputs": [],
   "source": [
    "# Compiling a tree into a function\n",
    "def compile_multiclasstree(tree):\n",
    "    strings = tree.get_strings()\n",
    "    funcs = [eval(f\"lambda {', '.join(argument_names)}: {string}\", function_context, {}) for string in strings]\n",
    "    def func(args):\n",
    "        return [f(*args) for f in funcs]\n",
    "    return func"
   ]
  },
  {
   "cell_type": "code",
   "execution_count": 13,
   "metadata": {},
   "outputs": [],
   "source": [
    "# Add compile function to toolbox\n",
    "toolbox.register(\"compile\", compile_multiclasstree)"
   ]
  },
  {
   "cell_type": "code",
   "execution_count": 14,
   "metadata": {},
   "outputs": [],
   "source": [
    "# Define fitness function   \n",
    "def fitness(individual, n_samples_to_test):\n",
    "    # Compile the functions corresponding to the individual\n",
    "    func = toolbox.compile(individual)\n",
    "    \n",
    "    # Create a list of samples to test, ensuring an equal number of samples from each class\n",
    "    sample_indices = []\n",
    "    n_samples_per_class = int(n_samples_to_test/N_CLASSES_TO_USE)\n",
    "    for c in range(N_CLASSES_TO_USE):\n",
    "        c_indices = np.where(Y_train == c)[0]\n",
    "        assert len(c_indices) >= n_samples_per_class, \\\n",
    "            f\"Class {c} has too few elements to reach the desired number of evaluation samples\"\n",
    "        sample_indices.extend(np.random.permutation(c_indices)[:n_samples_per_class])\n",
    "    \n",
    "    # Compute cross-entropy loss for each of the samples\n",
    "    results = []\n",
    "    for i in sample_indices:\n",
    "        X_sample, Y_sample = X_train[i], Y_train[i]\n",
    "        output = func(X_sample)\n",
    "        results.append(np.argmax(output) == Y_sample)\n",
    "    \n",
    "    # Return the average cross-entropy loss\n",
    "    return (np.average(results),)"
   ]
  },
  {
   "cell_type": "code",
   "execution_count": 15,
   "metadata": {},
   "outputs": [],
   "source": [
    "# Add the fitness function to the toolbox\n",
    "toolbox.register(\"evaluate\", fitness, n_samples_to_test=N_SAMPLES_TO_TEST)"
   ]
  },
  {
   "cell_type": "markdown",
   "metadata": {},
   "source": [
    "## Evolution components\n",
    "\n",
    "##### Parent selection"
   ]
  },
  {
   "cell_type": "code",
   "execution_count": 16,
   "metadata": {},
   "outputs": [],
   "source": [
    "# Redefine the tools.selDoubleTournament function for our multi-tree individuals (all comments from the original function have been removed to aid readability; the function remains unchanged \n",
    "# except for the usage of get_total_size instead of len (as well as some differences in imports and python version)\n",
    "def selDoubleTournament(individuals, k, fitness_size, parsimony_size, fitness_first, fit_attr=\"fitness\"):\n",
    "    assert (1 <= parsimony_size <= 2), \"Parsimony tournament size has to be in the range [1, 2].\"\n",
    "\n",
    "    def _sizeTournament(individuals, k, select):\n",
    "        chosen = []\n",
    "        for i in range(k):\n",
    "            prob = parsimony_size / 2.\n",
    "            ind1, ind2 = select(individuals, k=2)\n",
    "\n",
    "            # This is the part that matters for our re-implementation: we use the total size of\n",
    "            # all trees instead of the length of the individual, which is equal for all individuals\n",
    "            if ind1.n_connections > ind2.n_connections:\n",
    "                ind1, ind2 = ind2, ind1\n",
    "            elif ind1.n_connections == ind2.n_connections:\n",
    "                prob = 0.5\n",
    "\n",
    "            chosen.append(ind1 if random.random() < prob else ind2)\n",
    "\n",
    "        return chosen\n",
    "\n",
    "    def _fitTournament(individuals, k, select):\n",
    "        chosen = []\n",
    "        for i in range(k):\n",
    "            aspirants = select(individuals, k=fitness_size)\n",
    "            chosen.append(max(aspirants, key=attrgetter(fit_attr)))\n",
    "        return chosen\n",
    "\n",
    "    if fitness_first:\n",
    "        tfit = partial(_fitTournament, select=tools.selRandom)\n",
    "        return _sizeTournament(individuals, k, tfit)\n",
    "    else:\n",
    "        tsize = partial(_sizeTournament, select=tools.selRandom)\n",
    "        return _fitTournament(individuals, k, tsize)"
   ]
  },
  {
   "cell_type": "code",
   "execution_count": 17,
   "metadata": {},
   "outputs": [],
   "source": [
    "# Define how to select parents (either a double tournament that controls for bloat or a single tournament that does not)\n",
    "if SIZE_TOURNAMENT:\n",
    "    toolbox.register(\"select\", selDoubleTournament, fitness_size=TOURNAMENT_SIZE, \n",
    "                     parsimony_size=P_SMALLER_WINS*2, fitness_first=False)\n",
    "else:\n",
    "    toolbox.register(\"select\", tools.selTournament, tournsize=TOURNAMENT_SIZE)"
   ]
  },
  {
   "cell_type": "markdown",
   "metadata": {},
   "source": [
    "##### Mutation"
   ]
  },
  {
   "cell_type": "code",
   "execution_count": 18,
   "metadata": {},
   "outputs": [],
   "source": [
    "def mutate(tree):\n",
    "    \n",
    "    tree = copy.deepcopy(tree)\n",
    "    \n",
    "    def _remove_connection():\n",
    "        possible_parents = [t for t in tree.outputs + tree.internals if len(t.children) > 1]\n",
    "        if not possible_parents:\n",
    "            return\n",
    "        parent = random.choice(possible_parents)\n",
    "        child_to_remove = random.choice(parent.children)\n",
    "        parent.children.remove(child_to_remove)\n",
    "        child_to_remove.parents.remove(parent)\n",
    "        tree.n_connections -= 1\n",
    "    \n",
    "    def _add_connection():\n",
    "        def _is_ancestor(node1, node2):\n",
    "            return node1 in [node2] + node2.parents or any([_is_ancestor(node1, node3) for node3 in node2.parents])\n",
    "        valid_child = False\n",
    "        while not valid_child:\n",
    "            parent = random.choice(tree.outputs + tree.internals)\n",
    "            child = random.choice(tree.inputs + tree.internals)\n",
    "            valid_child = not _is_ancestor(child, parent)\n",
    "        child.parents.append(parent)\n",
    "        parent.children.append(child)\n",
    "        tree.n_connections += 1\n",
    "        \n",
    "    def _add_node():\n",
    "        parent = random.choice(tree.outputs + tree.internals)\n",
    "        children = random.sample(parent.children, random.randint(1, len(parent.children)))\n",
    "        [parent.children.remove(child) for child in children]\n",
    "\n",
    "        node = PrimitiveNode(random.choice(function_names))\n",
    "        parent.children.append(node)\n",
    "        node.parents.append(parent)\n",
    "        node.children.extend(children)\n",
    "        for child in children:\n",
    "            child.parents.append(node)\n",
    "        tree.internals.append(node)\n",
    "        tree.n_connections += 1\n",
    "\n",
    "    def _remove_node():\n",
    "        if not tree.internals:\n",
    "            return\n",
    "        node = random.choice(tree.internals)\n",
    "        for parent in node.parents:\n",
    "            parent.children.extend(node.children)\n",
    "        for child in node.children:\n",
    "            child.parents.extend(node.parents)\n",
    "        tree.internals.remove(node)\n",
    "        connection_change = len(node.children) * (len(node.parents)-1) - len(node.parents)\n",
    "        tree.n_connections += connection_change\n",
    "\n",
    "    def _change_operator():\n",
    "        if not tree.internals:\n",
    "            return\n",
    "        node = random.choice(tree.internals)\n",
    "        node.name = random.choice(function_names)\n",
    "        \n",
    "    if random.random() < P_ADD_CONNECTION:\n",
    "        _add_connection()\n",
    "    if random.random() < P_REMOVE_CONNECTION:\n",
    "        _remove_connection()\n",
    "    if random.random() < P_ADD_NODE:\n",
    "        _add_node()\n",
    "    if random.random() < P_REMOVE_NODE:\n",
    "        _remove_node()\n",
    "    if random.random() < P_CHANGE_OPERATOR:\n",
    "        _change_operator()\n",
    "        \n",
    "    return tree,"
   ]
  },
  {
   "cell_type": "code",
   "execution_count": 19,
   "metadata": {},
   "outputs": [],
   "source": [
    "# Add the mutation (\"mutate\") function to the toolbox\n",
    "toolbox.register(\"mutate\", mutate)"
   ]
  },
  {
   "cell_type": "markdown",
   "metadata": {},
   "source": [
    "##### Height boundary"
   ]
  },
  {
   "cell_type": "code",
   "execution_count": 20,
   "metadata": {},
   "outputs": [],
   "source": [
    "# Define upper limits for height of trees (if limit is exceeded, a random parent is used instead)\n",
    "if CONNECTIONS_CAPPED:\n",
    "    toolbox.decorate(\"mutate\", gp.staticLimit(key=lambda ind: ind.n_connections, max_value=MAX_CONNECTIONS))"
   ]
  },
  {
   "cell_type": "markdown",
   "metadata": {},
   "source": [
    "## Defining statistics"
   ]
  },
  {
   "cell_type": "code",
   "execution_count": 21,
   "metadata": {},
   "outputs": [],
   "source": [
    "# Describe which kinds of statistics to keep track of\n",
    "stats_fit = tools.Statistics(key = lambda ind: ind.fitness.values)\n",
    "stats_connections = tools.Statistics(key = lambda ind: ind.n_connections)\n",
    "mstats = tools.MultiStatistics(fitness=stats_fit, connections=stats_connections)"
   ]
  },
  {
   "cell_type": "code",
   "execution_count": 22,
   "metadata": {},
   "outputs": [],
   "source": [
    "# Describe metrics to keep track of for each statistic\n",
    "mstats.register(\"avg\", np.mean)\n",
    "mstats.register(\"std\", np.std)\n",
    "mstats.register(\"min\", np.min)\n",
    "mstats.register(\"max\", np.max)"
   ]
  },
  {
   "cell_type": "markdown",
   "metadata": {},
   "source": [
    "## Running the genetic programming algorithm"
   ]
  },
  {
   "cell_type": "code",
   "execution_count": 23,
   "metadata": {},
   "outputs": [
    {
     "name": "stdout",
     "output_type": "stream",
     "text": [
      "   \t      \t                connections                \t                     fitness                     \n",
      "   \t      \t-------------------------------------------\t-------------------------------------------------\n",
      "gen\tnevals\tavg\tgen\tmax\tmin\tnevals\tstd\tavg   \tgen\tmax \tmin  \tnevals\tstd      \n",
      "0  \t100   \t100\t0  \t100\t100\t100   \t0  \t0.1081\t0  \t0.21\t0.035\t100   \t0.0382281\n",
      "1  \t100   \t100.32\t1  \t102\t99 \t100   \t0.773046\t0.15415\t1  \t0.26\t0.075\t100   \t0.0382299\n",
      "2  \t100   \t100.16\t2  \t103\t98 \t100   \t0.976934\t0.1817 \t2  \t0.24\t0.09 \t100   \t0.0309129\n",
      "3  \t100   \t100.14\t3  \t102\t98 \t100   \t0.905759\t0.1899 \t3  \t0.285\t0.1  \t100   \t0.0350141\n",
      "4  \t100   \t100.48\t4  \t103\t98 \t100   \t1.15308 \t0.20785\t4  \t0.28 \t0.135\t100   \t0.0296838\n",
      "5  \t100   \t100.64\t5  \t104\t98 \t100   \t1.42492 \t0.2053 \t5  \t0.27 \t0.115\t100   \t0.0253162\n",
      "6  \t100   \t101.82\t6  \t174\t97 \t100   \t7.42884 \t0.20965\t6  \t0.295\t0.16 \t100   \t0.0259254\n",
      "7  \t100   \t101.05\t7  \t105\t99 \t100   \t1.26787 \t0.204  \t7  \t0.285\t0.155\t100   \t0.0256125\n",
      "8  \t100   \t101.54\t8  \t105\t99 \t100   \t1.29938 \t0.21295\t8  \t0.295\t0.145\t100   \t0.0302084\n",
      "9  \t100   \t101.64\t9  \t105\t98 \t100   \t1.33806 \t0.21025\t9  \t0.275\t0.125\t100   \t0.0298862\n",
      "10 \t100   \t101.74\t10 \t105\t97 \t100   \t1.54026 \t0.2158 \t10 \t0.285\t0.125\t100   \t0.029383 \n",
      "11 \t100   \t102.39\t11 \t106\t98 \t100   \t1.78267 \t0.22525\t11 \t0.315\t0.125\t100   \t0.0345715\n",
      "12 \t100   \t102.11\t12 \t107\t8  \t100   \t9.6051  \t0.234  \t12 \t0.315\t0.13 \t100   \t0.0372961\n",
      "13 \t100   \t99.23 \t13 \t108\t4  \t100   \t18.9615 \t0.23195\t13 \t0.32 \t0.155\t100   \t0.0314555\n",
      "14 \t100   \t100.48\t14 \t107\t8  \t100   \t16.2207 \t0.2332 \t14 \t0.31 \t0.135\t100   \t0.0348606\n",
      "15 \t100   \t100.79\t15 \t108\t8  \t100   \t13.4233 \t0.2268 \t15 \t0.31 \t0.12 \t100   \t0.0385909\n",
      "16 \t100   \t100.05\t16 \t108\t7  \t100   \t16.268  \t0.23505\t16 \t0.305\t0.105\t100   \t0.0353942\n",
      "17 \t100   \t102.65\t17 \t109\t98 \t100   \t1.94615 \t0.23245\t17 \t0.3  \t0.11 \t100   \t0.0334103\n",
      "18 \t100   \t103.54\t18 \t201\t99 \t100   \t9.95532 \t0.2319 \t18 \t0.315\t0.105\t100   \t0.0341012\n",
      "19 \t100   \t103.18\t19 \t109\t99 \t100   \t2.47944 \t0.2363 \t19 \t0.31 \t0.1  \t100   \t0.0372802\n",
      "20 \t100   \t104.2 \t20 \t206\t99 \t100   \t10.4728 \t0.23435\t20 \t0.34 \t0.13 \t100   \t0.0358515\n",
      "21 \t100   \t104.58\t21 \t202\t98 \t100   \t10.0898 \t0.2407 \t21 \t0.31 \t0.145\t100   \t0.0310807\n",
      "22 \t100   \t109.51\t22 \t300\t100\t100   \t29.1501 \t0.23335\t22 \t0.295\t0.125\t100   \t0.0336902\n",
      "23 \t100   \t106.36\t23 \t300\t99 \t100   \t19.6191 \t0.24105\t23 \t0.305\t0.155\t100   \t0.0289853\n",
      "24 \t100   \t110.62\t24 \t300\t100\t100   \t28.2269 \t0.23965\t24 \t0.33 \t0.145\t100   \t0.034134 \n",
      "25 \t100   \t106.15\t25 \t112\t100\t100   \t2.99124 \t0.2444 \t25 \t0.315\t0.13 \t100   \t0.0308487\n",
      "26 \t100   \t105.86\t26 \t112\t101\t100   \t2.68336 \t0.22965\t26 \t0.315\t0.1  \t100   \t0.0396248\n",
      "27 \t100   \t111.65\t27 \t296\t101\t100   \t24.8312 \t0.2432 \t27 \t0.31 \t0.145\t100   \t0.0317295\n",
      "28 \t100   \t107.42\t28 \t115\t100\t100   \t3.57821 \t0.23975\t28 \t0.305\t0.13 \t100   \t0.0334767\n",
      "29 \t100   \t117.07\t29 \t300\t101\t100   \t41.1308 \t0.23245\t29 \t0.31 \t0.105\t100   \t0.0385778\n",
      "30 \t100   \t123.63\t30 \t300\t101\t100   \t51.695  \t0.23815\t30 \t0.325\t0.105\t100   \t0.0423418\n",
      "31 \t100   \t112.65\t31 \t300\t103\t100   \t26.9831 \t0.24335\t31 \t0.315\t0.15 \t100   \t0.0345475\n",
      "32 \t100   \t115.43\t32 \t300\t104\t100   \t37.2412 \t0.2391 \t32 \t0.32 \t0.115\t100   \t0.0375259\n",
      "33 \t100   \t109.95\t33 \t298\t103\t100   \t19.146  \t0.24795\t33 \t0.325\t0.145\t100   \t0.0351077\n",
      "34 \t100   \t114.68\t34 \t300\t105\t100   \t32.7108 \t0.2478 \t34 \t0.34 \t0.145\t100   \t0.0354917\n",
      "35 \t100   \t110.55\t35 \t300\t105\t100   \t19.26   \t0.2528 \t35 \t0.335\t0.13 \t100   \t0.035301 \n",
      "36 \t100   \t116.48\t36 \t299\t104\t100   \t36.9314 \t0.25575\t36 \t0.315\t0.14 \t100   \t0.036506 \n",
      "37 \t100   \t118.73\t37 \t300\t104\t100   \t41.5475 \t0.2469 \t37 \t0.32 \t0.115\t100   \t0.0400236\n",
      "38 \t100   \t112.13\t38 \t135\t103\t100   \t9.11664 \t0.2571 \t38 \t0.32 \t0.135\t100   \t0.0316084\n",
      "39 \t100   \t116.28\t39 \t300\t104\t100   \t29.0971 \t0.25395\t39 \t0.325\t0.14 \t100   \t0.0371705\n",
      "40 \t100   \t117.54\t40 \t299\t105\t100   \t30.1083 \t0.2555 \t40 \t0.35 \t0.135\t100   \t0.0391056\n",
      "41 \t100   \t119   \t41 \t300\t105\t100   \t41.6209 \t0.26215\t41 \t0.335\t0.16 \t100   \t0.0371029\n",
      "42 \t100   \t122.93\t42 \t300\t104\t100   \t48.3719 \t0.25885\t42 \t0.35 \t0.11 \t100   \t0.0406562\n",
      "43 \t100   \t111.91\t43 \t135\t104\t100   \t8.54646 \t0.27305\t43 \t0.35 \t0.165\t100   \t0.0310717\n",
      "44 \t100   \t124.96\t44 \t299\t104\t100   \t47.9162 \t0.2665 \t44 \t0.35 \t0.12 \t100   \t0.04567  \n",
      "45 \t100   \t118.31\t45 \t299\t104\t100   \t37.5235 \t0.263  \t45 \t0.345\t0.125\t100   \t0.0406571\n",
      "46 \t100   \t114.86\t46 \t297\t105\t100   \t20.4597 \t0.26945\t46 \t0.355\t0.15 \t100   \t0.0316457\n",
      "47 \t100   \t121.34\t47 \t300\t104\t100   \t41.5637 \t0.25855\t47 \t0.37 \t0.15 \t100   \t0.0367375\n",
      "48 \t100   \t116.8 \t48 \t300\t105\t100   \t32.973  \t0.2657 \t48 \t0.32 \t0.16 \t100   \t0.0330456\n",
      "49 \t100   \t116.69\t49 \t300\t104\t100   \t37.4384 \t0.26325\t49 \t0.35 \t0.11 \t100   \t0.0391432\n",
      "50 \t100   \t114.25\t50 \t298\t105\t100   \t20.3024 \t0.2698 \t50 \t0.36 \t0.185\t100   \t0.0320696\n",
      "51 \t100   \t114.88\t51 \t300\t99 \t100   \t32.851  \t0.27555\t51 \t0.365\t0.145\t100   \t0.0356924\n",
      "52 \t100   \t111.07\t52 \t296\t102\t100   \t19.6037 \t0.2885 \t52 \t0.345\t0.195\t100   \t0.02933  \n",
      "53 \t100   \t112.71\t53 \t299\t101\t100   \t20.0111 \t0.27955\t53 \t0.38 \t0.18 \t100   \t0.034879 \n",
      "54 \t100   \t114.89\t54 \t300\t99 \t100   \t32.8    \t0.2737 \t54 \t0.345\t0.125\t100   \t0.0403833\n",
      "55 \t100   \t113.96\t55 \t295\t102\t100   \t26.8797 \t0.2789 \t55 \t0.355\t0.135\t100   \t0.0371051\n",
      "56 \t100   \t114.99\t56 \t300\t102\t100   \t32.6529 \t0.2724 \t56 \t0.36 \t0.145\t100   \t0.0411611\n",
      "57 \t100   \t115.29\t57 \t295\t101\t100   \t26.901  \t0.28115\t57 \t0.365\t0.155\t100   \t0.0390055\n",
      "58 \t100   \t114.89\t58 \t300\t102\t100   \t27.1724 \t0.2884 \t58 \t0.355\t0.135\t100   \t0.0374091\n",
      "59 \t100   \t114.51\t59 \t300\t105\t100   \t21.1123 \t0.2959 \t59 \t0.37 \t0.13 \t100   \t0.0356678\n",
      "60 \t100   \t117.52\t60 \t300\t106\t100   \t22.6841 \t0.29685\t60 \t0.365\t0.17 \t100   \t0.0334489\n",
      "61 \t100   \t116.19\t61 \t178\t105\t100   \t14.5022 \t0.29845\t61 \t0.39 \t0.23 \t100   \t0.02978  \n",
      "62 \t100   \t118.32\t62 \t298\t105\t100   \t22.7934 \t0.29255\t62 \t0.385\t0.185\t100   \t0.0333279\n",
      "63 \t100   \t114.96\t63 \t173\t105\t100   \t11.5325 \t0.3031 \t63 \t0.37 \t0.22 \t100   \t0.0297135\n",
      "64 \t100   \t118.21\t64 \t173\t101\t100   \t11.0655 \t0.2939 \t64 \t0.4  \t0.175\t100   \t0.0378918\n",
      "65 \t100   \t120.4 \t65 \t172\t108\t100   \t11.5827 \t0.29535\t65 \t0.365\t0.15 \t100   \t0.039219 \n",
      "66 \t100   \t118.12\t66 \t161\t109\t100   \t9.60342 \t0.2974 \t66 \t0.365\t0.22 \t100   \t0.0315474\n",
      "67 \t100   \t115.04\t67 \t163\t99 \t100   \t9.8883  \t0.3088 \t67 \t0.39 \t0.175\t100   \t0.035701 \n",
      "68 \t100   \t116.3 \t68 \t155\t110\t100   \t10.6532 \t0.312  \t68 \t0.42 \t0.15 \t100   \t0.0368103\n",
      "69 \t100   \t118.09\t69 \t174\t109\t100   \t14.2913 \t0.30505\t69 \t0.375\t0.175\t100   \t0.0353235\n",
      "70 \t100   \t115.42\t70 \t157\t108\t100   \t9.66869 \t0.3154 \t70 \t0.395\t0.21 \t100   \t0.0341664\n",
      "71 \t100   \t115.03\t71 \t163\t108\t100   \t9.65449 \t0.3129 \t71 \t0.42 \t0.215\t100   \t0.034851 \n",
      "72 \t100   \t113.93\t72 \t153\t107\t100   \t7.31198 \t0.3136 \t72 \t0.39 \t0.21 \t100   \t0.0337867\n",
      "73 \t100   \t119.77\t73 \t300\t106\t100   \t24.6003 \t0.3071 \t73 \t0.37 \t0.155\t100   \t0.0378298\n",
      "74 \t100   \t114.92\t74 \t221\t106\t100   \t13.9776 \t0.30705\t74 \t0.41 \t0.165\t100   \t0.0398189\n",
      "75 \t100   \t113.43\t75 \t196\t106\t100   \t9.60235 \t0.3157 \t75 \t0.43 \t0.235\t100   \t0.0351356\n",
      "76 \t100   \t114.02\t76 \t198\t107\t100   \t10.4067 \t0.3162 \t76 \t0.41 \t0.2  \t100   \t0.0332424\n",
      "77 \t100   \t114.28\t77 \t155\t107\t100   \t9.36918 \t0.312  \t77 \t0.4  \t0.185\t100   \t0.0376364\n",
      "78 \t100   \t116   \t78 \t159\t108\t100   \t13.763  \t0.3176 \t78 \t0.385\t0.235\t100   \t0.0316187\n",
      "79 \t100   \t118.64\t79 \t175\t107\t100   \t14.734  \t0.31995\t79 \t0.385\t0.2  \t100   \t0.0321208\n",
      "80 \t100   \t112.87\t80 \t153\t107\t100   \t7.33438 \t0.31855\t80 \t0.4  \t0.21 \t100   \t0.0323287\n",
      "81 \t100   \t115.26\t81 \t155\t107\t100   \t9.59022 \t0.3177 \t81 \t0.4  \t0.205\t100   \t0.0334022\n",
      "82 \t100   \t116.6 \t82 \t207\t107\t100   \t15.2263 \t0.3151 \t82 \t0.4  \t0.22 \t100   \t0.0324575\n",
      "83 \t100   \t113.67\t83 \t155\t106\t100   \t7.58427 \t0.31635\t83 \t0.405\t0.19 \t100   \t0.032961 \n",
      "84 \t100   \t114.88\t84 \t156\t106\t100   \t9.80437 \t0.32025\t84 \t0.39 \t0.195\t100   \t0.0355624\n",
      "85 \t100   \t113.11\t85 \t157\t107\t100   \t7.35377 \t0.31715\t85 \t0.385\t0.2  \t100   \t0.0348515\n",
      "86 \t100   \t114.42\t86 \t158\t107\t100   \t9.69967 \t0.3169 \t86 \t0.37 \t0.175\t100   \t0.0329604\n",
      "87 \t100   \t119.69\t87 \t193\t107\t100   \t16.5697 \t0.31745\t87 \t0.39 \t0.22 \t100   \t0.0315951\n",
      "88 \t100   \t118.56\t88 \t176\t108\t100   \t13.3299 \t0.31925\t88 \t0.4  \t0.22 \t100   \t0.0373589\n",
      "89 \t100   \t119.82\t89 \t175\t108\t100   \t13.1715 \t0.3223 \t89 \t0.395\t0.255\t100   \t0.0285606\n",
      "90 \t100   \t117.69\t90 \t194\t109\t100   \t12.9195 \t0.3187 \t90 \t0.385\t0.155\t100   \t0.0343993\n",
      "91 \t100   \t118.16\t91 \t168\t110\t100   \t12.1398 \t0.3254 \t91 \t0.385\t0.25 \t100   \t0.0253247\n"
     ]
    },
    {
     "name": "stdout",
     "output_type": "stream",
     "text": [
      "92 \t100   \t117.97\t92 \t167\t109\t100   \t12.8386 \t0.3193 \t92 \t0.4  \t0.23 \t100   \t0.0333768\n",
      "93 \t100   \t118.85\t93 \t190\t110\t100   \t13.5029 \t0.3286 \t93 \t0.41 \t0.24 \t100   \t0.0305866\n",
      "94 \t100   \t117.1 \t94 \t190\t111\t100   \t10.7308 \t0.3252 \t94 \t0.405\t0.195\t100   \t0.0324262\n",
      "95 \t100   \t116.97\t95 \t190\t110\t100   \t10.8917 \t0.32525\t95 \t0.395\t0.235\t100   \t0.0299865\n",
      "96 \t100   \t115.37\t96 \t160\t110\t100   \t7.91158 \t0.334  \t96 \t0.41 \t0.24 \t100   \t0.0309597\n",
      "97 \t100   \t118.39\t97 \t158\t110\t100   \t10.2547 \t0.3219 \t97 \t0.4  \t0.21 \t100   \t0.0335766\n",
      "98 \t100   \t120.15\t98 \t267\t111\t100   \t18.7133 \t0.32605\t98 \t0.41 \t0.25 \t100   \t0.0333863\n",
      "99 \t100   \t121.41\t99 \t267\t111\t100   \t20.5578 \t0.3225 \t99 \t0.415\t0.19 \t100   \t0.0352952\n",
      "100\t100   \t126.35\t100\t269\t110\t100   \t30.7657 \t0.3244 \t100\t0.385\t0.22 \t100   \t0.0321969\n",
      "101\t100   \t124.67\t101\t162\t110\t100   \t15.5474 \t0.3253 \t101\t0.42 \t0.23 \t100   \t0.0325639\n",
      "102\t100   \t132.87\t102\t270\t110\t100   \t23.4276 \t0.33295\t102\t0.425\t0.25 \t100   \t0.0331443\n",
      "103\t100   \t129.71\t103\t172\t110\t100   \t16.0949 \t0.3383 \t103\t0.425\t0.265\t100   \t0.0317271\n",
      "104\t100   \t130.44\t104\t279\t109\t100   \t22.475  \t0.3343 \t104\t0.41 \t0.26 \t100   \t0.0298247\n",
      "105\t100   \t130.08\t105\t173\t110\t100   \t14.9891 \t0.33405\t105\t0.41 \t0.27 \t100   \t0.0310217\n",
      "106\t100   \t136.32\t106\t175\t112\t100   \t15.7295 \t0.33535\t106\t0.425\t0.265\t100   \t0.0332359\n",
      "107\t100   \t137.15\t107\t271\t116\t100   \t21.841  \t0.3343 \t107\t0.415\t0.215\t100   \t0.0356512\n",
      "108\t100   \t138.46\t108\t190\t117\t100   \t17.3772 \t0.33315\t108\t0.415\t0.195\t100   \t0.0348687\n",
      "109\t100   \t135.15\t109\t197\t116\t100   \t19.0847 \t0.3375 \t109\t0.43 \t0.27 \t100   \t0.0321831\n",
      "110\t100   \t133.42\t110\t193\t117\t100   \t15.2749 \t0.33265\t110\t0.415\t0.235\t100   \t0.0344924\n",
      "111\t100   \t131.49\t111\t181\t118\t100   \t15.1423 \t0.33215\t111\t0.42 \t0.24 \t100   \t0.0362233\n",
      "112\t100   \t132.35\t112\t172\t118\t100   \t16.6183 \t0.34835\t112\t0.42 \t0.25 \t100   \t0.0341325\n",
      "113\t100   \t130.39\t113\t295\t95 \t100   \t23.0208 \t0.33885\t113\t0.4  \t0.24 \t100   \t0.0303221\n",
      "114\t100   \t125.66\t114\t208\t95 \t100   \t13.581  \t0.3393 \t114\t0.435\t0.245\t100   \t0.0322802\n",
      "115\t100   \t125.28\t115\t227\t94 \t100   \t13.5912 \t0.3446 \t115\t0.42 \t0.165\t100   \t0.0347324\n",
      "116\t100   \t125.06\t116\t179\t96 \t100   \t11.9782 \t0.3439 \t116\t0.405\t0.235\t100   \t0.0321137\n",
      "117\t100   \t128.54\t117\t164\t98 \t100   \t10.7512 \t0.3449 \t117\t0.425\t0.21 \t100   \t0.0344745\n",
      "118\t100   \t131.41\t118\t163\t119\t100   \t12.7884 \t0.3425 \t118\t0.41 \t0.23 \t100   \t0.0324461\n",
      "119\t100   \t127.94\t119\t179\t119\t100   \t11.3612 \t0.3418 \t119\t0.4  \t0.25 \t100   \t0.0301954\n",
      "120\t100   \t127.88\t120\t209\t119\t100   \t12.0791 \t0.35345\t120\t0.46 \t0.28 \t100   \t0.028937 \n",
      "121\t100   \t127.04\t121\t181\t95 \t100   \t10.6948 \t0.34295\t121\t0.43 \t0.175\t100   \t0.0361462\n",
      "122\t100   \t124.14\t122\t161\t119\t100   \t5.46447 \t0.34415\t122\t0.43 \t0.21 \t100   \t0.0347567\n",
      "123\t100   \t125.94\t123\t212\t118\t100   \t14.9444 \t0.3476 \t123\t0.425\t0.24 \t100   \t0.0339078\n",
      "124\t100   \t125.86\t124\t206\t118\t100   \t10.7889 \t0.34505\t124\t0.43 \t0.255\t100   \t0.0340697\n",
      "125\t100   \t125.63\t125\t211\t120\t100   \t12.6749 \t0.34935\t125\t0.44 \t0.24 \t100   \t0.0361915\n",
      "126\t100   \t125.2 \t126\t156\t120\t100   \t6.03821 \t0.35495\t126\t0.435\t0.255\t100   \t0.0324923\n",
      "127\t100   \t126.31\t127\t209\t121\t100   \t10.2056 \t0.3554 \t127\t0.445\t0.27 \t100   \t0.0337985\n",
      "128\t100   \t125.64\t128\t143\t121\t100   \t4.47106 \t0.3514 \t128\t0.41 \t0.25 \t100   \t0.0280899\n",
      "129\t100   \t127.21\t129\t209\t120\t100   \t12.0642 \t0.3473 \t129\t0.415\t0.28 \t100   \t0.0305157\n",
      "130\t100   \t131.55\t130\t214\t118\t100   \t16.0607 \t0.3515 \t130\t0.425\t0.155\t100   \t0.0370776\n",
      "131\t100   \t130.35\t131\t206\t119\t100   \t14.3627 \t0.3496 \t131\t0.4  \t0.29 \t100   \t0.0265582\n",
      "132\t100   \t130.55\t132\t248\t118\t100   \t19.1266 \t0.35825\t132\t0.425\t0.24 \t100   \t0.0313718\n",
      "133\t100   \t132.37\t133\t218\t119\t100   \t19.9528 \t0.34785\t133\t0.41 \t0.25 \t100   \t0.0290367\n",
      "134\t100   \t124.86\t134\t217\t118\t100   \t11.4709 \t0.3449 \t134\t0.425\t0.25 \t100   \t0.0293852\n",
      "135\t100   \t125.43\t135\t212\t116\t100   \t16.5404 \t0.35105\t135\t0.41 \t0.215\t100   \t0.0348661\n",
      "136\t100   \t123.89\t136\t203\t116\t100   \t13.6212 \t0.35145\t136\t0.455\t0.275\t100   \t0.0365191\n",
      "137\t100   \t125.15\t137\t209\t117\t100   \t15.6489 \t0.35525\t137\t0.425\t0.235\t100   \t0.034332 \n",
      "138\t100   \t124.78\t138\t210\t117\t100   \t16.8027 \t0.3565 \t138\t0.435\t0.28 \t100   \t0.0308909\n",
      "139\t100   \t123.24\t139\t207\t117\t100   \t12.7805 \t0.35695\t139\t0.425\t0.195\t100   \t0.0383008\n",
      "140\t100   \t123.99\t140\t205\t117\t100   \t13.9567 \t0.35525\t140\t0.44 \t0.24 \t100   \t0.0337815\n",
      "141\t100   \t124.59\t141\t196\t117\t100   \t13.6492 \t0.35165\t141\t0.43 \t0.23 \t100   \t0.0287668\n",
      "142\t100   \t122.76\t142\t205\t117\t100   \t9.49223 \t0.35265\t142\t0.425\t0.28 \t100   \t0.0312926\n",
      "143\t100   \t126.71\t143\t206\t117\t100   \t18.7714 \t0.3537 \t143\t0.42 \t0.19 \t100   \t0.0342974\n",
      "144\t100   \t122.91\t144\t204\t116\t100   \t9.957   \t0.358  \t144\t0.42 \t0.265\t100   \t0.0311288\n",
      "145\t100   \t122.12\t145\t139\t116\t100   \t5.85197 \t0.35435\t145\t0.415\t0.245\t100   \t0.0304028\n",
      "146\t100   \t124.04\t146\t204\t117\t100   \t11.3048 \t0.3506 \t146\t0.46 \t0.265\t100   \t0.0321114\n",
      "147\t100   \t122.84\t147\t207\t117\t100   \t9.99772 \t0.35275\t147\t0.44 \t0.24 \t100   \t0.0319404\n",
      "148\t100   \t123.06\t148\t204\t116\t100   \t10.0954 \t0.35415\t148\t0.43 \t0.255\t100   \t0.0328638\n",
      "149\t100   \t121.84\t149\t144\t116\t100   \t3.57413 \t0.35385\t149\t0.445\t0.205\t100   \t0.0384958\n",
      "150\t100   \t125.59\t150\t206\t117\t100   \t11.7056 \t0.3582 \t150\t0.445\t0.29 \t100   \t0.0276   \n",
      "151\t100   \t126.07\t151\t206\t116\t100   \t11.6613 \t0.3522 \t151\t0.425\t0.265\t100   \t0.0350736\n",
      "152\t100   \t123.55\t152\t178\t116\t100   \t8.43015 \t0.3602 \t152\t0.46 \t0.245\t100   \t0.0328627\n",
      "153\t100   \t124.01\t153\t205\t115\t100   \t12.5861 \t0.3608 \t153\t0.43 \t0.285\t100   \t0.0296456\n",
      "154\t100   \t123.57\t154\t208\t114\t100   \t9.77983 \t0.3604 \t154\t0.435\t0.27 \t100   \t0.0306894\n",
      "155\t100   \t126.2 \t155\t210\t115\t100   \t17.3689 \t0.3551 \t155\t0.415\t0.22 \t100   \t0.0334214\n",
      "156\t100   \t125.56\t156\t210\t113\t100   \t15.2291 \t0.3544 \t156\t0.44 \t0.2  \t100   \t0.0383098\n",
      "157\t100   \t124.38\t157\t205\t113\t100   \t9.84457 \t0.3506 \t157\t0.435\t0.195\t100   \t0.0394606\n",
      "158\t100   \t129.71\t158\t206\t116\t100   \t21.8556 \t0.35495\t158\t0.42 \t0.245\t100   \t0.0328367\n",
      "159\t100   \t127.39\t159\t214\t116\t100   \t17.5738 \t0.35465\t159\t0.425\t0.25 \t100   \t0.0309375\n",
      "160\t100   \t125.78\t160\t224\t115\t100   \t12.8558 \t0.35515\t160\t0.435\t0.22 \t100   \t0.0392776\n",
      "161\t100   \t125.33\t161\t215\t116\t100   \t12.474  \t0.35515\t161\t0.435\t0.22 \t100   \t0.0388101\n",
      "162\t100   \t125.73\t162\t215\t115\t100   \t13.4446 \t0.3576 \t162\t0.435\t0.185\t100   \t0.0382458\n",
      "163\t100   \t124.22\t163\t205\t114\t100   \t11.2566 \t0.3606 \t163\t0.45 \t0.265\t100   \t0.0348517\n",
      "164\t100   \t123.22\t164\t204\t113\t100   \t10.7197 \t0.35705\t164\t0.425\t0.26 \t100   \t0.0313934\n",
      "165\t100   \t122.65\t165\t187\t113\t100   \t8.47865 \t0.36155\t165\t0.44 \t0.205\t100   \t0.033179 \n",
      "166\t100   \t125.68\t166\t205\t115\t100   \t17.7926 \t0.35695\t166\t0.43 \t0.2  \t100   \t0.0347411\n",
      "167\t100   \t121.51\t167\t147\t115\t100   \t6.60075 \t0.36335\t167\t0.43 \t0.27 \t100   \t0.0294538\n",
      "168\t100   \t124.84\t168\t242\t115\t100   \t18.6251 \t0.36265\t168\t0.45 \t0.255\t100   \t0.0323609\n",
      "169\t100   \t122.05\t169\t166\t115\t100   \t8.17236 \t0.3538 \t169\t0.45 \t0.22 \t100   \t0.0342573\n",
      "170\t100   \t121.58\t170\t243\t114\t100   \t13.3613 \t0.3566 \t170\t0.425\t0.21 \t100   \t0.0402671\n",
      "171\t100   \t126.22\t171\t209\t113\t100   \t18.084  \t0.3593 \t171\t0.45 \t0.235\t100   \t0.0352776\n",
      "172\t100   \t125   \t172\t185\t116\t100   \t11.1032 \t0.358  \t172\t0.44 \t0.22 \t100   \t0.0352491\n",
      "173\t100   \t126.95\t173\t184\t116\t100   \t12.1699 \t0.35895\t173\t0.44 \t0.21 \t100   \t0.0379427\n",
      "174\t100   \t127.92\t174\t212\t117\t100   \t17.5936 \t0.36255\t174\t0.435\t0.3  \t100   \t0.0318315\n",
      "175\t100   \t126.69\t175\t246\t116\t100   \t20.4449 \t0.35505\t175\t0.42 \t0.22 \t100   \t0.0329431\n",
      "176\t100   \t126.64\t176\t259\t116\t100   \t17.8933 \t0.35845\t176\t0.41 \t0.26 \t100   \t0.0290749\n",
      "177\t100   \t127.3 \t177\t283\t117\t100   \t23.6197 \t0.35875\t177\t0.43 \t0.275\t100   \t0.0326678\n",
      "178\t100   \t124.06\t178\t210\t116\t100   \t14.0448 \t0.36035\t178\t0.43 \t0.22 \t100   \t0.0370895\n",
      "179\t100   \t125.64\t179\t206\t117\t100   \t16.6442 \t0.352  \t179\t0.435\t0.28 \t100   \t0.0296564\n",
      "180\t100   \t131.54\t180\t218\t117\t100   \t23.3008 \t0.36015\t180\t0.43 \t0.205\t100   \t0.0358082\n",
      "181\t100   \t126.35\t181\t152\t116\t100   \t10.2239 \t0.3543 \t181\t0.43 \t0.24 \t100   \t0.0331211\n",
      "182\t100   \t130.52\t182\t213\t117\t100   \t15.4107 \t0.35885\t182\t0.425\t0.25 \t100   \t0.0310552\n",
      "183\t100   \t133.24\t183\t204\t116\t100   \t16.4427 \t0.35925\t183\t0.42 \t0.255\t100   \t0.0327519\n",
      "184\t100   \t131.65\t184\t207\t115\t100   \t18.1925 \t0.3572 \t184\t0.43 \t0.285\t100   \t0.0329948\n",
      "185\t100   \t130.52\t185\t206\t116\t100   \t15.6426 \t0.36005\t185\t0.42 \t0.275\t100   \t0.0283063\n",
      "186\t100   \t128.92\t186\t165\t115\t100   \t13.6511 \t0.36175\t186\t0.44 \t0.24 \t100   \t0.0369755\n"
     ]
    },
    {
     "name": "stdout",
     "output_type": "stream",
     "text": [
      "187\t100   \t130.93\t187\t208\t116\t100   \t15.6431 \t0.36065\t187\t0.43 \t0.265\t100   \t0.031366 \n",
      "188\t100   \t128.31\t188\t203\t115\t100   \t14.791  \t0.361  \t188\t0.44 \t0.17 \t100   \t0.0376895\n",
      "189\t100   \t131.73\t189\t292\t115\t100   \t27.3492 \t0.36105\t189\t0.455\t0.26 \t100   \t0.0340463\n",
      "190\t100   \t135.62\t190\t293\t114\t100   \t32.4795 \t0.35465\t190\t0.42 \t0.21 \t100   \t0.0393717\n",
      "191\t100   \t133.22\t191\t199\t113\t100   \t17.2288 \t0.3621 \t191\t0.435\t0.225\t100   \t0.0382896\n",
      "192\t100   \t131.28\t192\t293\t113\t100   \t22.3755 \t0.3608 \t192\t0.435\t0.25 \t100   \t0.0300892\n",
      "193\t100   \t127.34\t193\t206\t112\t100   \t15.1659 \t0.35625\t193\t0.435\t0.24 \t100   \t0.0335289\n",
      "194\t100   \t132.7 \t194\t226\t112\t100   \t17.8048 \t0.35815\t194\t0.42 \t0.29 \t100   \t0.0308841\n",
      "195\t100   \t139.96\t195\t293\t112\t100   \t29.1667 \t0.35375\t195\t0.465\t0.25 \t100   \t0.0376123\n",
      "196\t100   \t135.24\t196\t169\t113\t100   \t14.1881 \t0.35775\t196\t0.425\t0.225\t100   \t0.0347302\n",
      "197\t100   \t136.96\t197\t207\t117\t100   \t16.3719 \t0.35965\t197\t0.46 \t0.275\t100   \t0.0341559\n",
      "198\t100   \t133.22\t198\t176\t117\t100   \t14.6496 \t0.35305\t198\t0.43 \t0.18 \t100   \t0.0407547\n",
      "199\t100   \t131.22\t199\t229\t117\t100   \t20.5015 \t0.356  \t199\t0.435\t0.24 \t100   \t0.0364211\n",
      "200\t100   \t131.88\t200\t261\t117\t100   \t24.2199 \t0.35795\t200\t0.46 \t0.18 \t100   \t0.0360423\n",
      "201\t100   \t133.57\t201\t178\t118\t100   \t17.5928 \t0.35075\t201\t0.445\t0.2  \t100   \t0.041451 \n",
      "202\t100   \t132.2 \t202\t202\t117\t100   \t14.8862 \t0.34915\t202\t0.46 \t0.185\t100   \t0.043761 \n",
      "203\t100   \t134.44\t203\t212\t119\t100   \t16.7489 \t0.35655\t203\t0.44 \t0.19 \t100   \t0.0356279\n",
      "204\t100   \t137.25\t204\t260\t119\t100   \t22.1004 \t0.3554 \t204\t0.42 \t0.25 \t100   \t0.0289627\n",
      "205\t100   \t135.01\t205\t210\t119\t100   \t16.3673 \t0.3544 \t205\t0.445\t0.215\t100   \t0.0339874\n",
      "206\t100   \t134.74\t206\t229\t119\t100   \t18.1282 \t0.35105\t206\t0.41 \t0.215\t100   \t0.0348087\n",
      "207\t100   \t131.68\t207\t176\t120\t100   \t12.3092 \t0.3549 \t207\t0.425\t0.205\t100   \t0.0347562\n",
      "208\t100   \t131.44\t208\t206\t121\t100   \t12.1551 \t0.35565\t208\t0.43 \t0.175\t100   \t0.035935 \n",
      "209\t100   \t137.84\t209\t252\t123\t100   \t21.6877 \t0.35325\t209\t0.44 \t0.24 \t100   \t0.037599 \n",
      "210\t100   \t139.31\t210\t228\t123\t100   \t21.9493 \t0.35795\t210\t0.435\t0.245\t100   \t0.034721 \n",
      "211\t100   \t135.49\t211\t219\t123\t100   \t20.6753 \t0.35385\t211\t0.42 \t0.26 \t100   \t0.0342042\n",
      "212\t100   \t131.24\t212\t210\t122\t100   \t14.9266 \t0.3512 \t212\t0.435\t0.225\t100   \t0.0344174\n",
      "213\t100   \t129.68\t213\t213\t121\t100   \t15.3993 \t0.35505\t213\t0.46 \t0.185\t100   \t0.0401092\n",
      "214\t100   \t127.36\t214\t153\t121\t100   \t5.70179 \t0.352  \t214\t0.41 \t0.205\t100   \t0.0395221\n",
      "215\t100   \t129.7 \t215\t174\t122\t100   \t8.4006  \t0.3564 \t215\t0.425\t0.18 \t100   \t0.0418454\n",
      "216\t100   \t130.72\t216\t154\t122\t100   \t8.83072 \t0.35285\t216\t0.44 \t0.22 \t100   \t0.0341413\n",
      "217\t100   \t134.08\t217\t177\t123\t100   \t12.4183 \t0.35775\t217\t0.44 \t0.195\t100   \t0.0378178\n",
      "218\t100   \t131.6 \t218\t166\t122\t100   \t9.75295 \t0.36355\t218\t0.465\t0.245\t100   \t0.0311392\n",
      "219\t100   \t131.81\t219\t213\t123\t100   \t12.6868 \t0.3567 \t219\t0.445\t0.18 \t100   \t0.0426158\n",
      "220\t100   \t131   \t220\t169\t122\t100   \t9.95892 \t0.3586 \t220\t0.42 \t0.235\t100   \t0.0334745\n",
      "221\t100   \t135.14\t221\t262\t123\t100   \t20.3951 \t0.35495\t221\t0.47 \t0.22 \t100   \t0.0432695\n",
      "222\t100   \t134.62\t222\t216\t124\t100   \t17.0181 \t0.36405\t222\t0.46 \t0.275\t100   \t0.032609 \n",
      "223\t100   \t133.42\t223\t165\t125\t100   \t11.888  \t0.3598 \t223\t0.43 \t0.19 \t100   \t0.0376558\n",
      "224\t100   \t134.98\t224\t166\t126\t100   \t12.702  \t0.36795\t224\t0.435\t0.27 \t100   \t0.0339933\n",
      "225\t100   \t140.2 \t225\t216\t125\t100   \t16.8873 \t0.35485\t225\t0.43 \t0.215\t100   \t0.0374463\n",
      "226\t100   \t140.38\t226\t215\t125\t100   \t18.4373 \t0.36455\t226\t0.43 \t0.28 \t100   \t0.0291556\n",
      "227\t100   \t137.04\t227\t175\t125\t100   \t13.6088 \t0.3602 \t227\t0.45 \t0.19 \t100   \t0.0390315\n",
      "228\t100   \t137.51\t228\t214\t124\t100   \t16.2459 \t0.3586 \t228\t0.455\t0.235\t100   \t0.0315997\n",
      "229\t100   \t137.51\t229\t212\t119\t100   \t16.9071 \t0.36055\t229\t0.46 \t0.21 \t100   \t0.0361932\n",
      "230\t100   \t135.57\t230\t240\t123\t100   \t19.2734 \t0.36355\t230\t0.44 \t0.285\t100   \t0.0297262\n",
      "231\t100   \t134.7 \t231\t237\t123\t100   \t20.1685 \t0.36765\t231\t0.44 \t0.205\t100   \t0.0351316\n",
      "232\t100   \t136.6 \t232\t259\t122\t100   \t21.6924 \t0.36215\t232\t0.435\t0.25 \t100   \t0.032002 \n",
      "233\t100   \t137.55\t233\t236\t122\t100   \t21.3862 \t0.36625\t233\t0.455\t0.28 \t100   \t0.0327061\n",
      "234\t100   \t137.49\t234\t189\t121\t100   \t16.6111 \t0.35725\t234\t0.42 \t0.26 \t100   \t0.0331917\n",
      "235\t100   \t138.97\t235\t261\t121\t100   \t23.7951 \t0.36025\t235\t0.455\t0.175\t100   \t0.0426578\n",
      "236\t100   \t136.56\t236\t173\t120\t100   \t13.5413 \t0.35905\t236\t0.435\t0.195\t100   \t0.0419505\n",
      "237\t100   \t137.22\t237\t256\t119\t100   \t21.6363 \t0.36095\t237\t0.43 \t0.26 \t100   \t0.0322001\n",
      "238\t100   \t139.34\t238\t216\t124\t100   \t19.1459 \t0.36105\t238\t0.455\t0.25 \t100   \t0.0320647\n",
      "239\t100   \t134.03\t239\t185\t125\t100   \t11.7911 \t0.3656 \t239\t0.43 \t0.19 \t100   \t0.0354914\n",
      "240\t100   \t131.97\t240\t171\t125\t100   \t8.33601 \t0.36015\t240\t0.425\t0.17 \t100   \t0.035864 \n",
      "241\t100   \t133.56\t241\t221\t125\t100   \t15.6935 \t0.3683 \t241\t0.445\t0.27 \t100   \t0.0329182\n",
      "242\t100   \t131.72\t242\t216\t125\t100   \t14.9393 \t0.36185\t242\t0.425\t0.195\t100   \t0.0353882\n",
      "243\t100   \t131.13\t243\t220\t124\t100   \t15.4723 \t0.3643 \t243\t0.46 \t0.225\t100   \t0.043093 \n",
      "244\t100   \t130.61\t244\t217\t125\t100   \t12.4313 \t0.36465\t244\t0.49 \t0.185\t100   \t0.0420966\n",
      "245\t100   \t131.8 \t245\t214\t124\t100   \t14.4229 \t0.36625\t245\t0.445\t0.26 \t100   \t0.0322287\n",
      "246\t100   \t131.79\t246\t216\t123\t100   \t16.3721 \t0.3616 \t246\t0.48 \t0.215\t100   \t0.0432544\n",
      "247\t100   \t135.01\t247\t214\t123\t100   \t17.5166 \t0.36   \t247\t0.44 \t0.24 \t100   \t0.03505  \n",
      "248\t100   \t132.24\t248\t214\t123\t100   \t14.0186 \t0.36715\t248\t0.44 \t0.2  \t100   \t0.0370355\n",
      "249\t100   \t137.19\t249\t259\t123\t100   \t21.9024 \t0.36675\t249\t0.435\t0.28 \t100   \t0.028569 \n",
      "250\t100   \t135.03\t250\t213\t122\t100   \t18.4529 \t0.3638 \t250\t0.455\t0.215\t100   \t0.0418755\n",
      "251\t100   \t130.37\t251\t175\t122\t100   \t12.3593 \t0.36515\t251\t0.465\t0.205\t100   \t0.0375197\n",
      "252\t100   \t132.59\t252\t214\t122\t100   \t15.6058 \t0.36535\t252\t0.44 \t0.27 \t100   \t0.0342436\n",
      "253\t100   \t131.73\t253\t181\t122\t100   \t13.1696 \t0.37395\t253\t0.46 \t0.175\t100   \t0.0403998\n",
      "254\t100   \t134.09\t254\t221\t122\t100   \t19.3288 \t0.3654 \t254\t0.44 \t0.185\t100   \t0.0360602\n",
      "255\t100   \t130.69\t255\t209\t121\t100   \t12.9736 \t0.3618 \t255\t0.455\t0.165\t100   \t0.0408443\n",
      "256\t100   \t128.51\t256\t171\t122\t100   \t8.14677 \t0.3668 \t256\t0.46 \t0.29 \t100   \t0.0323846\n",
      "257\t100   \t127.92\t257\t191\t122\t100   \t9.6909  \t0.3605 \t257\t0.435\t0.19 \t100   \t0.0346951\n",
      "258\t100   \t133.68\t258\t217\t122\t100   \t15.1115 \t0.37315\t258\t0.44 \t0.245\t100   \t0.0295013\n",
      "259\t100   \t134.72\t259\t213\t123\t100   \t13.8824 \t0.3654 \t259\t0.45 \t0.265\t100   \t0.0318644\n",
      "260\t100   \t137.46\t260\t223\t124\t100   \t17.6609 \t0.36355\t260\t0.45 \t0.195\t100   \t0.0377908\n",
      "261\t100   \t136.91\t261\t291\t123\t100   \t22.2009 \t0.36565\t261\t0.43 \t0.28 \t100   \t0.0294759\n",
      "262\t100   \t136.36\t262\t220\t123\t100   \t17.7271 \t0.3646 \t262\t0.46 \t0.19 \t100   \t0.0427532\n",
      "263\t100   \t135.34\t263\t231\t123\t100   \t18.6886 \t0.36465\t263\t0.46 \t0.185\t100   \t0.0414382\n",
      "264\t100   \t137.04\t264\t206\t123\t100   \t17.2673 \t0.36505\t264\t0.46 \t0.235\t100   \t0.0357246\n",
      "265\t100   \t142.82\t265\t286\t123\t100   \t26.6234 \t0.3593 \t265\t0.45 \t0.175\t100   \t0.0357003\n",
      "266\t100   \t137.93\t266\t214\t122\t100   \t19.2781 \t0.36285\t266\t0.43 \t0.235\t100   \t0.0363611\n",
      "267\t100   \t138.98\t267\t191\t120\t100   \t17.6363 \t0.35925\t267\t0.425\t0.215\t100   \t0.0352234\n",
      "268\t100   \t137.68\t268\t188\t122\t100   \t17.2185 \t0.36445\t268\t0.435\t0.24 \t100   \t0.0297228\n",
      "269\t100   \t145.39\t269\t192\t122\t100   \t18.5202 \t0.3651 \t269\t0.44 \t0.27 \t100   \t0.0321246\n",
      "270\t100   \t143.23\t270\t203\t123\t100   \t18.6627 \t0.3693 \t270\t0.445\t0.255\t100   \t0.0335412\n",
      "271\t100   \t144.18\t271\t191\t123\t100   \t17.4169 \t0.36405\t271\t0.44 \t0.215\t100   \t0.0377538\n",
      "272\t100   \t151.05\t272\t203\t123\t100   \t22.5563 \t0.3703 \t272\t0.475\t0.18 \t100   \t0.0379   \n",
      "273\t100   \t146.31\t273\t201\t124\t100   \t21.5033 \t0.3759 \t273\t0.455\t0.205\t100   \t0.0409108\n",
      "274\t100   \t145.6 \t274\t220\t124\t100   \t22.5411 \t0.36685\t274\t0.44 \t0.2  \t100   \t0.0404948\n",
      "275\t100   \t136.71\t275\t201\t124\t100   \t16.7924 \t0.36305\t275\t0.425\t0.25 \t100   \t0.0362277\n",
      "276\t100   \t138.37\t276\t209\t123\t100   \t18.6025 \t0.36785\t276\t0.45 \t0.26 \t100   \t0.0288899\n",
      "277\t100   \t136.49\t277\t202\t123\t100   \t16.982  \t0.3685 \t277\t0.485\t0.255\t100   \t0.0299207\n",
      "278\t100   \t132.7 \t278\t164\t123\t100   \t12.1173 \t0.3728 \t278\t0.455\t0.26 \t100   \t0.0326827\n",
      "279\t100   \t133.84\t279\t177\t123\t100   \t12.6497 \t0.36815\t279\t0.44 \t0.26 \t100   \t0.0311902\n",
      "280\t100   \t130.12\t280\t174\t122\t100   \t9.64601 \t0.37205\t280\t0.445\t0.18 \t100   \t0.0364012\n",
      "281\t100   \t131.6 \t281\t212\t121\t100   \t11.1086 \t0.36485\t281\t0.445\t0.25 \t100   \t0.0342305\n"
     ]
    },
    {
     "name": "stdout",
     "output_type": "stream",
     "text": [
      "282\t100   \t132.31\t282\t216\t124\t100   \t11.6445 \t0.3644 \t282\t0.455\t0.195\t100   \t0.0384986\n",
      "283\t100   \t133.62\t283\t213\t124\t100   \t15.0518 \t0.3747 \t283\t0.46 \t0.32 \t100   \t0.0268498\n",
      "284\t100   \t131.56\t284\t175\t124\t100   \t8.96585 \t0.3671 \t284\t0.43 \t0.28 \t100   \t0.0275607\n",
      "285\t100   \t132.03\t285\t213\t123\t100   \t11.5589 \t0.368  \t285\t0.43 \t0.29 \t100   \t0.0284517\n",
      "286\t100   \t134.17\t286\t218\t122\t100   \t14.8304 \t0.36365\t286\t0.435\t0.18 \t100   \t0.0397483\n",
      "287\t100   \t136.81\t287\t213\t123\t100   \t16.2694 \t0.36535\t287\t0.455\t0.295\t100   \t0.0324211\n",
      "288\t100   \t137.5 \t288\t221\t125\t100   \t17.1397 \t0.37185\t288\t0.44 \t0.26 \t100   \t0.0355855\n",
      "289\t100   \t133.82\t289\t221\t126\t100   \t9.60873 \t0.3622 \t289\t0.43 \t0.215\t100   \t0.0368125\n",
      "290\t100   \t140.4 \t290\t231\t125\t100   \t22.2342 \t0.3635 \t290\t0.435\t0.2  \t100   \t0.0334328\n",
      "291\t100   \t140.14\t291\t221\t125\t100   \t21.1182 \t0.3671 \t291\t0.475\t0.23 \t100   \t0.0351723\n",
      "292\t100   \t135.44\t292\t221\t125\t100   \t13.8162 \t0.37035\t292\t0.45 \t0.2  \t100   \t0.0347797\n",
      "293\t100   \t136.81\t293\t222\t126\t100   \t16.7432 \t0.37345\t293\t0.44 \t0.205\t100   \t0.0366994\n",
      "294\t100   \t139.1 \t294\t217\t126\t100   \t19.2673 \t0.36855\t294\t0.445\t0.21 \t100   \t0.0354069\n",
      "295\t100   \t143.76\t295\t235\t126\t100   \t25.175  \t0.3741 \t295\t0.45 \t0.195\t100   \t0.0351097\n",
      "296\t100   \t135.67\t296\t220\t125\t100   \t16.5723 \t0.3738 \t296\t0.435\t0.315\t100   \t0.0272866\n",
      "297\t100   \t140.4 \t297\t226\t126\t100   \t21.8545 \t0.37375\t297\t0.45 \t0.275\t100   \t0.0318855\n",
      "298\t100   \t136.78\t298\t215\t125\t100   \t14.9001 \t0.3793 \t298\t0.455\t0.27 \t100   \t0.0310566\n",
      "299\t100   \t138.34\t299\t180\t126\t100   \t14.938  \t0.36845\t299\t0.445\t0.175\t100   \t0.0411867\n",
      "300\t100   \t133.76\t300\t176\t125\t100   \t10.5244 \t0.37075\t300\t0.45 \t0.19 \t100   \t0.0392389\n",
      "301\t100   \t136.1 \t301\t213\t125\t100   \t15.8218 \t0.37615\t301\t0.455\t0.29 \t100   \t0.030355 \n",
      "302\t100   \t132.47\t302\t213\t124\t100   \t11.4284 \t0.3737 \t302\t0.44 \t0.185\t100   \t0.0409428\n",
      "303\t100   \t133.83\t303\t246\t127\t100   \t13.9772 \t0.3758 \t303\t0.435\t0.185\t100   \t0.0396025\n",
      "304\t100   \t132.79\t304\t210\t126\t100   \t10.697  \t0.3839 \t304\t0.475\t0.325\t100   \t0.0306886\n",
      "305\t100   \t134.43\t305\t216\t126\t100   \t15.0806 \t0.38035\t305\t0.465\t0.245\t100   \t0.0352651\n",
      "306\t100   \t132.19\t306\t164\t127\t100   \t7.84945 \t0.3772 \t306\t0.44 \t0.195\t100   \t0.0345059\n",
      "307\t100   \t135.36\t307\t216\t126\t100   \t15.2915 \t0.3758 \t307\t0.46 \t0.205\t100   \t0.0362541\n",
      "308\t100   \t136.35\t308\t217\t127\t100   \t13.7356 \t0.37415\t308\t0.45 \t0.315\t100   \t0.0287146\n",
      "309\t100   \t135.56\t309\t178\t126\t100   \t12.3583 \t0.37835\t309\t0.45 \t0.25 \t100   \t0.0321018\n",
      "310\t100   \t133.8 \t310\t179\t125\t100   \t10.7005 \t0.3749 \t310\t0.465\t0.265\t100   \t0.0339851\n",
      "311\t100   \t136.75\t311\t181\t125\t100   \t14.3551 \t0.37555\t311\t0.45 \t0.215\t100   \t0.0339698\n",
      "312\t100   \t140.43\t312\t220\t128\t100   \t19.0925 \t0.3751 \t312\t0.44 \t0.22 \t100   \t0.0374231\n",
      "313\t100   \t136.43\t313\t195\t127\t100   \t13.1265 \t0.3803 \t313\t0.44 \t0.31 \t100   \t0.028756 \n",
      "314\t100   \t138.63\t314\t215\t128\t100   \t16.3142 \t0.37005\t314\t0.485\t0.265\t100   \t0.0322451\n",
      "315\t100   \t132.11\t315\t142\t127\t100   \t3.04268 \t0.37255\t315\t0.455\t0.27 \t100   \t0.0330643\n",
      "316\t100   \t133.94\t316\t215\t126\t100   \t12.4071 \t0.3733 \t316\t0.475\t0.145\t100   \t0.0392315\n",
      "317\t100   \t135.61\t317\t216\t127\t100   \t13.9405 \t0.3703 \t317\t0.45 \t0.175\t100   \t0.0386576\n",
      "318\t100   \t135.78\t318\t222\t127\t100   \t15.4561 \t0.3742 \t318\t0.48 \t0.19 \t100   \t0.0401853\n",
      "319\t100   \t138.54\t319\t213\t128\t100   \t15.8842 \t0.3756 \t319\t0.465\t0.29 \t100   \t0.0338251\n",
      "320\t100   \t140.18\t320\t216\t127\t100   \t19.0465 \t0.3776 \t320\t0.45 \t0.23 \t100   \t0.0338192\n",
      "321\t100   \t139.4 \t321\t280\t126\t100   \t23.2598 \t0.37395\t321\t0.455\t0.25 \t100   \t0.0339727\n",
      "322\t100   \t140.42\t322\t277\t126\t100   \t21.945  \t0.37665\t322\t0.465\t0.24 \t100   \t0.0380398\n",
      "323\t100   \t138   \t323\t189\t127\t100   \t16.367  \t0.3799 \t323\t0.47 \t0.31 \t100   \t0.0296562\n",
      "324\t100   \t135.64\t324\t217\t128\t100   \t13.9424 \t0.38055\t324\t0.45 \t0.26 \t100   \t0.0328397\n",
      "325\t100   \t138.88\t325\t263\t127\t100   \t24.6537 \t0.37255\t325\t0.445\t0.25 \t100   \t0.0360728\n",
      "326\t100   \t135.06\t326\t218\t128\t100   \t12.2929 \t0.376  \t326\t0.46 \t0.29 \t100   \t0.0349357\n",
      "327\t100   \t133.6 \t327\t178\t127\t100   \t9.64158 \t0.3772 \t327\t0.445\t0.205\t100   \t0.0420019\n",
      "328\t100   \t133.07\t328\t169\t125\t100   \t7.28458 \t0.38185\t328\t0.475\t0.285\t100   \t0.0319582\n",
      "329\t100   \t134.13\t329\t175\t126\t100   \t7.87865 \t0.38325\t329\t0.47 \t0.225\t100   \t0.0350455\n",
      "330\t100   \t134.07\t330\t179\t127\t100   \t8.50794 \t0.38595\t330\t0.445\t0.25 \t100   \t0.0328077\n",
      "331\t100   \t133.68\t331\t176\t128\t100   \t7.79472 \t0.3788 \t331\t0.46 \t0.265\t100   \t0.0329099\n",
      "332\t100   \t133.08\t332\t179\t127\t100   \t6.64331 \t0.38075\t332\t0.46 \t0.305\t100   \t0.0286302\n",
      "333\t100   \t135.38\t333\t217\t127\t100   \t14.4788 \t0.3801 \t333\t0.44 \t0.22 \t100   \t0.0343364\n",
      "334\t100   \t135.86\t334\t257\t127\t100   \t15.4318 \t0.38085\t334\t0.455\t0.285\t100   \t0.0315282\n",
      "335\t100   \t138.07\t335\t258\t126\t100   \t19.0679 \t0.36805\t335\t0.475\t0.235\t100   \t0.0391656\n",
      "336\t100   \t136.46\t336\t259\t126\t100   \t17.7851 \t0.3772 \t336\t0.45 \t0.22 \t100   \t0.0327668\n",
      "337\t100   \t134.3 \t337\t175\t126\t100   \t10.9531 \t0.38225\t337\t0.455\t0.285\t100   \t0.0304005\n",
      "338\t100   \t132.66\t338\t216\t125\t100   \t12.0368 \t0.3775 \t338\t0.445\t0.205\t100   \t0.0400968\n",
      "339\t100   \t134.8 \t339\t251\t126\t100   \t14.7173 \t0.37365\t339\t0.475\t0.23 \t100   \t0.0426606\n",
      "340\t100   \t136.93\t340\t183\t127\t100   \t12.6501 \t0.37745\t340\t0.465\t0.2  \t100   \t0.0385389\n",
      "341\t100   \t140.39\t341\t210\t129\t100   \t17.5874 \t0.3733 \t341\t0.465\t0.165\t100   \t0.0404797\n",
      "342\t100   \t138.96\t342\t208\t128\t100   \t18.0172 \t0.3729 \t342\t0.44 \t0.18 \t100   \t0.0389306\n",
      "343\t100   \t140.47\t343\t277\t128\t100   \t21.127  \t0.37595\t343\t0.46 \t0.185\t100   \t0.0350121\n",
      "344\t100   \t136.28\t344\t180\t128\t100   \t11.4018 \t0.3837 \t344\t0.445\t0.28 \t100   \t0.0323235\n",
      "345\t100   \t138.69\t345\t260\t126\t100   \t21.6932 \t0.3729 \t345\t0.435\t0.17 \t100   \t0.0366004\n",
      "346\t100   \t140.04\t346\t261\t128\t100   \t28.6318 \t0.3797 \t346\t0.445\t0.305\t100   \t0.0307556\n",
      "347\t100   \t134.56\t347\t232\t127\t100   \t12.3461 \t0.3726 \t347\t0.44 \t0.21 \t100   \t0.0358921\n",
      "348\t100   \t135.56\t348\t216\t127\t100   \t13.5287 \t0.37685\t348\t0.455\t0.215\t100   \t0.0375477\n",
      "349\t100   \t136.15\t349\t218\t126\t100   \t14.001  \t0.3819 \t349\t0.445\t0.31 \t100   \t0.0292471\n",
      "350\t100   \t135.67\t350\t179\t127\t100   \t9.62191 \t0.3847 \t350\t0.455\t0.32 \t100   \t0.030934 \n",
      "351\t100   \t136.42\t351\t196\t127\t100   \t12.6753 \t0.3787 \t351\t0.435\t0.3  \t100   \t0.029314 \n",
      "352\t100   \t140.73\t352\t265\t127\t100   \t21.0294 \t0.3759 \t352\t0.46 \t0.305\t100   \t0.0313957\n",
      "353\t100   \t137.37\t353\t214\t126\t100   \t11.8437 \t0.38335\t353\t0.475\t0.27 \t100   \t0.0347063\n",
      "354\t100   \t138.72\t354\t219\t128\t100   \t14.299  \t0.37525\t354\t0.465\t0.235\t100   \t0.0366632\n",
      "355\t100   \t137.91\t355\t272\t128\t100   \t17.4087 \t0.3759 \t355\t0.445\t0.215\t100   \t0.0398019\n",
      "356\t100   \t139.31\t356\t217\t128\t100   \t17.9118 \t0.3809 \t356\t0.46 \t0.25 \t100   \t0.0357797\n",
      "357\t100   \t136.54\t357\t185\t129\t100   \t14.0971 \t0.37525\t357\t0.46 \t0.205\t100   \t0.0417635\n",
      "358\t100   \t137.71\t358\t184\t127\t100   \t16.3782 \t0.38555\t358\t0.46 \t0.285\t100   \t0.030215 \n",
      "359\t100   \t134.52\t359\t204\t127\t100   \t12.3616 \t0.38225\t359\t0.485\t0.315\t100   \t0.0308008\n",
      "360\t100   \t136.73\t360\t217\t127\t100   \t16.7319 \t0.37915\t360\t0.455\t0.295\t100   \t0.0345258\n",
      "361\t100   \t133.43\t361\t181\t126\t100   \t11.2847 \t0.3755 \t361\t0.45 \t0.255\t100   \t0.0353942\n",
      "362\t100   \t133.21\t362\t216\t126\t100   \t13.7057 \t0.38285\t362\t0.48 \t0.29 \t100   \t0.0357159\n",
      "363\t100   \t131.78\t363\t181\t125\t100   \t6.91604 \t0.3814 \t363\t0.465\t0.285\t100   \t0.0335192\n",
      "364\t100   \t135.42\t364\t197\t125\t100   \t14.9808 \t0.3845 \t364\t0.475\t0.165\t100   \t0.0375133\n",
      "365\t100   \t137.52\t365\t212\t126\t100   \t20.4551 \t0.37655\t365\t0.445\t0.27 \t100   \t0.0282196\n",
      "366\t100   \t145.59\t366\t248\t127\t100   \t27.9761 \t0.37965\t366\t0.44 \t0.225\t100   \t0.0343894\n",
      "367\t100   \t151.05\t367\t250\t127\t100   \t35.2083 \t0.3803 \t367\t0.465\t0.315\t100   \t0.0323792\n",
      "368\t100   \t152.63\t368\t250\t126\t100   \t38.9211 \t0.39075\t368\t0.48 \t0.235\t100   \t0.0362793\n",
      "369\t100   \t157.32\t369\t251\t128\t100   \t42.9739 \t0.38375\t369\t0.465\t0.245\t100   \t0.033154 \n",
      "370\t100   \t163.09\t370\t252\t128\t100   \t46.9915 \t0.3766 \t370\t0.45 \t0.245\t100   \t0.0341898\n",
      "371\t100   \t155.93\t371\t262\t127\t100   \t44.7552 \t0.3819 \t371\t0.43 \t0.29 \t100   \t0.0260267\n",
      "372\t100   \t142.41\t372\t256\t128\t100   \t28.0657 \t0.38635\t372\t0.47 \t0.28 \t100   \t0.0327479\n",
      "373\t100   \t138.06\t373\t215\t128\t100   \t15.9052 \t0.3869 \t373\t0.47 \t0.22 \t100   \t0.0390306\n",
      "374\t100   \t133.38\t374\t162\t128\t100   \t5.70575 \t0.3781 \t374\t0.445\t0.235\t100   \t0.0351694\n",
      "375\t100   \t135.99\t375\t215\t128\t100   \t11.2085 \t0.38015\t375\t0.46 \t0.185\t100   \t0.0409051\n",
      "376\t100   \t136.22\t376\t207\t128\t100   \t11.9796 \t0.3829 \t376\t0.475\t0.27 \t100   \t0.0325667\n"
     ]
    },
    {
     "name": "stdout",
     "output_type": "stream",
     "text": [
      "377\t100   \t137.95\t377\t209\t128\t100   \t14.1027 \t0.3857 \t377\t0.465\t0.29 \t100   \t0.0336676\n",
      "378\t100   \t140.86\t378\t210\t127\t100   \t17.8578 \t0.3793 \t378\t0.475\t0.22 \t100   \t0.0359724\n",
      "379\t100   \t141.4 \t379\t217\t128\t100   \t20.5917 \t0.37645\t379\t0.455\t0.23 \t100   \t0.0340463\n",
      "380\t100   \t145.29\t380\t287\t130\t100   \t26.3163 \t0.38225\t380\t0.455\t0.17 \t100   \t0.0407393\n",
      "381\t100   \t148.47\t381\t261\t130\t100   \t28.6295 \t0.3878 \t381\t0.465\t0.285\t100   \t0.0321039\n",
      "382\t100   \t144.53\t382\t263\t130\t100   \t24.717  \t0.38315\t382\t0.455\t0.29 \t100   \t0.0356417\n",
      "383\t100   \t151.09\t383\t273\t130\t100   \t32.2264 \t0.3855 \t383\t0.46 \t0.27 \t100   \t0.0342746\n",
      "384\t100   \t146.09\t384\t220\t131\t100   \t19.1489 \t0.3811 \t384\t0.49 \t0.255\t100   \t0.038811 \n",
      "385\t100   \t146.75\t385\t224\t131\t100   \t21.9824 \t0.3878 \t385\t0.475\t0.18 \t100   \t0.0414145\n",
      "386\t100   \t139.48\t386\t217\t131\t100   \t12.9209 \t0.38345\t386\t0.465\t0.235\t100   \t0.0349048\n",
      "387\t100   \t144.5 \t387\t204\t130\t100   \t16.162  \t0.38065\t387\t0.455\t0.27 \t100   \t0.0385529\n",
      "388\t100   \t146.77\t388\t263\t129\t100   \t23.9662 \t0.38445\t388\t0.485\t0.2  \t100   \t0.0401117\n",
      "389\t100   \t147.64\t389\t270\t133\t100   \t24.3822 \t0.3912 \t389\t0.48 \t0.315\t100   \t0.0308879\n",
      "390\t100   \t142.72\t390\t281\t133\t100   \t24.2623 \t0.39565\t390\t0.475\t0.31 \t100   \t0.0309972\n",
      "391\t100   \t140.43\t391\t220\t132\t100   \t14.4355 \t0.3945 \t391\t0.46 \t0.32 \t100   \t0.0281203\n",
      "392\t100   \t142.24\t392\t220\t132\t100   \t15.4642 \t0.3848 \t392\t0.46 \t0.295\t100   \t0.0328704\n",
      "393\t100   \t141.81\t393\t225\t132\t100   \t13.1093 \t0.3935 \t393\t0.46 \t0.22 \t100   \t0.037145 \n",
      "394\t100   \t140.65\t394\t217\t131\t100   \t11.9961 \t0.39535\t394\t0.465\t0.275\t100   \t0.0304734\n",
      "395\t100   \t140.76\t395\t182\t131\t100   \t7.62643 \t0.38995\t395\t0.475\t0.23 \t100   \t0.0381215\n",
      "396\t100   \t141.24\t396\t219\t130\t100   \t9.8042  \t0.3871 \t396\t0.485\t0.215\t100   \t0.042762 \n",
      "397\t100   \t144.52\t397\t202\t131\t100   \t14.5599 \t0.3927 \t397\t0.47 \t0.215\t100   \t0.0404748\n",
      "398\t100   \t144.44\t398\t221\t134\t100   \t12.5166 \t0.3934 \t398\t0.475\t0.295\t100   \t0.0322093\n",
      "399\t100   \t146.89\t399\t238\t133\t100   \t15.973  \t0.3903 \t399\t0.465\t0.285\t100   \t0.0362272\n",
      "400\t100   \t147.9 \t400\t229\t132\t100   \t15.574  \t0.39095\t400\t0.465\t0.285\t100   \t0.0361849\n",
      "401\t100   \t148.86\t401\t226\t133\t100   \t16.104  \t0.39475\t401\t0.48 \t0.225\t100   \t0.0323834\n",
      "402\t100   \t147.9 \t402\t190\t138\t100   \t12.3236 \t0.38895\t402\t0.47 \t0.23 \t100   \t0.0364163\n",
      "403\t100   \t150.67\t403\t277\t137\t100   \t21.4406 \t0.3892 \t403\t0.465\t0.22 \t100   \t0.0423894\n",
      "404\t100   \t148.87\t404\t209\t137\t100   \t17.5366 \t0.3899 \t404\t0.475\t0.245\t100   \t0.0383796\n",
      "405\t100   \t146   \t405\t225\t137\t100   \t15.1552 \t0.39045\t405\t0.495\t0.235\t100   \t0.0457444\n",
      "406\t100   \t144.79\t406\t225\t137\t100   \t11.7689 \t0.39575\t406\t0.48 \t0.265\t100   \t0.0367041\n",
      "407\t100   \t145.06\t407\t226\t138\t100   \t12.6529 \t0.39425\t407\t0.47 \t0.305\t100   \t0.0335065\n",
      "408\t100   \t145.7 \t408\t196\t138\t100   \t11.015  \t0.39725\t408\t0.46 \t0.3  \t100   \t0.0321121\n",
      "409\t100   \t145.6 \t409\t221\t138\t100   \t12.6641 \t0.3926 \t409\t0.48 \t0.295\t100   \t0.0328898\n",
      "410\t100   \t147.02\t410\t230\t138\t100   \t14.8034 \t0.3932 \t410\t0.47 \t0.19 \t100   \t0.0379968\n",
      "411\t100   \t144.27\t411\t206\t138\t100   \t9.20202 \t0.3933 \t411\t0.49 \t0.3  \t100   \t0.0311064\n",
      "412\t100   \t145.66\t412\t209\t138\t100   \t12.2607 \t0.391  \t412\t0.48 \t0.28 \t100   \t0.0372559\n",
      "413\t100   \t145.29\t413\t232\t137\t100   \t14.6549 \t0.3909 \t413\t0.465\t0.235\t100   \t0.0386095\n",
      "414\t100   \t143.85\t414\t209\t137\t100   \t9.3385  \t0.3976 \t414\t0.49 \t0.285\t100   \t0.032615 \n",
      "415\t100   \t144.06\t415\t226\t138\t100   \t13.6256 \t0.399  \t415\t0.48 \t0.325\t100   \t0.0323883\n",
      "416\t100   \t145.47\t416\t238\t137\t100   \t17.6088 \t0.38775\t416\t0.47 \t0.305\t100   \t0.0333869\n",
      "417\t100   \t142.66\t417\t223\t138\t100   \t9.50602 \t0.39325\t417\t0.5  \t0.21 \t100   \t0.0336257\n",
      "418\t100   \t144.7 \t418\t224\t139\t100   \t13.1488 \t0.39245\t418\t0.485\t0.275\t100   \t0.0370033\n",
      "419\t100   \t143.47\t419\t211\t138\t100   \t9.44506 \t0.3917 \t419\t0.49 \t0.25 \t100   \t0.0378234\n",
      "420\t100   \t142.64\t420\t208\t138\t100   \t7.79425 \t0.3947 \t420\t0.485\t0.22 \t100   \t0.0355726\n",
      "421\t100   \t145.11\t421\t223\t138\t100   \t13.9577 \t0.3911 \t421\t0.46 \t0.23 \t100   \t0.0417707\n",
      "422\t100   \t144.5 \t422\t233\t137\t100   \t11.0793 \t0.3934 \t422\t0.505\t0.195\t100   \t0.0431154\n",
      "423\t100   \t146.63\t423\t223\t137\t100   \t13.9812 \t0.39045\t423\t0.47 \t0.225\t100   \t0.0382367\n",
      "424\t100   \t144.12\t424\t226\t138\t100   \t10.8289 \t0.3875 \t424\t0.48 \t0.18 \t100   \t0.0426175\n",
      "425\t100   \t146.38\t425\t225\t136\t100   \t11.9998 \t0.38845\t425\t0.47 \t0.245\t100   \t0.0397536\n",
      "426\t100   \t144.36\t426\t183\t136\t100   \t6.46919 \t0.38975\t426\t0.47 \t0.235\t100   \t0.0374258\n",
      "427\t100   \t145.35\t427\t285\t138\t100   \t15.3976 \t0.39405\t427\t0.475\t0.27 \t100   \t0.0353603\n",
      "428\t100   \t146.15\t428\t185\t138\t100   \t8.30948 \t0.39215\t428\t0.47 \t0.325\t100   \t0.0310182\n",
      "429\t100   \t146.55\t429\t185\t138\t100   \t8.93462 \t0.398  \t429\t0.47 \t0.32 \t100   \t0.0321403\n",
      "430\t100   \t148.35\t430\t179\t138\t100   \t8.51396 \t0.39755\t430\t0.48 \t0.275\t100   \t0.0320897\n",
      "431\t100   \t148.35\t431\t186\t139\t100   \t10.3551 \t0.3936 \t431\t0.485\t0.26 \t100   \t0.0376635\n",
      "432\t100   \t148.11\t432\t204\t139\t100   \t11.6163 \t0.39145\t432\t0.505\t0.29 \t100   \t0.0342439\n",
      "433\t100   \t148.34\t433\t205\t138\t100   \t9.3672  \t0.38815\t433\t0.48 \t0.19 \t100   \t0.041144 \n",
      "434\t100   \t151.93\t434\t226\t140\t100   \t11.2092 \t0.3897 \t434\t0.44 \t0.3  \t100   \t0.0312075\n",
      "435\t100   \t152.59\t435\t293\t140\t100   \t22.0459 \t0.37965\t435\t0.48 \t0.18 \t100   \t0.0524321\n",
      "436\t100   \t151.45\t436\t229\t141\t100   \t13.0502 \t0.38855\t436\t0.475\t0.265\t100   \t0.0397259\n",
      "437\t100   \t154.83\t437\t244\t143\t100   \t14.2064 \t0.3875 \t437\t0.445\t0.29 \t100   \t0.0324615\n",
      "438\t100   \t154.29\t438\t231\t143\t100   \t14.5288 \t0.39105\t438\t0.47 \t0.26 \t100   \t0.0341269\n",
      "439\t100   \t155.1 \t439\t240\t143\t100   \t18.6427 \t0.3896 \t439\t0.455\t0.315\t100   \t0.0313742\n",
      "440\t100   \t153.51\t440\t237\t142\t100   \t16.5665 \t0.39375\t440\t0.5  \t0.31 \t100   \t0.0339954\n",
      "441\t100   \t158.74\t441\t283\t141\t100   \t25.0658 \t0.3886 \t441\t0.48 \t0.235\t100   \t0.0363186\n",
      "442\t100   \t152.91\t442\t227\t141\t100   \t16.7554 \t0.3877 \t442\t0.465\t0.26 \t100   \t0.0361   \n",
      "443\t100   \t151.73\t443\t237\t141\t100   \t15.1346 \t0.3942 \t443\t0.46 \t0.33 \t100   \t0.0285282\n",
      "444\t100   \t152.06\t444\t289\t142\t100   \t17.5042 \t0.3886 \t444\t0.475\t0.225\t100   \t0.0410675\n",
      "445\t100   \t149.28\t445\t232\t141\t100   \t9.41072 \t0.39245\t445\t0.465\t0.28 \t100   \t0.0331172\n",
      "446\t100   \t153.2 \t446\t293\t142\t100   \t23.7529 \t0.39275\t446\t0.48 \t0.2  \t100   \t0.0410571\n",
      "447\t100   \t152.41\t447\t228\t144\t100   \t13.9908 \t0.39965\t447\t0.48 \t0.285\t100   \t0.0356318\n",
      "448\t100   \t151.09\t448\t212\t141\t100   \t11.619  \t0.39255\t448\t0.505\t0.32 \t100   \t0.0336489\n",
      "449\t100   \t147.99\t449\t185\t142\t100   \t6.97208 \t0.397  \t449\t0.47 \t0.315\t100   \t0.0298747\n",
      "450\t100   \t149.49\t450\t216\t141\t100   \t11.4494 \t0.397  \t450\t0.51 \t0.26 \t100   \t0.0385162\n",
      "451\t100   \t155.95\t451\t292\t141\t100   \t26.385  \t0.3881 \t451\t0.47 \t0.225\t100   \t0.0439817\n",
      "452\t100   \t158.08\t452\t259\t140\t100   \t23.8641 \t0.3955 \t452\t0.475\t0.295\t100   \t0.034623 \n",
      "453\t100   \t153.87\t453\t198\t143\t100   \t16.9243 \t0.39935\t453\t0.47 \t0.29 \t100   \t0.0369368\n",
      "454\t100   \t149.84\t454\t216\t142\t100   \t12.7057 \t0.39045\t454\t0.48 \t0.24 \t100   \t0.0435149\n",
      "455\t100   \t149.79\t455\t229\t142\t100   \t14.559  \t0.392  \t455\t0.48 \t0.245\t100   \t0.0402989\n",
      "456\t100   \t148.3 \t456\t190\t141\t100   \t8.88876 \t0.3934 \t456\t0.46 \t0.25 \t100   \t0.033896 \n",
      "457\t100   \t148.74\t457\t298\t139\t100   \t16.1292 \t0.3946 \t457\t0.485\t0.235\t100   \t0.0402348\n",
      "458\t100   \t150.6 \t458\t232\t142\t100   \t12.8047 \t0.39135\t458\t0.485\t0.26 \t100   \t0.0342845\n",
      "459\t100   \t151.29\t459\t225\t143\t100   \t13.093  \t0.39115\t459\t0.48 \t0.195\t100   \t0.0405392\n",
      "460\t100   \t152.22\t460\t193\t142\t100   \t11.6117 \t0.40175\t460\t0.475\t0.355\t100   \t0.0270312\n",
      "461\t100   \t149.43\t461\t187\t141\t100   \t9.7829  \t0.39685\t461\t0.475\t0.315\t100   \t0.028997 \n",
      "462\t100   \t154.12\t462\t288\t141\t100   \t19.7956 \t0.38905\t462\t0.46 \t0.225\t100   \t0.0416935\n",
      "463\t100   \t152.02\t463\t180\t141\t100   \t10.9517 \t0.3942 \t463\t0.495\t0.3  \t100   \t0.0347471\n",
      "464\t100   \t155.93\t464\t292\t142\t100   \t20.5413 \t0.3985 \t464\t0.495\t0.255\t100   \t0.0376995\n",
      "465\t100   \t161.2 \t465\t291\t141\t100   \t24.8407 \t0.3961 \t465\t0.48 \t0.21 \t100   \t0.0447637\n",
      "466\t100   \t154.84\t466\t234\t142\t100   \t16.0342 \t0.39645\t466\t0.46 \t0.3  \t100   \t0.0324137\n",
      "467\t100   \t154.32\t467\t219\t141\t100   \t10.0149 \t0.3934 \t467\t0.48 \t0.265\t100   \t0.0377881\n",
      "468\t100   \t154.32\t468\t199\t141\t100   \t10.5251 \t0.40015\t468\t0.475\t0.255\t100   \t0.0395566\n",
      "469\t100   \t158.83\t469\t237\t143\t100   \t17.1948 \t0.39465\t469\t0.485\t0.255\t100   \t0.0456084\n",
      "470\t100   \t160.08\t470\t295\t142\t100   \t21.1328 \t0.39805\t470\t0.48 \t0.28 \t100   \t0.0331881\n",
      "471\t100   \t159.65\t471\t231\t142\t100   \t17.5211 \t0.39965\t471\t0.495\t0.26 \t100   \t0.0396564\n"
     ]
    },
    {
     "name": "stdout",
     "output_type": "stream",
     "text": [
      "472\t100   \t157   \t472\t248\t143\t100   \t15.6538 \t0.3972 \t472\t0.48 \t0.28 \t100   \t0.0309542\n",
      "473\t100   \t154.96\t473\t196\t143\t100   \t10.5602 \t0.40135\t473\t0.465\t0.26 \t100   \t0.0359782\n",
      "474\t100   \t155.81\t474\t251\t142\t100   \t16.0416 \t0.40135\t474\t0.465\t0.265\t100   \t0.0333606\n",
      "475\t100   \t153.56\t475\t224\t144\t100   \t10.6201 \t0.4004 \t475\t0.5  \t0.275\t100   \t0.0370451\n",
      "476\t100   \t155.85\t476\t293\t143\t100   \t23.5029 \t0.40015\t476\t0.46 \t0.245\t100   \t0.0390157\n",
      "477\t100   \t151.07\t477\t180\t142\t100   \t8.01905 \t0.4004 \t477\t0.48 \t0.26 \t100   \t0.0403155\n",
      "478\t100   \t153.17\t478\t290\t142\t100   \t19.5187 \t0.4012 \t478\t0.475\t0.235\t100   \t0.038263 \n",
      "479\t100   \t153.24\t479\t223\t141\t100   \t15.4778 \t0.39965\t479\t0.495\t0.26 \t100   \t0.0418704\n",
      "480\t100   \t156.17\t480\t236\t141\t100   \t23.0612 \t0.39925\t480\t0.51 \t0.26 \t100   \t0.0392006\n",
      "481\t100   \t154.8 \t481\t243\t141\t100   \t22.6632 \t0.4008 \t481\t0.49 \t0.295\t100   \t0.033784 \n",
      "482\t100   \t160.76\t482\t291\t141\t100   \t32.3191 \t0.39235\t482\t0.47 \t0.225\t100   \t0.0413005\n",
      "483\t100   \t160.42\t483\t244\t139\t100   \t32.118  \t0.401  \t483\t0.47 \t0.295\t100   \t0.0337935\n",
      "484\t100   \t159.53\t484\t297\t143\t100   \t29.3184 \t0.39795\t484\t0.485\t0.245\t100   \t0.0423149\n",
      "485\t100   \t151.49\t485\t222\t142\t100   \t12.2299 \t0.395  \t485\t0.47 \t0.215\t100   \t0.0397555\n",
      "486\t100   \t156.23\t486\t296\t141\t100   \t21.4531 \t0.3896 \t486\t0.465\t0.22 \t100   \t0.0419206\n",
      "487\t100   \t153.71\t487\t232\t144\t100   \t14.394  \t0.40335\t487\t0.495\t0.315\t100   \t0.0350931\n",
      "488\t100   \t153.79\t488\t248\t143\t100   \t14.5357 \t0.4027 \t488\t0.475\t0.32 \t100   \t0.0331242\n",
      "489\t100   \t157.76\t489\t294\t143\t100   \t18.912  \t0.3906 \t489\t0.49 \t0.2  \t100   \t0.0451347\n",
      "490\t100   \t160.42\t490\t265\t142\t100   \t17.7838 \t0.3971 \t490\t0.48 \t0.175\t100   \t0.0431404\n",
      "491\t100   \t160.33\t491\t200\t144\t100   \t12.3467 \t0.39575\t491\t0.47 \t0.28 \t100   \t0.0358704\n",
      "492\t100   \t160.76\t492\t218\t149\t100   \t13.4834 \t0.3993 \t492\t0.465\t0.25 \t100   \t0.0372962\n",
      "493\t100   \t164.31\t493\t237\t149\t100   \t15.6062 \t0.40045\t493\t0.47 \t0.275\t100   \t0.0350578\n",
      "494\t100   \t164.15\t494\t237\t150\t100   \t17.789  \t0.4031 \t494\t0.49 \t0.185\t100   \t0.0425957\n",
      "495\t100   \t162.31\t495\t266\t149\t100   \t17.6254 \t0.40825\t495\t0.47 \t0.34 \t100   \t0.0302521\n",
      "496\t100   \t158.7 \t496\t189\t148\t100   \t11.4582 \t0.4079 \t496\t0.485\t0.245\t100   \t0.0366687\n",
      "497\t100   \t156.45\t497\t187\t146\t100   \t9.56805 \t0.403  \t497\t0.495\t0.275\t100   \t0.0403237\n",
      "498\t100   \t158.37\t498\t210\t147\t100   \t13.3061 \t0.4031 \t498\t0.47 \t0.32 \t100   \t0.0294939\n",
      "499\t100   \t161.29\t499\t267\t148\t100   \t18.4658 \t0.4029 \t499\t0.48 \t0.325\t100   \t0.0287766\n",
      "500\t100   \t157.83\t500\t265\t148\t100   \t16.85   \t0.4014 \t500\t0.485\t0.295\t100   \t0.0368109\n"
     ]
    }
   ],
   "source": [
    "pop = toolbox.population(POPULATION_SIZE)\n",
    "hof = tools.HallOfFame(1)\n",
    "pop, log = algorithms.eaSimple(population=pop, toolbox=toolbox, cxpb=0.0, mutpb=1.0, \n",
    "                               ngen=N_GENERATIONS, stats=mstats, halloffame=hof, verbose=True)"
   ]
  },
  {
   "cell_type": "code",
   "execution_count": 24,
   "metadata": {},
   "outputs": [],
   "source": [
    "# Store results\n",
    "with open(RESULTS_FILENAME, \"wb\") as f:\n",
    "    pickle.dump((pop, log, hof), f)"
   ]
  },
  {
   "cell_type": "markdown",
   "metadata": {},
   "source": [
    "## Plotting statistics"
   ]
  },
  {
   "cell_type": "code",
   "execution_count": 25,
   "metadata": {},
   "outputs": [],
   "source": [
    "# Extract generation IDs, minimum fitnesses and average total heights per generation\n",
    "gen = log.select(\"gen\")\n",
    "fitness_best = log.chapters[\"fitness\"].select(\"max\") \n",
    "conn_avg = log.chapters[\"connections\"].select(\"avg\")"
   ]
  },
  {
   "cell_type": "code",
   "execution_count": 26,
   "metadata": {},
   "outputs": [
    {
     "data": {
      "image/png": "[encoded data removed]",
      "text/plain": [
       "<Figure size 432x288 with 2 Axes>"
      ]
     },
     "metadata": {
      "needs_background": "light"
     },
     "output_type": "display_data"
    }
   ],
   "source": [
    "# Plot line for minimum fitness\n",
    "fig, fit_ax = plt.subplots()\n",
    "fit_line = fit_ax.plot(gen, fitness_best, \"b-\", label=\"Best Fitness\")\n",
    "fit_ax.set_xlabel(\"Generation\")\n",
    "fit_ax.set_ylabel(f\"Accuracy\", color=\"b\")\n",
    "for tl in fit_ax.get_yticklabels():\n",
    "    tl.set_color(\"b\")\n",
    "\n",
    "# Plot line for average total height\n",
    "height_ax = fit_ax.twinx()\n",
    "height_line = height_ax.plot(gen, conn_avg, \"r-\", label=\"Average Number of Connections\")\n",
    "height_ax.set_ylabel(\"Average height\", color=\"r\")\n",
    "for tl in height_ax.get_yticklabels():\n",
    "    tl.set_color(\"r\")\n",
    "\n",
    "# Add legend\n",
    "lines = fit_line + height_line\n",
    "labs = [l.get_label() for l in lines]\n",
    "fit_ax.legend(lines, labs, loc=\"upper center\")\n",
    "\n",
    "# Show the result\n",
    "plt.show()"
   ]
  },
  {
   "cell_type": "markdown",
   "metadata": {},
   "source": [
    "## Inspecting the best individual"
   ]
  },
  {
   "cell_type": "code",
   "execution_count": 27,
   "metadata": {},
   "outputs": [
    {
     "name": "stdout",
     "output_type": "stream",
     "text": [
      "Fitness of best individual: (0.51,)\n"
     ]
    }
   ],
   "source": [
    "best_ind = hof[0]\n",
    "print(f\"Fitness of best individual: {best_ind.fitness}\")"
   ]
  },
  {
   "cell_type": "markdown",
   "metadata": {},
   "source": [
    "##### Printing trees"
   ]
  },
  {
   "cell_type": "code",
   "execution_count": 28,
   "metadata": {},
   "outputs": [
    {
     "name": "stdout",
     "output_type": "stream",
     "text": [
      "sigmoid(ARG86, ARG70, ARG22, ARG33, ARG235, ARG93, ARG27, ARG116, ARG238, ARG72, ARG191, ARG160, ARG140, ARG94, ARG28, ARG133, ARG101, ARG154, ARG184, ARG122, ARG106, ARG164, ARG207, ARG143, ARG102, ARG64, ARG242, linear(ARG8, ARG185, ARG133, ARG105, ARG94, ARG206, ARG180, ARG156, ARG74, ARG59, ARG146, ARG65, ARG226, ARG20, ARG45, ARG230, ARG53, ARG224, ARG73, ARG109, ARG78, ARG241, ARG124, ARG138, ARG9, ARG197, ARG254, ARG127, ARG230, ARG222, ARG220, ARG83, ARG180, ARG207, ARG57, ARG10, ARG254, ARG245, ARG111, ARG192, ARG144, ARG75, ARG186, ARG143, ARG133, ARG79, linear(ARG184, ARG170, ARG92, ARG207, ARG249, ARG6, ARG38, ARG157, ARG144, ARG199, ARG178, ARG21, ARG131, ARG5, ARG155), ARG149, ARG192, ARG25, tanh(ARG219)), ARG31, linear(ARG102, ARG128, ARG41, ARG207, ARG186, ARG107, ARG223, ARG110, ARG31, ARG181))\n",
      "\n",
      "sigmoid(ARG15, tanh(ARG49, ARG30, ARG191, ARG80, ARG64, ARG36, ARG54, ARG98, linear(ARG11, ARG208, ARG198, ARG218, ARG59, ARG211, ARG10, ARG63, ARG186, ARG76, ARG89, ARG134, ARG239, ARG17, ARG22, ARG98, ARG150, ARG151, ARG83, ARG65, ARG100, ARG158, ARG184, ARG252, ARG197, ARG35, ARG134, ARG18, ARG208, ARG237, ARG218, ARG127, ARG81, ARG2, ARG230, ARG90, ARG77, ARG125, ARG243, ARG233, ARG67, ARG255, ARG178, ARG45, ARG126, ARG213, ARG135, ARG59, ARG214, ARG236, ARG161, ARG12, ARG50, ARG32, ARG98, ARG111, ARG213, ARG244, ARG119, ARG94, ARG142, sine(ARG160, ARG97, ARG213, ARG58, ARG135, ARG224, ARG253, ARG48, ARG35, ARG57, ARG238, ARG12, ARG102, ARG8, sine(ARG165, gaussian(ARG42, ARG50, ARG83, ARG179, ARG212, ARG218, ARG151, ARG41, ARG34, gaussian(linear(absolute(ARG219), ARG219), sine(sigmoid(ARG108, ARG55)), ARG20, tanh(ARG219), ARG219))), ARG215, cosine(ARG41, ARG23, gaussian(ARG42, ARG50, ARG83, ARG179, ARG212, ARG218, ARG151, ARG41, ARG34, gaussian(linear(absolute(ARG219), ARG219), sine(sigmoid(ARG108, ARG55)), ARG20, tanh(ARG219), ARG219)), ARG165, ARG95, ARG247, ARG165, ARG209, ARG132, ARG29)), ARG130, ARG208, ARG69, ARG237, ARG139), ARG208, ARG198, ARG218, ARG59, ARG211, ARG10, ARG63, ARG186, ARG76, ARG89, ARG134, ARG239, ARG17, ARG22, ARG98, ARG150, ARG151, ARG83, ARG65, ARG100, ARG158, ARG184, ARG252, ARG197, ARG35, ARG134, ARG18, ARG208, ARG218, ARG127, ARG81, ARG2, ARG230, ARG90, ARG77, ARG125, ARG243, ARG233, ARG67, ARG255, ARG178, ARG45, ARG126, ARG213, ARG135, ARG59, ARG214, ARG236, ARG161, ARG12, ARG50, ARG98, ARG111, ARG213, ARG244, ARG119, ARG94, ARG142, sine(ARG160, ARG97, ARG213, ARG58, ARG135, ARG224, ARG253, ARG48, ARG35, ARG57, ARG238, ARG12, ARG102, ARG8, sine(ARG165, gaussian(ARG42, ARG50, ARG83, ARG179, ARG212, ARG218, ARG151, ARG41, ARG34, gaussian(linear(absolute(ARG219), ARG219), sine(sigmoid(ARG108, ARG55)), ARG20, tanh(ARG219), ARG219))), ARG215, cosine(ARG41, ARG23, gaussian(ARG42, ARG50, ARG83, ARG179, ARG212, ARG218, ARG151, ARG41, ARG34, gaussian(linear(absolute(ARG219), ARG219), sine(sigmoid(ARG108, ARG55)), ARG20, tanh(ARG219), ARG219)), ARG165, ARG95, ARG247, ARG165, ARG209, ARG132, ARG29)), ARG130, ARG208, ARG69, ARG237, ARG139, ARG176))\n",
      "\n",
      "sigmoid(ARG155, ARG178, ARG110, ARG150, ARG182, ARG244, ARG111, ARG89, ARG29, ARG188, ARG103, ARG49, ARG13, ARG146, ARG15, ARG87, ARG139, ARG155, ARG92, ARG7, ARG242, ARG68, ARG152, ARG23, ARG161, ARG12, ARG71, ARG116, ARG184, ARG151, ARG35, ARG61, ARG221, ARG7, ARG127, ARG123, ARG241, ARG114, ARG77, ARG146, ARG210, ARG221, ARG63, ARG152, ARG213, ARG98, ARG126, ARG49, ARG190, ARG235, ARG23, ARG41, ARG225, ARG53, ARG96, ARG171, ARG29, ARG199, ARG59, ARG246, ARG38, ARG232, ARG238, ARG9, ARG232, ARG5, ARG199, ARG160, ARG94, ARG162, ARG107, ARG20, ARG157, ARG59, ARG187, ARG90, ARG219, ARG58, ARG215, ARG225, ARG240, ARG71, ARG1, ARG43, ARG221, ARG114, ARG105, ARG32, ARG108, ARG226, ARG245, ARG160, ARG41, ARG39, ARG135, ARG187, ARG185, gaussian(linear(absolute(ARG219), ARG219), sine(sigmoid(ARG108, ARG55)), ARG20, tanh(ARG219), ARG219), ARG164)\n",
      "\n",
      "sigmoid(ARG61, ARG18, ARG137, ARG175, ARG199, ARG120, ARG122, ARG180, ARG213, ARG114, ARG254, ARG38, ARG228, ARG39, ARG192, ARG51, ARG194, ARG1, ARG160, ARG191, ARG170, ARG114, ARG109, ARG8, ARG201, ARG224, ARG3, ARG49, ARG18, ARG148, ARG222, ARG13, ARG54, ARG82, ARG5, ARG231, ARG32, ARG36, ARG254, ARG229, ARG178, ARG126, ARG22, ARG129, ARG246, ARG188, ARG67, ARG78, ARG57, ARG21, ARG70, ARG83, ARG204, ARG3, ARG169, ARG119, ARG101, absolute(ARG226, ARG140, ARG82, sine(tanh(ARG125, ARG36, ARG227, ARG212), ARG218, ARG221, ARG80, ARG10, ARG125, ARG36, ARG227, ARG212, absolute(tanh(ARG211, ARG205, ARG80, ARG240, ARG10, ARG34), ARG240, ARG205, ARG217, ARG211), tanh(ARG34, ARG179)), ARG41, ARG75, ARG114, ARG47, ARG6, ARG212, ARG13, ARG8, ARG97, ARG53, ARG209, gaussian(ARG237, ARG53, ARG129, ARG206, ARG246, ARG188, ARG20, ARG67, ARG78, ARG57, ARG21, ARG70, ARG97, ARG20, ARG133, ARG83, ARG204, ARG3, ARG169, ARG119), ARG234, ARG6, ARG206, ARG245, ARG245, ARG150, ARG237, ARG20, ARG133, ARG33, ARG204, ARG121), ARG56, ARG163, ARG226, ARG140, ARG82, sine(tanh(ARG125, ARG36, ARG227, ARG212), ARG218, ARG221, ARG80, ARG10, ARG125, ARG36, ARG227, ARG212, absolute(tanh(ARG211, ARG205, ARG80, ARG240, ARG10, ARG34), ARG240, ARG205, ARG217, ARG211), tanh(ARG34, ARG179)), ARG41, ARG75, ARG114, ARG47, ARG6, ARG212, ARG13, ARG8, ARG97, ARG53, ARG209, gaussian(ARG237, ARG53, ARG129, ARG206, ARG246, ARG188, ARG20, ARG67, ARG78, ARG57, ARG21, ARG70, ARG97, ARG20, ARG133, ARG83, ARG204, ARG3, ARG169, ARG119), ARG234, ARG6, ARG206, ARG245, ARG245, ARG150, ARG237, ARG20, ARG133, ARG204, ARG121, ARG59, ARG214, ARG168, ARG211, ARG60, ARG65, ARG175)\n",
      "\n",
      "sigmoid(ARG162, ARG191, ARG220, ARG154, ARG115, ARG69, ARG174, ARG121, ARG128, ARG86, ARG95, ARG168, ARG237, ARG151, ARG255, ARG215, ARG131, ARG162, ARG175, ARG15, ARG141, ARG94, ARG124, ARG156, ARG5, ARG28, ARG124, ARG117, ARG8, ARG161, ARG51, ARG61, ARG237, ARG98, ARG117, ARG113, ARG218, ARG232, sine(ARG49, ARG92, ARG176, ARG92, ARG37, ARG200, ARG49, ARG82, ARG192, ARG22, ARG102, ARG129, ARG48, ARG5, ARG80, linear(ARG243, ARG75, ARG80, ARG206, ARG218, ARG140, ARG221, ARG130, ARG163, ARG102, ARG7, ARG222, ARG235, ARG114, sigmoid(ARG90, ARG217), ARG137, ARG91), ARG224, ARG4, ARG243, ARG75, ARG80, ARG218, ARG140, ARG221, ARG130, ARG163, ARG102, ARG7, ARG222, ARG235, ARG114, sigmoid(ARG90, ARG217), ARG137, ARG91, ARG249), linear(ARG134, ARG8, absolute(step(sigmoid(ARG88, ARG64, ARG24), ARG107, ARG107), ARG107)), ARG203, ARG134, ARG8, absolute(step(sigmoid(ARG88, ARG64, ARG24), ARG107, ARG107), ARG107), ARG68, ARG227)\n",
      "\n",
      "sigmoid(ARG184, ARG98, ARG97, ARG178, ARG188, ARG87, ARG70, ARG187, ARG136, ARG115, ARG74, ARG161, ARG75, ARG201, ARG62, ARG213, ARG235, ARG203, ARG158, ARG31, ARG83, ARG17, ARG104, ARG156, ARG88, ARG182, ARG60, ARG184, ARG70, ARG176, ARG101, ARG0, ARG61, ARG249, ARG164, ARG8, ARG223, ARG44, ARG7, ARG38, ARG140, ARG193, ARG138, ARG180, ARG198, ARG53, ARG110, ARG234, ARG143, ARG224, ARG169, ARG236, ARG69, ARG41, ARG240, ARG244, ARG23, ARG245, ARG115, ARG198, ARG218, ARG79, ARG189, ARG78, ARG193, ARG38, ARG208, ARG199, absolute(ARG37, ARG249, ARG86, ARG248, ARG68, ARG144, ARG234, ARG120, ARG51, ARG242, ARG219, ARG237, ARG152, ARG46, ARG22, ARG120, ARG157, ARG140, ARG222, ARG44, ARG171, ARG55, ARG3, ARG49, ARG123, ARG58, ARG72), ARG60, ARG242, ARG246, ARG55, ARG41, ARG31, ARG180, ARG72, ARG215, inverse(ARG85, gaussian(linear(ARG167, ARG113, ARG29, ARG105, ARG168, ARG111, absolute(ARG111, ARG91, sine(ARG22, ARG71, ARG29, ARG108), ARG71, ARG29, ARG108), ARG71, ARG161, ARG112, ARG150, ARG0, ARG91, tanh(ARG113, ARG108, ARG167, ARG188, ARG112), ARG148, ARG108, ARG53, ARG8, ARG170), ARG226, sigmoid(linear(ARG167, ARG113, ARG29, ARG105, ARG168, ARG111, absolute(ARG111, ARG91, sine(ARG22, ARG71, ARG29, ARG108), ARG71, ARG29, ARG108), ARG71, ARG161, ARG112, ARG150, ARG0, ARG91, tanh(ARG113, ARG108, ARG167, ARG188, ARG112), ARG148, ARG108, ARG53, ARG8, ARG170))), linear(ARG167, ARG113, ARG29, ARG105, ARG168, ARG111, absolute(ARG111, ARG91, sine(ARG22, ARG71, ARG29, ARG108), ARG71, ARG29, ARG108), ARG71, ARG161, ARG112, ARG150, ARG0, ARG91, tanh(ARG113, ARG108, ARG167, ARG188, ARG112), ARG148, ARG108, ARG53, ARG8, ARG170), sigmoid(linear(ARG167, ARG113, ARG29, ARG105, ARG168, ARG111, absolute(ARG111, ARG91, sine(ARG22, ARG71, ARG29, ARG108), ARG71, ARG29, ARG108), ARG71, ARG161, ARG112, ARG150, ARG0, ARG91, tanh(ARG113, ARG108, ARG167, ARG188, ARG112), ARG148, ARG108, ARG53, ARG8, ARG170))), ARG108, ARG105)\n",
      "\n",
      "sigmoid(ARG45, ARG124, ARG21, ARG10, ARG186, ARG8, ARG151, ARG25, ARG173, ARG128, ARG187, ARG134, ARG217, ARG56, ARG105, ARG129, ARG44, ARG188, ARG76, ARG91, ARG191, ARG126, ARG187, ARG56, ARG187, ARG79, ARG81, ARG217, ARG143, ARG63, ARG109, ARG165, ARG22, ARG207, ARG204, ARG164, ARG169, ARG26, ARG223, ARG49, ARG76, ARG24, ARG206, ARG93, ARG200, ARG65, ARG116, ARG82, ARG134, ARG185, ARG187, ARG4, ARG33, ARG129, ARG168, ARG143, ARG187, ARG27, ARG95, ARG65, ARG166, ARG96, ARG136, ARG44, ARG177, ARG114, ARG6, ARG163, ARG209, ARG20, ARG82, ARG126, ARG97, ARG189, ARG140, ARG56, ARG55, ARG155, ARG21, ARG206, ARG104, ARG175, ARG7, ARG143, ARG151, ARG46, ARG36, ARG23, ARG155, ARG195, ARG144, ARG126, ARG39, ARG196, ARG205, ARG0, ARG57, ARG120, ARG246, ARG25, ARG167, ARG190)\n",
      "\n",
      "sigmoid(ARG145, ARG211, ARG79, ARG38, ARG222, ARG198, ARG146, ARG159, ARG6, ARG19, ARG68, ARG35, ARG162, inverse(ARG9, ARG2, ARG237, ARG166, ARG5, ARG94, ARG214, ARG51, ARG82, ARG254, ARG177, ARG213, ARG111, ARG192, ARG187, ARG184, ARG57, ARG159, ARG8, ARG71, ARG143, ARG167, cosine(ARG252, ARG73, ARG69, ARG59, ARG165, ARG255, ARG44, ARG136, ARG250, ARG232, ARG160, ARG122, ARG114, ARG107, sine(ARG49, ARG92, ARG176, ARG92, ARG37, ARG200, ARG49, ARG82, ARG192, ARG22, ARG102, ARG129, ARG48, ARG5, ARG80, linear(ARG243, ARG75, ARG80, ARG206, ARG218, ARG140, ARG221, ARG130, ARG163, ARG102, ARG7, ARG222, ARG235, ARG114, sigmoid(ARG90, ARG217), ARG137, ARG91), ARG224, ARG4, ARG243, ARG75, ARG80, ARG218, ARG140, ARG221, ARG130, ARG163, ARG102, ARG7, ARG222, ARG235, ARG114, sigmoid(ARG90, ARG217), ARG137, ARG91, ARG249), ARG118, ARG213, absolute(ARG37, ARG249, ARG86, ARG248, ARG68, ARG144, ARG234, ARG120, ARG51, ARG242, ARG219, ARG237, ARG152, ARG46, ARG22, ARG120, ARG157, ARG140, ARG222, ARG44, ARG171, ARG55, ARG3, ARG49, ARG123, ARG58, ARG72), ARG26, linear(ARG218, ARG201, ARG18, ARG150, ARG12, ARG98, ARG63, ARG195, ARG4, ARG237, ARG94, ARG7, ARG149, ARG70, ARG134, ARG176, ARG199, ARG115, ARG215, ARG160, ARG47, ARG58, ARG54), ARG218, ARG201, ARG18, ARG150, ARG12, ARG98, ARG63, ARG195, ARG4, ARG237, ARG94, ARG7, ARG149, ARG70, ARG134, ARG199, ARG115, ARG215, ARG160, ARG47, ARG58, ARG54, ARG138), ARG252, ARG63, ARG215, ARG120, ARG102), ARG123, ARG9, ARG2, ARG237, ARG166, ARG5, ARG94, ARG214, ARG51, ARG254, ARG177, ARG213, ARG111, ARG192, ARG187, ARG159, ARG71, ARG143, cosine(ARG252, ARG73, ARG69, ARG59, ARG165, ARG255, ARG44, ARG136, ARG250, ARG232, ARG160, ARG122, ARG114, ARG107, sine(ARG49, ARG92, ARG176, ARG92, ARG37, ARG200, ARG49, ARG82, ARG192, ARG22, ARG102, ARG129, ARG48, ARG5, ARG80, linear(ARG243, ARG75, ARG80, ARG206, ARG218, ARG140, ARG221, ARG130, ARG163, ARG102, ARG7, ARG222, ARG235, ARG114, sigmoid(ARG90, ARG217), ARG137, ARG91), ARG224, ARG4, ARG243, ARG75, ARG80, ARG218, ARG140, ARG221, ARG130, ARG163, ARG102, ARG7, ARG222, ARG235, ARG114, sigmoid(ARG90, ARG217), ARG137, ARG91, ARG249), ARG118, ARG213, absolute(ARG37, ARG249, ARG86, ARG248, ARG68, ARG144, ARG234, ARG120, ARG51, ARG242, ARG219, ARG237, ARG152, ARG46, ARG22, ARG120, ARG157, ARG140, ARG222, ARG44, ARG171, ARG55, ARG3, ARG49, ARG123, ARG58, ARG72), ARG26, linear(ARG218, ARG201, ARG18, ARG150, ARG12, ARG98, ARG63, ARG195, ARG4, ARG237, ARG94, ARG7, ARG149, ARG70, ARG134, ARG176, ARG199, ARG115, ARG215, ARG160, ARG47, ARG58, ARG54), ARG218, ARG201, ARG18, ARG150, ARG12, ARG98, ARG63, ARG195, ARG4, ARG237, ARG94, ARG7, ARG149, ARG70, ARG134, ARG199, ARG115, ARG215, ARG160, ARG47, ARG58, ARG54, ARG138), ARG252, ARG215, ARG120, ARG102, ARG175, ARG72, ARG212, ARG231, ARG7, gaussian(ARG83, ARG122, ARG167, ARG82, ARG159, ARG63, ARG63, ARG158, ARG134, ARG180, ARG8, ARG134, ARG215, ARG161, ARG84, ARG57, ARG136, ARG109, ARG184, ARG231), ARG83)\n",
      "\n",
      "sigmoid(ARG76, ARG23, ARG112, ARG44, ARG14, ARG67, ARG32, ARG35, ARG172, ARG7, ARG223, ARG228, ARG169, ARG163, ARG237, ARG251, ARG117, ARG50, ARG252, ARG163, ARG217, ARG4, ARG231, ARG127, ARG1, ARG119, ARG244, ARG245, ARG74, ARG233, ARG98, ARG218, ARG157, ARG193, ARG40, ARG216, ARG102, ARG44, ARG34, linear(ARG152, ARG238, ARG134, ARG135, ARG21, ARG197, ARG202, ARG253, ARG130, ARG194, ARG77, ARG42, ARG190, ARG1, ARG31, ARG111, ARG78, ARG191, ARG113, ARG1, sine(ARG235, ARG218, ARG27, ARG108, ARG175, ARG58, ARG0, ARG81, ARG46, ARG230, ARG122, ARG19, ARG219, ARG246, ARG9, ARG222, ARG132, ARG167, ARG156, ARG19, ARG214, ARG231, ARG73, ARG38, ARG195, ARG57, ARG202, ARG2, ARG179, ARG184, ARG9, ARG61, ARG218, ARG173, ARG254, ARG144, ARG72, ARG108, ARG1, ARG80), ARG235, ARG218, ARG27, ARG108, ARG175, ARG58, ARG0, ARG81, ARG46, ARG230, ARG122, ARG19, ARG219, ARG246, ARG9, ARG222, ARG132, ARG167, ARG156, ARG19, ARG214, ARG231, ARG73, ARG38, ARG195, ARG57, ARG202, ARG2, ARG179, ARG184, ARG9, ARG61, ARG218, ARG173, ARG254, ARG144, ARG72, ARG108, ARG1, ARG80), ARG245, ARG64, ARG67)\n",
      "\n",
      "sigmoid(ARG186, ARG21, ARG64, ARG102, ARG134, tanh(ARG126, ARG33, ARG219, ARG68, ARG237, ARG50, ARG246, ARG174, ARG242), linear(inverse(ARG85, gaussian(linear(ARG167, ARG113, ARG29, ARG105, ARG168, ARG111, absolute(ARG111, ARG91, sine(ARG22, ARG71, ARG29, ARG108), ARG71, ARG29, ARG108), ARG71, ARG161, ARG112, ARG150, ARG0, ARG91, tanh(ARG113, ARG108, ARG167, ARG188, ARG112), ARG148, ARG108, ARG53, ARG8, ARG170), ARG226, sigmoid(linear(ARG167, ARG113, ARG29, ARG105, ARG168, ARG111, absolute(ARG111, ARG91, sine(ARG22, ARG71, ARG29, ARG108), ARG71, ARG29, ARG108), ARG71, ARG161, ARG112, ARG150, ARG0, ARG91, tanh(ARG113, ARG108, ARG167, ARG188, ARG112), ARG148, ARG108, ARG53, ARG8, ARG170))), linear(ARG167, ARG113, ARG29, ARG105, ARG168, ARG111, absolute(ARG111, ARG91, sine(ARG22, ARG71, ARG29, ARG108), ARG71, ARG29, ARG108), ARG71, ARG161, ARG112, ARG150, ARG0, ARG91, tanh(ARG113, ARG108, ARG167, ARG188, ARG112), ARG148, ARG108, ARG53, ARG8, ARG170), sigmoid(linear(ARG167, ARG113, ARG29, ARG105, ARG168, ARG111, absolute(ARG111, ARG91, sine(ARG22, ARG71, ARG29, ARG108), ARG71, ARG29, ARG108), ARG71, ARG161, ARG112, ARG150, ARG0, ARG91, tanh(ARG113, ARG108, ARG167, ARG188, ARG112), ARG148, ARG108, ARG53, ARG8, ARG170))), ARG33, ARG109, ARG172, ARG192, ARG116, ARG19, ARG156, ARG68, ARG126, ARG158, ARG169, ARG121, ARG210, ARG116, ARG137, ARG167, ARG112, ARG217, ARG50, ARG73, ARG19, ARG29, ARG173, ARG236, ARG246, ARG239, ARG201, ARG174, ARG229, ARG55, ARG236, ARG233, ARG161, ARG95, ARG73, ARG131, ARG180, ARG77, ARG90, ARG73, ARG115, ARG242, ARG71, ARG57, ARG33, ARG103, ARG219, ARG68, ARG130, ARG185, ARG56, ARG40, ARG179, ARG36, ARG235, inverse(ARG173, ARG172, ARG246, ARG70, ARG206, ARG242, inverse(ARG85, gaussian(linear(ARG167, ARG113, ARG29, ARG105, ARG168, ARG111, absolute(ARG111, ARG91, sine(ARG22, ARG71, ARG29, ARG108), ARG71, ARG29, ARG108), ARG71, ARG161, ARG112, ARG150, ARG0, ARG91, tanh(ARG113, ARG108, ARG167, ARG188, ARG112), ARG148, ARG108, ARG53, ARG8, ARG170), ARG226, sigmoid(linear(ARG167, ARG113, ARG29, ARG105, ARG168, ARG111, absolute(ARG111, ARG91, sine(ARG22, ARG71, ARG29, ARG108), ARG71, ARG29, ARG108), ARG71, ARG161, ARG112, ARG150, ARG0, ARG91, tanh(ARG113, ARG108, ARG167, ARG188, ARG112), ARG148, ARG108, ARG53, ARG8, ARG170))), linear(ARG167, ARG113, ARG29, ARG105, ARG168, ARG111, absolute(ARG111, ARG91, sine(ARG22, ARG71, ARG29, ARG108), ARG71, ARG29, ARG108), ARG71, ARG161, ARG112, ARG150, ARG0, ARG91, tanh(ARG113, ARG108, ARG167, ARG188, ARG112), ARG148, ARG108, ARG53, ARG8, ARG170), sigmoid(linear(ARG167, ARG113, ARG29, ARG105, ARG168, ARG111, absolute(ARG111, ARG91, sine(ARG22, ARG71, ARG29, ARG108), ARG71, ARG29, ARG108), ARG71, ARG161, ARG112, ARG150, ARG0, ARG91, tanh(ARG113, ARG108, ARG167, ARG188, ARG112), ARG148, ARG108, ARG53, ARG8, ARG170)))), ARG149, ARG44, ARG206, ARG112, ARG62, ARG253, ARG201, ARG208, ARG37, ARG234), ARG43, step(ARG14, ARG32, ARG25, ARG29, ARG72, ARG195, ARG237, ARG26, ARG89))\n",
      "\n"
     ]
    }
   ],
   "source": [
    "# Print the trees of the best individual\n",
    "for string in best_ind.get_strings():\n",
    "    print(f\"{string}\\n\")"
   ]
  },
  {
   "cell_type": "markdown",
   "metadata": {},
   "source": [
    "##### Computing training & validation accuracy"
   ]
  },
  {
   "cell_type": "code",
   "execution_count": 29,
   "metadata": {},
   "outputs": [],
   "source": [
    "# Retrieving predictions from an individual\n",
    "def get_predictions(individual, X):\n",
    "    func = compile_multiclasstree(individual)\n",
    "    predictions = []\n",
    "    for i in range(X.shape[0]):\n",
    "        outputs_i = func(X[i])\n",
    "        predictions.append(np.argmax(outputs_i))\n",
    "    return predictions"
   ]
  },
  {
   "cell_type": "code",
   "execution_count": 30,
   "metadata": {},
   "outputs": [],
   "source": [
    "# Retrieve predictions of the best individual on the training and validation sets\n",
    "Y_train_pred = get_predictions(best_ind, X_train)\n",
    "Y_test_pred = get_predictions(best_ind, X_test)"
   ]
  },
  {
   "cell_type": "code",
   "execution_count": 31,
   "metadata": {},
   "outputs": [],
   "source": [
    "# Compute accuracy of predictions\n",
    "def compute_accuracy(Y_pred, Y_true):\n",
    "    n_correct = np.sum(Y_pred == Y_true)\n",
    "    return n_correct/Y_true.shape[0]"
   ]
  },
  {
   "cell_type": "code",
   "execution_count": 32,
   "metadata": {},
   "outputs": [
    {
     "name": "stdout",
     "output_type": "stream",
     "text": [
      "Training accuracy: 0.40865\n",
      "Validation accuracy: 0.4111\n"
     ]
    }
   ],
   "source": [
    "# Print training and validation accuracies of the best individual\n",
    "print(f\"Training accuracy: {compute_accuracy(Y_train_pred, Y_train)}\")\n",
    "print(f\"Validation accuracy: {compute_accuracy(Y_test_pred, Y_test)}\")"
   ]
  },
  {
   "cell_type": "markdown",
   "metadata": {},
   "source": [
    "##### Confusion matrices"
   ]
  },
  {
   "cell_type": "code",
   "execution_count": 33,
   "metadata": {},
   "outputs": [],
   "source": [
    "# Compute confusion matrices\n",
    "cm_train = confusion_matrix(Y_train, Y_train_pred, labels=range(N_CLASSES_TO_USE))\n",
    "cm_test = confusion_matrix(Y_test, Y_test_pred, labels=range(N_CLASSES_TO_USE))"
   ]
  },
  {
   "cell_type": "code",
   "execution_count": 34,
   "metadata": {},
   "outputs": [
    {
     "data": {
      "image/png": "[encoded data removed]",
      "text/plain": [
       "<Figure size 792x288 with 4 Axes>"
      ]
     },
     "metadata": {
      "needs_background": "light"
     },
     "output_type": "display_data"
    }
   ],
   "source": [
    "# Create figure\n",
    "fig, ax = plt.subplots(1,2, figsize=(11,4))\n",
    "\n",
    "# Plot confusion matrix for training data\n",
    "sns.heatmap(cm_train, annot=True, fmt='g', ax=ax[0], cmap=\"Blues\")\n",
    "ax[0].set_xlabel('Predicted labels')\n",
    "ax[0].set_ylabel('True labels')\n",
    "ax[0].set_title('Confusion matrix for training data')\n",
    "\n",
    "# Plot confusion matrix for validation data\n",
    "sns.heatmap(cm_test, annot=True, fmt='g', ax=ax[1], cmap=\"Blues\")\n",
    "ax[1].set_xlabel('Predicted labels')\n",
    "ax[1].set_ylabel('True labels')\n",
    "ax[1].set_title('Confusion matrix for validation data')\n",
    "\n",
    "# Show the result\n",
    "plt.show()"
   ]
  },
  {
   "cell_type": "markdown",
   "metadata": {},
   "source": [
    "##### Used features"
   ]
  },
  {
   "cell_type": "code",
   "execution_count": 35,
   "metadata": {},
   "outputs": [
    {
     "data": {
      "image/png": "[encoded data removed]",
      "text/plain": [
       "<Figure size 1440x144 with 10 Axes>"
      ]
     },
     "metadata": {
      "needs_background": "light"
     },
     "output_type": "display_data"
    }
   ],
   "source": [
    "# Create plots of the inputs (pixels) used in the tree of the best individual for each class \n",
    "fig, ax = plt.subplots(1, N_CLASSES_TO_USE, figsize=(20,20/N_CLASSES_TO_USE))\n",
    "for i, tree in enumerate(best_ind.get_strings()):\n",
    "    inputs_used = list(map(int, re.findall(\"[0-9]+\", str(tree))))\n",
    "    input_tallies = np.zeros(X_train.shape[1])\n",
    "    for arg in inputs_used:\n",
    "        input_tallies[arg] += 1\n",
    "    img_shape = int(math.sqrt(X_train.shape[1]))\n",
    "    ax[i].imshow(input_tallies.reshape(img_shape, img_shape))\n",
    "    ax[i].axis(\"off\")\n",
    "    ax[i].set_title(f\"Pixels used for class {i}\") \n",
    "plt.show()"
   ]
  }
 ],
 "metadata": {
  "kernelspec": {
   "display_name": "Python 3",
   "language": "python",
   "name": "python3"
  },
  "language_info": {
   "codemirror_mode": {
    "name": "ipython",
    "version": 3
   },
   "file_extension": ".py",
   "mimetype": "text/x-python",
   "name": "python",
   "nbconvert_exporter": "python",
   "pygments_lexer": "ipython3",
   "version": "3.8.3"
  }
 },
 "nbformat": 4,
 "nbformat_minor": 4
}
