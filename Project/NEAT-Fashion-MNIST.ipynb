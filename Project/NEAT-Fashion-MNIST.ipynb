{
 "cells": [
  {
   "cell_type": "code",
   "execution_count": 10,
   "metadata": {},
   "outputs": [],
   "source": [
    "#!pip3 install neat-python\n",
    "\n",
    "# from keras.datasets import fashion_mnist\n",
    "import tensorflow as tf\n",
    "import numpy as np\n",
    "import ssl\n",
    "import neat\n",
    "from skimage.transform import rescale\n",
    "from sklearn.metrics import confusion_matrix\n",
    "import seaborn as sns\n",
    "import matplotlib.pyplot as plt\n",
    "import math\n",
    "import pickle\n",
    "\n",
    "fashion_mnist = tf.keras.datasets.fashion_mnist\n",
    "\n"
   ]
  },
  {
   "cell_type": "markdown",
   "metadata": {},
   "source": [
    "## Global Parameters"
   ]
  },
  {
   "cell_type": "code",
   "execution_count": 11,
   "metadata": {},
   "outputs": [],
   "source": [
    "# Dataset parameters\n",
    "STANDARD_IMAGE_SIZE = 28\n",
    "DESIRED_IMAGE_SIZE = 16\n",
    "N_CLASSES_TO_USE = 10\n",
    "\n",
    "RESCALE_FACTOR = DESIRED_IMAGE_SIZE/STANDARD_IMAGE_SIZE\n",
    "N_PIXELS = DESIRED_IMAGE_SIZE**2\n",
    "\n",
    "# How many samples to test:\n",
    "N_SAMPLES_TO_TEST = 200\n",
    "\n",
    "# Simulation Parameters\n",
    "NR_GENERATIONS = 1000\n",
    "CONFIG_FILE = 'NEAT-configs/mnist-wann'"
   ]
  },
  {
   "cell_type": "markdown",
   "metadata": {},
   "source": [
    "## Load Fashion-MNIST"
   ]
  },
  {
   "cell_type": "code",
   "execution_count": 12,
   "metadata": {
    "scrolled": true
   },
   "outputs": [],
   "source": [
    "(X_train, Y_train), (X_test, Y_test) = fashion_mnist.load_data()"
   ]
  },
  {
   "cell_type": "markdown",
   "metadata": {},
   "source": [
    "## Preprocess Fashion-MNIST"
   ]
  },
  {
   "cell_type": "markdown",
   "metadata": {},
   "source": [
    "### Trim down Dataset"
   ]
  },
  {
   "cell_type": "code",
   "execution_count": 13,
   "metadata": {},
   "outputs": [
    {
     "name": "stdout",
     "output_type": "stream",
     "text": [
      "Training samples remaining: 60000\n",
      "Testing samples remaining: 10000\n"
     ]
    }
   ],
   "source": [
    "# Ensure correct number of classes\n",
    "X_train = X_train[Y_train < N_CLASSES_TO_USE]\n",
    "Y_train = Y_train[Y_train < N_CLASSES_TO_USE]\n",
    "X_test = X_test[Y_test < N_CLASSES_TO_USE]\n",
    "Y_test = Y_test[Y_test < N_CLASSES_TO_USE]\n",
    "\n",
    "# Extract and print the number of training and testing samples remaining\n",
    "n_samples_train = X_train.shape[0]\n",
    "n_samples_test = X_test.shape[0]\n",
    "print(f\"Training samples remaining: {n_samples_train}\")\n",
    "print(f\"Testing samples remaining: {n_samples_test}\")"
   ]
  },
  {
   "cell_type": "markdown",
   "metadata": {},
   "source": [
    "### Rescale Images"
   ]
  },
  {
   "cell_type": "code",
   "execution_count": 14,
   "metadata": {},
   "outputs": [],
   "source": [
    "# Rescaling to the desired size\n",
    "def rescale_images(images, do_anti_aliasing=False):\n",
    "    return np.array([rescale(image, RESCALE_FACTOR, anti_aliasing=do_anti_aliasing) for image in images])\n",
    "\n",
    "# Rescale X_train and X_test\n",
    "X_train_small = rescale_images(X_train)\n",
    "X_test_small = rescale_images(X_test)"
   ]
  },
  {
   "cell_type": "markdown",
   "metadata": {},
   "source": [
    "### Normalize"
   ]
  },
  {
   "cell_type": "code",
   "execution_count": 15,
   "metadata": {},
   "outputs": [],
   "source": [
    "# Normalize the data\n",
    "def normalize(images):\n",
    "    return (images - np.mean(images, axis=0))/(np.std(images, axis=0) + 0.000001)\n",
    "\n",
    "# Normalize X_train_small and X_test_small\n",
    "X_train_norm = normalize(X_train_small)\n",
    "X_test_norm = normalize(X_test_small)"
   ]
  },
  {
   "cell_type": "markdown",
   "metadata": {},
   "source": [
    "### Visualize"
   ]
  },
  {
   "cell_type": "code",
   "execution_count": 16,
   "metadata": {
    "scrolled": true
   },
   "outputs": [
    {
     "data": {
      "image/png": "[encoded data removed]",
      "text/plain": [
       "<Figure size 720x240 with 3 Axes>"
      ]
     },
     "metadata": {
      "needs_background": "light"
     },
     "output_type": "display_data"
    }
   ],
   "source": [
    "# Plot original and reshaped image\n",
    "def plot_comparison(idx_to_plot, lists, titles):\n",
    "    n_plots = len(lists)\n",
    "    fig, ax = plt.subplots(1,n_plots, figsize=(10,10/n_plots))\n",
    "    for i in range(n_plots):\n",
    "        ax[i].imshow(lists[i][idx_to_plot])\n",
    "        ax[i].set_title(titles[i])\n",
    "        ax[i].axis(\"off\")\n",
    "    fig.suptitle(f\"Preprocessing of sample {idx_to_plot}\",y=1)\n",
    "    plt.show()\n",
    "    \n",
    "plot_comparison(37,\n",
    "                [X_train, X_train_small, X_train_norm],\n",
    "                [f\"Original {STANDARD_IMAGE_SIZE}x{STANDARD_IMAGE_SIZE} image\",\n",
    "                 f\"Rescaled {DESIRED_IMAGE_SIZE}x{DESIRED_IMAGE_SIZE} image\",\n",
    "                 f\"Normalized {DESIRED_IMAGE_SIZE}x{DESIRED_IMAGE_SIZE} image\"])"
   ]
  },
  {
   "cell_type": "code",
   "execution_count": 17,
   "metadata": {},
   "outputs": [],
   "source": [
    "# Replace and reshape X_train and X_test, for convenience\n",
    "X_train = X_train_norm.reshape(n_samples_train, DESIRED_IMAGE_SIZE**2)\n",
    "X_test = X_test_norm.reshape(n_samples_test, DESIRED_IMAGE_SIZE**2)"
   ]
  },
  {
   "cell_type": "markdown",
   "metadata": {},
   "source": [
    "# NEAT"
   ]
  },
  {
   "cell_type": "markdown",
   "metadata": {},
   "source": [
    "## Basic Run Function"
   ]
  },
  {
   "cell_type": "code",
   "execution_count": 22,
   "metadata": {},
   "outputs": [],
   "source": [
    "def exp(x):\n",
    "    return np.exp(np.clip(x, -float('inf'), 709.))\n",
    "\n",
    "def sigmoid(output):\n",
    "    output = [min(709., x) for x in output]\n",
    "    output = [max(-709., x) for x in output]\n",
    "    return [1 /(1 + exp(-x)) for x in output]"
   ]
  },
  {
   "cell_type": "code",
   "execution_count": 23,
   "metadata": {},
   "outputs": [],
   "source": [
    "def step(x):\n",
    "    return 1.0*(x>0.0)\n",
    "\n",
    "def cos(x):\n",
    "    try:\n",
    "        x = max(-60.0, min(60.0, 5.0 * x))\n",
    "        return math.cos(x)\n",
    "    except ValueError:\n",
    "        print(x)\n",
    "\n",
    "def run(config_file):\n",
    "    # Load configuration.\n",
    "    config = neat.Config(neat.DefaultGenome, neat.DefaultReproduction,\n",
    "                         neat.DefaultSpeciesSet, neat.DefaultStagnation,\n",
    "                         config_file)\n",
    "\n",
    "    config.genome_config.add_activation('cos', cos)\n",
    "    config.genome_config.add_activation('step', step)\n",
    "    # Create the population, which is the top-level object for a NEAT run.\n",
    "    p = neat.Population(config)\n",
    "    \n",
    "    # Add a stdout reporter to show progress in the terminal.\n",
    "    p.add_reporter(neat.StdOutReporter(True))\n",
    "    stats = neat.StatisticsReporter()\n",
    "    \n",
    "    p.add_reporter(stats)\n",
    "    p.add_reporter(neat.Checkpointer(50, filename_prefix='NEAT-checkpoints/neat-checkpoint-10-classes-fashion-'))\n",
    "    \n",
    "    \n",
    "    # Run for up to NR_GENERATIONS generations.\n",
    "    winner = p.run(eval_genomes, NR_GENERATIONS)\n",
    "    stats.save_genome_fitness(filename=\"NEAT-results/fashion_fitness_history.csv\")\n",
    "    \n",
    "    with open('NEAT-results/best_genomes_fashion', 'wb') as f:\n",
    "        best_genomes = stats.best_genomes(10)\n",
    "        pickle.dump(best_genomes,f)\n",
    "    \n",
    "    \n",
    "    # Display the winning genome.\n",
    "    print('\\nBest genome:\\n{!s}'.format(winner))\n"
   ]
  },
  {
   "cell_type": "markdown",
   "metadata": {},
   "source": [
    "## Basic Evaluation Function"
   ]
  },
  {
   "cell_type": "code",
   "execution_count": null,
   "metadata": {},
   "outputs": [],
   "source": []
  },
  {
   "cell_type": "code",
   "execution_count": 24,
   "metadata": {},
   "outputs": [],
   "source": [
    "def eval_genomes(genomes, config):\n",
    "    \n",
    "    def _cross_entropy(pred, label):\n",
    "        return -np.log(exp(pred[label])/np.sum(exp(pred), axis=0))\n",
    "    \n",
    "    sample_indices = []\n",
    "    n_samples_per_class = int(N_SAMPLES_TO_TEST/N_CLASSES_TO_USE)\n",
    "    for c in range(N_CLASSES_TO_USE):\n",
    "        c_indices = np.where(Y_train == c)[0]\n",
    "        assert len(c_indices) >= n_samples_per_class, \\\n",
    "            f\"Class {c} has too few elements to reach the desired number of evaluation samples\"\n",
    "        sample_indices.extend(np.random.permutation(c_indices)[:n_samples_per_class])\n",
    "    \n",
    "    # Compute cross-entropy loss for each of the samples\n",
    "    losses = []\n",
    "    for i in sample_indices:\n",
    "        X_sample, Y_sample = X_train[i], Y_train[i]\n",
    "        \n",
    "    \n",
    "    for genome_id, genome in genomes:\n",
    "        ce = []\n",
    "        \n",
    "        genome.fitness = 0.\n",
    "        net = neat.nn.FeedForwardNetwork.create(genome, config)\n",
    "        nr_correct = 0.\n",
    "        for i in sample_indices:\n",
    "            train, label = X_train[i], Y_train[i]\n",
    "            output = net.activate(train)\n",
    "            ce.append(-_cross_entropy(sigmoid(output), label))\n",
    "#             if np.argmax(sigmoid(output)) == label:\n",
    "#                 nr_correct += 1.\n",
    "\n",
    "        genome.fitness = np.average(ce)          \n",
    "    "
   ]
  },
  {
   "cell_type": "code",
   "execution_count": null,
   "metadata": {
    "scrolled": false
   },
   "outputs": [
    {
     "name": "stdout",
     "output_type": "stream",
     "text": [
      "\n",
      " ****** Running generation 0 ****** \n",
      "\n",
      "Population's average fitness: -2.32546 stdev: 0.02854\n",
      "Best fitness: -2.25724 - size: (10, 128) - species 1 - id 149\n",
      "Average adjusted fitness: 0.096\n",
      "Mean genetic distance 2.351, standard deviation 0.207\n",
      "Population of 250 members in 1 species:\n",
      "   ID   age  size  fitness  adj fit  stag\n",
      "  ====  ===  ====  =======  =======  ====\n",
      "     1    0   250     -2.3    0.096     0\n",
      "Total extinctions: 0\n",
      "Generation time: 17.829 sec\n",
      "\n",
      " ****** Running generation 1 ****** \n",
      "\n",
      "Population's average fitness: -2.30822 stdev: 0.02818\n",
      "Best fitness: -2.23827 - size: (11, 130) - species 1 - id 273\n",
      "Average adjusted fitness: 0.077\n",
      "Mean genetic distance 2.358, standard deviation 0.185\n",
      "Population of 250 members in 1 species:\n",
      "   ID   age  size  fitness  adj fit  stag\n",
      "  ====  ===  ====  =======  =======  ====\n",
      "     1    1   250     -2.2    0.077     0\n",
      "Total extinctions: 0\n",
      "Generation time: 18.007 sec (17.918 average)\n",
      "\n",
      " ****** Running generation 2 ****** \n",
      "\n",
      "Population's average fitness: -2.29388 stdev: 0.03289\n",
      "Best fitness: -2.18971 - size: (11, 128) - species 1 - id 570\n",
      "Average adjusted fitness: 0.100\n",
      "Mean genetic distance 1.999, standard deviation 0.720\n",
      "Population of 250 members in 1 species:\n",
      "   ID   age  size  fitness  adj fit  stag\n",
      "  ====  ===  ====  =======  =======  ====\n",
      "     1    2   250     -2.2    0.100     0\n",
      "Total extinctions: 0\n",
      "Generation time: 18.153 sec (17.996 average)\n",
      "\n",
      " ****** Running generation 3 ****** \n",
      "\n",
      "Population's average fitness: -2.28327 stdev: 0.02690\n",
      "Best fitness: -2.20918 - size: (10, 129) - species 1 - id 856\n",
      "Average adjusted fitness: 0.079\n",
      "Mean genetic distance 1.575, standard deviation 0.916\n",
      "Population of 250 members in 1 species:\n",
      "   ID   age  size  fitness  adj fit  stag\n",
      "  ====  ===  ====  =======  =======  ====\n",
      "     1    3   250     -2.2    0.079     1\n",
      "Total extinctions: 0\n",
      "Generation time: 17.573 sec (17.890 average)\n",
      "\n",
      " ****** Running generation 4 ****** \n",
      "\n",
      "Population's average fitness: -2.27618 stdev: 0.03270\n",
      "Best fitness: -2.18499 - size: (10, 129) - species 1 - id 1156\n",
      "Average adjusted fitness: 0.079\n",
      "Mean genetic distance 1.334, standard deviation 0.925\n",
      "Population of 250 members in 1 species:\n",
      "   ID   age  size  fitness  adj fit  stag\n",
      "  ====  ===  ====  =======  =======  ====\n",
      "     1    4   250     -2.2    0.079     0\n",
      "Total extinctions: 0\n",
      "Generation time: 17.609 sec (17.834 average)\n",
      "\n",
      " ****** Running generation 5 ****** \n",
      "\n",
      "Population's average fitness: -2.26885 stdev: 0.03056\n",
      "Best fitness: -2.17983 - size: (10, 127) - species 1 - id 1451\n",
      "Average adjusted fitness: 0.090\n",
      "Mean genetic distance 0.993, standard deviation 0.807\n",
      "Population of 250 members in 1 species:\n",
      "   ID   age  size  fitness  adj fit  stag\n",
      "  ====  ===  ====  =======  =======  ====\n",
      "     1    5   250     -2.2    0.090     0\n",
      "Total extinctions: 0\n",
      "Generation time: 17.379 sec (17.758 average)\n",
      "\n",
      " ****** Running generation 6 ****** \n",
      "\n",
      "Population's average fitness: -2.27011 stdev: 0.02830\n",
      "Best fitness: -2.18240 - size: (10, 129) - species 1 - id 1555\n",
      "Average adjusted fitness: 0.084\n",
      "Mean genetic distance 1.212, standard deviation 0.896\n",
      "Population of 250 members in 1 species:\n",
      "   ID   age  size  fitness  adj fit  stag\n",
      "  ====  ===  ====  =======  =======  ====\n",
      "     1    6   250     -2.2    0.084     1\n",
      "Total extinctions: 0\n",
      "Generation time: 17.070 sec (17.660 average)\n",
      "\n",
      " ****** Running generation 7 ****** \n",
      "\n",
      "Population's average fitness: -2.27216 stdev: 0.02757\n",
      "Best fitness: -2.18235 - size: (10, 125) - species 1 - id 1936\n",
      "Average adjusted fitness: 0.075\n",
      "Mean genetic distance 1.521, standard deviation 0.896\n",
      "Population of 250 members in 1 species:\n",
      "   ID   age  size  fitness  adj fit  stag\n",
      "  ====  ===  ====  =======  =======  ====\n",
      "     1    7   250     -2.2    0.075     2\n",
      "Total extinctions: 0\n",
      "Generation time: 18.558 sec (17.772 average)\n",
      "\n",
      " ****** Running generation 8 ****** \n",
      "\n",
      "Population's average fitness: -2.26678 stdev: 0.03330\n",
      "Best fitness: -2.18658 - size: (10, 128) - species 1 - id 1559\n",
      "Average adjusted fitness: 0.087\n",
      "Mean genetic distance 1.487, standard deviation 0.883\n",
      "Population of 250 members in 1 species:\n",
      "   ID   age  size  fitness  adj fit  stag\n",
      "  ====  ===  ====  =======  =======  ====\n",
      "     1    8   250     -2.2    0.087     3\n",
      "Total extinctions: 0\n",
      "Generation time: 19.109 sec (17.921 average)\n",
      "\n",
      " ****** Running generation 9 ****** \n",
      "\n",
      "Population's average fitness: -2.26363 stdev: 0.03266\n",
      "Best fitness: -2.16857 - size: (11, 128) - species 1 - id 2353\n",
      "Average adjusted fitness: 0.102\n",
      "Mean genetic distance 1.205, standard deviation 0.874\n",
      "Population of 250 members in 1 species:\n",
      "   ID   age  size  fitness  adj fit  stag\n",
      "  ====  ===  ====  =======  =======  ====\n",
      "     1    9   250     -2.2    0.102     0\n",
      "Total extinctions: 0\n",
      "Generation time: 17.916 sec (17.920 average)\n",
      "\n",
      " ****** Running generation 10 ****** \n",
      "\n",
      "Population's average fitness: -2.26366 stdev: 0.03417\n",
      "Best fitness: -2.18375 - size: (11, 128) - species 1 - id 2353\n",
      "Average adjusted fitness: 0.104\n",
      "Mean genetic distance 0.974, standard deviation 0.748\n",
      "Population of 250 members in 1 species:\n",
      "   ID   age  size  fitness  adj fit  stag\n",
      "  ====  ===  ====  =======  =======  ====\n",
      "     1   10   250     -2.2    0.104     1\n",
      "Total extinctions: 0\n",
      "Generation time: 18.152 sec (17.953 average)\n",
      "\n",
      " ****** Running generation 11 ****** \n",
      "\n",
      "Population's average fitness: -2.26658 stdev: 0.03046\n",
      "Best fitness: -2.18947 - size: (10, 127) - species 1 - id 2735\n",
      "Average adjusted fitness: 0.094\n",
      "Mean genetic distance 0.756, standard deviation 0.535\n",
      "Population of 250 members in 1 species:\n",
      "   ID   age  size  fitness  adj fit  stag\n",
      "  ====  ===  ====  =======  =======  ====\n",
      "     1   11   250     -2.2    0.094     2\n",
      "Total extinctions: 0\n",
      "Generation time: 17.425 sec (17.894 average)\n",
      "\n",
      " ****** Running generation 12 ****** \n",
      "\n",
      "Population's average fitness: -2.26393 stdev: 0.02793\n",
      "Best fitness: -2.19395 - size: (11, 128) - species 1 - id 2353\n",
      "Average adjusted fitness: 0.081\n",
      "Mean genetic distance 0.718, standard deviation 0.476\n",
      "Population of 250 members in 1 species:\n",
      "   ID   age  size  fitness  adj fit  stag\n",
      "  ====  ===  ====  =======  =======  ====\n",
      "     1   12   250     -2.2    0.081     3\n",
      "Total extinctions: 0\n",
      "Generation time: 18.195 sec (17.899 average)\n",
      "\n",
      " ****** Running generation 13 ****** \n",
      "\n",
      "Population's average fitness: -2.25454 stdev: 0.03351\n",
      "Best fitness: -2.17497 - size: (11, 129) - species 1 - id 3371\n",
      "Average adjusted fitness: 0.080\n",
      "Mean genetic distance 0.594, standard deviation 0.103\n",
      "Population of 250 members in 1 species:\n",
      "   ID   age  size  fitness  adj fit  stag\n",
      "  ====  ===  ====  =======  =======  ====\n",
      "     1   13   250     -2.2    0.080     4\n",
      "Total extinctions: 0\n",
      "Generation time: 17.632 sec (17.905 average)\n",
      "\n",
      " ****** Running generation 14 ****** \n",
      "\n",
      "Population's average fitness: -2.26461 stdev: 0.03327\n",
      "Best fitness: -2.16948 - size: (10, 128) - species 1 - id 3595\n",
      "Average adjusted fitness: 0.091\n",
      "Mean genetic distance 0.609, standard deviation 0.108\n",
      "Population of 250 members in 1 species:\n",
      "   ID   age  size  fitness  adj fit  stag\n",
      "  ====  ===  ====  =======  =======  ====\n",
      "     1   14   250     -2.2    0.091     5\n",
      "Total extinctions: 0\n",
      "Generation time: 17.732 sec (17.917 average)\n",
      "\n",
      " ****** Running generation 15 ****** \n",
      "\n"
     ]
    }
   ],
   "source": [
    "run(CONFIG_FILE)"
   ]
  },
  {
   "cell_type": "markdown",
   "metadata": {},
   "source": [
    "## Plot History"
   ]
  },
  {
   "cell_type": "code",
   "execution_count": null,
   "metadata": {},
   "outputs": [],
   "source": [
    "history = np.genfromtxt('NEAT-results/fashion_fitness_history.csv', delimiter='')\n",
    "best_fitness = history[:,0]\n",
    "avg_fitness = history[:,1]"
   ]
  },
  {
   "cell_type": "code",
   "execution_count": null,
   "metadata": {},
   "outputs": [],
   "source": [
    "plt.plot(best_fitness, label = 'Best Fitness')\n",
    "plt.plot(avg_fitness, label = 'Average Fitness')\n",
    "plt.title('Best and Average Fitness over Generations')\n",
    "plt.xlabel('Generation')\n",
    "plt.ylabel('Fitness (Accuracy)')\n",
    "plt.legend()\n",
    "plt.show()"
   ]
  },
  {
   "cell_type": "markdown",
   "metadata": {},
   "source": [
    "## Load and Test Fittest Member"
   ]
  },
  {
   "cell_type": "code",
   "execution_count": null,
   "metadata": {
    "scrolled": false
   },
   "outputs": [],
   "source": [
    "def test_fittest(config_file):\n",
    "    config = neat.Config(neat.DefaultGenome, neat.DefaultReproduction,\n",
    "                         neat.DefaultSpeciesSet, neat.DefaultStagnation,\n",
    "                         config_file)\n",
    "    \n",
    "    preds_test = []\n",
    "    preds_train = []\n",
    "    train_correct = 0.\n",
    "    test_correct = 0. \n",
    "    fittest_genome = pickle.load( open('NEAT-results/best_genomes_fashion', 'rb'))[0]\n",
    "    #print(fittest_genome)\n",
    "    net = neat.nn.FeedForwardNetwork.create(fittest_genome, config)\n",
    "        \n",
    "    for train, label in zip(X_train, Y_train):\n",
    "        output = np.argmax(sigmoid(net.activate(train)))\n",
    "        preds_train.append(output)\n",
    "        if output == label:\n",
    "            train_correct += 1.\n",
    "    train_acc = train_correct / len(X_train)\n",
    "    \n",
    "    for test, label in zip(X_test, Y_test):\n",
    "        output = np.argmax(sigmoid(net.activate(test)))\n",
    "        preds_test.append(output)\n",
    "        if output == label:\n",
    "            test_correct += 1.\n",
    "    test_acc = test_correct / len(X_test)\n",
    "        \n",
    "    print(\"Train Accuracy = {}\".format(train_acc))\n",
    "    print(\"Test Accuracy = {}\".format(test_acc))\n",
    "    \n",
    "    return preds_train, preds_test"
   ]
  },
  {
   "cell_type": "code",
   "execution_count": null,
   "metadata": {},
   "outputs": [],
   "source": [
    "preds_train, preds_test = test_fittest(CONFIG_FILE)"
   ]
  },
  {
   "cell_type": "code",
   "execution_count": null,
   "metadata": {},
   "outputs": [],
   "source": [
    "cm_train = confusion_matrix(Y_train, preds_train, labels=range(N_CLASSES_TO_USE))\n",
    "cm_test = confusion_matrix(Y_test, preds_test, labels=range(N_CLASSES_TO_USE))"
   ]
  },
  {
   "cell_type": "code",
   "execution_count": null,
   "metadata": {},
   "outputs": [],
   "source": [
    "# Create figure\n",
    "fig, ax = plt.subplots(1,2, figsize=(11,4))\n",
    "\n",
    "# Plot confusion matrix for training data\n",
    "sns.heatmap(cm_train, annot=True, fmt='g', ax=ax[0], cmap=\"Blues\")\n",
    "ax[0].set_xlabel('Predicted labels')\n",
    "ax[0].set_ylabel('True labels')\n",
    "ax[0].set_title('Confusion matrix for training data')\n",
    "\n",
    "# Plot confusion matrix for validation data\n",
    "sns.heatmap(cm_test, annot=True, fmt='g', ax=ax[1], cmap=\"Blues\")\n",
    "ax[1].set_xlabel('Predicted labels')\n",
    "ax[1].set_ylabel('True labels')\n",
    "ax[1].set_title('Confusion matrix for test data')\n",
    "\n",
    "# Show the result\n",
    "plt.show()"
   ]
  },
  {
   "cell_type": "markdown",
   "metadata": {},
   "source": [
    "## Inspecting Fittest Genome"
   ]
  },
  {
   "cell_type": "code",
   "execution_count": null,
   "metadata": {},
   "outputs": [],
   "source": [
    "fittest_genome = pickle.load( open('NEAT-results/best_genomes_fashion', 'rb'))[0]"
   ]
  },
  {
   "cell_type": "code",
   "execution_count": null,
   "metadata": {
    "scrolled": false
   },
   "outputs": [],
   "source": [
    "print(fittest_genome)"
   ]
  },
  {
   "cell_type": "code",
   "execution_count": null,
   "metadata": {},
   "outputs": [],
   "source": [
    "used_input_pixels = []\n",
    "for cg in fittest_genome.connections.values():\n",
    "    if cg.enabled:\n",
    "        used_input_pixels.append(cg.key[0])\n",
    "print(used_input_pixels)"
   ]
  },
  {
   "cell_type": "code",
   "execution_count": null,
   "metadata": {},
   "outputs": [],
   "source": [
    "input_tallies = np.zeros(X_train.shape[1])\n",
    "for arg in used_input_pixels:\n",
    "    input_tallies[arg] += 1\n",
    "plt.imshow( input_tallies.reshape(16,16) )\n",
    "plt.title('Used Input Pixels')\n",
    "plt.axis('off')\n",
    "plt.show()"
   ]
  },
  {
   "cell_type": "code",
   "execution_count": null,
   "metadata": {},
   "outputs": [],
   "source": []
  }
 ],
 "metadata": {
  "kernelspec": {
   "display_name": "Python 3",
   "language": "python",
   "name": "python3"
  },
  "language_info": {
   "codemirror_mode": {
    "name": "ipython",
    "version": 3
   },
   "file_extension": ".py",
   "mimetype": "text/x-python",
   "name": "python",
   "nbconvert_exporter": "python",
   "pygments_lexer": "ipython3",
   "version": "3.8.1"
  }
 },
 "nbformat": 4,
 "nbformat_minor": 4
}
