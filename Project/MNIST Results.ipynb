{
 "cells": [
  {
   "cell_type": "code",
   "execution_count": 4,
   "metadata": {},
   "outputs": [],
   "source": [
    "# DEAP\n",
    "from deap import gp, base, tools, creator, algorithms\n",
    "\n",
    "# Data processing and plotting\n",
    "from sklearn.metrics import confusion_matrix\n",
    "import matplotlib.pyplot as plt\n",
    "import seaborn as sns\n",
    "\n",
    "# Requirements for the algorithm\n",
    "from operator import attrgetter\n",
    "from functools import partial\n",
    "\n",
    "# Standard python imports\n",
    "import random, pickle, math, re, os\n",
    "import numpy as np\n",
    "\n",
    "# Magic for inline plots\n",
    "%matplotlib inline\n",
    "\n"
   ]
  },
  {
   "cell_type": "code",
   "execution_count": 5,
   "metadata": {},
   "outputs": [],
   "source": [
    "# Dataset parameters\n",
    "DATASET = \"MNIST\" # choose from {\"MNIST\", \"Fashion-MNIST\"} \n",
    "N_CLASSES_TO_USE = 10 # at most 10\n",
    "\n",
    "# Individual tree parameters\n",
    "MAX_ARITY = 10\n",
    "MIN_INITIAL_HEIGHT = 3\n",
    "MAX_INITIAL_HEIGHT = 5\n",
    "\n",
    "HEIGHT_CAPPED = True\n",
    "MAX_AVG_HEIGHT = 20\n",
    "\n",
    "# Fitness parameters\n",
    "SAMPLE_SIZE = 100\n",
    "\n",
    "# Evolution parameters\n",
    "N_GENERATIONS = 1000\n",
    "POPULATION_SIZE = 100\n",
    "\n",
    "TOURNAMENT_SIZE = 32\n",
    "SIZE_TOURNAMENT = True\n",
    "P_SMALLER_WINS = 0.65\n",
    "\n",
    "P_CROSSOVER = 1.0\n",
    "P_CROSSOVER_PER_TREE = 1.0\n",
    "\n",
    "P_MUTATION = 0.3\n",
    "P_MUTATION_PER_TREE = 0.2\n",
    "MIN_MUTATION_HEIGHT = 1\n",
    "MAX_MUTATION_HEIGHT = 3\n",
    "\n",
    "# Filename parameters\n",
    "RESULTS_FILENAME = f\"DEAP-{DATASET}-results.pkl\"\n",
    "\n",
    "# Set the correct data filename\n",
    "filename = f\"{DATASET}-{N_CLASSES_TO_USE}.pkl\"\n",
    "\n",
    "# If the data has not yet been preprocessed in the specified way, do so now\n",
    "if not os.path.exists(os.path.join(\"data\", filename)):\n",
    "    print(\"Preprocessed dataset does not exist yet, creating now.\")\n",
    "    os.system(f\"python Preprocessing.py -d {DATASET} -c {N_CLASSES_TO_USE}\")\n",
    "\n",
    "# Load the preprocessed data\n",
    "with open(os.path.join(\"data\", filename), \"rb\") as f:\n",
    "    (X_train, Y_train), (X_test, Y_test) = pickle.load(f)"
   ]
  },
  {
   "cell_type": "markdown",
   "metadata": {},
   "source": [
    "## Necessary Code for Loading Results"
   ]
  },
  {
   "cell_type": "code",
   "execution_count": 6,
   "metadata": {},
   "outputs": [],
   "source": [
    "# Create set of functions and terminals, with one terminal for each pixel\n",
    "pset = gp.PrimitiveSet(\"main\", X_train.shape[1])"
   ]
  },
  {
   "cell_type": "code",
   "execution_count": 7,
   "metadata": {},
   "outputs": [],
   "source": [
    "# Define operators (with a variable number of inputs)\n",
    "def linear(*args):\n",
    "    return sum(args)\n",
    "\n",
    "def step(*args):\n",
    "    return float(sum(args) > 0)\n",
    "\n",
    "def sine(*args):\n",
    "    return np.sin(np.pi*sum(args))\n",
    "\n",
    "def gaussian(*args):\n",
    "    return exp(-np.multiply(sum(args), sum(args))/2.0)\n",
    "\n",
    "def tanh(*args):\n",
    "    return np.tanh(sum(args))\n",
    "\n",
    "def sigmoid(*args):\n",
    "    return (np.tanh(sum(args)/2.0) + 1.0)/2.0\n",
    "\n",
    "def inverse(*args):\n",
    "    return -sum(args)\n",
    "\n",
    "def absolute(*args):\n",
    "    return abs(sum(args))\n",
    "\n",
    "def relu(*args):\n",
    "    return np.maximum(0.0, sum(args))\n",
    "\n",
    "def cosine(*args):\n",
    "    return np.cos(np.pi*sum(args))\n",
    "\n",
    "# Add operators to the set (using a \"hacky\" solution to allow variable arities)\n",
    "for arity in range(1, MAX_ARITY+1):\n",
    "    pset.addPrimitive(linear, arity)\n",
    "    pset.addPrimitive(step, arity)\n",
    "    pset.addPrimitive(sine, arity)\n",
    "    pset.addPrimitive(gaussian, arity)\n",
    "    pset.addPrimitive(tanh, arity)\n",
    "    pset.addPrimitive(sigmoid, arity)\n",
    "    pset.addPrimitive(inverse, arity)\n",
    "    pset.addPrimitive(absolute, arity)\n",
    "    pset.addPrimitive(relu, arity)\n",
    "    pset.addPrimitive(cosine, arity)"
   ]
  },
  {
   "cell_type": "code",
   "execution_count": 8,
   "metadata": {},
   "outputs": [],
   "source": [
    "# Intialize the toolbox which will contain all sorts of functions for the genetic programming process\n",
    "toolbox = base.Toolbox()\n",
    "\n",
    "# Define how to create a random expression/tree (using half-and-half intialization)\n",
    "toolbox.register(\"expr\", gp.genHalfAndHalf, pset=pset, min_=MIN_INITIAL_HEIGHT, max_=MAX_INITIAL_HEIGHT)\n",
    "\n",
    "# Define classes for fitness, trees and individuals (using DEAP's creator module)\n",
    "creator.create(\"FitnessMin\", base.Fitness, weights=(-1.0,))\n",
    "creator.create(\"Tree\", gp.PrimitiveTree)\n",
    "creator.create(\"Individual\", list, fitness=creator.FitnessMin) # An individual is a list of single-output trees\n",
    "\n",
    "# Define how to initialize a tree, individual or population\n",
    "toolbox.register(\"tree\", tools.initIterate, creator.Tree, toolbox.expr)\n",
    "toolbox.register(\"individual\", tools.initRepeat, creator.Individual, toolbox.tree, N_CLASSES_TO_USE)\n",
    "toolbox.register(\"population\", tools.initRepeat, list, toolbox.individual)\n",
    "\n",
    "# Define how to compile a single tree and an individual\n",
    "toolbox.register(\"compile_tree\", gp.compile, pset=pset)\n",
    "\n",
    "# Define how to compile an individual (list of trees)\n",
    "def compile_individual(individual):\n",
    "    # Compile all trees in the individual\n",
    "    funcs = [toolbox.compile_tree(t) for t in individual]\n",
    "    \n",
    "    # Create the function, which applies softmax over the outputs of the created lambda functions\n",
    "    def func(args):\n",
    "        def _softmax(x):\n",
    "            return exp(x)/np.sum(exp(x), axis=0)\n",
    "        return _softmax([f(*args) for f in funcs])\n",
    "    \n",
    "    # Return the created function\n",
    "    return func\n",
    "\n",
    "# Add compile_individual to toolbox\n",
    "toolbox.register(\"compile_individual\", compile_individual)\n",
    "\n",
    "# Define fitness function   \n",
    "def fitness(individual, sample_size):\n",
    "    # Compile the individual to obtain the corresponding function\n",
    "    func = toolbox.compile_individual(individual)\n",
    "    \n",
    "    # Define how to compute cross-entropy\n",
    "    def _cross_entropy(pred, label):\n",
    "        return -np.log(pred[label])\n",
    "    \n",
    "    # Create a list of samples to test, ensuring an equal number of samples from each class\n",
    "    sample_indices = []\n",
    "    samples_per_class = int(sample_size/N_CLASSES_TO_USE)\n",
    "    for c in range(N_CLASSES_TO_USE):\n",
    "        c_indices = np.where(Y_train == c)[0]\n",
    "        assert len(c_indices) >= samples_per_class, \\\n",
    "            f\"Class {c} has too few elements to reach the desired number of evaluation samples\"\n",
    "        sample_indices.extend(np.random.permutation(c_indices)[:samples_per_class])\n",
    "    \n",
    "    # Compute cross-entropy loss for each of the samples\n",
    "    losses = [_cross_entropy(func(X_train[i]), Y_train[i]) for i in sample_indices]\n",
    "    \n",
    "    # Return the average cross-entropy loss\n",
    "    return (np.average(losses),)\n",
    "\n",
    "# Add the fitness function to the toolbox\n",
    "toolbox.register(\"evaluate\", fitness, sample_size=SAMPLE_SIZE)"
   ]
  },
  {
   "cell_type": "markdown",
   "metadata": {},
   "source": [
    "## Load Results DEAP"
   ]
  },
  {
   "cell_type": "code",
   "execution_count": 12,
   "metadata": {},
   "outputs": [
    {
     "name": "stdout",
     "output_type": "stream",
     "text": [
      "DEAP-Fashion-MNIST-results.pkl\r\n",
      "DEAPWANN-Fashion-MNIST-results.pkl\r\n",
      "DEAPWANN-MNIST-results.pkl\r\n"
     ]
    }
   ],
   "source": [
    "!ls | grep .pkl"
   ]
  },
  {
   "cell_type": "code",
   "execution_count": 70,
   "metadata": {},
   "outputs": [
    {
     "ename": "FileNotFoundError",
     "evalue": "[Errno 2] No such file or directory: 'DEAP-MNIST-results.pkl'",
     "output_type": "error",
     "traceback": [
      "\u001b[0;31m---------------------------------------------------------------------------\u001b[0m",
      "\u001b[0;31mFileNotFoundError\u001b[0m                         Traceback (most recent call last)",
      "\u001b[0;32m<ipython-input-70-19c16fe4d883>\u001b[0m in \u001b[0;36m<module>\u001b[0;34m\u001b[0m\n\u001b[1;32m      2\u001b[0m \u001b[0;34m\u001b[0m\u001b[0m\n\u001b[1;32m      3\u001b[0m \u001b[0;31m# Load results\u001b[0m\u001b[0;34m\u001b[0m\u001b[0;34m\u001b[0m\u001b[0;34m\u001b[0m\u001b[0m\n\u001b[0;32m----> 4\u001b[0;31m \u001b[0;32mwith\u001b[0m \u001b[0mopen\u001b[0m\u001b[0;34m(\u001b[0m\u001b[0mRESULTS_FILENAME\u001b[0m\u001b[0;34m,\u001b[0m \u001b[0;34m\"rb\"\u001b[0m\u001b[0;34m)\u001b[0m \u001b[0;32mas\u001b[0m \u001b[0mf\u001b[0m\u001b[0;34m:\u001b[0m\u001b[0;34m\u001b[0m\u001b[0;34m\u001b[0m\u001b[0m\n\u001b[0m\u001b[1;32m      5\u001b[0m     \u001b[0mpop\u001b[0m\u001b[0;34m,\u001b[0m \u001b[0mlog\u001b[0m\u001b[0;34m,\u001b[0m \u001b[0mhof\u001b[0m \u001b[0;34m=\u001b[0m \u001b[0mpickle\u001b[0m\u001b[0;34m.\u001b[0m\u001b[0mload\u001b[0m\u001b[0;34m(\u001b[0m\u001b[0mf\u001b[0m\u001b[0;34m)\u001b[0m\u001b[0;34m\u001b[0m\u001b[0;34m\u001b[0m\u001b[0m\n\u001b[1;32m      6\u001b[0m \u001b[0;34m\u001b[0m\u001b[0m\n",
      "\u001b[0;31mFileNotFoundError\u001b[0m: [Errno 2] No such file or directory: 'DEAP-MNIST-results.pkl'"
     ]
    }
   ],
   "source": [
    "RESULTS_FILENAME = f\"DEAP-{DATASET}-results.pkl\"\n",
    "\n",
    "# Load results\n",
    "with open(RESULTS_FILENAME, \"rb\") as f:\n",
    "    pop, log, hof = pickle.load(f)\n",
    "\n",
    "# Extract generation IDs, minimum fitnesses and average total heights per generation\n",
    "gen = log.select(\"gen\")\n",
    "fitness_best_deap = log.chapters[\"fitness\"].select(\"min\") \n",
    "fitness_avg_deap = log.chapters[\"fitness\"].select(\"avg\")\n"
   ]
  },
  {
   "cell_type": "markdown",
   "metadata": {},
   "source": [
    "## Load Results NEAT"
   ]
  },
  {
   "cell_type": "code",
   "execution_count": 56,
   "metadata": {},
   "outputs": [],
   "source": [
    "history = np.genfromtxt('NEAT-results/fitness_history.csv', delimiter='')\n",
    "sizes_history = np.genfromtxt('NEAT-results/sizes_mnist.csv', delimiter='')\n",
    "fitness_best_neat = history[:,0]\n",
    "fitness_avg_neat = history[:,1]\n",
    "avg_nodes_neat = sizes_history[:,0] + np.full(len(sizes_history[:,0]), 256)\n",
    "avg_connections_neat = sizes_history[:,1]"
   ]
  },
  {
   "cell_type": "code",
   "execution_count": null,
   "metadata": {},
   "outputs": [],
   "source": []
  },
  {
   "cell_type": "markdown",
   "metadata": {},
   "source": [
    "## Load Results DEAPWANN"
   ]
  },
  {
   "cell_type": "code",
   "execution_count": 15,
   "metadata": {},
   "outputs": [
    {
     "name": "stderr",
     "output_type": "stream",
     "text": [
      "/home/chb3k/anaconda3/envs/py37nc/lib/python3.8/site-packages/deap/creator.py:138: RuntimeWarning: A class named 'Individual' has already been created and it will be overwritten. Consider deleting previous creation of that class or rename it.\n",
      "  warnings.warn(\"A class named '{0}' has already been created and it \"\n"
     ]
    }
   ],
   "source": [
    "\n",
    "N_CLASSES_TO_USE = 10 # at most 10\n",
    "\n",
    "# Individual trees\n",
    "P_INITIAL_CONNECTION = 0.05\n",
    "\n",
    "# Fitness\n",
    "SAMPLE_SIZE = 200\n",
    "WEIGHTS_TO_TEST = [-2, -1, 1, 2] # -0.5 and 0.5 are not used due to long runtime\n",
    "\n",
    "# Parent selection\n",
    "TOURNAMENT_SIZE = 32\n",
    "\n",
    "# Mutation (probabilities should sum to 1)\n",
    "P_MUTATE_ACTIVATION = 0.5\n",
    "P_ADD_NODE = 0.25\n",
    "P_ADD_CONNECTION = 0.2\n",
    "P_ENABLE_CONNECTION = 0.05\n",
    "\n",
    "# Evolution\n",
    "POPULATION_SIZE = 250\n",
    "N_GENERATIONS = 1000\n",
    "CULL_RATIO = 0.2\n",
    "ELITE_RATIO = 0.2\n",
    "\n",
    "\n",
    "# Generic Node class\n",
    "class Node:\n",
    "    def __init__(self, name):\n",
    "        # Each node has a name and a list of parents\n",
    "        self.name = name\n",
    "        self.parents = []\n",
    "    \n",
    "    def __str__(self):\n",
    "        raise NotImplementedError(\"String function is only implemented for subclasses\")\n",
    "\n",
    "# Class for terminal nodes (inputs)\n",
    "class TerminalNode(Node):\n",
    "    def __init__(self, name):\n",
    "        super().__init__(name)\n",
    "\n",
    "    def __str__(self):\n",
    "        # Terminal nodes are simply formatted as their name (e.g. \"ARG42\")\n",
    "        return self.name\n",
    "\n",
    "# Class for non-terminal nodes (hidden + outputs)\n",
    "class NonterminalNode(Node):\n",
    "    def __init__(self, name):\n",
    "        # Non-terminal nodes also have lists of children and disabled children\n",
    "        super().__init__(name)\n",
    "        self.children = []\n",
    "        self.disabled = []\n",
    "\n",
    "    def __str__(self):\n",
    "        # Non-terminal nodes are formatted as \"name(child1, child2, ...)\"\n",
    "        return f\"{self.name}(w, {', '.join([str(child) for child in self.children])})\"\n",
    "\n",
    "    # Class for multi-output trees\n",
    "class MultiClassTree:\n",
    "    def __init__(self, n_inputs, n_outputs, p_initial_connection):\n",
    "        # Initialize lists of input, output and internal nodes\n",
    "        self.inputs = [TerminalNode(argument_names[i]) for i in range(n_inputs)]\n",
    "        self.outputs = [NonterminalNode(\"linear\") for _ in range(n_outputs)]\n",
    "        self.hidden = []\n",
    "        self.born = -1\n",
    "        \n",
    "        # Add initial connections\n",
    "        self.n_connections = 0\n",
    "        for output in self.outputs:\n",
    "            # With a chance of P_INITIAL_CONNECTION, the connection is enabled, otherwhise it is disabled\n",
    "            for child in self.inputs:\n",
    "                if random.random() < P_INITIAL_CONNECTION:\n",
    "                    output.children.append(child)\n",
    "                else:\n",
    "                    output.disabled.append(child)\n",
    "                child.parents.append(output)\n",
    "                \n",
    "            # If an output has no enabled children, one of the children is enabled to make the tree valid\n",
    "            if not output.children:\n",
    "                child = random.choice(self.inputs)\n",
    "                output.disabled.remove(child)\n",
    "                output.children.append(child)\n",
    "            \n",
    "            # Update the number of enabled connections in the tree\n",
    "            self.n_connections += len(output.children)\n",
    "\n",
    "    def __str__(self):\n",
    "        # Printing the tree only prints the number of hidden nodes and enabled connections\n",
    "        return f\"MultiClassTree with {len(self.hidden)} hidden nodes and {self.n_connections} connections\"\\\n",
    "                + (f\", born in generation {self.born}\" if self.born >= 0 else \"\")\n",
    "    \n",
    "    def get_strings(self):\n",
    "         # (Recursively) parsing output function strings, to parse the tree for evaluation\n",
    "        try:\n",
    "            return [str(output) for output in self.outputs]\n",
    "        except RecursionError:\n",
    "            print(\"Maximum recursion depth reached\")\n",
    "            return None\n",
    "# Intialize the toolbox which will contain all sorts of functions for the genetic programming process\n",
    "toolbox = base.Toolbox()\n",
    "\n",
    "# Define classes for fitness and individuals (using DEAP's creator module)\n",
    "creator.create(\"Fitness\", base.Fitness, weights=(-1.0, -1.0))\n",
    "creator.create(\"Individual\", MultiClassTree, fitness=creator.Fitness, rank=-1) # An individual is a multi-class tree\n",
    "\n",
    "# Define how to initialize an individual or population\n",
    "toolbox.register(\"individual\", creator.Individual, X_train.shape[1], N_CLASSES_TO_USE, P_INITIAL_CONNECTION)\n",
    "toolbox.register(\"population\", tools.initRepeat, list, toolbox.individual)\n",
    "\n",
    "# Compiling a tree into a function\n",
    "def compile_multiclasstree(tree):\n",
    "    # Parse trees to strings for all outputs\n",
    "    strings = tree.get_strings()\n",
    "    \n",
    "    # Convert the string to lambda functions using eval() and the proper function context\n",
    "    funcs = [eval(f\"lambda w, {', '.join(argument_names)}: {string}\", function_context, {}) for string in strings]\n",
    "    \n",
    "    # Create the function, which applies softmax over the outputs of the created lambda functions\n",
    "    def func(w, args):\n",
    "        def _softmax(x):\n",
    "            return exp(x)/np.sum(exp(x), axis=0)\n",
    "        return _softmax([f(w, *args) for f in funcs])\n",
    "    \n",
    "    # Return the created function\n",
    "    return func\n",
    "\n",
    "# Add the compile function to toolbox\n",
    "toolbox.register(\"compile\", compile_multiclasstree)"
   ]
  },
  {
   "cell_type": "code",
   "execution_count": null,
   "metadata": {
    "scrolled": false
   },
   "outputs": [],
   "source": []
  },
  {
   "cell_type": "code",
   "execution_count": 73,
   "metadata": {
    "scrolled": false
   },
   "outputs": [],
   "source": [
    "RESULTS_FILENAME = f\"DEAPWANN-{DATASET}-results.pkl\"\n",
    "\n",
    "# Load results\n",
    "with open(RESULTS_FILENAME, \"rb\") as f:\n",
    "    pop, log, hof = pickle.load(f)\n",
    "\n",
    "# Extract generation IDs, minimum fitnesses and average total heights per generation\n",
    "gen = log.select(\"gen\")\n",
    "fitness_best_deapwann = log.chapters[\"avg_fitness\"].select(\"min\") \n",
    "fitness_avg_deapwann = log.chapters[\"avg_fitness\"].select(\"avg\")\n",
    "avg_nr_of_connections_deapwann = log.chapters['connections'].select(\"avg\")\n",
    "generation_length = len(log.chapters['hidden'].select('avg'))\n",
    "avg_nr_of_nodes_deapwann = log.chapters['hidden'].select(\"avg\")\\\n",
    "+ np.full(generation_length, 256) + np.full(generation_length,10)\n"
   ]
  },
  {
   "cell_type": "code",
   "execution_count": null,
   "metadata": {},
   "outputs": [],
   "source": []
  },
  {
   "cell_type": "markdown",
   "metadata": {},
   "source": [
    "## Load Results WANN"
   ]
  },
  {
   "cell_type": "code",
   "execution_count": 67,
   "metadata": {},
   "outputs": [],
   "source": [
    "stats = np.loadtxt('WANN/log/mnist256_final_final_stats.out', delimiter=',') \n",
    "runTime = np.loadtxt('WANN/log/sample_runTime.out', delimiter=',') "
   ]
  },
  {
   "cell_type": "code",
   "execution_count": 68,
   "metadata": {},
   "outputs": [],
   "source": [
    "fitness_best_wann = stats[:,2]\n",
    "fitness_avg_wann = stats[:,7]\n",
    "avg_nodes_wann = stats[:,8]\n",
    "avg_connections_wann = stats[:,9]\n"
   ]
  },
  {
   "cell_type": "markdown",
   "metadata": {},
   "source": [
    "## Plot Fitness over Time"
   ]
  },
  {
   "cell_type": "code",
   "execution_count": 71,
   "metadata": {},
   "outputs": [
    {
     "ename": "NameError",
     "evalue": "name 'fitness_best_deap' is not defined",
     "output_type": "error",
     "traceback": [
      "\u001b[0;31m---------------------------------------------------------------------------\u001b[0m",
      "\u001b[0;31mNameError\u001b[0m                                 Traceback (most recent call last)",
      "\u001b[0;32m<ipython-input-71-b6a54eaf505b>\u001b[0m in \u001b[0;36m<module>\u001b[0;34m\u001b[0m\n\u001b[0;32m----> 1\u001b[0;31m \u001b[0mplt\u001b[0m\u001b[0;34m.\u001b[0m\u001b[0mplot\u001b[0m\u001b[0;34m(\u001b[0m\u001b[0mfitness_best_deap\u001b[0m\u001b[0;34m,\u001b[0m \u001b[0mlabel\u001b[0m \u001b[0;34m=\u001b[0m \u001b[0;34m'DEAP'\u001b[0m\u001b[0;34m,\u001b[0m \u001b[0malpha\u001b[0m\u001b[0;34m=\u001b[0m\u001b[0;36m0.7\u001b[0m\u001b[0;34m)\u001b[0m\u001b[0;34m\u001b[0m\u001b[0;34m\u001b[0m\u001b[0m\n\u001b[0m\u001b[1;32m      2\u001b[0m \u001b[0mplt\u001b[0m\u001b[0;34m.\u001b[0m\u001b[0mplot\u001b[0m\u001b[0;34m(\u001b[0m\u001b[0mabs\u001b[0m\u001b[0;34m(\u001b[0m\u001b[0mfitness_best_neat\u001b[0m\u001b[0;34m)\u001b[0m\u001b[0;34m,\u001b[0m \u001b[0mlabel\u001b[0m \u001b[0;34m=\u001b[0m \u001b[0;34m'NEAT'\u001b[0m\u001b[0;34m,\u001b[0m \u001b[0malpha\u001b[0m\u001b[0;34m=\u001b[0m\u001b[0;36m0.7\u001b[0m\u001b[0;34m)\u001b[0m\u001b[0;34m\u001b[0m\u001b[0;34m\u001b[0m\u001b[0m\n\u001b[1;32m      3\u001b[0m \u001b[0mplt\u001b[0m\u001b[0;34m.\u001b[0m\u001b[0mplot\u001b[0m\u001b[0;34m(\u001b[0m\u001b[0mfitness_best_deapwann\u001b[0m\u001b[0;34m,\u001b[0m \u001b[0mlabel\u001b[0m \u001b[0;34m=\u001b[0m \u001b[0;34m'DEAPWANN'\u001b[0m\u001b[0;34m,\u001b[0m\u001b[0malpha\u001b[0m\u001b[0;34m=\u001b[0m\u001b[0;36m0.7\u001b[0m \u001b[0;34m)\u001b[0m\u001b[0;34m\u001b[0m\u001b[0;34m\u001b[0m\u001b[0m\n\u001b[1;32m      4\u001b[0m \u001b[0mplt\u001b[0m\u001b[0;34m.\u001b[0m\u001b[0mplot\u001b[0m\u001b[0;34m(\u001b[0m\u001b[0mabs\u001b[0m\u001b[0;34m(\u001b[0m\u001b[0mfitness_best_wann\u001b[0m\u001b[0;34m)\u001b[0m\u001b[0;34m,\u001b[0m \u001b[0mlabel\u001b[0m \u001b[0;34m=\u001b[0m \u001b[0;34m'WANN'\u001b[0m\u001b[0;34m,\u001b[0m \u001b[0malpha\u001b[0m\u001b[0;34m=\u001b[0m\u001b[0;36m0.7\u001b[0m\u001b[0;34m)\u001b[0m\u001b[0;34m\u001b[0m\u001b[0;34m\u001b[0m\u001b[0m\n\u001b[1;32m      5\u001b[0m \u001b[0;34m\u001b[0m\u001b[0m\n",
      "\u001b[0;31mNameError\u001b[0m: name 'fitness_best_deap' is not defined"
     ]
    }
   ],
   "source": [
    "plt.plot(fitness_best_deap, label = 'DEAP', alpha=0.7)\n",
    "plt.plot(abs(fitness_best_neat), label = 'NEAT', alpha=0.7)\n",
    "plt.plot(fitness_best_deapwann, label = 'DEAPWANN',alpha=0.7 )\n",
    "plt.plot(abs(fitness_best_wann), label = 'WANN', alpha=0.7)\n",
    "\n",
    "plt.title(\"Best Fitnesses per Generation for each Implementation\")\n",
    "plt.xlabel('Generation')\n",
    "plt.ylabel('Fitness (Cross-Entropy)')\n",
    "plt.legend()\n",
    "plt.savefig('best_fitness_{}.png'.format(DATASET))\n",
    "plt.show()"
   ]
  },
  {
   "cell_type": "code",
   "execution_count": 16,
   "metadata": {},
   "outputs": [
    {
     "data": {
      "image/png": "[encoded data removed]",
      "text/plain": [
       "<Figure size 432x288 with 1 Axes>"
      ]
     },
     "metadata": {
      "needs_background": "light"
     },
     "output_type": "display_data"
    }
   ],
   "source": [
    "plt.plot(fitness_avg_deap, label = 'DEAP', alpha=0.7)\n",
    "plt.plot(abs(fitness_avg_neat), label = 'NEAT', alpha=0.7)\n",
    "plt.plot(fitness_avg_deapwann, label = 'DEAPWANN',alpha=0.7 ) \n",
    "plt.plot(abs(fitness_avg_wann), label = 'WANN', alpha=0.7)\n",
    "plt.ylim(0.5, 3.5)\n",
    "plt.title(\"Average Fitness per Generation for each Implementation\")\n",
    "plt.xlabel('Generation')\n",
    "plt.ylabel('Fitness (Cross-Entropy)')\n",
    "plt.legend()\n",
    "plt.savefig('avg_fitness_{}.png'.format(DATASET))\n",
    "plt.show()"
   ]
  },
  {
   "cell_type": "markdown",
   "metadata": {},
   "source": [
    "## Plot number of connections and nodes over time"
   ]
  },
  {
   "cell_type": "code",
   "execution_count": 74,
   "metadata": {},
   "outputs": [
    {
     "data": {
      "image/png": "[encoded data removed]",
      "text/plain": [
       "<Figure size 432x288 with 1 Axes>"
      ]
     },
     "metadata": {
      "needs_background": "light"
     },
     "output_type": "display_data"
    }
   ],
   "source": [
    "plt.plot(avg_nodes_neat, label = 'NEAT', alpha=0.7)\n",
    "plt.plot(avg_nr_of_nodes_deapwann, label = 'DEAPNEAT',alpha=0.7 )\n",
    "plt.plot(avg_nodes_wann, label = 'WANN', alpha=0.7)\n",
    "\n",
    "plt.title(\"Average number of Nodes per model\")\n",
    "plt.xlabel('Generation')\n",
    "plt.ylabel('Number of Nodes')\n",
    "plt.legend()\n",
    "plt.savefig('Average_number_of_Nodes_{}.png'.format(DATASET))\n",
    "plt.show()"
   ]
  },
  {
   "cell_type": "code",
   "execution_count": 75,
   "metadata": {},
   "outputs": [
    {
     "data": {
      "image/png": "[encoded data removed]",
      "text/plain": [
       "<Figure size 432x288 with 1 Axes>"
      ]
     },
     "metadata": {
      "needs_background": "light"
     },
     "output_type": "display_data"
    }
   ],
   "source": [
    "plt.plot(avg_connections_neat, label = 'NEAT', alpha=0.7)\n",
    "plt.plot(avg_nr_of_connections_deapwann, label = 'DEAPNEAT',alpha=0.7 )\n",
    "plt.plot(avg_connections_wann, label = 'WANN', alpha=0.7)\n",
    "\n",
    "plt.title(\"Average number of Connections per model\")\n",
    "plt.xlabel('Generation')\n",
    "plt.ylabel('Number of Connections')\n",
    "plt.legend()\n",
    "plt.savefig('Average_number_of_connections_{}.png'.format(DATASET))\n",
    "plt.show()"
   ]
  },
  {
   "cell_type": "code",
   "execution_count": null,
   "metadata": {},
   "outputs": [],
   "source": []
  },
  {
   "cell_type": "code",
   "execution_count": null,
   "metadata": {},
   "outputs": [],
   "source": []
  }
 ],
 "metadata": {
  "kernelspec": {
   "display_name": "Python 3",
   "language": "python",
   "name": "python3"
  },
  "language_info": {
   "codemirror_mode": {
    "name": "ipython",
    "version": 3
   },
   "file_extension": ".py",
   "mimetype": "text/x-python",
   "name": "python",
   "nbconvert_exporter": "python",
   "pygments_lexer": "ipython3",
   "version": "3.8.5"
  }
 },
 "nbformat": 4,
 "nbformat_minor": 4
}
