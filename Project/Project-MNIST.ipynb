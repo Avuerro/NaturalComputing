{
 "cells": [
  {
   "cell_type": "markdown",
   "metadata": {},
   "source": [
    "# Natural Computing - Project\n",
    "#### Submission by group 25 (Chihab Amghane, Max Driessen, Jordy Naus)\n",
    "\n",
    "The code below uses the DEAP framework (https://github.com/deap/deap), which is a very intuitive framework for evolutionary algorithms and genetic programming."
   ]
  },
  {
   "cell_type": "markdown",
   "metadata": {},
   "source": [
    "## Installing required packages"
   ]
  },
  {
   "cell_type": "code",
   "execution_count": 1,
   "metadata": {},
   "outputs": [],
   "source": [
    "# !pip install deap\n",
    "# !pip install tensorflow\n",
    "# !pip install scikit-image"
   ]
  },
  {
   "cell_type": "markdown",
   "metadata": {},
   "source": [
    "## Imports"
   ]
  },
  {
   "cell_type": "code",
   "execution_count": 2,
   "metadata": {},
   "outputs": [],
   "source": [
    "from deap import gp, base, tools, creator, algorithms\n",
    "from tensorflow.keras.datasets import mnist\n",
    "from skimage.transform import rescale\n",
    "import matplotlib.pyplot as plt\n",
    "from functools import partial\n",
    "from operator import attrgetter\n",
    "import numpy as np\n",
    "import random\n",
    "import math\n",
    "\n",
    "%matplotlib inline"
   ]
  },
  {
   "cell_type": "markdown",
   "metadata": {},
   "source": [
    "## Global parameters"
   ]
  },
  {
   "cell_type": "code",
   "execution_count": 3,
   "metadata": {},
   "outputs": [],
   "source": [
    "# Dataset parameters\n",
    "STANDARD_IMAGE_SIZE = 28\n",
    "DESIRED_IMAGE_SIZE = 16\n",
    "N_CLASSES_TO_USE = 4\n",
    "\n",
    "# Individual tree parameters\n",
    "MAX_ARITY = 10\n",
    "MIN_INITIAL_DEPTH = 3\n",
    "MAX_INITIAL_DEPTH = 5\n",
    "\n",
    "# Fitness parameters\n",
    "N_SAMPLES_TO_TEST = 50\n",
    "\n",
    "# Evolution parameters\n",
    "N_GENERATIONS = 100\n",
    "POPULATION_SIZE = 100\n",
    "\n",
    "CONTROL_BLOAT = True\n",
    "\n",
    "TOURNAMENT_SIZE = 10\n",
    "P_SMALLER_WINS = 0.65\n",
    "\n",
    "P_CROSSOVER = 1.0\n",
    "P_CROSSOVER_PER_TREE = 1.0\n",
    "\n",
    "P_MUTATION = 0.3\n",
    "P_MUTATION_PER_TREE = 0.2\n",
    "MIN_MUTATION_DEPTH = 1\n",
    "MAX_MUTATION_DEPTH = 2"
   ]
  },
  {
   "cell_type": "code",
   "execution_count": 4,
   "metadata": {},
   "outputs": [],
   "source": [
    "# Parameters that depend on other parameters\n",
    "RESCALE_FACTOR = DESIRED_IMAGE_SIZE/STANDARD_IMAGE_SIZE\n",
    "N_PIXELS = DESIRED_IMAGE_SIZE**2"
   ]
  },
  {
   "cell_type": "markdown",
   "metadata": {},
   "source": [
    "## Loading & preprocessing data\n",
    "\n",
    "##### Downloading"
   ]
  },
  {
   "cell_type": "code",
   "execution_count": 5,
   "metadata": {},
   "outputs": [],
   "source": [
    "# Loading the data\n",
    "(X_train, Y_train), (X_test, Y_test) = mnist.load_data()"
   ]
  },
  {
   "cell_type": "markdown",
   "metadata": {},
   "source": [
    "##### Removing classes"
   ]
  },
  {
   "cell_type": "code",
   "execution_count": 6,
   "metadata": {},
   "outputs": [],
   "source": [
    "# Ensure correct number of classes\n",
    "X_train = X_train[Y_train < N_CLASSES_TO_USE]\n",
    "Y_train = Y_train[Y_train < N_CLASSES_TO_USE]\n",
    "X_test = X_test[Y_test < N_CLASSES_TO_USE]\n",
    "Y_test = Y_test[Y_test < N_CLASSES_TO_USE]"
   ]
  },
  {
   "cell_type": "code",
   "execution_count": 7,
   "metadata": {},
   "outputs": [
    {
     "name": "stdout",
     "output_type": "stream",
     "text": [
      "Training samples remaining: 24754\n",
      "Testing samples remaining: 4157\n"
     ]
    }
   ],
   "source": [
    "# Extract and print the number of training and testing samples remaining\n",
    "n_samples_train = X_train.shape[0]\n",
    "n_samples_test = X_test.shape[0]\n",
    "print(f\"Training samples remaining: {n_samples_train}\")\n",
    "print(f\"Testing samples remaining: {n_samples_test}\")"
   ]
  },
  {
   "cell_type": "markdown",
   "metadata": {},
   "source": [
    "##### Rescaling"
   ]
  },
  {
   "cell_type": "code",
   "execution_count": 8,
   "metadata": {},
   "outputs": [],
   "source": [
    "# Rescaling to the desired size\n",
    "def rescale_images(images, do_anti_aliasing=False):\n",
    "    return np.array([rescale(image, RESCALE_FACTOR, anti_aliasing=do_anti_aliasing) for image in images])\n",
    "\n",
    "# Rescale X_train and X_test\n",
    "X_train_small = rescale_images(X_train)\n",
    "X_test_small = rescale_images(X_test)"
   ]
  },
  {
   "cell_type": "markdown",
   "metadata": {},
   "source": [
    "##### Normalization"
   ]
  },
  {
   "cell_type": "code",
   "execution_count": 9,
   "metadata": {},
   "outputs": [],
   "source": [
    "# Normalize the data\n",
    "def normalize(images):\n",
    "    return (images - np.mean(images, axis=0))/(np.std(images, axis=0) + 0.000001)\n",
    "\n",
    "# Normalize X_train_small and X_test_small\n",
    "X_train_norm = normalize(X_train_small)\n",
    "X_test_norm = normalize(X_test_small)"
   ]
  },
  {
   "cell_type": "markdown",
   "metadata": {},
   "source": [
    "##### Visualizing the process"
   ]
  },
  {
   "cell_type": "code",
   "execution_count": 10,
   "metadata": {},
   "outputs": [
    {
     "data": {
      "image/png": "[encoded data removed]",
      "text/plain": [
       "<Figure size 720x240 with 3 Axes>"
      ]
     },
     "metadata": {
      "needs_background": "light"
     },
     "output_type": "display_data"
    }
   ],
   "source": [
    "# Plot original and reshaped image\n",
    "def plot_comparison(idx_to_plot, lists, titles):\n",
    "    n_plots = len(lists)\n",
    "    fig, ax = plt.subplots(1,n_plots, figsize=(10,10/n_plots))\n",
    "    for i in range(n_plots):\n",
    "        ax[i].imshow(lists[i][idx_to_plot])\n",
    "        ax[i].set_title(titles[i])\n",
    "        ax[i].axis(\"off\")\n",
    "    fig.suptitle(f\"Preprocessing of sample {idx_to_plot}\",y=1)\n",
    "    plt.show()\n",
    "    \n",
    "plot_comparison(37,\n",
    "                [X_train, X_train_small, X_train_norm],\n",
    "                [f\"Original {STANDARD_IMAGE_SIZE}x{STANDARD_IMAGE_SIZE} image\",\n",
    "                 f\"Rescaled {DESIRED_IMAGE_SIZE}x{DESIRED_IMAGE_SIZE} image\",\n",
    "                 f\"Normalized {DESIRED_IMAGE_SIZE}x{DESIRED_IMAGE_SIZE} image\"])"
   ]
  },
  {
   "cell_type": "code",
   "execution_count": 11,
   "metadata": {},
   "outputs": [],
   "source": [
    "# Replace and reshape X_train and X_test, for convenience\n",
    "X_train = X_train_norm.reshape(n_samples_train, DESIRED_IMAGE_SIZE**2)\n",
    "X_test = X_test_norm.reshape(n_samples_test, DESIRED_IMAGE_SIZE**2)"
   ]
  },
  {
   "cell_type": "markdown",
   "metadata": {},
   "source": [
    "## Defining operators"
   ]
  },
  {
   "cell_type": "code",
   "execution_count": 12,
   "metadata": {},
   "outputs": [],
   "source": [
    "# Create set of functions and terminals, with one terminal for each pixel\n",
    "pset = gp.PrimitiveSet(\"main\", DESIRED_IMAGE_SIZE**2)"
   ]
  },
  {
   "cell_type": "code",
   "execution_count": 13,
   "metadata": {},
   "outputs": [],
   "source": [
    "# Define operators (with a variable number of inputs)\n",
    "def linear(*args):\n",
    "    return sum(args)\n",
    "\n",
    "def inverse(*args):\n",
    "    return -sum(args)\n",
    "\n",
    "def tanh(*args):\n",
    "    return math.tanh(sum(args))\n",
    "\n",
    "def sigmoid(*args):\n",
    "    return 1.0/(1.0 + math.exp(-sum(args)))\n",
    "\n",
    "def step(*args):\n",
    "    return float(sum(args) >= 0)\n",
    "\n",
    "def sine(*args):\n",
    "    return math.sin(sum(args))\n",
    "\n",
    "def cosine(*args):\n",
    "    return math.cos(sum(args))\n",
    "\n",
    "def gaussian(*args):\n",
    "    return 0.5*sum(args)*(1.0+math.tanh(math.sqrt(2.0/math.pi)*(sum(args) + 0.044715*sum(args)**3)))\n",
    "                          \n",
    "def absolute(*args):\n",
    "    return abs(sum(args))"
   ]
  },
  {
   "cell_type": "code",
   "execution_count": 14,
   "metadata": {},
   "outputs": [],
   "source": [
    "# Add operators to the set (using a \"hacky\" solution to allow variable arities)\n",
    "for arity in range(1, MAX_ARITY+1):\n",
    "    pset.addPrimitive(linear, arity)\n",
    "    pset.addPrimitive(inverse, arity)\n",
    "    pset.addPrimitive(tanh, arity)\n",
    "    pset.addPrimitive(sigmoid, arity)\n",
    "    pset.addPrimitive(step, arity)\n",
    "    pset.addPrimitive(sine, arity)\n",
    "    pset.addPrimitive(cosine, arity)\n",
    "    pset.addPrimitive(gaussian, arity)\n",
    "    pset.addPrimitive(absolute, arity)"
   ]
  },
  {
   "cell_type": "markdown",
   "metadata": {},
   "source": [
    "## Defining individuals"
   ]
  },
  {
   "cell_type": "code",
   "execution_count": 15,
   "metadata": {},
   "outputs": [],
   "source": [
    "# Intialize the toolbox which will contain all sorts of functions for the genetic programming process\n",
    "toolbox = base.Toolbox()"
   ]
  },
  {
   "cell_type": "code",
   "execution_count": 16,
   "metadata": {},
   "outputs": [],
   "source": [
    "# Define how to create a random expression/tree (using half-and-half intialization)\n",
    "toolbox.register(\"expr\", gp.genHalfAndHalf, pset=pset, min_=MIN_INITIAL_DEPTH, max_=MAX_INITIAL_DEPTH)"
   ]
  },
  {
   "cell_type": "code",
   "execution_count": 17,
   "metadata": {},
   "outputs": [],
   "source": [
    "# Define classes for fitness, trees and individuals (using DEAP's creator module)\n",
    "creator.create(\"FitnessMin\", base.Fitness, weights=(-1.0,))\n",
    "creator.create(\"Tree\", gp.PrimitiveTree)\n",
    "creator.create(\"Individual\", list, fitness=creator.FitnessMin)"
   ]
  },
  {
   "cell_type": "code",
   "execution_count": 18,
   "metadata": {},
   "outputs": [],
   "source": [
    "# Define how to initialize a tree, individual or population\n",
    "toolbox.register(\"tree\", tools.initIterate, creator.Tree, toolbox.expr)\n",
    "toolbox.register(\"individual\", tools.initRepeat, creator.Individual, toolbox.tree, N_CLASSES_TO_USE)\n",
    "toolbox.register(\"population\", tools.initRepeat, list, toolbox.individual)"
   ]
  },
  {
   "cell_type": "code",
   "execution_count": 19,
   "metadata": {},
   "outputs": [],
   "source": [
    "test_pop = toolbox.population(POPULATION_SIZE)"
   ]
  },
  {
   "cell_type": "markdown",
   "metadata": {},
   "source": [
    "## Fitness function"
   ]
  },
  {
   "cell_type": "code",
   "execution_count": 20,
   "metadata": {},
   "outputs": [],
   "source": [
    "# Define how to compile a single tree and an individual\n",
    "toolbox.register(\"compile_tree\", gp.compile, pset=pset)\n",
    "toolbox.register(\"compile_individual\", lambda individual: [toolbox.compile_tree(t) for t in individual])"
   ]
  },
  {
   "cell_type": "code",
   "execution_count": 21,
   "metadata": {},
   "outputs": [],
   "source": [
    "# Define fitness function\n",
    "def fitness(individual, n_samples_to_test):\n",
    "    # Compile the functions corresponding to the individual\n",
    "    funcs = toolbox.compile_individual(individual)\n",
    "    \n",
    "    # Define how to compute softmax and cross-entropy\n",
    "    def _softmax(x):\n",
    "        return np.exp(x)/np.sum(np.exp(x), axis=0)\n",
    "    def _cross_entropy(pred, label):\n",
    "        return -np.log(np.exp(pred[label])/np.sum(np.exp(pred), axis=0))\n",
    "    \n",
    "    # Create a list of samples to test, ensuring an equal number of samples from each class\n",
    "    sample_indices = []\n",
    "    n_samples_per_class = int(n_samples_to_test/N_CLASSES_TO_USE)\n",
    "    for c in range(N_CLASSES_TO_USE):\n",
    "        c_indices = np.where(Y_train == c)[0]\n",
    "        assert len(c_indices) >= n_samples_per_class, \\\n",
    "            f\"Class {c} has too few elements to reach the desired number of evaluation samples\"\n",
    "        sample_indices.extend(np.random.permutation(c_indices)[:n_samples_per_class])\n",
    "    \n",
    "    # Compute cross-entropy loss for each of the samples\n",
    "    losses = []\n",
    "    for i in sample_indices:\n",
    "        X_sample, Y_sample = X_train[i], Y_train[i]\n",
    "        output = _softmax([f(*X_sample) for f in funcs])\n",
    "        losses.append(_cross_entropy(output, Y_sample))\n",
    "    \n",
    "    # Return the average cross-entropy loss\n",
    "    return (np.average(losses),)"
   ]
  },
  {
   "cell_type": "code",
   "execution_count": 22,
   "metadata": {},
   "outputs": [],
   "source": [
    "# Add the fitness function to the toolbox\n",
    "toolbox.register(\"evaluate\", fitness, n_samples_to_test=N_SAMPLES_TO_TEST)"
   ]
  },
  {
   "cell_type": "markdown",
   "metadata": {},
   "source": [
    "## Evolution components\n",
    "\n",
    "##### Parent selection"
   ]
  },
  {
   "cell_type": "code",
   "execution_count": 23,
   "metadata": {},
   "outputs": [],
   "source": [
    "# Redefine the tools.selDoubleTournament function for our multi-tree individuals\n",
    "\n",
    "# Note: all comments from the original function have been removed to aid readability; the function remains unchanged \n",
    "# except for the usage of _size instead of len (as well as some differences in imports and version differences)\n",
    "def selDoubleTournament(individuals, k, fitness_size, parsimony_size, fitness_first, fit_attr=\"fitness\"):\n",
    "    assert (1 <= parsimony_size <= 2), \"Parsimony tournament size has to be in the range [1, 2].\"\n",
    "\n",
    "    def _sizeTournament(individuals, k, select):\n",
    "        chosen = []\n",
    "        for i in range(k):\n",
    "            prob = parsimony_size / 2.\n",
    "            ind1, ind2 = select(individuals, k=2)\n",
    "\n",
    "            # This is the part that matters for our re-implementation: we use the combined length of\n",
    "            # all trees instead of the length of the individual, which is equal for all individuals\n",
    "            def _size(individual):\n",
    "                return sum([len(tree) for tree in individual])\n",
    "                \n",
    "            if _size(ind1) > _size(ind2):\n",
    "                ind1, ind2 = ind2, ind1\n",
    "            elif _size(ind1) == _size(ind2):\n",
    "                prob = 0.5\n",
    "\n",
    "            chosen.append(ind1 if random.random() < prob else ind2)\n",
    "\n",
    "        return chosen\n",
    "\n",
    "    def _fitTournament(individuals, k, select):\n",
    "        chosen = []\n",
    "        for i in range(k):\n",
    "            aspirants = select(individuals, k=fitness_size)\n",
    "            chosen.append(max(aspirants, key=attrgetter(fit_attr)))\n",
    "        return chosen\n",
    "\n",
    "    if fitness_first:\n",
    "        tfit = partial(_fitTournament, select=tools.selRandom)\n",
    "        return _sizeTournament(individuals, k, tfit)\n",
    "    else:\n",
    "        tsize = partial(_sizeTournament, select=tools.selRandom)\n",
    "        return _fitTournament(individuals, k, tsize)"
   ]
  },
  {
   "cell_type": "code",
   "execution_count": 24,
   "metadata": {},
   "outputs": [],
   "source": [
    "# Define how to select parents (tournament selection; either controlling for bloat or not controlling for it)\n",
    "if CONTROL_BLOAT:\n",
    "    toolbox.register(\"select\", \n",
    "                     selDoubleTournament, \n",
    "                     fitness_size=TOURNAMENT_SIZE, \n",
    "                     parsimony_size=P_SMALLER_WINS*2, \n",
    "                     fitness_first=False)\n",
    "else:\n",
    "    toolbox.register(\"select\", \n",
    "                     tools.selTournament, \n",
    "                     tournsize=TOURNAMENT_SIZE)"
   ]
  },
  {
   "cell_type": "markdown",
   "metadata": {},
   "source": [
    "##### Crossover"
   ]
  },
  {
   "cell_type": "code",
   "execution_count": 25,
   "metadata": {},
   "outputs": [],
   "source": [
    "# Define how to perform crossover\n",
    "def crossover(ind1, ind2):\n",
    "    new_ind1, new_ind2 = [], []\n",
    "    for i in range(N_CLASSES_TO_USE):\n",
    "        tree1, tree2 = ind1[i], ind2[i]\n",
    "        if np.random.random() < P_CROSSOVER_PER_TREE:\n",
    "            tree1, tree2 = gp.cxOnePoint(tree1, tree2)\n",
    "        new_ind1.append(tree1)\n",
    "        new_ind2.append(tree2)\n",
    "    return (creator.Individual(new_ind1), creator.Individual(new_ind2))"
   ]
  },
  {
   "cell_type": "code",
   "execution_count": 26,
   "metadata": {},
   "outputs": [],
   "source": [
    "# Add the crossover (\"mate\") function to the toolbox\n",
    "toolbox.register(\"mate\", crossover)"
   ]
  },
  {
   "cell_type": "markdown",
   "metadata": {},
   "source": [
    "##### Mutation"
   ]
  },
  {
   "cell_type": "code",
   "execution_count": 27,
   "metadata": {},
   "outputs": [],
   "source": [
    "# Define how to create a \"mutation tree\"\n",
    "toolbox.register(\"expr_mut\", gp.genHalfAndHalf, min_=MIN_MUTATION_DEPTH, max_=MAX_MUTATION_DEPTH)"
   ]
  },
  {
   "cell_type": "code",
   "execution_count": 28,
   "metadata": {},
   "outputs": [],
   "source": [
    "# Define how to perform mutation\n",
    "def mutate(individual):\n",
    "    new_ind = []\n",
    "    for tree in individual:\n",
    "        if np.random.random() < P_MUTATION_PER_TREE:\n",
    "            new_ind.append(gp.mutUniform(tree, expr=toolbox.expr_mut, pset=pset)[0])\n",
    "        else:\n",
    "            new_ind.append(tree)\n",
    "    return creator.Individual(new_ind),"
   ]
  },
  {
   "cell_type": "code",
   "execution_count": 29,
   "metadata": {},
   "outputs": [],
   "source": [
    "# Add the mutation (\"mutate\") function to the toolbox\n",
    "toolbox.register(\"mutate\", mutate)"
   ]
  },
  {
   "cell_type": "markdown",
   "metadata": {},
   "source": [
    "##### Height boundary"
   ]
  },
  {
   "cell_type": "code",
   "execution_count": null,
   "metadata": {},
   "outputs": [],
   "source": []
  },
  {
   "cell_type": "markdown",
   "metadata": {},
   "source": [
    "## Statistics"
   ]
  },
  {
   "cell_type": "code",
   "execution_count": 30,
   "metadata": {},
   "outputs": [],
   "source": [
    "# OLD!\n",
    "# Functions for determining average, min and max, which control for the possibility that the input might consist of tuples\n",
    "def tuple_avg(a):\n",
    "    if len(a[0]) == 2:\n",
    "        return np.mean([x[0] for x in a])\n",
    "    return np.mean(a)\n",
    "\n",
    "def tuple_min(a):\n",
    "    if len(a[0]) == 2:\n",
    "        return np.min([x[0] for x in a])\n",
    "    return np.min(a)\n",
    "\n",
    "def tuple_max(a):\n",
    "    if len(a[0]) == 2:\n",
    "        return np.max([x[0] for x in a])\n",
    "    return np.max(a)\n",
    "\n",
    "# Function for determining the size of the agent with the best fitness\n",
    "def tuple_best_size(a):\n",
    "    if len(a[0]) == 2:\n",
    "        return np.amax(a, 1)[0]\n",
    "    return None"
   ]
  },
  {
   "cell_type": "code",
   "execution_count": 31,
   "metadata": {},
   "outputs": [],
   "source": [
    "# OLD!\n",
    "stats_fit = tools.Statistics(lambda ind: ind.fitness.values)\n",
    "#stats_size = tools.Statistics(lambda ind: [len(ind), ind.fitness.values[0]])\n",
    "mstats = tools.MultiStatistics(fitness=stats_fit)#, size=stats_size)\n",
    "mstats.register(\"avg\",  tuple_avg)\n",
    "mstats.register(\"min\",  tuple_min)\n",
    "mstats.register(\"max\",  tuple_max)\n",
    "#mstats.register(\"best\", tuple_best_size)"
   ]
  },
  {
   "cell_type": "markdown",
   "metadata": {},
   "source": [
    "## Running the genetic programming algorithm"
   ]
  },
  {
   "cell_type": "code",
   "execution_count": 32,
   "metadata": {},
   "outputs": [
    {
     "name": "stdout",
     "output_type": "stream",
     "text": [
      "   \t      \t               fitness                \n",
      "   \t      \t--------------------------------------\n",
      "gen\tnevals\tavg    \tgen\tmax    \tmin    \tnevals\n",
      "0  \t100   \t1.44311\t0  \t1.60561\t1.32011\t100   \n",
      "1  \t100   \t1.38085\t1  \t1.54238\t1.30531\t100   \n",
      "2  \t100   \t1.36487\t2  \t1.42794\t1.30834\t100   \n",
      "3  \t100   \t1.36582\t3  \t1.46671\t1.2484 \t100   \n",
      "4  \t100   \t1.36283\t4  \t1.45758\t1.30143\t100   \n",
      "5  \t100   \t1.3679 \t5  \t1.47912\t1.28369\t100   \n",
      "6  \t100   \t1.36376\t6  \t1.47892\t1.23708\t100   \n",
      "7  \t100   \t1.36431\t7  \t1.45963\t1.2733 \t100   \n",
      "8  \t100   \t1.345  \t8  \t1.4816 \t1.22923\t100   \n",
      "9  \t100   \t1.34373\t9  \t1.47859\t1.22876\t100   \n",
      "10 \t100   \t1.33733\t10 \t1.51785\t1.20108\t100   \n",
      "11 \t100   \t1.32316\t11 \t1.44306\t1.21836\t100   \n",
      "12 \t100   \t1.32625\t12 \t1.43489\t1.21768\t100   \n",
      "13 \t100   \t1.31113\t13 \t1.45951\t1.22434\t100   \n"
     ]
    },
    {
     "name": "stderr",
     "output_type": "stream",
     "text": [
      "<ipython-input-21-cd3d11961881>:8: RuntimeWarning: overflow encountered in exp\n",
      "  return np.exp(x)/np.sum(np.exp(x), axis=0)\n",
      "<ipython-input-21-cd3d11961881>:8: RuntimeWarning: invalid value encountered in true_divide\n",
      "  return np.exp(x)/np.sum(np.exp(x), axis=0)\n"
     ]
    },
    {
     "name": "stdout",
     "output_type": "stream",
     "text": [
      "14 \t100   \tnan    \t14 \tnan    \tnan    \t100   \n",
      "15 \t100   \t1.3104 \t15 \t1.44548\t1.19429\t100   \n",
      "16 \t100   \t1.29111\t16 \t1.43593\t1.17273\t100   \n",
      "17 \t100   \t1.29369\t17 \t1.40902\t1.18139\t100   \n",
      "18 \t100   \t1.28688\t18 \t1.41502\t1.18006\t100   \n",
      "19 \t100   \t1.27862\t19 \t1.38276\t1.15193\t100   \n",
      "20 \t100   \t1.28006\t20 \t1.41307\t1.1554 \t100   \n",
      "21 \t100   \t1.26816\t21 \t1.39264\t1.15416\t100   \n",
      "22 \t100   \t1.25758\t22 \t1.40808\t1.14071\t100   \n",
      "23 \t100   \t1.26022\t23 \t1.40483\t1.15408\t100   \n",
      "24 \t100   \t1.25099\t24 \t1.38231\t1.12102\t100   \n",
      "25 \t100   \t1.25859\t25 \t1.37021\t1.14277\t100   \n",
      "26 \t100   \t1.24795\t26 \t1.35526\t1.13514\t100   \n",
      "27 \t100   \t1.24647\t27 \t1.43301\t1.16105\t100   \n",
      "28 \t100   \t1.24056\t28 \t1.36018\t1.12083\t100   \n",
      "29 \t100   \t1.22759\t29 \t1.35679\t1.11655\t100   \n",
      "30 \t100   \t1.2385 \t30 \t1.46695\t1.10066\t100   \n",
      "31 \t100   \t1.23182\t31 \t1.36678\t1.13334\t100   \n",
      "32 \t100   \t1.23152\t32 \t1.33976\t1.14287\t100   \n",
      "33 \t100   \t1.2272 \t33 \t1.3784 \t1.11389\t100   \n",
      "34 \t100   \t1.21737\t34 \t1.3362 \t1.10882\t100   \n",
      "35 \t100   \t1.22052\t35 \t1.35688\t1.08389\t100   \n",
      "36 \t100   \t1.21833\t36 \t1.36576\t1.10654\t100   \n",
      "37 \t100   \t1.20367\t37 \t1.31694\t1.10895\t100   \n",
      "38 \t100   \t1.20798\t38 \t1.3132 \t1.08383\t100   \n",
      "39 \t100   \t1.21291\t39 \t1.3518 \t1.09283\t100   \n",
      "40 \t100   \t1.19709\t40 \t1.29949\t1.12147\t100   \n",
      "41 \t100   \t1.20368\t41 \t1.2927 \t1.10461\t100   \n",
      "42 \t100   \t1.206  \t42 \t1.31735\t1.10288\t100   \n",
      "43 \t100   \t1.19808\t43 \t1.29498\t1.07797\t100   \n",
      "44 \t100   \t1.19935\t44 \t1.33591\t1.10598\t100   \n",
      "45 \t100   \t1.2009 \t45 \t1.32528\t1.06538\t100   \n",
      "46 \t100   \t1.19577\t46 \t1.32201\t1.08964\t100   \n",
      "47 \t100   \t1.1892 \t47 \t1.29494\t1.07488\t100   \n",
      "48 \t100   \t1.1948 \t48 \t1.30895\t1.08402\t100   \n",
      "49 \t100   \t1.18879\t49 \t1.30941\t1.08657\t100   \n",
      "50 \t100   \t1.1787 \t50 \t1.29361\t1.07336\t100   \n",
      "51 \t100   \t1.19183\t51 \t1.39262\t1.07738\t100   \n",
      "52 \t100   \t1.18647\t52 \t1.27455\t1.10223\t100   \n",
      "53 \t100   \t1.18362\t53 \t1.30474\t1.08039\t100   \n",
      "54 \t100   \t1.18377\t54 \t1.28635\t1.05689\t100   \n",
      "55 \t100   \t1.18344\t55 \t1.27799\t1.08203\t100   \n",
      "56 \t100   \t1.18748\t56 \t1.33881\t1.09069\t100   \n",
      "57 \t100   \t1.18087\t57 \t1.31574\t1.04432\t100   \n",
      "58 \t100   \t1.17771\t58 \t1.29284\t1.06252\t100   \n",
      "59 \t100   \t1.18368\t59 \t1.34771\t1.09018\t100   \n",
      "60 \t100   \t1.17429\t60 \t1.28855\t1.08331\t100   \n",
      "61 \t100   \t1.17131\t61 \t1.24993\t1.07893\t100   \n",
      "62 \t100   \t1.16408\t62 \t1.26707\t1.0506 \t100   \n",
      "63 \t100   \t1.17082\t63 \t1.34442\t1.0789 \t100   \n",
      "64 \t100   \t1.16942\t64 \t1.27024\t1.06979\t100   \n",
      "65 \t100   \t1.17144\t65 \t1.28795\t1.0561 \t100   \n",
      "66 \t100   \t1.16857\t66 \t1.27613\t1.07487\t100   \n",
      "67 \t100   \t1.16985\t67 \t1.25991\t1.10226\t100   \n",
      "68 \t100   \t1.15753\t68 \t1.26811\t1.06637\t100   \n",
      "69 \t100   \t1.15984\t69 \t1.26669\t1.05756\t100   \n",
      "70 \t100   \t1.16223\t70 \t1.29043\t1.08431\t100   \n",
      "71 \t100   \t1.17095\t71 \t1.27053\t1.07141\t100   \n",
      "72 \t100   \t1.17   \t72 \t1.34062\t1.07953\t100   \n",
      "73 \t100   \t1.16535\t73 \t1.31178\t1.06112\t100   \n",
      "74 \t100   \t1.16718\t74 \t1.27278\t1.08508\t100   \n",
      "75 \t100   \t1.16108\t75 \t1.29825\t1.08543\t100   \n",
      "76 \t100   \t1.16843\t76 \t1.30111\t1.07385\t100   \n",
      "77 \t100   \t1.15881\t77 \t1.27203\t1.05661\t100   \n",
      "78 \t100   \t1.1612 \t78 \t1.27887\t1.03675\t100   \n",
      "79 \t100   \t1.16225\t79 \t1.30805\t1.06061\t100   \n",
      "80 \t100   \t1.17154\t80 \t1.29336\t1.07732\t100   \n",
      "81 \t100   \t1.16406\t81 \t1.29899\t1.06352\t100   \n",
      "82 \t100   \t1.15724\t82 \t1.27618\t1.04352\t100   \n",
      "83 \t100   \t1.15397\t83 \t1.29449\t1.03474\t100   \n",
      "84 \t100   \t1.15851\t84 \t1.30764\t1.0742 \t100   \n",
      "85 \t100   \t1.16352\t85 \t1.28112\t1.0445 \t100   \n",
      "86 \t100   \t1.15941\t86 \t1.27377\t1.05964\t100   \n",
      "87 \t100   \t1.15656\t87 \t1.30929\t1.06059\t100   \n",
      "88 \t100   \t1.16179\t88 \t1.35084\t1.07012\t100   \n",
      "89 \t100   \t1.16918\t89 \t1.31699\t1.07282\t100   \n",
      "90 \t100   \t1.16588\t90 \t1.26913\t1.07375\t100   \n",
      "91 \t100   \t1.16773\t91 \t1.28288\t1.06196\t100   \n",
      "92 \t100   \t1.15936\t92 \t1.25452\t1.00944\t100   \n",
      "93 \t100   \t1.15915\t93 \t1.27067\t1.06436\t100   \n",
      "94 \t100   \t1.14883\t94 \t1.24585\t1.03406\t100   \n",
      "95 \t100   \t1.15297\t95 \t1.28817\t1.05947\t100   \n",
      "96 \t100   \t1.15854\t96 \t1.29155\t1.04416\t100   \n",
      "97 \t100   \t1.15417\t97 \t1.25318\t1.07306\t100   \n",
      "98 \t100   \t1.15388\t98 \t1.42183\t1.04218\t100   \n",
      "99 \t100   \t1.15383\t99 \t1.27169\t1.04541\t100   \n",
      "100\t100   \t1.15108\t100\t1.308  \t1.04072\t100   \n"
     ]
    }
   ],
   "source": [
    "# OLD!\n",
    "pop = toolbox.population(POPULATION_SIZE)\n",
    "hof = tools.HallOfFame(1)\n",
    "pop, log = algorithms.eaSimple(population=pop, \n",
    "                               toolbox=toolbox, \n",
    "                               cxpb=P_CROSSOVER, \n",
    "                               mutpb=P_MUTATION, \n",
    "                               ngen=N_GENERATIONS, \n",
    "                               stats=mstats, \n",
    "                               halloffame=hof, \n",
    "                               verbose=True)"
   ]
  },
  {
   "cell_type": "code",
   "execution_count": 33,
   "metadata": {},
   "outputs": [
    {
     "name": "stdout",
     "output_type": "stream",
     "text": [
      "linear(ARG115, ARG140, step(ARG107, ARG192), absolute(ARG45, absolute(ARG131), step(ARG85), sine(ARG226, ARG81, ARG219, ARG99, ARG118, inverse(ARG0, ARG81, ARG94, ARG226)), cosine(ARG125, ARG241, ARG101, ARG117, ARG115), ARG146, sigmoid(ARG251, ARG93, ARG123, ARG125), cosine(ARG196, ARG67), tanh(ARG156, ARG0, ARG130, ARG149, ARG143)), gaussian(absolute(linear(sigmoid(ARG18, ARG251), step(cosine(ARG71, ARG180, ARG191, ARG36, ARG179, ARG84, ARG50, sine(ARG251, ARG81, ARG219, ARG99, ARG118, ARG252), ARG18, ARG18), ARG148, ARG231, ARG243, ARG67, ARG85, step(ARG39, ARG142, ARG241, ARG225, ARG123, ARG237, ARG219, ARG23, ARG232)), ARG236, ARG230, ARG77, ARG107, step(ARG51, ARG84))), gaussian(ARG114, ARG20, ARG251, ARG221, ARG107, ARG156), sine(ARG226, ARG81, ARG72, ARG99, ARG118, inverse(ARG0, ARG81, ARG94, ARG226)), cosine(ARG67, ARG191, ARG232, ARG131, ARG155), step(ARG107, ARG192), cosine(ARG194, inverse(ARG0, ARG252, ARG94, ARG226), ARG107, ARG82, ARG145, ARG95, ARG29, ARG191, ARG126), ARG130, ARG158, ARG115, sigmoid(ARG19)))\n",
      "\n",
      "absolute(inverse(tanh(ARG72, ARG243, inverse(ARG231, ARG229, ARG62, ARG132, ARG34), ARG106, ARG85, inverse(ARG32, ARG31, step(ARG78, ARG161, linear(step(ARG75, cosine(ARG185, tanh(ARG158, ARG160, ARG40), step(ARG113, ARG123, ARG253), ARG64, ARG155), ARG176, ARG94, ARG163, ARG166, ARG255, ARG129)), ARG109, ARG166, ARG48, ARG74, ARG184, ARG152), ARG212, ARG4, sine(ARG127, ARG176, ARG18, ARG68, ARG162, ARG201, ARG68), sine(ARG176, ARG28, ARG159, ARG47, ARG150, ARG65, ARG207, ARG186, ARG70), ARG53, ARG116), inverse(ARG17, ARG53, ARG157, ARG243, ARG250)), cosine(step(ARG131, ARG25, ARG170, ARG66, ARG49, ARG20, ARG79, ARG22, step(ARG248, ARG14, ARG255, ARG43, ARG2)), tanh(ARG160, ARG66, sine(ARG3, ARG83, ARG208, ARG143, ARG250, ARG130), ARG237, ARG125, ARG96, sine(ARG79, ARG62, ARG246), ARG155), ARG119, ARG77, ARG177, ARG102, ARG123, ARG60), gaussian(ARG244, tanh(ARG247, ARG225, ARG102, tanh(ARG57, ARG162, ARG234)), ARG7, ARG243, ARG46, ARG113, ARG116, ARG79), step(gaussian(gaussian(ARG114, ARG83, ARG162, ARG176, ARG66), sigmoid(ARG53, ARG74, ARG163, ARG118, ARG147, ARG69, ARG127, ARG188), inverse(ARG226, ARG69, ARG9, ARG149, ARG203))), gaussian(ARG113, ARG173, ARG174, ARG60, ARG152, ARG60, ARG86, ARG129), cosine(ARG79, ARG243, ARG195), inverse(ARG18, ARG103, ARG96, sigmoid(ARG164, inverse(ARG46), inverse(ARG17, ARG11, ARG212, ARG243, ARG46), sine(ARG240, ARG159, ARG188, ARG7, ARG133, ARG68, ARG244, ARG29, ARG255), ARG91, ARG37, ARG77, ARG247, gaussian(ARG110, ARG59, ARG95, ARG241, ARG87, ARG126, ARG196, ARG118, ARG12, ARG41)), ARG99), sine(ARG20, ARG67, ARG248)), linear(step(ARG75, cosine(ARG185, tanh(ARG158, ARG160, ARG40), step(ARG113, ARG123, ARG253), ARG64, ARG155), ARG176, ARG94, ARG163, ARG166, ARG255, ARG129)), inverse(cosine(ARG54, ARG120), absolute(ARG198, ARG178, ARG168, ARG11, ARG62, ARG232, ARG112, cosine(ARG15, sigmoid(ARG162, ARG114), ARG239, ARG30, ARG10, ARG190)), absolute(ARG79, ARG79, ARG78, gaussian(ARG165, ARG48), linear(ARG133, ARG230, ARG123), ARG89, ARG81, ARG215, ARG108), sigmoid(ARG149, ARG58, inverse(ARG168, ARG177, ARG11, ARG144, ARG105, ARG241, ARG22, ARG82), ARG138, absolute(ARG14, ARG44)), sine(linear(ARG122), absolute(ARG200, ARG43, ARG85, ARG137, ARG106, ARG125, ARG34, ARG254), sigmoid(ARG143, ARG52, ARG69), sigmoid(ARG172, ARG155, ARG235, ARG50, ARG18, ARG11, ARG37, ARG235), linear(ARG65, ARG157, ARG111, ARG111), step(ARG252, ARG110, ARG44, ARG211, ARG76, ARG111, ARG246, ARG114, ARG3, ARG62), gaussian(ARG216, ARG142, ARG158, ARG18), step(ARG212, ARG161, ARG122, ARG24, ARG239), sine(ARG0, ARG7, ARG188, ARG170, ARG226, ARG162, ARG229, ARG83, ARG130, ARG110)), sine(ARG254), ARG244, tanh(ARG32, ARG7, absolute(ARG2, ARG137, inverse(ARG119, ARG234, ARG33, ARG196, ARG160, sine(linear(ARG122), absolute(ARG200, ARG43, ARG85, ARG137, ARG106, ARG125, ARG34, ARG254), sigmoid(ARG143, ARG52, ARG69), sigmoid(ARG172, ARG155, ARG235, ARG50, ARG18, ARG11, ARG37, ARG235), linear(ARG65, ARG157, ARG111, ARG111), step(ARG252, ARG110, ARG44, ARG211, ARG76, ARG111, ARG246, ARG114, ARG3, ARG62), gaussian(ARG216, ARG142, ARG158, ARG18), step(ARG212, ARG161, ARG122, ARG24, ARG239), sine(ARG0, ARG7, ARG188, ARG170, ARG226, ARG162, ARG229, ARG83, ARG130, ARG110)), ARG65, linear(ARG248, ARG1, ARG255)), ARG200, ARG59, ARG165, ARG2, cosine(ARG16, ARG206, ARG95, ARG110, ARG227, ARG126)))), sigmoid(gaussian(ARG126, ARG124, sine(ARG228, ARG115, ARG93, gaussian(ARG176, ARG21), cosine(ARG148, ARG70), ARG37, ARG215, ARG75, ARG142), ARG231, ARG114), absolute(absolute(ARG117, ARG188, ARG135), absolute(ARG229, sigmoid(ARG66, ARG54, ARG194), ARG218, ARG236, ARG36, ARG5, ARG254), ARG133), sine(ARG254, ARG187, gaussian(ARG169, ARG56), ARG137, ARG252, ARG77, ARG171), step(ARG199, ARG13, sigmoid(absolute(ARG225, ARG27, ARG176, sine(ARG149, linear(ARG119, sigmoid(ARG130, ARG244, ARG27), ARG54, ARG248, ARG237, inverse(ARG213, ARG232, ARG126, ARG115, ARG130, ARG116, ARG236)), gaussian(ARG132, ARG182, ARG26, ARG232, ARG159, ARG36, gaussian(ARG155), ARG181, ARG160), absolute(linear(ARG65, ARG23, ARG122, ARG84), ARG126, sine(ARG135, ARG67, ARG34, ARG71, ARG238, ARG244, ARG105, ARG107), ARG213), gaussian(ARG153)), ARG146, ARG178, ARG66, ARG168, ARG6), ARG96, absolute(ARG214, ARG86, ARG50), ARG93, cosine(ARG190, ARG34, ARG131), ARG189, gaussian(ARG170, ARG218, ARG170, ARG56, ARG50, ARG13, ARG140, ARG248, ARG108), step(ARG60), ARG32), ARG116, ARG202, ARG202, ARG248, ARG109, ARG239)), sine(linear(ARG83, ARG46, ARG51, ARG193), sine(ARG149, linear(ARG119, sigmoid(ARG16, ARG168, ARG27), ARG54, ARG107, ARG237, inverse(ARG213, ARG232, ARG61, ARG115, ARG130, ARG116, ARG236)), gaussian(ARG132, ARG182, ARG26, absolute(ARG165, ARG230, ARG33, ARG213, ARG95, ARG66, ARG200, ARG200, ARG51), ARG159, ARG36, gaussian(ARG155), ARG181, ARG160), absolute(linear(ARG65, ARG23, ARG122, ARG84), ARG126, sine(ARG135, ARG67, ARG34, ARG71, ARG238, ARG244, ARG105, ARG86), ARG213), gaussian(ARG153)), ARG189, cosine(ARG14, ARG157, ARG148), inverse(ARG155, ARG93, ARG187), inverse(tanh(ARG5), step(ARG10), ARG252, gaussian(ARG135, ARG170, ARG189)), sigmoid(ARG25, ARG199, ARG81, inverse(ARG199, ARG251, ARG57, ARG25, ARG1, ARG69, step(ARG17, ARG228, ARG181, ARG202, ARG137), ARG210, ARG27, cosine(ARG109, ARG135, ARG188, cosine(ARG79, ARG243, ARG195), ARG227, ARG58)), ARG147, cosine(ARG214, ARG109, ARG120, absolute(ARG132, ARG135, ARG46, ARG168, ARG121), ARG197, ARG46, ARG68), cosine(ARG137, tanh(ARG85, ARG148, ARG116, ARG192, ARG87, ARG62, ARG10)), ARG189, ARG207), absolute(ARG12, ARG255, ARG224, ARG65, ARG251, gaussian(inverse(ARG78, ARG140, ARG3, ARG106, ARG172, ARG89, ARG50, ARG124, ARG205, ARG168), gaussian(ARG103, ARG48), linear(ARG167)), sigmoid(tanh(ARG85, ARG141, ARG247, ARG27), sine(linear(ARG57), inverse(ARG37, ARG23, ARG171, ARG153, ARG224, ARG241, ARG213, ARG221, ARG69, ARG49)), ARG129, ARG10, ARG168, sine(ARG179, ARG223, ARG152, ARG139, ARG62), ARG68), ARG86, ARG123, ARG229)), linear(cosine(ARG106, ARG11, ARG224, ARG33, ARG156, ARG9, ARG255, ARG33, ARG165), tanh(ARG251, ARG30, tanh(ARG44, ARG139, ARG90, cosine(ARG181, ARG226), ARG115, ARG128), ARG254, ARG65, ARG38, sigmoid(ARG238, ARG34, gaussian(ARG250, ARG220, ARG221, ARG168, ARG6, ARG201, ARG221, ARG226, ARG232, ARG22), ARG159, absolute(ARG149, ARG33, ARG227, ARG45, ARG187, ARG52, ARG161, ARG254, ARG253), ARG67, ARG102)), tanh(tanh(ARG61, ARG29, ARG220, ARG222, ARG130, ARG82, ARG150))), absolute(gaussian(tanh(sigmoid(ARG147, ARG217, ARG85), ARG43, ARG12, ARG23, ARG147, ARG95), ARG33), gaussian(ARG110, ARG59, ARG99, ARG241, ARG87, ARG126, ARG176, ARG118, ARG12, ARG41), ARG133, linear(ARG141, ARG55, absolute(ARG47, ARG176, ARG231)), absolute(ARG159, ARG96, ARG151, step(ARG72, ARG113, ARG143), ARG25, ARG212), absolute(ARG243, ARG62, ARG158, step(ARG17, ARG232, ARG144, sigmoid(tanh(ARG72, ARG243, inverse(ARG231, ARG229, ARG62, ARG132, ARG34), ARG106, ARG85, inverse(ARG32, ARG31, step(ARG62, ARG161, ARG124, ARG109, ARG166, ARG48, ARG74, ARG184, ARG152), ARG212, ARG4, sine(ARG127, ARG176, ARG18, ARG68, ARG162, ARG201, ARG68), sine(ARG176, ARG28, ARG159, ARG47, ARG150, ARG65, ARG207, ARG186, ARG70), ARG53, ARG116), inverse(ARG17, ARG11, ARG157, ARG107, ARG250)), ARG174, ARG33, ARG148, ARG81, ARG243, ARG6, ARG160, ARG72), ARG152), ARG196), inverse(ARG163, ARG47, ARG102)), cosine(inverse(ARG167, ARG187, ARG216, ARG39, sine(ARG231, ARG133, absolute(ARG53, ARG121), ARG82, sigmoid(ARG50, ARG78, ARG171, ARG2, ARG242, ARG237), ARG146, step(ARG87, ARG204, ARG48, ARG20, ARG211, ARG132, ARG108, ARG244, ARG38, ARG190)), ARG116), step(absolute(ARG62, ARG76, tanh(ARG122, ARG18, ARG19, ARG228, ARG198, ARG220, ARG132), ARG115, ARG126, gaussian(ARG103, ARG48), gaussian(ARG206), ARG169, linear(ARG248, ARG1, ARG255), linear(absolute(ARG149, ARG33, ARG227, ARG45, ARG187, ARG52, ARG161, ARG254, ARG253), ARG61, ARG46)), ARG253, ARG255, ARG51, ARG60, ARG158, ARG139, ARG70, ARG176, ARG186), inverse(ARG243), gaussian(linear(ARG16, ARG237, ARG39, ARG226, ARG221, ARG171, ARG82, ARG196, ARG228), ARG41, ARG110, ARG140, ARG135, ARG152, ARG62), linear(cosine(ARG86), ARG7, ARG64)), inverse(absolute(ARG0, ARG92, ARG216)))\n",
      "\n",
      "gaussian(cosine(sine(ARG190, cosine(ARG159, ARG44, ARG205, ARG163, ARG125), gaussian(ARG252, ARG87, ARG228, ARG23), ARG199, ARG165, ARG60), linear(ARG177, ARG110, ARG147, ARG113, ARG203, ARG225), inverse(sigmoid(linear(ARG123, ARG49, ARG129, ARG25, ARG111), ARG168, linear(ARG87, ARG117, ARG219), cosine(ARG130, ARG77, ARG90, ARG52, ARG168, ARG145, ARG127, ARG168, ARG66, ARG165), ARG198, absolute(ARG161, ARG99, ARG39, ARG204, ARG220, ARG200, ARG150), ARG132, ARG245), ARG167, ARG146, gaussian(ARG212, ARG247, ARG96), sine(ARG99, ARG13, ARG230, ARG63, ARG251, sigmoid(ARG185, ARG148, ARG146, ARG7, inverse(absolute(cosine(ARG49), ARG21), ARG239, ARG142, ARG33, ARG77, sigmoid(ARG94, step(ARG226, ARG120, ARG185, ARG102, ARG13, ARG63, ARG113)), ARG105, ARG217, ARG73, ARG23), ARG69, ARG8, ARG93), ARG244), ARG169, ARG217, ARG132, ARG233, sine(ARG39, cosine(ARG141, ARG95, ARG84, ARG9, ARG90, ARG239, ARG49), ARG48, ARG109, ARG122)), inverse(sine(ARG113, ARG225, ARG61, ARG77, ARG241), ARG134, tanh(ARG108, ARG81), ARG230), tanh(tanh(ARG151), ARG101), gaussian(ARG42), linear(ARG88, ARG200, ARG93, ARG156, step(ARG61, ARG175, ARG192))), ARG26, absolute(sigmoid(ARG49, ARG109, ARG250, ARG185, ARG60, ARG93), gaussian(ARG2), absolute(ARG198, ARG154, ARG69, ARG111, ARG29, ARG29, inverse(ARG7, cosine(ARG105, ARG140, ARG28, ARG3, ARG228, ARG255, ARG210), absolute(ARG125, ARG227, ARG151, ARG26, ARG32, ARG9, ARG61, ARG95), ARG157, absolute(ARG204), ARG45, ARG209, ARG54)), step(linear(ARG83, ARG9, ARG120, ARG101, ARG205, ARG101, absolute(ARG36), absolute(ARG72, ARG128, ARG41, ARG145, ARG40, ARG204, ARG16, ARG220, ARG73), ARG116, ARG107), ARG246, sine(ARG159, ARG171, step(ARG163, ARG105, ARG119, ARG248), ARG250, ARG105), ARG146, ARG28, ARG124, absolute(ARG253, ARG181, ARG206, sigmoid(ARG17, ARG69, ARG235, ARG31, ARG95), sine(ARG245, ARG66, ARG182, ARG217, ARG236), inverse(ARG147, ARG219, ARG169, ARG69, ARG177, ARG37, ARG34, ARG219, ARG7), sine(ARG183, ARG190, ARG77, ARG207, ARG55, ARG223, ARG215, ARG165, ARG201), step(ARG157, ARG13, ARG128, ARG58, ARG205, ARG52, ARG221, ARG32, ARG28), ARG78, ARG211), ARG177)), sigmoid(inverse(ARG222, ARG150, sigmoid(ARG1), ARG110, sigmoid(ARG241, ARG170, sigmoid(ARG22, ARG71, ARG157), inverse(ARG59, ARG192, ARG180, ARG245), ARG59, ARG115, cosine(ARG72, ARG173, ARG16, ARG170, ARG27, ARG233), absolute(linear(ARG158, absolute(ARG99, ARG201, ARG227, ARG3, ARG58), ARG4, ARG59, ARG90, linear(ARG43, ARG55), step(ARG127, ARG252, ARG94, ARG28, ARG141, ARG218, ARG45)), ARG193, ARG86, cosine(linear(ARG55, ARG174)), sigmoid(ARG217, ARG198), inverse(ARG139, tanh(ARG152, ARG113), ARG33, ARG158), ARG110, ARG115, ARG168)), ARG63, ARG142), inverse(ARG7, cosine(ARG105, ARG140, ARG28, ARG3, ARG228, ARG255, ARG210), absolute(ARG211, ARG227, ARG151, ARG26, ARG32, ARG9, ARG61, ARG95), ARG157, absolute(ARG204), ARG45, ARG209, ARG54), gaussian(ARG70, ARG131, ARG201), inverse(ARG10, ARG11, sine(cosine(sigmoid(step(ARG207, ARG126), ARG166, ARG178, ARG225, ARG29, ARG128, ARG152, tanh(gaussian(ARG246, ARG77, ARG20, ARG47, ARG255, ARG42, ARG228, ARG67, ARG139), ARG107, ARG232, ARG167, ARG145), ARG80), gaussian(ARG34, cosine(ARG242, ARG185, ARG119, ARG115), ARG67, ARG158, ARG235, ARG16, ARG228), ARG110, ARG247, tanh(ARG108, gaussian(ARG90, ARG254, ARG108), ARG199, ARG226, tanh(ARG223, ARG129, ARG50, ARG38, ARG247, ARG146, ARG197, ARG212, ARG135), ARG52, ARG5, cosine(ARG205, inverse(ARG145, ARG77), ARG83, ARG253, ARG100, ARG113, ARG48), ARG9), ARG87, ARG17, ARG204, ARG197, ARG142), ARG64), absolute(sigmoid(ARG84, ARG168, ARG242, ARG105), ARG28, ARG117), ARG31, linear(ARG238, ARG57, ARG253, linear(ARG109, ARG204, ARG240, ARG8), tanh(ARG48, ARG210, ARG173, ARG236, step(ARG1, ARG157, ARG232, ARG14, ARG135, ARG235), ARG183, ARG229, ARG44, ARG243), ARG46), ARG229)), ARG189, sigmoid(sine(ARG217, cosine(ARG162, ARG9, ARG196, ARG114, ARG67), ARG41, ARG47, step(ARG226, ARG33, ARG233, ARG44, ARG22, ARG184), ARG84, ARG186), inverse(absolute(cosine(ARG49), ARG21), ARG239, ARG142, ARG33, ARG77, sigmoid(ARG94, step(ARG226, ARG120, ARG185, ARG102, ARG13, ARG63, ARG124)), ARG105, ARG217, ARG73, ARG23), sigmoid(ARG97)), sine(ARG246, inverse(absolute(ARG161), ARG172, ARG201, sine(sine(ARG134, ARG206, ARG25, ARG198, ARG69), ARG85, ARG72, ARG39), ARG61, tanh(ARG137, ARG217, ARG119, ARG101, ARG157, ARG213, ARG215), gaussian(ARG87, ARG206, ARG117), ARG250, inverse(sine(ARG23, ARG91, ARG106, ARG115, ARG251, ARG67, ARG144, ARG3, ARG181), ARG133, ARG63, gaussian(ARG227, ARG59, ARG154, ARG134, ARG216, ARG251, ARG97, ARG242, ARG94), ARG240, tanh(ARG133, ARG48, ARG86, ARG131, ARG110))), cosine(ARG130, step(ARG149), cosine(ARG151, ARG75, ARG101, absolute(ARG250, ARG102, ARG40, ARG214, ARG214, ARG128), ARG5, ARG199, ARG27), sigmoid(ARG67, ARG62), ARG118, gaussian(ARG137, ARG195, ARG182, ARG15, ARG152, ARG191), ARG248), step(ARG189), ARG84, absolute(ARG19, ARG193, cosine(ARG243, sigmoid(ARG168, ARG235, ARG199, ARG99, ARG14, ARG59, ARG26, ARG215), ARG158, gaussian(ARG225, ARG178, ARG29, ARG213, ARG97, ARG253, ARG119, ARG175, ARG154, ARG157), ARG222, ARG105, ARG238, ARG170), ARG186, ARG22, ARG75, ARG50, gaussian(ARG70, ARG28, ARG88, gaussian(ARG36), ARG188, cosine(ARG200), ARG56, ARG165, ARG143, ARG70)), gaussian(ARG70, ARG131, ARG201), sigmoid(ARG69, sine(step(ARG178, ARG122, ARG171, ARG44, ARG140), ARG153, ARG83)), inverse(tanh(ARG25, ARG54, ARG235, ARG52, linear(ARG224, ARG111, ARG126, ARG233, ARG83, ARG163)), ARG209, cosine(ARG241, ARG217, ARG81, cosine(ARG86, ARG16, ARG24, ARG117, ARG33, ARG203, ARG208), ARG217, absolute(ARG250, ARG102, ARG40, ARG214, ARG214, ARG128), absolute(ARG94, ARG68, ARG178, ARG136, ARG3), absolute(ARG210, ARG106, ARG90, ARG118, ARG146, ARG234, ARG139, ARG87, ARG218, ARG223), ARG171), ARG125, ARG17, step(ARG26, ARG149), ARG91)), tanh(step(inverse(ARG73), ARG109, step(ARG221, ARG36, ARG17, inverse(ARG10, ARG154, ARG94, ARG167), ARG178, ARG5, gaussian(ARG63, ARG103, ARG106, ARG209, ARG13, ARG106, ARG229, ARG158)), ARG14, ARG166, tanh(ARG237, ARG39, ARG235, sigmoid(ARG166, ARG79, ARG88, ARG164, ARG185, ARG139, ARG93), ARG90, tanh(ARG125, ARG107, ARG42, ARG178, ARG236, ARG12, ARG179, ARG67), ARG8, ARG168, step(ARG217, ARG223)), ARG105, ARG144)), inverse(ARG229, cosine(sigmoid(step(ARG207, ARG126), ARG166, ARG178, ARG225, ARG29, ARG128, ARG152, ARG31, ARG80), gaussian(ARG34, cosine(ARG242, ARG185, ARG119, ARG115), ARG67, ARG158, ARG235, ARG16, ARG228), ARG110, ARG247, tanh(ARG108, gaussian(ARG43, ARG254, ARG108), ARG199, ARG226, tanh(ARG223, ARG129, ARG50, ARG38, ARG247, ARG146, ARG197, ARG212, ARG135), ARG52, ARG5, cosine(ARG205, inverse(ARG145, ARG77), ARG83, sine(ARG159, ARG181, step(ARG163, ARG105, ARG119, ARG248), ARG250, ARG105), ARG100, ARG197, ARG141), ARG9), ARG87, ARG17, ARG204, ARG197, ARG142), ARG146, sine(ARG3, inverse(ARG99), ARG142, ARG244, sigmoid(ARG42, inverse(ARG171, ARG106, ARG207)))), inverse(sigmoid(ARG125, ARG194, inverse(ARG40), ARG113), inverse(ARG84, ARG150, ARG194, linear(ARG43, ARG184), cosine(cosine(ARG203, ARG170, ARG82, ARG217, ARG235, ARG72, ARG216, ARG162, ARG117), gaussian(ARG247, ARG110), ARG233), sigmoid(step(ARG41, ARG202, ARG180, ARG105, ARG67, ARG64, ARG253, ARG249, ARG59), step(ARG185, ARG100, ARG0), ARG212, ARG89, gaussian(ARG193, ARG180), ARG178, ARG21, ARG176, ARG193), ARG28, ARG8), sine(ARG29, ARG64), tanh(step(ARG247, ARG149, ARG101, gaussian(ARG237, ARG71, ARG223, absolute(ARG211, ARG227, ARG151, ARG26, ARG32, ARG9, ARG61, ARG95), ARG190), ARG239, ARG19), ARG87, ARG143), sigmoid(ARG197, ARG26, ARG169), cosine(ARG108), ARG175, step(ARG173, ARG30)))\n",
      "\n",
      "absolute(linear(cosine(tanh(tanh(ARG229, ARG18, ARG184, ARG10, ARG134, ARG177, ARG242, ARG129, ARG181), cosine(ARG157, ARG226, ARG232), tanh(ARG42, ARG165, ARG123, ARG75, ARG204), sigmoid(ARG250, ARG170, ARG12), linear(ARG170, ARG87), absolute(ARG189), sigmoid(ARG8, ARG115, ARG48, ARG225, ARG225, ARG61, ARG80, ARG82, ARG171, ARG198), linear(ARG62), absolute(ARG86, ARG253, ARG199, ARG229)), ARG130), step(sine(step(ARG20, ARG159, ARG61, ARG98, ARG235, ARG138)))), cosine(inverse(sigmoid(gaussian(ARG97))), tanh(gaussian(sine(ARG106, ARG113, ARG95, ARG106, ARG70, ARG71, ARG210, ARG206, ARG194), sine(ARG84, ARG169, ARG25, ARG212, ARG103, ARG60), sigmoid(ARG184, ARG87, ARG25, ARG67, ARG210), sigmoid(ARG154, ARG139, ARG249, ARG52, ARG117, ARG93)), sine(sine(ARG146, ARG238, ARG158, ARG51, ARG144, ARG25, ARG20, ARG165, ARG8, ARG123), absolute(ARG134, ARG65), cosine(ARG94, ARG75, ARG139, ARG228, ARG142, ARG255, ARG217, ARG33, ARG35, ARG70), absolute(ARG52, ARG200), linear(ARG129, ARG225, ARG94, ARG254, ARG232, ARG152), cosine(ARG222, ARG26), linear(ARG168, ARG183, ARG193, ARG250, ARG102, ARG160, ARG140, ARG175), inverse(ARG191, ARG114), step(ARG125)), inverse(gaussian(ARG206, ARG87, ARG243, ARG107, ARG96, ARG46, ARG139, ARG68, ARG184)), inverse(absolute(ARG183, ARG67, ARG113, ARG134, ARG110, ARG83)), gaussian(inverse(ARG170, ARG191, ARG157, ARG102, ARG88, ARG135, ARG249), gaussian(ARG216, ARG14, ARG154)), cosine(linear(ARG199), cosine(ARG206, ARG6, ARG132, ARG228, ARG37, ARG243, ARG185, ARG207, ARG247), sigmoid(ARG189, ARG63, ARG110, ARG234, ARG59, ARG234, ARG187, ARG222)), gaussian(inverse(ARG215, ARG97), sigmoid(ARG53, ARG86, ARG87, ARG28, ARG48, ARG118, ARG38), step(ARG108, ARG113, ARG221, ARG33, ARG208, ARG104), linear(ARG193, ARG101, ARG65, ARG1, ARG169, ARG255), absolute(ARG162, ARG156, ARG171, ARG156, ARG25, ARG93), sigmoid(ARG67, ARG213, ARG119, ARG18, ARG162, ARG97), absolute(ARG43, ARG85, ARG169, ARG196, ARG162), gaussian(ARG22, ARG76, ARG147)), tanh(cosine(ARG59, ARG197, ARG99, ARG185, ARG92), gaussian(ARG226, ARG46, ARG5, ARG202, ARG70, ARG81, ARG218, ARG141, ARG205), gaussian(ARG143, ARG146, ARG63, ARG236), inverse(ARG255, ARG189, ARG245, ARG184, ARG206, ARG130, ARG240, ARG220, ARG247), step(ARG25, ARG220, ARG78, ARG240, ARG36, ARG11, ARG253), inverse(ARG10, ARG116, ARG104, ARG94, ARG135, ARG79, ARG27, ARG194)), sine(cosine(ARG38, ARG38, ARG208, ARG202, ARG0, ARG46, ARG12, ARG167), sine(ARG128)), sine(cosine(ARG18, ARG181), step(ARG215), inverse(ARG28, ARG223))), tanh(absolute(gaussian(ARG85, ARG28, ARG121, ARG115, ARG69, ARG45, ARG61, ARG219, ARG127), absolute(ARG67, ARG129, ARG181, ARG209), gaussian(ARG134, ARG249)), step(tanh(ARG60, ARG77, ARG46, ARG200, ARG173, ARG138, ARG23)), inverse(inverse(ARG148, ARG105, ARG144, ARG36, ARG76, ARG248, ARG96, ARG251), step(ARG199, ARG218, ARG186, ARG168, ARG103, ARG192, ARG73, ARG53, ARG251), tanh(ARG197, ARG247, ARG88, ARG97, ARG113, ARG0, ARG184, ARG155, ARG6), sine(ARG226, ARG64, ARG126, ARG63, ARG19, ARG58, ARG237, ARG246), cosine(ARG166, ARG29, ARG111, ARG214, ARG148, ARG226, ARG99, ARG38, ARG149, ARG35), inverse(ARG143, ARG207, ARG156)), inverse(sine(ARG9, ARG17, ARG149, ARG125), linear(ARG247, ARG199, ARG31, ARG33, ARG25, ARG53, ARG97, ARG129, ARG184, ARG217))), sigmoid(cosine(gaussian(ARG146, cosine(sine(ARG77, ARG249, ARG38), sigmoid(ARG13, ARG47, ARG105, ARG0, ARG8, ARG67, ARG36, ARG156), sine(ARG172, ARG199, ARG49, ARG144, ARG64, ARG55, ARG183, ARG5, ARG137), sigmoid(ARG128, absolute(gaussian(ARG85, ARG28, ARG121, ARG115, ARG69, ARG45, ARG61, ARG219, ARG127), absolute(ARG67, ARG129, ARG181, ARG209), gaussian(ARG134, ARG249))), absolute(ARG180, ARG32, ARG243, ARG178, ARG179, ARG71, ARG111, ARG98, ARG83, ARG178), sigmoid(ARG136, ARG62, ARG207, ARG82, ARG44, ARG53, ARG250, ARG57), tanh(ARG19, ARG114, ARG231, ARG167, ARG209, ARG100, ARG168, ARG51, ARG217), absolute(ARG106, ARG208, ARG25, ARG28, ARG41, ARG99, ARG73, ARG152, ARG164)), ARG230, ARG99, ARG190, ARG9, ARG27, ARG80, ARG67, ARG2), linear(ARG78, ARG204, ARG19, ARG69, ARG129, ARG145, ARG221), absolute(ARG119, ARG231, ARG60), inverse(ARG184), step(ARG79, ARG126, ARG92, ARG96, ARG24, ARG119), tanh(ARG128, ARG178, ARG130), inverse(ARG57, ARG82, ARG161, ARG19, ARG103, ARG91)), linear(inverse(ARG247, ARG94, ARG147, ARG52, ARG77, ARG217, ARG171, ARG242)), inverse(inverse(ARG28, ARG50, ARG223, ARG99), inverse(ARG216, ARG117, ARG16, ARG129, ARG15, ARG74), inverse(ARG12, ARG189, ARG37, ARG236, ARG121, ARG154, ARG143, ARG47, ARG88, ARG234), gaussian(ARG191, ARG235, ARG123, ARG120, ARG175, ARG10, ARG172, ARG42), step(ARG235, ARG193, ARG86, ARG10), tanh(ARG240, ARG62, ARG138, ARG74, ARG44, ARG102, ARG236, ARG87)), sine(absolute(ARG245, ARG180, ARG205, ARG33, ARG101, ARG108, ARG48), absolute(ARG137, ARG29, ARG42, ARG102, ARG189, ARG86, ARG3, ARG241, ARG167), sigmoid(ARG129, ARG35, ARG165, ARG65, ARG114, ARG186, ARG225, ARG21, ARG201), tanh(ARG214, ARG109), sine(ARG127), absolute(ARG207, ARG164)), cosine(tanh(ARG107, ARG64, ARG88, ARG54, ARG41, ARG72), step(ARG126, ARG245, ARG141, ARG15, ARG61, ARG194, ARG86), inverse(ARG190, ARG90), sigmoid(ARG106, ARG152, ARG12, ARG253, ARG100, ARG131, ARG148, ARG83, ARG123, ARG141), sigmoid(ARG152, ARG229, ARG102, ARG136, ARG147, ARG17, ARG100, ARG197), absolute(ARG164, ARG209, ARG14, ARG203, ARG175, ARG14, ARG126, ARG54, ARG206), gaussian(ARG50, ARG147), sigmoid(ARG219, ARG231, ARG116, ARG223, ARG12, ARG50, ARG82), tanh(ARG144, ARG95, ARG151, ARG153, ARG12, ARG2, ARG143, ARG54, ARG113, ARG185), sine(ARG26, ARG175, ARG190, ARG93, ARG241, ARG9, ARG195))), linear(step(sigmoid(ARG187, ARG184, ARG216), step(ARG120, ARG59, ARG204), sine(ARG33)), gaussian(step(ARG162, ARG244, ARG196, ARG27, ARG165, ARG97, ARG11, ARG161), gaussian(ARG147, ARG140, ARG93, ARG33, ARG141, ARG67), gaussian(ARG20, ARG2, ARG68, ARG154)), tanh(tanh(ARG33, ARG225), sine(ARG16), absolute(ARG41, ARG66, ARG130, ARG150, ARG143, ARG183, ARG2, ARG184, ARG247, ARG191), tanh(ARG219, ARG180, ARG55, ARG205, ARG146, ARG27), sigmoid(ARG149, ARG122)), ARG178, linear(cosine(ARG135, ARG69, ARG38, ARG129), gaussian(ARG101, ARG80, ARG228, ARG21, ARG144, ARG158, ARG84, ARG5, ARG19, ARG41)), linear(ARG142, ARG5, ARG93, ARG152), sigmoid(cosine(ARG103, ARG14, ARG28, ARG123, ARG166), inverse(ARG110, ARG202, ARG248, ARG77, ARG68, ARG45, ARG104, ARG229, ARG215, ARG79), gaussian(ARG247, ARG5, ARG45, ARG255, ARG77, ARG241, ARG129, ARG164, ARG48, ARG36), cosine(ARG50, ARG209, ARG16, ARG37), gaussian(ARG81, ARG38, ARG208, ARG236, ARG89, ARG40, ARG16, ARG90)), linear(linear(ARG53, ARG145, ARG43, ARG16, ARG220, ARG99), sine(ARG0, ARG124, ARG64, ARG227, ARG96, ARG157, ARG7, ARG213, ARG109), sine(ARG108, ARG132, ARG200, absolute(ARG180, ARG32, ARG243, ARG178, ARG179, ARG71, ARG111, ARG98, ARG83, ARG178)), gaussian(ARG211, ARG171, ARG19, ARG208, ARG69, ARG185), inverse(ARG192, ARG172, ARG231, ARG190, ARG180, ARG175)), sigmoid(tanh(ARG117, ARG19, ARG99, ARG165, ARG187, ARG71, ARG14, ARG216, ARG180, ARG151), gaussian(ARG104, ARG127, ARG175), sigmoid(ARG41), cosine(ARG76, ARG171, ARG254, ARG252, ARG224, ARG23, ARG220, ARG110, ARG190), gaussian(ARG239, ARG162, ARG190), cosine(ARG221, ARG43, ARG190, ARG136), inverse(ARG59, ARG218, ARG52, ARG212, ARG123, ARG219), tanh(ARG238, ARG113, ARG128, ARG23, ARG1, ARG255, ARG214, ARG80, ARG119)), inverse(sine(ARG231, ARG143, ARG99, ARG203, ARG251, ARG130, ARG121), gaussian(ARG221, ARG144), step(ARG188, ARG130, ARG19, ARG159, ARG206, ARG105, ARG87, ARG77, ARG168, ARG246), cosine(ARG88, ARG227, ARG43, ARG226, ARG84), inverse(ARG113, ARG37, ARG17, ARG50, ARG241, ARG155), step(ARG219, ARG63, ARG169, ARG97))), absolute(sigmoid(tanh(ARG17, ARG225, ARG54, ARG226), step(ARG42, ARG24), inverse(ARG174, ARG232, ARG198, ARG180, ARG205, ARG66, ARG62), gaussian(ARG9, ARG235), tanh(ARG149)), linear(linear(ARG148, ARG149), sigmoid(ARG10, ARG55)), linear(gaussian(ARG140, ARG197, ARG118, ARG209, ARG84, ARG40, ARG99, ARG50, ARG12, absolute(ARG178, ARG93, ARG50, ARG62, ARG140, ARG181, ARG98, ARG140, ARG9, ARG83)), cosine(ARG11, ARG48, ARG106, ARG64, ARG252, ARG224)), gaussian(inverse(ARG150, ARG222, ARG161, ARG124, ARG95, ARG92))), linear(absolute(sigmoid(ARG107, ARG11, ARG19, ARG45, ARG11, ARG107, ARG222), sigmoid(ARG199, ARG222))), sigmoid(cosine(step(ARG90, ARG206, ARG162, ARG0, ARG131, ARG142, ARG65, ARG110, ARG6, ARG49), cosine(ARG7, ARG163, ARG46, ARG220, ARG227)), tanh(gaussian(ARG63, ARG79, ARG134, ARG182), inverse(ARG95, ARG109, ARG3, ARG90, ARG198, ARG184, ARG161, ARG107), tanh(ARG141, ARG3, ARG44, ARG27, ARG82), step(ARG180, ARG241, ARG39, ARG59, ARG163, ARG243, ARG176, ARG176)), gaussian(linear(ARG72, ARG27, ARG73, ARG132, ARG42, ARG224), inverse(ARG95, ARG108, ARG226, ARG125), inverse(ARG202, ARG139, ARG17, ARG213, ARG249, ARG0, ARG178, ARG157), linear(ARG3, ARG242, ARG119, ARG91, ARG223, ARG156, ARG55), step(ARG212, ARG41), absolute(ARG213), cosine(ARG203, ARG172), sigmoid(ARG205, ARG151, ARG71, ARG56, ARG18, ARG209, ARG216, ARG26, ARG9), tanh(ARG71, ARG141, ARG191))), sine(inverse(cosine(ARG76, ARG67, ARG106, ARG4, ARG104, ARG86, ARG144, ARG252, ARG232, ARG20), linear(ARG225, ARG57, ARG70, ARG16, ARG106, ARG97), cosine(ARG130, tanh(ARG113, ARG87, tanh(ARG208, gaussian(ARG18, ARG35, ARG134, ARG183, ARG127), ARG200, ARG149, linear(ARG206, ARG60), absolute(ARG206, ARG109, ARG122, ARG171, ARG120, ARG179, ARG233, ARG34, ARG157, ARG142)), ARG200, ARG36, ARG208, linear(step(ARG126, ARG193, ARG42, ARG227, ARG232, ARG148, ARG235, ARG45, ARG76, ARG209), cosine(ARG154, ARG78, ARG142, ARG63, ARG101), absolute(ARG171), tanh(ARG167, ARG83, ARG165, ARG174, ARG71, ARG174), linear(ARG36, ARG3, ARG187, ARG201, ARG162, ARG144), ARG210, ARG103), ARG184, ARG25)), cosine(ARG112, ARG96, ARG15, ARG118, ARG19, ARG83), sigmoid(ARG88, ARG243, ARG23), tanh(ARG73, ARG98, ARG68, ARG38, ARG56, ARG54, ARG102, ARG136, ARG81), ARG117, sine(ARG36, ARG57, ARG161, ARG15, ARG122), cosine(ARG31)), linear(sigmoid(ARG43, ARG230, ARG200), cosine(ARG230, ARG124, ARG237, ARG201, ARG115, ARG99, ARG157, ARG99), gaussian(ARG158, ARG200, ARG239), tanh(ARG198, ARG23, ARG159, ARG128, ARG152, ARG11, ARG197, ARG124, ARG169, ARG254), gaussian(ARG190, ARG31), inverse(ARG214, ARG10, ARG88, ARG54, ARG172, ARG49, ARG102, ARG3, ARG28), tanh(ARG41, ARG59, ARG98), step(ARG228)), linear(sine(ARG18, ARG227, ARG62, ARG214, ARG235, ARG136, ARG153), step(ARG186, ARG7, ARG241, ARG154, ARG92), linear(ARG110, ARG209), sigmoid(ARG97, ARG167)), linear(tanh(ARG202, ARG112, ARG21, ARG113, ARG32, ARG222, ARG24, ARG52, ARG203), tanh(ARG235, ARG82, ARG148, ARG131, ARG168), inverse(ARG217, ARG231, ARG94, ARG8, ARG205, ARG14, ARG216, ARG81, ARG90), absolute(ARG209, ARG131, ARG244), sigmoid(ARG231, ARG115, ARG56), inverse(ARG72, ARG3, ARG203, ARG188, ARG25, ARG32, ARG211), absolute(ARG253, ARG244, ARG38, ARG219, ARG86, ARG186)), absolute(sigmoid(ARG199, ARG111, ARG92, ARG28, ARG131), tanh(ARG145), cosine(ARG157, ARG217, ARG80, ARG164, ARG249, ARG22, ARG97, ARG106, ARG209, ARG81), linear(ARG10, ARG44, ARG116, ARG35, ARG32), step(ARG210, ARG107, ARG6, ARG39, ARG124, ARG7, ARG46, ARG149), cosine(ARG85, ARG224, ARG253, ARG155, ARG45, ARG226, ARG173, ARG31, ARG179)), sigmoid(tanh(ARG42, ARG169, ARG230, ARG224, ARG157, ARG150), absolute(ARG233, ARG59, ARG226, ARG65, ARG181, ARG239, ARG38), sigmoid(ARG162), cosine(ARG0, ARG103, ARG0), step(ARG11, ARG235, ARG70, ARG98), step(ARG60, ARG26, ARG165, ARG139, ARG18, ARG182), absolute(ARG192, ARG133, ARG155, ARG86, ARG190, ARG35, ARG60)), inverse(tanh(ARG138, ARG209, ARG29), absolute(ARG159, ARG162, ARG222, ARG51, ARG59, ARG64, ARG136, ARG66), cosine(ARG182), linear(ARG121, ARG21, ARG216, ARG255, ARG173, ARG45, ARG54), step(ARG229, ARG126, ARG167, ARG70, ARG128)), cosine(linear(ARG58, ARG144, ARG122), cosine(ARG230, ARG48, ARG135, absolute(ARG159, ARG162, ARG222, ARG51, ARG59, ARG64, ARG136, ARG66)), cosine(ARG65, ARG200, ARG162, ARG242, ARG96, ARG80, ARG142), linear(ARG61, ARG87), tanh(ARG191), sigmoid(ARG132, ARG118))), cosine(gaussian(absolute(ARG239, ARG229, ARG80, ARG5, ARG152, ARG188, ARG225, ARG51, ARG59), gaussian(ARG96, ARG54, ARG110, ARG221, ARG121, ARG103, ARG35), sine(ARG141, ARG51, ARG34, ARG165, ARG176, ARG108, ARG102), tanh(ARG237, ARG105, ARG43, ARG161, ARG143, ARG220, ARG78, ARG162, ARG30, ARG190)), tanh(sine(ARG29, ARG173, ARG191, ARG20, ARG185, ARG126, ARG103, ARG82, ARG197), gaussian(ARG239, ARG247, ARG38, ARG21, ARG109, ARG107), sigmoid(ARG150, ARG47), absolute(ARG170, ARG192), cosine(ARG188, ARG47, ARG162, ARG53, ARG186, ARG249, ARG164, ARG10)), tanh(cosine(ARG38), tanh(ARG87), absolute(ARG253, ARG216, ARG192, ARG225, ARG81, ARG4, ARG247, ARG80, ARG14), cosine(ARG153, ARG128, ARG211, ARG80, ARG18), gaussian(ARG255, ARG107, ARG109, ARG37, ARG64, ARG64, ARG254, ARG16, ARG251), linear(ARG35, ARG146, ARG178, ARG76, ARG235, ARG191), inverse(ARG214, ARG131, ARG124, ARG105, ARG153, ARG50, ARG134, ARG32), gaussian(ARG111, ARG4, ARG16, ARG15, ARG219, ARG188), step(ARG35, ARG21, ARG11, ARG58, step(sine(step(ARG20, ARG159, ARG61, ARG98, ARG235, ARG138))), ARG97, linear(ARG14, ARG86, ARG252, ARG166, ARG122, ARG152, ARG230)), cosine(ARG50, ARG149, ARG230, ARG175, ARG60, sigmoid(gaussian(ARG94, ARG48, ARG233, ARG137, ARG109, ARG202, ARG241, ARG143, ARG51), sine(ARG227, ARG110), absolute(ARG186, ARG113, ARG104), gaussian(ARG134, ARG243, ARG89, ARG130, ARG155, ARG24, ARG209, ARG102, ARG148), inverse(ARG102)), ARG158, ARG249, ARG24)), sine(sine(ARG115, ARG20, ARG253, ARG82, ARG89, ARG93, ARG113), cosine(ARG57, ARG228, ARG83), sigmoid(ARG35, ARG62, ARG126, ARG197, ARG139, ARG91, ARG4), tanh(ARG59, ARG24, ARG149, ARG176, ARG207, ARG39, ARG214, ARG188, ARG78), cosine(ARG127, ARG172, ARG59, ARG153, ARG170, ARG184, ARG52, ARG254, ARG39, ARG234), cosine(ARG204, ARG66, ARG175, ARG148, ARG188, ARG176, ARG152, ARG168, ARG160, ARG225), sine(ARG114, ARG48, ARG233, ARG134, ARG31, ARG87, ARG38, ARG140, ARG16, ARG27), absolute(ARG14, ARG41, ARG237, ARG45, ARG41, ARG84, ARG139, ARG227), gaussian(ARG241)), linear(gaussian(ARG233, ARG141, ARG91, ARG3, ARG11, ARG210, ARG106, ARG141, ARG210, ARG98), linear(ARG127, ARG159, ARG68, ARG113, ARG32), absolute(ARG120, ARG15), cosine(ARG151, ARG158, ARG129, ARG192, ARG25), linear(ARG13, ARG102, ARG47, ARG103, ARG203, ARG118, ARG10, ARG129, ARG50), sigmoid(ARG125), absolute(ARG32, ARG230, ARG115, ARG220, ARG32, ARG96, ARG198, ARG8, ARG149, ARG48), absolute(ARG239, ARG229, ARG80, ARG5, ARG152, ARG188, ARG225, ARG51, ARG59)), sine(tanh(ARG56, ARG185, ARG145, ARG132, sigmoid(ARG129, ARG35, ARG165, ARG65, ARG114, ARG186, ARG225, ARG21, ARG201), ARG149, ARG188, ARG8, ARG92, ARG242), absolute(ARG13, ARG1, ARG144, ARG153, ARG50, ARG165, ARG76), tanh(ARG218, sigmoid(ARG136, ARG62, ARG207, ARG82, ARG44, ARG53, ARG250, ARG57), ARG213, ARG251), sigmoid(ARG101, ARG201, ARG221, ARG140, ARG247, ARG92, ARG219, ARG145), inverse(ARG151, ARG171, ARG204, ARG227, ARG91, ARG155, ARG134, ARG130), gaussian(ARG147, ARG204, ARG243, ARG46, ARG112, ARG66, ARG89, ARG63, ARG248), sigmoid(ARG249, ARG48, ARG1, ARG27, ARG24, ARG249, ARG243), tanh(ARG241, ARG160, ARG205, ARG112, ARG113, ARG20, ARG104), absolute(ARG10, ARG5, ARG15, ARG125, ARG183, ARG184, ARG100, ARG27), cosine(ARG52, ARG109)))), cosine(ARG63, gaussian(sigmoid(sigmoid(ARG8, ARG86, ARG21, ARG55, ARG106, ARG235)), cosine(sine(ARG77, ARG249, ARG38), sigmoid(ARG13, ARG47, ARG105, ARG0, ARG8, ARG67, ARG36, ARG156), sine(ARG172, ARG199, ARG49, ARG139, ARG64, ARG55, ARG183, ARG5, ARG137), sigmoid(ARG128, ARG107), absolute(ARG180, ARG32, ARG243, ARG178, ARG179, ARG71, ARG111, ARG98, ARG83, ARG178), sigmoid(ARG136, ARG62, ARG207, ARG82, ARG44, ARG53, ARG250, ARG57), tanh(ARG19, ARG114, ARG231, ARG167, ARG209, ARG100, ARG168, ARG51, ARG217), absolute(ARG106, ARG208, ARG25, ARG28, ARG41, ARG99, ARG73, ARG101, ARG164)), linear(step(ARG142, ARG140, ARG170, ARG242, ARG66, ARG229, ARG104, ARG1, ARG173, ARG253), linear(ARG91, ARG184, ARG165, ARG198, ARG195, ARG140, ARG84, ARG255, ARG73), step(ARG154, ARG8, ARG21, ARG74, ARG145, ARG204, ARG123, ARG202, ARG243, ARG240), cosine(ARG119, ARG92, ARG146, ARG119, ARG11, ARG9, ARG165, ARG13), gaussian(ARG4, ARG83, ARG75, ARG65), sigmoid(ARG120, ARG1, ARG144, ARG54, ARG2, ARG192, ARG161), step(ARG2, ARG229, ARG177, ARG91, ARG201, ARG248, ARG163, ARG80, ARG176, ARG243)), inverse(absolute(sine(ARG48, ARG161), absolute(ARG61, ARG229, ARG49, ARG137, ARG53)), linear(ARG12, ARG238, ARG165, ARG235, ARG55, ARG161, ARG230), linear(ARG14, ARG86, ARG252, ARG166, ARG122, ARG152, ARG230), gaussian(ARG12, ARG99, ARG213, ARG58, ARG147, ARG70, ARG205, ARG179, ARG112), sine(ARG35, ARG187, linear(linear(ARG11, absolute(ARG178, ARG93, ARG50, ARG62, ARG140, ARG181, ARG98, ARG140, ARG9, ARG83), ARG238, ARG243, ARG168, ARG253, ARG215), ARG59, ARG125, ARG131, ARG243, ARG126, absolute(cosine(ARG233, ARG193, ARG73, ARG246, ARG5, ARG16, ARG150), ARG20, linear(ARG170, ARG227, ARG22, ARG213, ARG243, ARG251), ARG143, gaussian(ARG50, ARG100, ARG150), ARG151, tanh(ARG200, ARG237, ARG202, ARG175, ARG133, ARG79, ARG162), ARG73, ARG205, ARG234), ARG104, ARG84, ARG151), ARG195, ARG187), sine(ARG199, linear(ARG58, ARG144, ARG122), ARG77, ARG132, ARG255, ARG199, ARG130), cosine(ARG23, ARG113, ARG94, ARG196, ARG161, ARG46, ARG73, ARG151, ARG65), cosine(ARG4, ARG203, ARG235, ARG1, ARG115, ARG48, ARG49, ARG181, ARG250, ARG91), absolute(ARG65, ARG0, ARG90, ARG132, ARG145, ARG203, ARG213, ARG75, ARG70, ARG209), absolute(ARG221)), sine(linear(ARG228, ARG162, ARG161, ARG239, ARG120, ARG43, ARG132, ARG225, ARG243), gaussian(gaussian(ARG111, ARG4, ARG16, ARG15, ARG219, ARG188), ARG143, ARG30, ARG246), absolute(ARG76, ARG157, ARG139), sigmoid(ARG27, ARG85, ARG32, ARG110, absolute(ARG64, ARG7, ARG56, ARG66, ARG44), ARG52, ARG98, ARG51, ARG83, ARG80), tanh(ARG180, ARG218, ARG159), tanh(ARG194, ARG88, ARG72, ARG139, ARG163), tanh(ARG125, ARG102, ARG99, ARG225, ARG140, ARG41, ARG188, ARG191, ARG163)), sigmoid(cosine(gaussian(ARG160, ARG200, ARG168, ARG71, ARG129, ARG189), ARG106, ARG150, ARG149, ARG242)), tanh(gaussian(ARG177), tanh(ARG192, ARG231, ARG155, ARG186, ARG217, ARG65, ARG237, ARG95), tanh(ARG179, ARG113), linear(ARG191, ARG195, ARG254, ARG242, ARG169), tanh(ARG20, ARG4), absolute(ARG11, ARG241, ARG4, ARG28, ARG147, ARG117, ARG234, ARG129, ARG170), step(ARG173, ARG63, ARG88, ARG249, ARG193, ARG215, ARG224, ARG91), gaussian(ARG137, ARG250), sigmoid(ARG195, ARG147, ARG96), absolute(ARG82, ARG91, ARG98, ARG59, ARG120, ARG195, ARG57, ARG10))), linear(gaussian(linear(ARG211, ARG217, ARG238, ARG222, ARG117, ARG180, ARG207, ARG148, ARG39, ARG35), sine(ARG2, ARG104, ARG238, ARG166), absolute(ARG133, ARG87, ARG31, ARG176, ARG193, ARG42, ARG133, ARG120), absolute(ARG147, ARG177, ARG136), ARG138, linear(ARG209, ARG42), step(ARG244)), gaussian(gaussian(ARG194, ARG243), inverse(ARG119, ARG95, ARG244), cosine(ARG36, ARG55, ARG35, ARG132, ARG233, ARG200, ARG160, ARG31, ARG184), linear(ARG165, ARG240, ARG196, ARG128, ARG181, ARG177), sine(ARG209, ARG252, ARG17, ARG40, ARG41, ARG31), gaussian(ARG134, ARG179, ARG31, ARG80, ARG248)), sigmoid(absolute(ARG37, ARG129, ARG30, ARG97, ARG251, ARG65, ARG89, ARG125, ARG64), absolute(ARG237, ARG110, ARG162, ARG171, ARG57, ARG87, ARG69, ARG246, ARG201), sine(ARG167), gaussian(ARG65, ARG153, ARG197, ARG24, ARG244, ARG138), step(ARG204, ARG22), gaussian(ARG123, ARG79, ARG74, ARG115, ARG190, ARG227, ARG142, ARG89, ARG20, ARG238), absolute(ARG89), ARG34, sine(ARG123, ARG141, ARG1, ARG50, ARG222, ARG169, ARG8, ARG148, ARG59, ARG9)), absolute(sine(ARG48, ARG161), absolute(ARG61, ARG229, ARG49, ARG137, ARG53)), absolute(sine(ARG170, ARG230, ARG110, ARG79, ARG81, ARG106, ARG184), gaussian(ARG223, ARG120, ARG223, ARG56, ARG72, ARG7, ARG228, ARG159), gaussian(ARG198, ARG199, ARG139), tanh(ARG85, ARG126, ARG122, ARG159, ARG184, ARG146, ARG220, ARG121), step(ARG242, ARG67, ARG70, ARG204, ARG176, ARG168), inverse(ARG200, ARG42, ARG129, ARG52, ARG199, ARG208, ARG116, ARG213), cosine(ARG110, ARG155, ARG131, ARG24, ARG138, ARG57, ARG57), gaussian(ARG220, ARG210, ARG201, ARG43, ARG81, ARG61, ARG219, ARG45, ARG18, ARG4), ARG118, gaussian(ARG169, ARG211, ARG152, ARG211, ARG79, ARG2, ARG163, ARG201, ARG216, ARG153)), linear(ARG64, inverse(ARG29, ARG47, ARG50, ARG201, ARG165, ARG58), linear(ARG142, ARG5, ARG93, ARG152), absolute(ARG136, ARG204, ARG206, ARG227), inverse(ARG184, ARG35, ARG56, ARG176, ARG180, ARG234, ARG94, ARG227, ARG72, ARG254), sine(ARG243, ARG127, ARG80, ARG51, ARG239, ARG68, ARG77, ARG18), gaussian(ARG229, ARG162, ARG31, ARG152, ARG58, ARG105, ARG200, ARG121, ARG110, ARG92), gaussian(ARG176, ARG97, ARG154, ARG155, ARG162, ARG204, ARG140, ARG7, ARG56, ARG232)), sigmoid(gaussian(ARG238, ARG5, ARG111, ARG120, ARG210, ARG50, ARG121)))))\n",
      "\n"
     ]
    }
   ],
   "source": [
    "for t in hof[0]:\n",
    "    print(t)\n",
    "    print(\"\")"
   ]
  },
  {
   "cell_type": "code",
   "execution_count": 34,
   "metadata": {},
   "outputs": [
    {
     "name": "stdout",
     "output_type": "stream",
     "text": [
      "0.5915003635776036\n"
     ]
    }
   ],
   "source": [
    "funcs = toolbox.compile_individual(hof[0])\n",
    "n_correct = 0\n",
    "for i in range(n_samples_train):\n",
    "    out = [f(*X_train[i]) for f in funcs]\n",
    "    n_correct += np.argmax(out) == Y_train[i]\n",
    "print(n_correct/n_samples_train)"
   ]
  },
  {
   "cell_type": "code",
   "execution_count": 35,
   "metadata": {},
   "outputs": [
    {
     "name": "stdout",
     "output_type": "stream",
     "text": [
      "0.5989896560019244\n"
     ]
    }
   ],
   "source": [
    "funcs = toolbox.compile_individual(hof[0])\n",
    "n_correct = 0\n",
    "for i in range(n_samples_test):\n",
    "    out = [f(*X_test[i]) for f in funcs]\n",
    "    n_correct += np.argmax(out) == Y_test[i]\n",
    "print(n_correct/n_samples_test)"
   ]
  },
  {
   "cell_type": "code",
   "execution_count": 36,
   "metadata": {},
   "outputs": [
    {
     "data": {
      "image/png": "[encoded data removed]",
      "text/plain": [
       "<Figure size 432x288 with 1 Axes>"
      ]
     },
     "metadata": {
      "needs_background": "light"
     },
     "output_type": "display_data"
    },
    {
     "data": {
      "image/png": "[encoded data removed]",
      "text/plain": [
       "<Figure size 432x288 with 1 Axes>"
      ]
     },
     "metadata": {
      "needs_background": "light"
     },
     "output_type": "display_data"
    },
    {
     "data": {
      "image/png": "[encoded data removed]",
      "text/plain": [
       "<Figure size 432x288 with 1 Axes>"
      ]
     },
     "metadata": {
      "needs_background": "light"
     },
     "output_type": "display_data"
    },
    {
     "data": {
      "image/png": "[encoded data removed]",
      "text/plain": [
       "<Figure size 432x288 with 1 Axes>"
      ]
     },
     "metadata": {
      "needs_background": "light"
     },
     "output_type": "display_data"
    }
   ],
   "source": [
    "import re\n",
    "for tree in hof[0]:\n",
    "    inputs_used = list(map(int, re.findall(\"[0-9]+\", str(tree))))\n",
    "    input_tallies = np.zeros(DESIRED_IMAGE_SIZE**2)\n",
    "    for i in inputs_used:\n",
    "        input_tallies[i] += 1\n",
    "    plt.imshow(input_tallies.reshape(DESIRED_IMAGE_SIZE, DESIRED_IMAGE_SIZE))\n",
    "    plt.show()"
   ]
  }
 ],
 "metadata": {
  "kernelspec": {
   "display_name": "Python 3",
   "language": "python",
   "name": "python3"
  },
  "language_info": {
   "codemirror_mode": {
    "name": "ipython",
    "version": 3
   },
   "file_extension": ".py",
   "mimetype": "text/x-python",
   "name": "python",
   "nbconvert_exporter": "python",
   "pygments_lexer": "ipython3",
   "version": "3.8.3"
  }
 },
 "nbformat": 4,
 "nbformat_minor": 4
}
