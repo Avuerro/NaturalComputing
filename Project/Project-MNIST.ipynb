{
 "cells": [
  {
   "cell_type": "markdown",
   "metadata": {},
   "source": [
    "# Natural Computing - Project\n",
    "#### Submission by group 25 (Chihab Amghane, Max Driessen, Jordy Naus)\n",
    "\n",
    "The code below uses the DEAP framework (https://github.com/deap/deap), which is a very intuitive framework for evolutionary algorithms and genetic programming."
   ]
  },
  {
   "cell_type": "markdown",
   "metadata": {},
   "source": [
    "### Installing the DEAP framework"
   ]
  },
  {
   "cell_type": "code",
   "execution_count": 1,
   "metadata": {},
   "outputs": [],
   "source": [
    "# !pip install deap\n",
    "# !pip install tensorflow\n",
    "# !pip install scikit-image"
   ]
  },
  {
   "cell_type": "markdown",
   "metadata": {},
   "source": [
    "### Imports"
   ]
  },
  {
   "cell_type": "code",
   "execution_count": 2,
   "metadata": {},
   "outputs": [],
   "source": [
    "from deap import gp, base, tools, creator, algorithms\n",
    "import numpy as np\n",
    "import matplotlib.pyplot as plt\n",
    "import operator\n",
    "import pandas as pd\n",
    "import math\n",
    "from skimage.transform import rescale\n",
    "from tensorflow.keras.datasets import mnist\n",
    "\n",
    "%matplotlib inline"
   ]
  },
  {
   "cell_type": "markdown",
   "metadata": {},
   "source": [
    "### Global parameters"
   ]
  },
  {
   "cell_type": "code",
   "execution_count": 3,
   "metadata": {},
   "outputs": [],
   "source": [
    "# Dataset parameters\n",
    "STANDARD_IMAGE_SIZE = 28\n",
    "DESIRED_IMAGE_SIZE = 16\n",
    "N_CLASSES_TO_USE = 4\n",
    "\n",
    "# Individual tree parameters\n",
    "MAX_ARITY = 10\n",
    "\n",
    "# Population parameters\n",
    "POPULATION_SIZE = 10"
   ]
  },
  {
   "cell_type": "code",
   "execution_count": 4,
   "metadata": {},
   "outputs": [],
   "source": [
    "RESCALE_FACTOR = DESIRED_IMAGE_SIZE/STANDARD_IMAGE_SIZE\n",
    "N_PIXELS = DESIRED_IMAGE_SIZE**2"
   ]
  },
  {
   "cell_type": "markdown",
   "metadata": {},
   "source": [
    "### Loading & preprocessing the MNIST dataset"
   ]
  },
  {
   "cell_type": "markdown",
   "metadata": {},
   "source": [
    "##### Downloading"
   ]
  },
  {
   "cell_type": "code",
   "execution_count": 5,
   "metadata": {},
   "outputs": [],
   "source": [
    "# Loading the data\n",
    "(X_train, Y_train), (X_test, Y_test) = mnist.load_data()"
   ]
  },
  {
   "cell_type": "markdown",
   "metadata": {},
   "source": [
    "##### Removing classes"
   ]
  },
  {
   "cell_type": "code",
   "execution_count": 6,
   "metadata": {},
   "outputs": [],
   "source": [
    "# Ensure correct number of classes\n",
    "X_train = X_train[Y_train < N_CLASSES_TO_USE]\n",
    "Y_train = Y_train[Y_train < N_CLASSES_TO_USE]\n",
    "X_test = X_test[Y_test < N_CLASSES_TO_USE]\n",
    "Y_test = Y_test[Y_test < N_CLASSES_TO_USE]"
   ]
  },
  {
   "cell_type": "code",
   "execution_count": 7,
   "metadata": {},
   "outputs": [
    {
     "name": "stdout",
     "output_type": "stream",
     "text": [
      "Training samples remaining: 24754\n",
      "Testing samples remaining: 4157\n"
     ]
    }
   ],
   "source": [
    "n_samples_train = X_train.shape[0]\n",
    "n_samples_test = X_test.shape[0]\n",
    "print(f\"Training samples remaining: {n_samples_train}\")\n",
    "print(f\"Testing samples remaining: {n_samples_test}\")"
   ]
  },
  {
   "cell_type": "markdown",
   "metadata": {},
   "source": [
    "##### Rescaling"
   ]
  },
  {
   "cell_type": "code",
   "execution_count": 8,
   "metadata": {},
   "outputs": [],
   "source": [
    "# Rescaling to the desired size\n",
    "def rescale_images(images, do_anti_aliasing=False):\n",
    "    return np.array([rescale(image, RESCALE_FACTOR, anti_aliasing=do_anti_aliasing) for image in images])\n",
    "\n",
    "X_train_small = rescale_images(X_train)\n",
    "X_test_small = rescale_images(X_test)"
   ]
  },
  {
   "cell_type": "code",
   "execution_count": 9,
   "metadata": {},
   "outputs": [
    {
     "data": {
      "image/png": "[encoded data removed]",
      "text/plain": [
       "<Figure size 432x288 with 2 Axes>"
      ]
     },
     "metadata": {
      "needs_background": "light"
     },
     "output_type": "display_data"
    }
   ],
   "source": [
    "# Plot original and reshaped image\n",
    "def plot_comparison(idx_to_plot, list_one, list_two, title_one, title_two):\n",
    "    fig, ax = plt.subplots(1,2)\n",
    "    ax[0].imshow(list_one[idx_to_plot])\n",
    "    ax[0].set_title(title_one)\n",
    "    ax[0].axis(\"off\")\n",
    "    ax[1].imshow(list_two[idx_to_plot])\n",
    "    ax[1].set_title(title_two)\n",
    "    ax[1].axis(\"off\")\n",
    "    fig.suptitle(f\"Sample {idx_to_plot}\",y=0.9)\n",
    "    plt.show()\n",
    "    \n",
    "plot_comparison(42, \n",
    "                X_train, \n",
    "                X_train_small, \n",
    "                f\"Original {STANDARD_IMAGE_SIZE}x{STANDARD_IMAGE_SIZE} image\",\n",
    "                f\"Rescaled {DESIRED_IMAGE_SIZE}x{DESIRED_IMAGE_SIZE} image\")"
   ]
  },
  {
   "cell_type": "code",
   "execution_count": 10,
   "metadata": {},
   "outputs": [],
   "source": [
    "# Replace X_train and X_test, for convenience\n",
    "X_train = X_train_small\n",
    "X_test = X_test_small"
   ]
  },
  {
   "cell_type": "markdown",
   "metadata": {},
   "source": [
    "##### Normalization"
   ]
  },
  {
   "cell_type": "code",
   "execution_count": 11,
   "metadata": {},
   "outputs": [],
   "source": [
    "# Normalize the data\n",
    "def normalize(images):\n",
    "    return (images - np.mean(images, axis=0))/(np.std(images, axis=0) + 0.000001)\n",
    "\n",
    "X_train_norm = normalize(X_train)\n",
    "X_test_norm = normalize(X_test)"
   ]
  },
  {
   "cell_type": "code",
   "execution_count": 12,
   "metadata": {},
   "outputs": [
    {
     "data": {
      "image/png": "[encoded data removed]",
      "text/plain": [
       "<Figure size 432x288 with 2 Axes>"
      ]
     },
     "metadata": {
      "needs_background": "light"
     },
     "output_type": "display_data"
    }
   ],
   "source": [
    "plot_comparison(37,\n",
    "                X_train,\n",
    "                X_train_norm,\n",
    "                f\"Rescaled {DESIRED_IMAGE_SIZE}x{DESIRED_IMAGE_SIZE} image\",\n",
    "                f\"Normalized {DESIRED_IMAGE_SIZE}x{DESIRED_IMAGE_SIZE} image\")"
   ]
  },
  {
   "cell_type": "code",
   "execution_count": 13,
   "metadata": {},
   "outputs": [],
   "source": [
    "# Replace X_train and X_test, for convenience\n",
    "X_train = X_train_norm\n",
    "X_test = X_test_norm"
   ]
  },
  {
   "cell_type": "markdown",
   "metadata": {},
   "source": [
    "##### One-hot encoding"
   ]
  },
  {
   "cell_type": "code",
   "execution_count": 14,
   "metadata": {},
   "outputs": [],
   "source": [
    "# Convert labels to one-hot encodings\n",
    "def convert_to_onehot(labels):\n",
    "    onehot = np.zeros((labels.size, labels.max()+1))\n",
    "    onehot[np.arange(labels.size),labels] = 1\n",
    "    return onehot\n",
    "Y_train = convert_to_onehot(Y_train)\n",
    "Y_test = convert_to_onehot(Y_test)"
   ]
  },
  {
   "cell_type": "markdown",
   "metadata": {},
   "source": [
    "### Defining the set of operators and terminals"
   ]
  },
  {
   "cell_type": "code",
   "execution_count": 15,
   "metadata": {},
   "outputs": [],
   "source": [
    "# Create set of functions and terminals, with one terminal for each pixel\n",
    "pset = gp.PrimitiveSet(\"main\", DESIRED_IMAGE_SIZE**2)"
   ]
  },
  {
   "cell_type": "code",
   "execution_count": 16,
   "metadata": {},
   "outputs": [],
   "source": [
    "# Define operators (with a variable number of inputs)\n",
    "def linear(*args):\n",
    "    return sum(args)\n",
    "\n",
    "def inverse(*args):\n",
    "    return -sum(args)\n",
    "\n",
    "def tanh(*args):\n",
    "    return math.tanh(sum(args))\n",
    "\n",
    "def sigmoid(*args):\n",
    "    return 1.0/(1.0 + math.exp(-sum(args)))\n",
    "\n",
    "def step(*args):\n",
    "    return float(sum(args) >= 0)\n",
    "\n",
    "def sine(*args):\n",
    "    return math.sin(sum(args))\n",
    "\n",
    "def cosine(*args):\n",
    "    return math.cos(sum(args))\n",
    "\n",
    "def gaussian(*args):\n",
    "    return 0.5*sum(args)*(1.0+math.tanh(math.sqrt(2.0/math.pi)*(sum(args) + 0.044715*sum(args)**3)))\n",
    "                          \n",
    "def absolute(*args):\n",
    "    return abs(sum(args))"
   ]
  },
  {
   "cell_type": "code",
   "execution_count": 17,
   "metadata": {},
   "outputs": [],
   "source": [
    "# Hacky solution to allow variable arities\n",
    "for arity in range(1, MAX_ARITY+1):\n",
    "    pset.addPrimitive(linear, arity)\n",
    "    pset.addPrimitive(inverse, arity)\n",
    "    pset.addPrimitive(tanh, arity)\n",
    "    pset.addPrimitive(sigmoid, arity)\n",
    "    pset.addPrimitive(step, arity)\n",
    "    pset.addPrimitive(sine, arity)\n",
    "    pset.addPrimitive(cosine, arity)\n",
    "    pset.addPrimitive(gaussian, arity)\n",
    "    pset.addPrimitive(absolute, arity)"
   ]
  },
  {
   "cell_type": "markdown",
   "metadata": {},
   "source": [
    "### Defining individuals"
   ]
  },
  {
   "cell_type": "code",
   "execution_count": 18,
   "metadata": {},
   "outputs": [],
   "source": [
    "# Intialize the toolbox which will contain all sorts of functions for the genetic programming process\n",
    "toolbox = base.Toolbox()"
   ]
  },
  {
   "cell_type": "code",
   "execution_count": 19,
   "metadata": {},
   "outputs": [],
   "source": [
    "# Define how to create a random expression/tree (using half-and-half intialization)\n",
    "toolbox.register(\"expr\", gp.genHalfAndHalf, pset=pset, min_=3, max_=5)"
   ]
  },
  {
   "cell_type": "code",
   "execution_count": 20,
   "metadata": {},
   "outputs": [],
   "source": [
    "# Define what an individual looks like (a list of trees)\n",
    "class MulticlassIndividual:\n",
    "    def __init__(self, contents):\n",
    "        self.trees = [gp.PrimitiveTree(contents[i]) for i in range(N_CLASSES_TO_USE)]\n",
    "\n",
    "# Define how to initialize an invidual (using a function that generates random expressions/trees)\n",
    "def initialize_individual(individual, expr_func):\n",
    "    return individual([expr_func() for i in range(N_CLASSES_TO_USE)])"
   ]
  },
  {
   "cell_type": "code",
   "execution_count": 21,
   "metadata": {},
   "outputs": [],
   "source": [
    "# Create a class for fitness and a class for individuals\n",
    "creator.create(\"Fitness\", base.Fitness, weights=(-1.0,))\n",
    "creator.create(\"Individual\", MulticlassIndividual, fitness=creator.Fitness)"
   ]
  },
  {
   "cell_type": "code",
   "execution_count": 22,
   "metadata": {},
   "outputs": [],
   "source": [
    "# Add the initialization of an individual and a population to the toolbox\n",
    "toolbox.register(\"individual\", initialize_individual, creator.Individual, toolbox.expr)\n",
    "toolbox.register(\"population\", tools.initRepeat, list, toolbox.individual)"
   ]
  },
  {
   "cell_type": "code",
   "execution_count": 23,
   "metadata": {},
   "outputs": [],
   "source": [
    "# Generate a population\n",
    "pop = toolbox.population(POPULATION_SIZE)"
   ]
  },
  {
   "cell_type": "markdown",
   "metadata": {},
   "source": [
    "### Fitness function"
   ]
  },
  {
   "cell_type": "code",
   "execution_count": 24,
   "metadata": {},
   "outputs": [],
   "source": [
    "# Define how to compile a tree to a function\n",
    "toolbox.register(\"compile\", gp.compile, pset=pset)"
   ]
  },
  {
   "cell_type": "code",
   "execution_count": 25,
   "metadata": {},
   "outputs": [],
   "source": [
    "def get_individual_outputs(individual, inputs):\n",
    "    outputs = []\n",
    "    for tree in individual.trees:\n",
    "        outputs.append(toolbox.compile(expr=tree)(*inputs))\n",
    "    return outputs"
   ]
  },
  {
   "cell_type": "code",
   "execution_count": 26,
   "metadata": {},
   "outputs": [
    {
     "data": {
      "text/plain": [
       "[-4.3403953356145735, 0.7608750584622529, -0.8228075103439997, 1.0]"
      ]
     },
     "execution_count": 26,
     "metadata": {},
     "output_type": "execute_result"
    }
   ],
   "source": [
    "get_individual_outputs(pop[0], X_train[0].flatten())"
   ]
  },
  {
   "cell_type": "code",
   "execution_count": null,
   "metadata": {},
   "outputs": [],
   "source": []
  }
 ],
 "metadata": {
  "kernelspec": {
   "display_name": "Python 3",
   "language": "python",
   "name": "python3"
  },
  "language_info": {
   "codemirror_mode": {
    "name": "ipython",
    "version": 3
   },
   "file_extension": ".py",
   "mimetype": "text/x-python",
   "name": "python",
   "nbconvert_exporter": "python",
   "pygments_lexer": "ipython3",
   "version": "3.8.3"
  }
 },
 "nbformat": 4,
 "nbformat_minor": 4
}
