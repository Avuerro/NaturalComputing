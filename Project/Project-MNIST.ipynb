{
 "cells": [
  {
   "cell_type": "markdown",
   "metadata": {},
   "source": [
    "# Natural Computing - Project\n",
    "#### Submission by group 25 (Chihab Amghane, Max Driessen, Jordy Naus)\n",
    "\n",
    "The code below uses the DEAP framework (https://github.com/deap/deap), which is a very intuitive framework for evolutionary algorithms and genetic programming."
   ]
  },
  {
   "cell_type": "markdown",
   "metadata": {},
   "source": [
    "## Installing required packages"
   ]
  },
  {
   "cell_type": "code",
   "execution_count": 1,
   "metadata": {},
   "outputs": [],
   "source": [
    "# !pip install deap\n",
    "# !pip install tensorflow\n",
    "# !pip install scikit-image"
   ]
  },
  {
   "cell_type": "markdown",
   "metadata": {},
   "source": [
    "## Imports"
   ]
  },
  {
   "cell_type": "code",
   "execution_count": 2,
   "metadata": {},
   "outputs": [],
   "source": [
    "from deap import gp, base, tools, creator, algorithms\n",
    "from tensorflow.keras.datasets import mnist\n",
    "from skimage.transform import rescale\n",
    "import matplotlib.pyplot as plt\n",
    "import numpy as np\n",
    "import operator\n",
    "import math\n",
    "\n",
    "%matplotlib inline"
   ]
  },
  {
   "cell_type": "markdown",
   "metadata": {},
   "source": [
    "## Global parameters"
   ]
  },
  {
   "cell_type": "code",
   "execution_count": 3,
   "metadata": {},
   "outputs": [],
   "source": [
    "# Dataset parameters\n",
    "STANDARD_IMAGE_SIZE = 28\n",
    "DESIRED_IMAGE_SIZE = 16\n",
    "N_CLASSES_TO_USE = 4\n",
    "\n",
    "# Individual tree parameters\n",
    "MAX_ARITY = 10\n",
    "MIN_INITIAL_DEPTH = 3\n",
    "MAX_INITIAL_DEPTH = 5\n",
    "\n",
    "# Population parameters\n",
    "POPULATION_SIZE = 100\n",
    "\n",
    "# Fitness parameters\n",
    "N_SAMPLES_TO_TEST = 50\n",
    "\n",
    "# Evolution parameters\n",
    "CONTROL_BLOAT = True\n",
    "P_CROSSOVER_PER_TREE = 1.0\n",
    "P_CROSSOVER = 1.0\n",
    "P_MUTATION_PER_TREE = 0.0\n",
    "P_MUTATION = 0.0\n",
    "N_GENERATIONS = 100"
   ]
  },
  {
   "cell_type": "code",
   "execution_count": 4,
   "metadata": {},
   "outputs": [],
   "source": [
    "# Parameters that depend on other parameters\n",
    "RESCALE_FACTOR = DESIRED_IMAGE_SIZE/STANDARD_IMAGE_SIZE\n",
    "N_PIXELS = DESIRED_IMAGE_SIZE**2"
   ]
  },
  {
   "cell_type": "markdown",
   "metadata": {},
   "source": [
    "## Loading & preprocessing data\n",
    "\n",
    "##### Downloading"
   ]
  },
  {
   "cell_type": "code",
   "execution_count": 5,
   "metadata": {},
   "outputs": [],
   "source": [
    "# Loading the data\n",
    "(X_train, Y_train), (X_test, Y_test) = mnist.load_data()"
   ]
  },
  {
   "cell_type": "markdown",
   "metadata": {},
   "source": [
    "##### Removing classes"
   ]
  },
  {
   "cell_type": "code",
   "execution_count": 6,
   "metadata": {},
   "outputs": [],
   "source": [
    "# Ensure correct number of classes\n",
    "X_train = X_train[Y_train < N_CLASSES_TO_USE]\n",
    "Y_train = Y_train[Y_train < N_CLASSES_TO_USE]\n",
    "X_test = X_test[Y_test < N_CLASSES_TO_USE]\n",
    "Y_test = Y_test[Y_test < N_CLASSES_TO_USE]"
   ]
  },
  {
   "cell_type": "code",
   "execution_count": 7,
   "metadata": {},
   "outputs": [
    {
     "name": "stdout",
     "output_type": "stream",
     "text": [
      "Training samples remaining: 24754\n",
      "Testing samples remaining: 4157\n"
     ]
    }
   ],
   "source": [
    "# Extract and print the number of training and testing samples remaining\n",
    "n_samples_train = X_train.shape[0]\n",
    "n_samples_test = X_test.shape[0]\n",
    "print(f\"Training samples remaining: {n_samples_train}\")\n",
    "print(f\"Testing samples remaining: {n_samples_test}\")"
   ]
  },
  {
   "cell_type": "markdown",
   "metadata": {},
   "source": [
    "##### Rescaling"
   ]
  },
  {
   "cell_type": "code",
   "execution_count": 8,
   "metadata": {},
   "outputs": [],
   "source": [
    "# Rescaling to the desired size\n",
    "def rescale_images(images, do_anti_aliasing=False):\n",
    "    return np.array([rescale(image, RESCALE_FACTOR, anti_aliasing=do_anti_aliasing) for image in images])\n",
    "\n",
    "# Rescale X_train and X_test\n",
    "X_train_small = rescale_images(X_train)\n",
    "X_test_small = rescale_images(X_test)"
   ]
  },
  {
   "cell_type": "markdown",
   "metadata": {},
   "source": [
    "##### Normalization"
   ]
  },
  {
   "cell_type": "code",
   "execution_count": 9,
   "metadata": {},
   "outputs": [],
   "source": [
    "# Normalize the data\n",
    "def normalize(images):\n",
    "    return (images - np.mean(images, axis=0))/(np.std(images, axis=0) + 0.000001)\n",
    "\n",
    "# Normalize X_train_small and X_test_small\n",
    "X_train_norm = normalize(X_train_small)\n",
    "X_test_norm = normalize(X_test_small)"
   ]
  },
  {
   "cell_type": "markdown",
   "metadata": {},
   "source": [
    "##### Visualizing the process"
   ]
  },
  {
   "cell_type": "code",
   "execution_count": 10,
   "metadata": {},
   "outputs": [
    {
     "data": {
      "image/png": "[encoded data removed]",
      "text/plain": [
       "<Figure size 720x240 with 3 Axes>"
      ]
     },
     "metadata": {
      "needs_background": "light"
     },
     "output_type": "display_data"
    }
   ],
   "source": [
    "# Plot original and reshaped image\n",
    "def plot_comparison(idx_to_plot, lists, titles):\n",
    "    n_plots = len(lists)\n",
    "    fig, ax = plt.subplots(1,n_plots, figsize=(10,10/n_plots))\n",
    "    for i in range(n_plots):\n",
    "        ax[i].imshow(lists[i][idx_to_plot])\n",
    "        ax[i].set_title(titles[i])\n",
    "        ax[i].axis(\"off\")\n",
    "    fig.suptitle(f\"Preprocessing of sample {idx_to_plot}\",y=1)\n",
    "    plt.show()\n",
    "    \n",
    "plot_comparison(37,\n",
    "                [X_train, X_train_small, X_train_norm],\n",
    "                [f\"Original {STANDARD_IMAGE_SIZE}x{STANDARD_IMAGE_SIZE} image\",\n",
    "                 f\"Rescaled {DESIRED_IMAGE_SIZE}x{DESIRED_IMAGE_SIZE} image\",\n",
    "                 f\"Normalized {DESIRED_IMAGE_SIZE}x{DESIRED_IMAGE_SIZE} image\"])"
   ]
  },
  {
   "cell_type": "code",
   "execution_count": 11,
   "metadata": {},
   "outputs": [],
   "source": [
    "# Replace and reshape X_train and X_test, for convenience\n",
    "X_train = X_train_norm.reshape(n_samples_train, DESIRED_IMAGE_SIZE**2)\n",
    "X_test = X_test_norm.reshape(n_samples_test, DESIRED_IMAGE_SIZE**2)"
   ]
  },
  {
   "cell_type": "markdown",
   "metadata": {},
   "source": [
    "## Defining operators"
   ]
  },
  {
   "cell_type": "code",
   "execution_count": 12,
   "metadata": {},
   "outputs": [],
   "source": [
    "# Create set of functions and terminals, with one terminal for each pixel\n",
    "pset = gp.PrimitiveSet(\"main\", DESIRED_IMAGE_SIZE**2)"
   ]
  },
  {
   "cell_type": "code",
   "execution_count": 13,
   "metadata": {},
   "outputs": [],
   "source": [
    "# Define operators (with a variable number of inputs)\n",
    "def linear(*args):\n",
    "    return sum(args)\n",
    "\n",
    "def inverse(*args):\n",
    "    return -sum(args)\n",
    "\n",
    "def tanh(*args):\n",
    "    return math.tanh(sum(args))\n",
    "\n",
    "def sigmoid(*args):\n",
    "    return 1.0/(1.0 + math.exp(-sum(args)))\n",
    "\n",
    "def step(*args):\n",
    "    return float(sum(args) >= 0)\n",
    "\n",
    "def sine(*args):\n",
    "    return math.sin(sum(args))\n",
    "\n",
    "def cosine(*args):\n",
    "    return math.cos(sum(args))\n",
    "\n",
    "def gaussian(*args):\n",
    "    return 0.5*sum(args)*(1.0+math.tanh(math.sqrt(2.0/math.pi)*(sum(args) + 0.044715*sum(args)**3)))\n",
    "                          \n",
    "def absolute(*args):\n",
    "    return abs(sum(args))"
   ]
  },
  {
   "cell_type": "code",
   "execution_count": 14,
   "metadata": {},
   "outputs": [],
   "source": [
    "# Add operators to the set (using a \"hacky\" solution to allow variable arities)\n",
    "for arity in range(1, MAX_ARITY+1):\n",
    "    pset.addPrimitive(linear, arity)\n",
    "    pset.addPrimitive(inverse, arity)\n",
    "    pset.addPrimitive(tanh, arity)\n",
    "    pset.addPrimitive(sigmoid, arity)\n",
    "    pset.addPrimitive(step, arity)\n",
    "    pset.addPrimitive(sine, arity)\n",
    "    pset.addPrimitive(cosine, arity)\n",
    "    pset.addPrimitive(gaussian, arity)\n",
    "    pset.addPrimitive(absolute, arity)"
   ]
  },
  {
   "cell_type": "markdown",
   "metadata": {},
   "source": [
    "## Defining individuals"
   ]
  },
  {
   "cell_type": "code",
   "execution_count": 15,
   "metadata": {},
   "outputs": [],
   "source": [
    "# Intialize the toolbox which will contain all sorts of functions for the genetic programming process\n",
    "toolbox = base.Toolbox()"
   ]
  },
  {
   "cell_type": "code",
   "execution_count": 16,
   "metadata": {},
   "outputs": [],
   "source": [
    "# Define how to create a random expression/tree (using half-and-half intialization)\n",
    "toolbox.register(\"expr\", gp.genHalfAndHalf, pset=pset, min_=MIN_INITIAL_DEPTH, max_=MAX_INITIAL_DEPTH)"
   ]
  },
  {
   "cell_type": "code",
   "execution_count": 17,
   "metadata": {},
   "outputs": [],
   "source": [
    "# Define classes for fitness, trees and individuals (using DEAP's creator module)\n",
    "creator.create(\"FitnessMin\", base.Fitness, weights=(-1.0,))\n",
    "creator.create(\"Tree\", gp.PrimitiveTree)\n",
    "creator.create(\"Individual\", list, fitness=creator.FitnessMin)"
   ]
  },
  {
   "cell_type": "code",
   "execution_count": 18,
   "metadata": {},
   "outputs": [],
   "source": [
    "# Define how to initialize a tree, individual or population\n",
    "toolbox.register(\"tree\", tools.initIterate, creator.Tree, toolbox.expr)\n",
    "toolbox.register(\"individual\", tools.initRepeat, creator.Individual, toolbox.tree, N_CLASSES_TO_USE)\n",
    "toolbox.register(\"population\", tools.initRepeat, list, toolbox.individual)"
   ]
  },
  {
   "cell_type": "markdown",
   "metadata": {},
   "source": [
    "## Fitness function"
   ]
  },
  {
   "cell_type": "code",
   "execution_count": 19,
   "metadata": {},
   "outputs": [],
   "source": [
    "# Define how to compile a single tree and an individual\n",
    "toolbox.register(\"compile_tree\", gp.compile, pset=pset)\n",
    "toolbox.register(\"compile_individual\", lambda individual: [toolbox.compile_tree(t) for t in individual])"
   ]
  },
  {
   "cell_type": "code",
   "execution_count": 20,
   "metadata": {},
   "outputs": [],
   "source": [
    "# Define fitness function\n",
    "def fitness(individual, n_samples_to_test):\n",
    "    # Compile the functions corresponding to the individual\n",
    "    funcs = toolbox.compile_individual(individual)\n",
    "    \n",
    "    # Define how to compute softmax and cross-entropy\n",
    "    def softmax(x):\n",
    "        return np.exp(x)/np.sum(np.exp(x), axis=0)\n",
    "    def cross_entropy(pred, label):\n",
    "        return -np.log(np.exp(pred[label])/np.sum(np.exp(pred), axis=0))\n",
    "    \n",
    "    # Compute the cross-entropy loss for a given number of samples\n",
    "    losses = []\n",
    "    sample_indices = np.random.permutation(range(n_samples_train))[:n_samples_to_test]\n",
    "    for i in sample_indices:\n",
    "        X_sample, Y_sample = X_train[i], Y_train[i]\n",
    "        output = softmax([f(*X_sample) for f in funcs])\n",
    "        losses.append(cross_entropy(output, Y_sample))\n",
    "    \n",
    "    # Return the average cross-entropy loss\n",
    "    return (np.average(losses),)"
   ]
  },
  {
   "cell_type": "code",
   "execution_count": 21,
   "metadata": {},
   "outputs": [],
   "source": [
    "# Add the fitness function to the toolbox\n",
    "toolbox.register(\"evaluate\", fitness, n_samples_to_test=N_SAMPLES_TO_TEST)"
   ]
  },
  {
   "cell_type": "markdown",
   "metadata": {},
   "source": [
    "## Evolution components\n",
    "\n",
    "##### Parent selection"
   ]
  },
  {
   "cell_type": "code",
   "execution_count": 22,
   "metadata": {},
   "outputs": [],
   "source": [
    "# Define how to select parents (tournament selection; either controlling for bloat or not controlling for it)\n",
    "if CONTROL_BLOAT:\n",
    "    toolbox.register(\"select\", tools.selDoubleTournament, fitness_size=3, parsimony_size=1.3, fitness_first=False)\n",
    "else:\n",
    "    toolbox.register(\"select\", tools.selTournament, tournsize=3)"
   ]
  },
  {
   "cell_type": "markdown",
   "metadata": {},
   "source": [
    "##### Crossover"
   ]
  },
  {
   "cell_type": "code",
   "execution_count": 23,
   "metadata": {},
   "outputs": [],
   "source": [
    "# Define how to perform crossover\n",
    "def crossover(ind1, ind2):\n",
    "    new_ind1, new_ind2 = [], []\n",
    "    for i in range(N_CLASSES_TO_USE):\n",
    "        tree1, tree2 = ind1[i], ind2[i]\n",
    "        if np.random.random() < P_CROSSOVER_PER_TREE:\n",
    "            tree1, tree2 = gp.cxOnePoint(tree1, tree2)\n",
    "        new_ind1.append(tree1)\n",
    "        new_ind2.append(tree2)\n",
    "    return (creator.Individual(new_ind1), creator.Individual(new_ind2))"
   ]
  },
  {
   "cell_type": "code",
   "execution_count": 24,
   "metadata": {},
   "outputs": [],
   "source": [
    "# Add the crossover (\"mating\") function to the toolbox\n",
    "toolbox.register(\"mate\", crossover)"
   ]
  },
  {
   "cell_type": "markdown",
   "metadata": {},
   "source": [
    "##### Mutation"
   ]
  },
  {
   "cell_type": "code",
   "execution_count": null,
   "metadata": {},
   "outputs": [],
   "source": []
  },
  {
   "cell_type": "markdown",
   "metadata": {},
   "source": [
    "##### Height boundary"
   ]
  },
  {
   "cell_type": "code",
   "execution_count": null,
   "metadata": {},
   "outputs": [],
   "source": []
  },
  {
   "cell_type": "markdown",
   "metadata": {},
   "source": [
    "## Statistics"
   ]
  },
  {
   "cell_type": "code",
   "execution_count": 25,
   "metadata": {},
   "outputs": [],
   "source": [
    "# OLD!\n",
    "# Functions for determining average, min and max, which control for the possibility that the input might consist of tuples\n",
    "def tuple_avg(a):\n",
    "    if len(a[0]) == 2:\n",
    "        return np.mean([x[0] for x in a])\n",
    "    return np.mean(a)\n",
    "\n",
    "def tuple_min(a):\n",
    "    if len(a[0]) == 2:\n",
    "        return np.min([x[0] for x in a])\n",
    "    return np.min(a)\n",
    "\n",
    "def tuple_max(a):\n",
    "    if len(a[0]) == 2:\n",
    "        return np.max([x[0] for x in a])\n",
    "    return np.max(a)\n",
    "\n",
    "# Function for determining the size of the agent with the best fitness\n",
    "def tuple_best_size(a):\n",
    "    if len(a[0]) == 2:\n",
    "        return np.amax(a, 1)[0]\n",
    "    return None"
   ]
  },
  {
   "cell_type": "code",
   "execution_count": 26,
   "metadata": {},
   "outputs": [],
   "source": [
    "# OLD!\n",
    "stats_fit = tools.Statistics(lambda ind: ind.fitness.values)\n",
    "stats_size = tools.Statistics(lambda ind: [len(ind), ind.fitness.values[0]])\n",
    "mstats = tools.MultiStatistics(fitness=stats_fit, size=stats_size)\n",
    "mstats.register(\"avg\",  tuple_avg)\n",
    "mstats.register(\"min\",  tuple_min)\n",
    "mstats.register(\"max\",  tuple_max)\n",
    "mstats.register(\"best\", tuple_best_size)"
   ]
  },
  {
   "cell_type": "markdown",
   "metadata": {},
   "source": [
    "## Running the genetic programming algorithm"
   ]
  },
  {
   "cell_type": "code",
   "execution_count": 27,
   "metadata": {},
   "outputs": [
    {
     "name": "stdout",
     "output_type": "stream",
     "text": [
      "   \t      \t                   fitness                    \t                     size                     \n",
      "   \t      \t----------------------------------------------\t----------------------------------------------\n",
      "gen\tnevals\tavg    \tbest\tgen\tmax    \tmin    \tnevals\tavg\tbest\tgen\tmax\tmin\tnevals\n",
      "0  \t100   \t1.46348\tNone\t0  \t1.69428\t1.26756\t100   \t4  \t4   \t0  \t4  \t4  \t100   \n",
      "1  \t100   \t1.43548\tNone\t1  \t1.61579\t1.25018\t100   \t4  \t4   \t1  \t4  \t4  \t100   \n",
      "2  \t100   \t1.42009\tNone\t2  \t1.63331\t1.22402\t100   \t4  \t4   \t2  \t4  \t4  \t100   \n",
      "3  \t100   \t1.38074\tNone\t3  \t1.57333\t1.22548\t100   \t4  \t4   \t3  \t4  \t4  \t100   \n",
      "4  \t100   \t1.34033\tNone\t4  \t1.51203\t1.03494\t100   \t4  \t4   \t4  \t4  \t4  \t100   \n",
      "5  \t100   \t1.32137\tNone\t5  \t1.44763\t1.16788\t100   \t4  \t4   \t5  \t4  \t4  \t100   \n",
      "6  \t100   \t1.31073\tNone\t6  \t1.47297\t1.1895 \t100   \t4  \t4   \t6  \t4  \t4  \t100   \n",
      "7  \t100   \t1.29618\tNone\t7  \t1.43028\t1.16886\t100   \t4  \t4   \t7  \t4  \t4  \t100   \n",
      "8  \t100   \t1.28599\tNone\t8  \t1.45132\t1.14668\t100   \t4  \t4   \t8  \t4  \t4  \t100   \n",
      "9  \t100   \t1.28246\tNone\t9  \t1.46926\t1.15815\t100   \t4  \t4   \t9  \t4  \t4  \t100   \n",
      "10 \t100   \t1.28431\tNone\t10 \t1.43892\t1.09307\t100   \t4  \t4   \t10 \t4  \t4  \t100   \n",
      "11 \t100   \t1.28235\tNone\t11 \t1.40548\t1.10911\t100   \t4  \t4   \t11 \t4  \t4  \t100   \n",
      "12 \t100   \t1.27584\tNone\t12 \t1.48159\t1.02999\t100   \t4  \t4   \t12 \t4  \t4  \t100   \n",
      "13 \t100   \t1.27407\tNone\t13 \t1.41546\t1.1022 \t100   \t4  \t4   \t13 \t4  \t4  \t100   \n",
      "14 \t100   \t1.2569 \tNone\t14 \t1.39272\t1.10761\t100   \t4  \t4   \t14 \t4  \t4  \t100   \n",
      "15 \t100   \t1.25672\tNone\t15 \t1.4113 \t1.11303\t100   \t4  \t4   \t15 \t4  \t4  \t100   \n",
      "16 \t100   \t1.2605 \tNone\t16 \t1.43335\t1.13215\t100   \t4  \t4   \t16 \t4  \t4  \t100   \n",
      "17 \t100   \t1.25462\tNone\t17 \t1.39693\t1.12082\t100   \t4  \t4   \t17 \t4  \t4  \t100   \n",
      "18 \t100   \t1.25659\tNone\t18 \t1.40478\t1.13439\t100   \t4  \t4   \t18 \t4  \t4  \t100   \n",
      "19 \t100   \t1.24913\tNone\t19 \t1.39237\t1.11916\t100   \t4  \t4   \t19 \t4  \t4  \t100   \n",
      "20 \t100   \t1.24432\tNone\t20 \t1.39164\t1.05739\t100   \t4  \t4   \t20 \t4  \t4  \t100   \n",
      "21 \t100   \t1.2414 \tNone\t21 \t1.45326\t1.11046\t100   \t4  \t4   \t21 \t4  \t4  \t100   \n",
      "22 \t100   \t1.24613\tNone\t22 \t1.45658\t1.11157\t100   \t4  \t4   \t22 \t4  \t4  \t100   \n",
      "23 \t100   \t1.23498\tNone\t23 \t1.39072\t1.06223\t100   \t4  \t4   \t23 \t4  \t4  \t100   \n",
      "24 \t100   \t1.23117\tNone\t24 \t1.51442\t1.0957 \t100   \t4  \t4   \t24 \t4  \t4  \t100   \n",
      "25 \t100   \t1.2294 \tNone\t25 \t1.41975\t1.05484\t100   \t4  \t4   \t25 \t4  \t4  \t100   \n",
      "26 \t100   \t1.2292 \tNone\t26 \t1.36764\t1.02741\t100   \t4  \t4   \t26 \t4  \t4  \t100   \n",
      "27 \t100   \t1.22604\tNone\t27 \t1.35118\t1.06177\t100   \t4  \t4   \t27 \t4  \t4  \t100   \n",
      "28 \t100   \t1.21102\tNone\t28 \t1.33809\t1.08299\t100   \t4  \t4   \t28 \t4  \t4  \t100   \n",
      "29 \t100   \t1.21299\tNone\t29 \t1.38568\t1.07112\t100   \t4  \t4   \t29 \t4  \t4  \t100   \n",
      "30 \t100   \t1.19364\tNone\t30 \t1.38538\t1.05242\t100   \t4  \t4   \t30 \t4  \t4  \t100   \n",
      "31 \t100   \t1.20778\tNone\t31 \t1.41087\t1.05071\t100   \t4  \t4   \t31 \t4  \t4  \t100   \n",
      "32 \t100   \t1.19115\tNone\t32 \t1.38513\t1.01252\t100   \t4  \t4   \t32 \t4  \t4  \t100   \n",
      "33 \t100   \t1.19479\tNone\t33 \t1.40399\t1.05706\t100   \t4  \t4   \t33 \t4  \t4  \t100   \n",
      "34 \t100   \t1.18514\tNone\t34 \t1.30907\t1.03024\t100   \t4  \t4   \t34 \t4  \t4  \t100   \n",
      "35 \t100   \t1.19678\tNone\t35 \t1.34024\t1.07374\t100   \t4  \t4   \t35 \t4  \t4  \t100   \n",
      "36 \t100   \t1.19291\tNone\t36 \t1.35748\t1.06527\t100   \t4  \t4   \t36 \t4  \t4  \t100   \n",
      "37 \t100   \t1.18977\tNone\t37 \t1.29555\t1.07191\t100   \t4  \t4   \t37 \t4  \t4  \t100   \n",
      "38 \t100   \t1.18494\tNone\t38 \t1.33004\t1.06131\t100   \t4  \t4   \t38 \t4  \t4  \t100   \n",
      "39 \t100   \t1.19089\tNone\t39 \t1.34352\t1.09068\t100   \t4  \t4   \t39 \t4  \t4  \t100   \n",
      "40 \t100   \t1.17924\tNone\t40 \t1.30606\t1.05726\t100   \t4  \t4   \t40 \t4  \t4  \t100   \n",
      "41 \t100   \t1.17765\tNone\t41 \t1.32707\t0.994469\t100   \t4  \t4   \t41 \t4  \t4  \t100   \n",
      "42 \t100   \t1.17395\tNone\t42 \t1.40975\t1.00046 \t100   \t4  \t4   \t42 \t4  \t4  \t100   \n",
      "43 \t100   \t1.17772\tNone\t43 \t1.26553\t1.04938 \t100   \t4  \t4   \t43 \t4  \t4  \t100   \n",
      "44 \t100   \t1.15942\tNone\t44 \t1.30125\t1.02055 \t100   \t4  \t4   \t44 \t4  \t4  \t100   \n",
      "45 \t100   \t1.16553\tNone\t45 \t1.30291\t1.03349 \t100   \t4  \t4   \t45 \t4  \t4  \t100   \n",
      "46 \t100   \t1.16029\tNone\t46 \t1.34017\t0.987774\t100   \t4  \t4   \t46 \t4  \t4  \t100   \n",
      "47 \t100   \t1.16284\tNone\t47 \t1.42214\t1.03313 \t100   \t4  \t4   \t47 \t4  \t4  \t100   \n",
      "48 \t100   \t1.15316\tNone\t48 \t1.27302\t0.971627\t100   \t4  \t4   \t48 \t4  \t4  \t100   \n",
      "49 \t100   \t1.14879\tNone\t49 \t1.26613\t1.03422 \t100   \t4  \t4   \t49 \t4  \t4  \t100   \n",
      "50 \t100   \t1.15187\tNone\t50 \t1.31306\t1.0039  \t100   \t4  \t4   \t50 \t4  \t4  \t100   \n",
      "51 \t100   \t1.15307\tNone\t51 \t1.38494\t1.02705 \t100   \t4  \t4   \t51 \t4  \t4  \t100   \n",
      "52 \t100   \t1.15152\tNone\t52 \t1.30928\t0.977074\t100   \t4  \t4   \t52 \t4  \t4  \t100   \n",
      "53 \t100   \t1.15607\tNone\t53 \t1.38684\t1.03908 \t100   \t4  \t4   \t53 \t4  \t4  \t100   \n",
      "54 \t100   \t1.14559\tNone\t54 \t1.26493\t1.01653 \t100   \t4  \t4   \t54 \t4  \t4  \t100   \n",
      "55 \t100   \t1.14993\tNone\t55 \t1.31935\t1.02395 \t100   \t4  \t4   \t55 \t4  \t4  \t100   \n",
      "56 \t100   \t1.15874\tNone\t56 \t1.27652\t1.05133 \t100   \t4  \t4   \t56 \t4  \t4  \t100   \n",
      "57 \t100   \t1.14479\tNone\t57 \t1.31159\t1.02643 \t100   \t4  \t4   \t57 \t4  \t4  \t100   \n",
      "58 \t100   \t1.15066\tNone\t58 \t1.28368\t1.02172 \t100   \t4  \t4   \t58 \t4  \t4  \t100   \n",
      "59 \t100   \t1.15442\tNone\t59 \t1.2913 \t1.01526 \t100   \t4  \t4   \t59 \t4  \t4  \t100   \n",
      "60 \t100   \t1.15522\tNone\t60 \t1.3903 \t0.980651\t100   \t4  \t4   \t60 \t4  \t4  \t100   \n",
      "61 \t100   \t1.13906\tNone\t61 \t1.27285\t1.02923 \t100   \t4  \t4   \t61 \t4  \t4  \t100   \n",
      "62 \t100   \t1.15468\tNone\t62 \t1.3413 \t1.03519 \t100   \t4  \t4   \t62 \t4  \t4  \t100   \n",
      "63 \t100   \t1.14463\tNone\t63 \t1.25397\t1.03489 \t100   \t4  \t4   \t63 \t4  \t4  \t100   \n",
      "64 \t100   \t1.14667\tNone\t64 \t1.33397\t1.02463 \t100   \t4  \t4   \t64 \t4  \t4  \t100   \n",
      "65 \t100   \t1.14569\tNone\t65 \t1.36195\t1.03158 \t100   \t4  \t4   \t65 \t4  \t4  \t100   \n",
      "66 \t100   \t1.1472 \tNone\t66 \t1.3028 \t1.03247 \t100   \t4  \t4   \t66 \t4  \t4  \t100   \n",
      "67 \t100   \t1.14907\tNone\t67 \t1.32738\t1.00384 \t100   \t4  \t4   \t67 \t4  \t4  \t100   \n",
      "68 \t100   \t1.1421 \tNone\t68 \t1.26324\t1.02245 \t100   \t4  \t4   \t68 \t4  \t4  \t100   \n",
      "69 \t100   \t1.13532\tNone\t69 \t1.33102\t1.02108 \t100   \t4  \t4   \t69 \t4  \t4  \t100   \n",
      "70 \t100   \t1.12847\tNone\t70 \t1.26628\t1.01767 \t100   \t4  \t4   \t70 \t4  \t4  \t100   \n",
      "71 \t100   \t1.13178\tNone\t71 \t1.26665\t1.02292 \t100   \t4  \t4   \t71 \t4  \t4  \t100   \n",
      "72 \t100   \t1.13878\tNone\t72 \t1.26012\t1.02255 \t100   \t4  \t4   \t72 \t4  \t4  \t100   \n",
      "73 \t100   \t1.14361\tNone\t73 \t1.3155 \t1.02705 \t100   \t4  \t4   \t73 \t4  \t4  \t100   \n",
      "74 \t100   \t1.14229\tNone\t74 \t1.27246\t1.03008 \t100   \t4  \t4   \t74 \t4  \t4  \t100   \n",
      "75 \t100   \t1.12468\tNone\t75 \t1.22819\t0.969911\t100   \t4  \t4   \t75 \t4  \t4  \t100   \n",
      "76 \t100   \t1.13636\tNone\t76 \t1.24675\t1.04332 \t100   \t4  \t4   \t76 \t4  \t4  \t100   \n",
      "77 \t100   \t1.13582\tNone\t77 \t1.252  \t1.00275 \t100   \t4  \t4   \t77 \t4  \t4  \t100   \n",
      "78 \t100   \t1.13494\tNone\t78 \t1.2898 \t1.00804 \t100   \t4  \t4   \t78 \t4  \t4  \t100   \n",
      "79 \t100   \t1.12956\tNone\t79 \t1.25937\t1.03874 \t100   \t4  \t4   \t79 \t4  \t4  \t100   \n",
      "80 \t100   \t1.13591\tNone\t80 \t1.28453\t0.983021\t100   \t4  \t4   \t80 \t4  \t4  \t100   \n",
      "81 \t100   \t1.13392\tNone\t81 \t1.28625\t1.00581 \t100   \t4  \t4   \t81 \t4  \t4  \t100   \n",
      "82 \t100   \t1.13216\tNone\t82 \t1.26515\t1.02162 \t100   \t4  \t4   \t82 \t4  \t4  \t100   \n",
      "83 \t100   \t1.12895\tNone\t83 \t1.2427 \t0.997044\t100   \t4  \t4   \t83 \t4  \t4  \t100   \n",
      "84 \t100   \t1.1305 \tNone\t84 \t1.28583\t1.01277 \t100   \t4  \t4   \t84 \t4  \t4  \t100   \n",
      "85 \t100   \t1.12487\tNone\t85 \t1.25616\t0.998979\t100   \t4  \t4   \t85 \t4  \t4  \t100   \n",
      "86 \t100   \t1.13967\tNone\t86 \t1.27515\t1.00109 \t100   \t4  \t4   \t86 \t4  \t4  \t100   \n",
      "87 \t100   \t1.13925\tNone\t87 \t1.27046\t1.00266 \t100   \t4  \t4   \t87 \t4  \t4  \t100   \n",
      "88 \t100   \t1.12734\tNone\t88 \t1.27063\t1.00314 \t100   \t4  \t4   \t88 \t4  \t4  \t100   \n",
      "89 \t100   \t1.14027\tNone\t89 \t1.29282\t1.00202 \t100   \t4  \t4   \t89 \t4  \t4  \t100   \n",
      "90 \t100   \t1.13533\tNone\t90 \t1.33231\t0.998206\t100   \t4  \t4   \t90 \t4  \t4  \t100   \n",
      "91 \t100   \t1.14135\tNone\t91 \t1.27379\t0.970901\t100   \t4  \t4   \t91 \t4  \t4  \t100   \n",
      "92 \t100   \t1.13224\tNone\t92 \t1.26557\t0.984927\t100   \t4  \t4   \t92 \t4  \t4  \t100   \n",
      "93 \t100   \t1.13339\tNone\t93 \t1.30336\t1.02316 \t100   \t4  \t4   \t93 \t4  \t4  \t100   \n",
      "94 \t100   \t1.13058\tNone\t94 \t1.27037\t0.980751\t100   \t4  \t4   \t94 \t4  \t4  \t100   \n",
      "95 \t100   \t1.13484\tNone\t95 \t1.34594\t1.03341 \t100   \t4  \t4   \t95 \t4  \t4  \t100   \n",
      "96 \t100   \t1.13006\tNone\t96 \t1.28986\t0.956537\t100   \t4  \t4   \t96 \t4  \t4  \t100   \n",
      "97 \t100   \t1.11732\tNone\t97 \t1.27652\t0.943738\t100   \t4  \t4   \t97 \t4  \t4  \t100   \n",
      "98 \t100   \t1.12501\tNone\t98 \t1.24661\t0.97626 \t100   \t4  \t4   \t98 \t4  \t4  \t100   \n",
      "99 \t100   \t1.11859\tNone\t99 \t1.31965\t1.00306 \t100   \t4  \t4   \t99 \t4  \t4  \t100   \n"
     ]
    },
    {
     "name": "stdout",
     "output_type": "stream",
     "text": [
      "100\t100   \t1.12671\tNone\t100\t1.29233\t0.996113\t100   \t4  \t4   \t100\t4  \t4  \t100   \n"
     ]
    }
   ],
   "source": [
    "# OLD!\n",
    "pop = toolbox.population(POPULATION_SIZE)\n",
    "hof = tools.HallOfFame(1)\n",
    "pop, log = algorithms.eaSimple(population=pop, \n",
    "                               toolbox=toolbox, \n",
    "                               cxpb=P_CROSSOVER, \n",
    "                               mutpb=P_MUTATION, \n",
    "                               ngen=N_GENERATIONS, \n",
    "                               stats=mstats, \n",
    "                               halloffame=hof, \n",
    "                               verbose=True)"
   ]
  }
 ],
 "metadata": {
  "kernelspec": {
   "display_name": "Python 3",
   "language": "python",
   "name": "python3"
  },
  "language_info": {
   "codemirror_mode": {
    "name": "ipython",
    "version": 3
   },
   "file_extension": ".py",
   "mimetype": "text/x-python",
   "name": "python",
   "nbconvert_exporter": "python",
   "pygments_lexer": "ipython3",
   "version": "3.8.3"
  }
 },
 "nbformat": 4,
 "nbformat_minor": 4
}
