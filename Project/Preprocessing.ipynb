{
 "cells": [
  {
   "cell_type": "markdown",
   "metadata": {},
   "source": [
    "# Natural Computing - Project - Data Preprocessing \n",
    "#### Group 25 (Chihab Amghane, Max Driessen, Jordy Naus)"
   ]
  },
  {
   "cell_type": "markdown",
   "metadata": {},
   "source": [
    "## Imports"
   ]
  },
  {
   "cell_type": "code",
   "execution_count": 1,
   "metadata": {},
   "outputs": [],
   "source": [
    "# Data processing and plotting\n",
    "from tensorflow.keras.datasets import mnist, fashion_mnist\n",
    "import matplotlib.pyplot as plt\n",
    "\n",
    "# Standard python imports\n",
    "import numpy as np\n",
    "import pickle, os, cv2\n",
    "\n",
    "# Magic for inline plots\n",
    "%matplotlib inline"
   ]
  },
  {
   "cell_type": "markdown",
   "metadata": {},
   "source": [
    "## Global parameters"
   ]
  },
  {
   "cell_type": "code",
   "execution_count": 2,
   "metadata": {},
   "outputs": [],
   "source": [
    "# Dataset parameters\n",
    "DATASET = \"MNIST\" # choose from {\"MNIST\", \"Fashion-MNIST\"}\n",
    "DESIRED_IMAGE_SIZE = (16, 16)\n",
    "N_CLASSES_TO_USE = 10"
   ]
  },
  {
   "cell_type": "markdown",
   "metadata": {},
   "source": [
    "## Preprocessing data\n",
    "\n",
    "##### Downloading the correct dataset"
   ]
  },
  {
   "cell_type": "code",
   "execution_count": 3,
   "metadata": {},
   "outputs": [],
   "source": [
    "# Load the data\n",
    "(X_train, Y_train), (X_test, Y_test) = mnist.load_data() if DATASET == \"MNIST\" else fashion_mnist.load_data()"
   ]
  },
  {
   "cell_type": "markdown",
   "metadata": {},
   "source": [
    "##### Removing classes"
   ]
  },
  {
   "cell_type": "code",
   "execution_count": 4,
   "metadata": {},
   "outputs": [],
   "source": [
    "# Ensure correct number of classes\n",
    "X_train = X_train[Y_train < N_CLASSES_TO_USE]\n",
    "Y_train = Y_train[Y_train < N_CLASSES_TO_USE]\n",
    "X_test = X_test[Y_test < N_CLASSES_TO_USE]\n",
    "Y_test = Y_test[Y_test < N_CLASSES_TO_USE]"
   ]
  },
  {
   "cell_type": "code",
   "execution_count": 5,
   "metadata": {},
   "outputs": [
    {
     "name": "stdout",
     "output_type": "stream",
     "text": [
      "Training samples remaining: 60000\n",
      "Testing samples remaining: 10000\n"
     ]
    }
   ],
   "source": [
    "# Extract and print the number of training and testing samples remaining\n",
    "n_samples_train = X_train.shape[0]\n",
    "n_samples_test = X_test.shape[0]\n",
    "print(f\"Training samples remaining: {n_samples_train}\")\n",
    "print(f\"Testing samples remaining: {n_samples_test}\")"
   ]
  },
  {
   "cell_type": "markdown",
   "metadata": {},
   "source": [
    "##### Rescaling, unskewing & resizing"
   ]
  },
  {
   "cell_type": "code",
   "execution_count": 6,
   "metadata": {},
   "outputs": [],
   "source": [
    "# This preprocessing procedure is heavily based on the one used in WANN:\n",
    "# https://github.com/google/brain-tokyo-workshop/blob/master/WANNRelease/WANN/domain/classify_gym.py\n",
    "\n",
    "def preprocess(samples, size, n_samples, unskew=True):\n",
    "    # Create list of processed images\n",
    "    processed  = np.empty((n_samples,size[0],size[1]))\n",
    "\n",
    "    # Unskew and resize\n",
    "    if unskew == True:    \n",
    "        for i in range(n_samples):\n",
    "            processed[i,:,:] = deskew(cv2.resize(samples[i,:,:],size),size)\n",
    "    return processed\n",
    "\n",
    "def deskew(image, image_shape, negated=True):\n",
    "    \"\"\" source: https://github.com/vsvinayak/mnist-helper \"\"\"\n",
    "  \n",
    "    # negate the image\n",
    "    if not negated:\n",
    "        image = 255-image\n",
    "    \n",
    "    # calculate the moments of the image\n",
    "    m = cv2.moments(image)\n",
    "    if abs(m['mu02']) < 1e-2:\n",
    "        return image.copy()\n",
    "    \n",
    "    # caclulating the skew\n",
    "    skew = m['mu11']/m['mu02']\n",
    "    M = np.float32([[1, skew, -0.5*image_shape[0]*skew], [0,1,0]])\n",
    "    img = cv2.warpAffine(image, M, image_shape, flags=cv2.WARP_INVERSE_MAP|cv2.INTER_LINEAR)  \n",
    "    return img"
   ]
  },
  {
   "cell_type": "code",
   "execution_count": 7,
   "metadata": {},
   "outputs": [],
   "source": [
    "# Rescale and preprocess training and testing data\n",
    "X_train_processed = preprocess(X_train/255, DESIRED_IMAGE_SIZE, n_samples_train)\n",
    "X_test_processed = preprocess(X_test/255, DESIRED_IMAGE_SIZE, n_samples_test)"
   ]
  },
  {
   "cell_type": "markdown",
   "metadata": {},
   "source": [
    "##### Plotting an example"
   ]
  },
  {
   "cell_type": "code",
   "execution_count": 8,
   "metadata": {},
   "outputs": [],
   "source": [
    "# Function for plotting an image before and after processing, side-by-side\n",
    "def plot_comparison(idx_to_plot, datasets, titles):\n",
    "    n_plots = len(datasets)\n",
    "    fig, ax = plt.subplots(1,n_plots, figsize=(10,10/n_plots))\n",
    "    for i in range(n_plots):\n",
    "        ax[i].imshow(datasets[i][idx_to_plot])\n",
    "        ax[i].set_title(titles[i])\n",
    "        ax[i].axis(\"off\")\n",
    "    fig.suptitle(f\"Preprocessing of sample {idx_to_plot}\",y=1)\n",
    "    plt.show()"
   ]
  },
  {
   "cell_type": "code",
   "execution_count": 9,
   "metadata": {},
   "outputs": [
    {
     "data": {
      "image/png": "[encoded data removed]",
      "text/plain": [
       "<Figure size 720x360 with 2 Axes>"
      ]
     },
     "metadata": {
      "needs_background": "light"
     },
     "output_type": "display_data"
    }
   ],
   "source": [
    "# Plot an example image\n",
    "idx_to_plot = 3\n",
    "datasets = [X_train, X_train_processed]\n",
    "titles = [f\"Original ({X_train.shape[1]},{X_train.shape[1]}) image\",\n",
    "          f\"Preprocessed {DESIRED_IMAGE_SIZE} image\"]\n",
    "plot_comparison(idx_to_plot, datasets, titles)"
   ]
  },
  {
   "cell_type": "markdown",
   "metadata": {},
   "source": [
    "##### Wrapping up"
   ]
  },
  {
   "cell_type": "code",
   "execution_count": 10,
   "metadata": {},
   "outputs": [],
   "source": [
    "# Replace and reshape X_train and X_test, for convenience\n",
    "X_train = X_train_processed.reshape(n_samples_train, np.prod(DESIRED_IMAGE_SIZE))\n",
    "X_test = X_test_processed.reshape(n_samples_test, np.prod(DESIRED_IMAGE_SIZE))"
   ]
  },
  {
   "cell_type": "code",
   "execution_count": 11,
   "metadata": {},
   "outputs": [],
   "source": [
    "# Check if data folder exists; if not, create it\n",
    "if not os.path.exists(\"data\"):\n",
    "    os.mkdir(\"data\")\n",
    "    \n",
    "# Set the correct filename\n",
    "filename = f\"{DATASET}-{N_CLASSES_TO_USE}.pkl\"\n",
    "\n",
    "# Store the preprocessed data\n",
    "with open(os.path.join(\"data\", filename), \"wb\") as f:\n",
    "    pickle.dump(((X_train, Y_train), (X_test, Y_test)), f)"
   ]
  }
 ],
 "metadata": {
  "kernelspec": {
   "display_name": "Python 3",
   "language": "python",
   "name": "python3"
  },
  "language_info": {
   "codemirror_mode": {
    "name": "ipython",
    "version": 3
   },
   "file_extension": ".py",
   "mimetype": "text/x-python",
   "name": "python",
   "nbconvert_exporter": "python",
   "pygments_lexer": "ipython3",
   "version": "3.8.3"
  }
 },
 "nbformat": 4,
 "nbformat_minor": 4
}
