{
 "cells": [
  {
   "cell_type": "markdown",
   "metadata": {},
   "source": [
    "# Natural Computing - Project - Data Preprocessing \n",
    "#### Group 25 (Chihab Amghane, Max Driessen, Jordy Naus)"
   ]
  },
  {
   "cell_type": "markdown",
   "metadata": {},
   "source": [
    "## Imports"
   ]
  },
  {
   "cell_type": "code",
   "execution_count": 1,
   "metadata": {},
   "outputs": [],
   "source": [
    "# Data processing and plotting\n",
    "from tensorflow.keras.datasets import mnist, fashion_mnist\n",
    "from skimage.transform import resize\n",
    "import matplotlib.pyplot as plt\n",
    "\n",
    "# Standard python imports\n",
    "import numpy as np\n",
    "import pickle, os\n",
    "\n",
    "# Magic for inline plots\n",
    "%matplotlib inline"
   ]
  },
  {
   "cell_type": "markdown",
   "metadata": {},
   "source": [
    "## Global parameters"
   ]
  },
  {
   "cell_type": "code",
   "execution_count": 2,
   "metadata": {},
   "outputs": [],
   "source": [
    "# Dataset parameters\n",
    "DATASET = \"MNIST\" # choose from {\"MNIST\", \"Fashion-MNIST\"}\n",
    "DESIRED_IMAGE_SIZE = 16\n",
    "N_CLASSES_TO_USE = 4\n",
    "\n",
    "# Processing parameters\n",
    "DO_ANTI_ALIASING = False\n",
    "DO_NORMALIZATION = True"
   ]
  },
  {
   "cell_type": "markdown",
   "metadata": {},
   "source": [
    "## Preprocessing data\n",
    "\n",
    "##### Downloading the correct dataset"
   ]
  },
  {
   "cell_type": "code",
   "execution_count": 3,
   "metadata": {},
   "outputs": [],
   "source": [
    "# Load the data\n",
    "(X_train, Y_train), (X_test, Y_test) = mnist.load_data() if DATASET == \"MNIST\" else fashion_mnist.load_data()"
   ]
  },
  {
   "cell_type": "markdown",
   "metadata": {},
   "source": [
    "##### Removing classes"
   ]
  },
  {
   "cell_type": "code",
   "execution_count": 4,
   "metadata": {},
   "outputs": [],
   "source": [
    "# Ensure correct number of classes\n",
    "X_train = X_train[Y_train < N_CLASSES_TO_USE]\n",
    "Y_train = Y_train[Y_train < N_CLASSES_TO_USE]\n",
    "X_test = X_test[Y_test < N_CLASSES_TO_USE]\n",
    "Y_test = Y_test[Y_test < N_CLASSES_TO_USE]"
   ]
  },
  {
   "cell_type": "code",
   "execution_count": 5,
   "metadata": {},
   "outputs": [
    {
     "name": "stdout",
     "output_type": "stream",
     "text": [
      "Training samples remaining: 24754\n",
      "Testing samples remaining: 4157\n"
     ]
    }
   ],
   "source": [
    "# Extract and print the number of training and testing samples remaining\n",
    "n_samples_train = X_train.shape[0]\n",
    "n_samples_test = X_test.shape[0]\n",
    "print(f\"Training samples remaining: {n_samples_train}\")\n",
    "print(f\"Testing samples remaining: {n_samples_test}\")"
   ]
  },
  {
   "cell_type": "markdown",
   "metadata": {},
   "source": [
    "##### Rescaling"
   ]
  },
  {
   "cell_type": "code",
   "execution_count": 6,
   "metadata": {},
   "outputs": [],
   "source": [
    "# Rescaling to the desired size\n",
    "def rescale_images(images, do_anti_aliasing):\n",
    "    desired_image_shape = (DESIRED_IMAGE_SIZE, DESIRED_IMAGE_SIZE)\n",
    "    return np.array([resize(image, desired_image_shape, anti_aliasing=do_anti_aliasing) for image in images])\n",
    "\n",
    "# Rescale X_train and X_test\n",
    "X_train_small = rescale_images(X_train, DO_ANTI_ALIASING)\n",
    "X_test_small = rescale_images(X_test, DO_ANTI_ALIASING)"
   ]
  },
  {
   "cell_type": "markdown",
   "metadata": {},
   "source": [
    "##### Normalization"
   ]
  },
  {
   "cell_type": "code",
   "execution_count": 7,
   "metadata": {},
   "outputs": [],
   "source": [
    "# Normalize the data\n",
    "def normalize(images):\n",
    "    return (images - np.mean(images, axis=0))/(np.std(images, axis=0) + 0.000001)\n",
    "\n",
    "# Normalize X_train_small and X_test_small, if required\n",
    "if DO_NORMALIZATION:\n",
    "    X_train_norm = normalize(X_train_small)\n",
    "    X_test_norm = normalize(X_test_small)"
   ]
  },
  {
   "cell_type": "markdown",
   "metadata": {},
   "source": [
    "##### Plotting an example"
   ]
  },
  {
   "cell_type": "code",
   "execution_count": 8,
   "metadata": {},
   "outputs": [],
   "source": [
    "# Function for plotting an image before and after processing, side-by-side\n",
    "def plot_comparison(idx_to_plot, datasets, titles):\n",
    "    n_plots = len(datasets)\n",
    "    fig, ax = plt.subplots(1,n_plots, figsize=(10,10/n_plots))\n",
    "    for i in range(n_plots):\n",
    "        ax[i].imshow(datasets[i][idx_to_plot])\n",
    "        ax[i].set_title(titles[i])\n",
    "        ax[i].axis(\"off\")\n",
    "    fig.suptitle(f\"Preprocessing of sample {idx_to_plot}\",y=1)\n",
    "    plt.show()"
   ]
  },
  {
   "cell_type": "code",
   "execution_count": 9,
   "metadata": {},
   "outputs": [
    {
     "data": {
      "image/png": "[encoded data removed]",
      "text/plain": [
       "<Figure size 720x240 with 3 Axes>"
      ]
     },
     "metadata": {
      "needs_background": "light"
     },
     "output_type": "display_data"
    }
   ],
   "source": [
    "# Plot an example image\n",
    "idx_to_plot = 37\n",
    "datasets = [X_train, X_train_small] + ([X_train_norm] if DO_NORMALIZATION else [])\n",
    "titles = [f\"Original {X_train.shape[1]}x{X_train.shape[1]} image\",\n",
    "          f\"Rescaled {DESIRED_IMAGE_SIZE}x{DESIRED_IMAGE_SIZE} image\",\n",
    "          f\"Normalized {DESIRED_IMAGE_SIZE}x{DESIRED_IMAGE_SIZE} image\"]\n",
    "plot_comparison(idx_to_plot, datasets, titles)"
   ]
  },
  {
   "cell_type": "markdown",
   "metadata": {},
   "source": [
    "##### Wrapping up"
   ]
  },
  {
   "cell_type": "code",
   "execution_count": 10,
   "metadata": {},
   "outputs": [],
   "source": [
    "# Replace and reshape X_train and X_test, for convenience\n",
    "X_train = (X_train_norm if DO_NORMALIZATION else X_train_small).reshape(n_samples_train, DESIRED_IMAGE_SIZE**2)\n",
    "X_test = (X_test_norm if DO_NORMALIZATION else X_test_small).reshape(n_samples_test, DESIRED_IMAGE_SIZE**2)"
   ]
  },
  {
   "cell_type": "code",
   "execution_count": 11,
   "metadata": {},
   "outputs": [],
   "source": [
    "# Check if data folder exists; if not, create it\n",
    "if not os.path.exists(\"data\"):\n",
    "    os.mkdir(\"data\")\n",
    "    \n",
    "# Set the correct filename\n",
    "filename = f\"{DATASET}-{N_CLASSES_TO_USE}{'-Norm' if DO_NORMALIZATION else ''}{'-AA' if DO_ANTI_ALIASING else ''}.pkl\"\n",
    "\n",
    "# Store the preprocessed data\n",
    "with open(os.path.join(\"data\", filename), \"wb\") as f:\n",
    "    pickle.dump(((X_train, Y_train), (X_test, Y_test)), f)"
   ]
  }
 ],
 "metadata": {
  "kernelspec": {
   "display_name": "Python 3",
   "language": "python",
   "name": "python3"
  },
  "language_info": {
   "codemirror_mode": {
    "name": "ipython",
    "version": 3
   },
   "file_extension": ".py",
   "mimetype": "text/x-python",
   "name": "python",
   "nbconvert_exporter": "python",
   "pygments_lexer": "ipython3",
   "version": "3.8.3"
  }
 },
 "nbformat": 4,
 "nbformat_minor": 4
}
