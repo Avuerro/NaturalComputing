{
 "cells": [
  {
   "cell_type": "code",
   "execution_count": 1,
   "metadata": {},
   "outputs": [],
   "source": [
    "#!pip3 install neat-python\n",
    "import os\n",
    "from tensorflow.keras.datasets import mnist\n",
    "import numpy as np\n",
    "import ssl\n",
    "import neat\n",
    "from skimage.transform import rescale\n",
    "from sklearn.metrics import confusion_matrix\n",
    "import seaborn as sns\n",
    "import matplotlib.pyplot as plt\n",
    "import math\n",
    "import pickle\n",
    "import csv\n",
    "import ssl\n",
    "import cv2\n",
    "try:\n",
    "    _create_unverified_https_context = ssl._create_unverified_context\n",
    "except AttributeError:\n",
    "    # Legacy Python that doesn't verify HTTPS certificates by default\n",
    "    pass\n",
    "else:\n",
    "    # Handle target environment that doesn't support HTTPS verification\n",
    "    ssl._create_default_https_context = _create_unverified_https_context"
   ]
  },
  {
   "cell_type": "markdown",
   "metadata": {},
   "source": [
    "## Global Parameters"
   ]
  },
  {
   "cell_type": "code",
   "execution_count": 2,
   "metadata": {},
   "outputs": [],
   "source": [
    "# Dataset parameters\n",
    "DATASET = \"MNIST\"\n",
    "STANDARD_IMAGE_SIZE = 28\n",
    "DESIRED_IMAGE_SIZE = (16,16)\n",
    "N_CLASSES_TO_USE = 10\n",
    "\n",
    "# How many samples to test:\n",
    "N_SAMPLES_TO_TEST = 200\n",
    "\n",
    "# Simulation Parameters\n",
    "NR_GENERATIONS =1000\n",
    "CONFIG_FILE = 'NEAT-configs/mnist-wann'"
   ]
  },
  {
   "cell_type": "markdown",
   "metadata": {},
   "source": [
    "## Load MNIST"
   ]
  },
  {
   "cell_type": "code",
   "execution_count": 3,
   "metadata": {
    "scrolled": false
   },
   "outputs": [],
   "source": [
    "(X_train, Y_train), (X_test, Y_test) = mnist.load_data()"
   ]
  },
  {
   "cell_type": "markdown",
   "metadata": {},
   "source": [
    "## Preprocess MNIST"
   ]
  },
  {
   "cell_type": "code",
   "execution_count": 4,
   "metadata": {},
   "outputs": [],
   "source": [
    "def preprocess(samples, size, n_samples, unskew=True):\n",
    "    # Create list of processed images\n",
    "    processed  = np.empty((n_samples,size[0],size[1]))\n",
    "\n",
    "    # Unskew and resize\n",
    "    if unskew == True:    \n",
    "        for i in range(n_samples):\n",
    "            processed[i,:,:] = deskew(cv2.resize(samples[i,:,:],size),size)\n",
    "    return processed\n",
    "\n",
    "def deskew(image, image_shape, negated=True):\n",
    "    \"\"\" source: https://github.com/vsvinayak/mnist-helper \"\"\"\n",
    "  \n",
    "    # negate the image\n",
    "    if not negated:\n",
    "        image = 255-image\n",
    "    \n",
    "    # calculate the moments of the image\n",
    "    m = cv2.moments(image)\n",
    "    if abs(m['mu02']) < 1e-2:\n",
    "        return image.copy()\n",
    "    \n",
    "    # caclulating the skew\n",
    "    skew = m['mu11']/m['mu02']\n",
    "    M = np.float32([[1, skew, -0.5*image_shape[0]*skew], [0,1,0]])\n",
    "    img = cv2.warpAffine(image, M, image_shape, flags=cv2.WARP_INVERSE_MAP|cv2.INTER_LINEAR)  \n",
    "    return img\n",
    "\n",
    "n_samples_train = X_train.shape[0]\n",
    "n_samples_test = X_test.shape[0]\n",
    "\n",
    "# Rescale and preprocess training and testing data\n",
    "X_train_processed = preprocess(X_train/255, DESIRED_IMAGE_SIZE, n_samples_train)\n",
    "X_test_processed = preprocess(X_test/255, DESIRED_IMAGE_SIZE, n_samples_test)\n",
    "    \n",
    "    \n",
    "\n",
    "##### WRAPPING UP #####\n",
    "    \n",
    "# Replace and reshape X_train and X_test, for convenience\n",
    "X_train = X_train_processed.reshape(n_samples_train, np.prod(DESIRED_IMAGE_SIZE))\n",
    "X_test = X_test_processed.reshape(n_samples_test, np.prod(DESIRED_IMAGE_SIZE))"
   ]
  },
  {
   "cell_type": "markdown",
   "metadata": {},
   "source": [
    "### Visualize"
   ]
  },
  {
   "cell_type": "code",
   "execution_count": 5,
   "metadata": {},
   "outputs": [
    {
     "data": {
      "text/plain": [
       "<matplotlib.image.AxesImage at 0x7f897993d0d0>"
      ]
     },
     "execution_count": 5,
     "metadata": {},
     "output_type": "execute_result"
    },
    {
     "data": {
      "image/png": "[encoded data removed]",
      "text/plain": [
       "<Figure size 432x288 with 1 Axes>"
      ]
     },
     "metadata": {
      "needs_background": "light"
     },
     "output_type": "display_data"
    }
   ],
   "source": [
    "plt.imshow(X_train_processed[2])"
   ]
  },
  {
   "cell_type": "markdown",
   "metadata": {},
   "source": [
    "# NEAT"
   ]
  },
  {
   "cell_type": "markdown",
   "metadata": {},
   "source": [
    "## Basic Run Function"
   ]
  },
  {
   "cell_type": "code",
   "execution_count": 6,
   "metadata": {},
   "outputs": [],
   "source": [
    "def exp(x):\n",
    "    return np.exp(np.clip(x, -float('inf'), 709.))\n",
    "\n",
    "# def sigmoid(output):\n",
    "#     output = [min(709., x) for x in output]\n",
    "#     output = [max(-709., x) for x in output]\n",
    "#     return [1 /(1 + exp(-x)) for x in output]\n",
    "\n",
    "def softmax(output):\n",
    "    e = exp(output)\n",
    "    return e / e.sum()"
   ]
  },
  {
   "cell_type": "code",
   "execution_count": 7,
   "metadata": {},
   "outputs": [],
   "source": [
    "def step(x):\n",
    "    return 1.0*(x>0.0)\n",
    "\n",
    "def wann_cos(x):\n",
    "    x = max(-60.0, min(60.0, 5.0 * x))\n",
    "    return math.cos(math.pi*x)\n",
    "    \n",
    "def wann_sin(x):\n",
    "    x = max(-60.0, min(60.0, 5.0 * x))\n",
    "    return math.sin(math.pi * x)\n",
    "        \n",
    "def wann_sigmoid(x):\n",
    "    x = max(-60.0, min(60.0, 5.0 * x))\n",
    "    return (math.tanh(x/2.0) + 1.0)/2.0\n",
    "\n",
    "def wann_inverse(x):\n",
    "    return -x\n",
    "\n",
    "def wann_gauss(x):\n",
    "    x = max(-3.4, min(3.4, x))\n",
    "    return exp(- (x*x) / 2.0)\n",
    "        \n",
    "\n",
    "def run(config_file):\n",
    "    # Load configuration.\n",
    "    config = neat.Config(neat.DefaultGenome, neat.DefaultReproduction,\n",
    "                         neat.DefaultSpeciesSet, neat.DefaultStagnation,\n",
    "                         config_file)\n",
    "    \n",
    "    config.genome_config.add_activation('step', step)\n",
    "    config.genome_config.add_activation('wcos', wann_cos)\n",
    "    config.genome_config.add_activation('wsin', wann_sin)\n",
    "    config.genome_config.add_activation('wsig', wann_sigmoid)\n",
    "    config.genome_config.add_activation('winv', wann_inverse)\n",
    "    config.genome_config.add_activation('wgauss', wann_gauss)\n",
    "    \n",
    "    \n",
    "    # Create the population, which is the top-level object for a NEAT run.\n",
    "    p = neat.Population(config)\n",
    "    \n",
    "    # Add a stdout reporter to show progress in the terminal.\n",
    "    p.add_reporter(neat.StdOutReporter(True))\n",
    "    stats = neat.StatisticsReporter()\n",
    "    \n",
    "    p.add_reporter(stats)\n",
    "    p.add_reporter(neat.Checkpointer(50, filename_prefix='NEAT-checkpoints/neat-checkpoint-10-classes-'))\n",
    "    \n",
    "    \n",
    "    # Run for up to NR_GENERATIONS generations.\n",
    "    winner = p.run(eval_genomes, NR_GENERATIONS)\n",
    "    stats.save_genome_fitness(filename=\"NEAT-results/fitness_history.csv\")\n",
    "    stats.save_species_count(filename=\"NEAT-results/species_count.csv\")\n",
    "    with open('NEAT-results/best_genomes', 'wb') as f:\n",
    "        best_genomes = stats.best_genomes(10)\n",
    "        pickle.dump(best_genomes,f)\n",
    "    \n",
    "    \n",
    "    # Display the winning genome.\n",
    "    print('\\nBest genome:\\n{!s}'.format(winner))\n"
   ]
  },
  {
   "cell_type": "code",
   "execution_count": null,
   "metadata": {},
   "outputs": [],
   "source": []
  },
  {
   "cell_type": "markdown",
   "metadata": {},
   "source": [
    "## Basic Evaluation Function"
   ]
  },
  {
   "cell_type": "code",
   "execution_count": 8,
   "metadata": {},
   "outputs": [],
   "source": [
    "def eval_genomes(genomes, config):\n",
    "    \n",
    "    def _cross_entropy(pred, label):\n",
    "        return -np.log(exp(pred[label])/np.sum(exp(pred), axis=0))\n",
    "    \n",
    "    sample_indices = []\n",
    "    n_samples_per_class = int(N_SAMPLES_TO_TEST/N_CLASSES_TO_USE)\n",
    "    for c in range(N_CLASSES_TO_USE):\n",
    "        c_indices = np.where(Y_train == c)[0]\n",
    "        assert len(c_indices) >= n_samples_per_class, \\\n",
    "            f\"Class {c} has too few elements to reach the desired number of evaluation samples\"\n",
    "        sample_indices.extend(np.random.permutation(c_indices)[:n_samples_per_class])\n",
    "    \n",
    "    # Compute cross-entropy loss for each of the samples\n",
    "    losses = []\n",
    "    for i in sample_indices:\n",
    "        X_sample, Y_sample = X_train[i], Y_train[i]\n",
    "        \n",
    "    nr_nodes = 0\n",
    "    nr_connections = 0\n",
    "    for genome_id, genome in genomes:\n",
    "        nr_nodes +=len(genome.nodes)\n",
    "        nr_connections +=len(genome.connections)\n",
    "        \n",
    "        \n",
    "        ce = []\n",
    "        \n",
    "        genome.fitness = 0.\n",
    "        net = neat.nn.FeedForwardNetwork.create(genome, config)\n",
    "        nr_correct = 0.\n",
    "        for i in sample_indices:\n",
    "            train, label = X_train[i], Y_train[i]\n",
    "            output = softmax(net.activate(train))\n",
    "            \n",
    "            ce.append(-_cross_entropy(output, label))\n",
    "#             if np.argmax(sigmoid(output)) == label:\n",
    "#                 nr_correct += 1.\n",
    "\n",
    "        genome.fitness = np.average(ce) \n",
    "    \n",
    "    avg_nodes = nr_nodes / float(len(genomes))\n",
    "    avg_connections = nr_connections / float(len(genomes))\n",
    "    with open(\"NEAT-results/sizes_mnist.csv\",'a', newline='') as csvfile:\n",
    "        writer = csv.writer(csvfile, delimiter=' ',\n",
    "                            quotechar='|', quoting=csv.QUOTE_MINIMAL)\n",
    "        writer.writerow([avg_nodes, avg_connections])\n",
    "    "
   ]
  },
  {
   "cell_type": "code",
   "execution_count": null,
   "metadata": {
    "scrolled": true
   },
   "outputs": [
    {
     "name": "stdout",
     "output_type": "stream",
     "text": [
      "\n",
      " ****** Running generation 0 ****** \n",
      "\n",
      "Population's average fitness: -2.30933 stdev: 0.01471\n",
      "Best fitness: -2.27142 - size: (10, 128) - species 1 - id 92\n",
      "Average adjusted fitness: 0.043\n",
      "Mean genetic distance 2.314, standard deviation 0.275\n",
      "Population of 250 members in 1 species:\n",
      "   ID   age  size  fitness  adj fit  stag\n",
      "  ====  ===  ====  =======  =======  ====\n",
      "     1    0   250     -2.3    0.043     0\n",
      "Total extinctions: 0\n",
      "Generation time: 10.859 sec\n",
      "\n",
      " ****** Running generation 1 ****** \n",
      "\n",
      "Population's average fitness: -2.30258 stdev: 0.01649\n",
      "Best fitness: -2.26483 - size: (11, 128) - species 1 - id 472\n",
      "Average adjusted fitness: 0.061\n",
      "Mean genetic distance 2.030, standard deviation 0.738\n",
      "Population of 250 members in 1 species:\n",
      "   ID   age  size  fitness  adj fit  stag\n",
      "  ====  ===  ====  =======  =======  ====\n",
      "     1    1   250     -2.3    0.061     0\n",
      "Total extinctions: 0\n",
      "Generation time: 10.948 sec (10.904 average)\n",
      "\n",
      " ****** Running generation 2 ****** \n",
      "\n",
      "Population's average fitness: -2.29462 stdev: 0.01815\n",
      "Best fitness: -2.25574 - size: (10, 128) - species 1 - id 718\n",
      "Average adjusted fitness: 0.061\n",
      "Mean genetic distance 1.893, standard deviation 0.826\n",
      "Population of 250 members in 1 species:\n",
      "   ID   age  size  fitness  adj fit  stag\n",
      "  ====  ===  ====  =======  =======  ====\n",
      "     1    2   250     -2.3    0.061     0\n",
      "Total extinctions: 0\n",
      "Generation time: 10.867 sec (10.891 average)\n",
      "\n",
      " ****** Running generation 3 ****** \n",
      "\n",
      "Population's average fitness: -2.29337 stdev: 0.01837\n",
      "Best fitness: -2.25592 - size: (12, 127) - species 1 - id 922\n",
      "Average adjusted fitness: 0.059\n",
      "Mean genetic distance 1.191, standard deviation 0.900\n",
      "Population of 250 members in 1 species:\n",
      "   ID   age  size  fitness  adj fit  stag\n",
      "  ====  ===  ====  =======  =======  ====\n",
      "     1    3   250     -2.3    0.059     1\n",
      "Total extinctions: 0\n",
      "Generation time: 11.074 sec (10.937 average)\n",
      "\n",
      " ****** Running generation 4 ****** \n",
      "\n"
     ]
    }
   ],
   "source": [
    "run(CONFIG_FILE)"
   ]
  },
  {
   "cell_type": "markdown",
   "metadata": {},
   "source": [
    "## Plot History"
   ]
  },
  {
   "cell_type": "code",
   "execution_count": null,
   "metadata": {},
   "outputs": [],
   "source": [
    "history = np.genfromtxt('NEAT-results/fitness_history.csv', delimiter='')\n",
    "best_fitness = history[:,0]\n",
    "avg_fitness = history[:,1]"
   ]
  },
  {
   "cell_type": "code",
   "execution_count": null,
   "metadata": {},
   "outputs": [],
   "source": [
    "plt.plot(best_fitness, label = 'Best Fitness')\n",
    "plt.plot(avg_fitness, label = 'Average Fitness')\n",
    "plt.title('Best and Average Fitness over Generations')\n",
    "plt.xlabel('Generation')\n",
    "plt.ylabel('Fitness (Negative Cross Entropy)')\n",
    "plt.legend()\n",
    "plt.show()"
   ]
  },
  {
   "cell_type": "markdown",
   "metadata": {},
   "source": [
    "## Plot Sizes over Generations"
   ]
  },
  {
   "cell_type": "code",
   "execution_count": null,
   "metadata": {},
   "outputs": [],
   "source": [
    "sizes = np.genfromtxt('NEAT-results/sizes_mnist.csv', delimiter='')\n",
    "avg_nodes = sizes[:,0]\n",
    "avg_connections = sizes[:,1]"
   ]
  },
  {
   "cell_type": "code",
   "execution_count": null,
   "metadata": {},
   "outputs": [],
   "source": [
    "plt.plot(avg_nodes)\n",
    "plt.title('Average Nodes per Generation')\n",
    "plt.xlabel('Generation')\n",
    "plt.ylabel('Nr of Nodes')\n",
    "plt.show()"
   ]
  },
  {
   "cell_type": "code",
   "execution_count": null,
   "metadata": {},
   "outputs": [],
   "source": [
    "plt.plot(avg_connections)\n",
    "plt.title('Average Connections per Generation')\n",
    "plt.xlabel('Generation')\n",
    "plt.ylabel('Nr of Connections')\n",
    "plt.show()"
   ]
  },
  {
   "cell_type": "markdown",
   "metadata": {},
   "source": [
    "## Load and Test Fittest Member"
   ]
  },
  {
   "cell_type": "code",
   "execution_count": null,
   "metadata": {
    "scrolled": false
   },
   "outputs": [],
   "source": [
    "def test_fittest(config_file):\n",
    "    config = neat.Config(neat.DefaultGenome, neat.DefaultReproduction,\n",
    "                         neat.DefaultSpeciesSet, neat.DefaultStagnation,\n",
    "                         config_file)\n",
    "    config.genome_config.add_activation('step', step)\n",
    "    config.genome_config.add_activation('wcos', wann_cos)\n",
    "    config.genome_config.add_activation('wsin', wann_sin)\n",
    "    config.genome_config.add_activation('wsig', wann_sigmoid)\n",
    "    config.genome_config.add_activation('winv', wann_inverse)\n",
    "    config.genome_config.add_activation('wgauss', wann_gauss)\n",
    "    preds_test = []\n",
    "    preds_train = []\n",
    "    train_correct = 0.\n",
    "    test_correct = 0. \n",
    "    fittest_genome = pickle.load( open('NEAT-results/best_genomes', 'rb'))[0]\n",
    "    #print(fittest_genome)\n",
    "    net = neat.nn.FeedForwardNetwork.create(fittest_genome, config)\n",
    "        \n",
    "    for train, label in zip(X_train, Y_train):\n",
    "        output = np.argmax(softmax(net.activate(train)))\n",
    "        preds_train.append(output)\n",
    "        if output == label:\n",
    "            train_correct += 1.\n",
    "    train_acc = train_correct / len(X_train)\n",
    "    \n",
    "    for test, label in zip(X_test, Y_test):\n",
    "        output = np.argmax(softmax(net.activate(test)))\n",
    "        preds_test.append(output)\n",
    "        if output == label:\n",
    "            test_correct += 1.\n",
    "    test_acc = test_correct / len(X_test)\n",
    "        \n",
    "    print(\"Train Accuracy = {}\".format(train_acc))\n",
    "    print(\"Test Accuracy = {}\".format(test_acc))\n",
    "    \n",
    "    return preds_train, preds_test"
   ]
  },
  {
   "cell_type": "code",
   "execution_count": null,
   "metadata": {},
   "outputs": [],
   "source": [
    "preds_train, preds_test = test_fittest(CONFIG_FILE)"
   ]
  },
  {
   "cell_type": "code",
   "execution_count": null,
   "metadata": {},
   "outputs": [],
   "source": [
    "cm_train = confusion_matrix(Y_train, preds_train, labels=range(N_CLASSES_TO_USE))\n",
    "cm_test = confusion_matrix(Y_test, preds_test, labels=range(N_CLASSES_TO_USE))"
   ]
  },
  {
   "cell_type": "code",
   "execution_count": null,
   "metadata": {},
   "outputs": [],
   "source": [
    "# Create figure\n",
    "fig, ax = plt.subplots(1,2, figsize=(11,4))\n",
    "\n",
    "# Plot confusion matrix for training data\n",
    "sns.heatmap(cm_train, annot=True, fmt='g', ax=ax[0], cmap=\"Blues\")\n",
    "ax[0].set_xlabel('Predicted labels')\n",
    "ax[0].set_ylabel('True labels')\n",
    "ax[0].set_title('Confusion matrix for training data')\n",
    "\n",
    "# Plot confusion matrix for validation data\n",
    "sns.heatmap(cm_test, annot=True, fmt='g', ax=ax[1], cmap=\"Blues\")\n",
    "ax[1].set_xlabel('Predicted labels')\n",
    "ax[1].set_ylabel('True labels')\n",
    "ax[1].set_title('Confusion matrix for test data')\n",
    "\n",
    "# Show the result\n",
    "plt.show()"
   ]
  },
  {
   "cell_type": "markdown",
   "metadata": {},
   "source": [
    "## Inspecting Fittest Genome"
   ]
  },
  {
   "cell_type": "code",
   "execution_count": null,
   "metadata": {},
   "outputs": [],
   "source": [
    "fittest_genome = pickle.load( open('NEAT-results/best_genomes', 'rb'))[0]"
   ]
  },
  {
   "cell_type": "code",
   "execution_count": null,
   "metadata": {
    "scrolled": false
   },
   "outputs": [],
   "source": [
    "print(fittest_genome)"
   ]
  },
  {
   "cell_type": "code",
   "execution_count": null,
   "metadata": {},
   "outputs": [],
   "source": [
    "used_input_pixels = []\n",
    "for cg in fittest_genome.connections.values():\n",
    "    if cg.enabled:\n",
    "        used_input_pixels.append(cg.key[0])\n",
    "print(used_input_pixels)"
   ]
  },
  {
   "cell_type": "code",
   "execution_count": null,
   "metadata": {},
   "outputs": [],
   "source": [
    "input_tallies = np.zeros(X_train.shape[1])\n",
    "for arg in used_input_pixels:\n",
    "    if arg <0:\n",
    "        input_tallies[arg] += 1\n",
    "plt.imshow( input_tallies.reshape(16,16) )\n",
    "plt.title('Used Input Pixels')\n",
    "plt.axis('off')\n",
    "plt.show()"
   ]
  }
 ],
 "metadata": {
  "kernelspec": {
   "display_name": "Python 3",
   "language": "python",
   "name": "python3"
  },
  "language_info": {
   "codemirror_mode": {
    "name": "ipython",
    "version": 3
   },
   "file_extension": ".py",
   "mimetype": "text/x-python",
   "name": "python",
   "nbconvert_exporter": "python",
   "pygments_lexer": "ipython3",
   "version": "3.8.1"
  }
 },
 "nbformat": 4,
 "nbformat_minor": 4
}
