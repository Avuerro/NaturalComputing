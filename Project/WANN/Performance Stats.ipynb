{
 "cells": [
  {
   "cell_type": "code",
   "execution_count": null,
   "metadata": {},
   "outputs": [],
   "source": [
    "from matplotlib import pyplot as plt\n",
    "import numpy as np"
   ]
  },
  {
   "cell_type": "code",
   "execution_count": null,
   "metadata": {},
   "outputs": [],
   "source": [
    "!ls log"
   ]
  },
  {
   "cell_type": "code",
   "execution_count": null,
   "metadata": {},
   "outputs": [],
   "source": [
    "# Load stats:\n",
    "\"\"\"\n",
    "# Rows: [generations]\n",
    "# Cols:\n",
    "0: evaluations (one evaluation of one individual -- may be multiple rollouts)\n",
    "1: median fitness \n",
    "2: maximum fitness\n",
    "3: top fitness (best fitness ever)\n",
    "4: peak fitness (fitness earned with best single weight value by max individual)\n",
    "5: median # of nodes in population\n",
    "6: median # of connections in population]\n",
    "\"\"\"\n",
    "stats = np.loadtxt('log/mnist256_final_final_stats.out', delimiter=',') \n",
    "runTime = np.loadtxt('log/sample_runTime.out', delimiter=',') "
   ]
  },
  {
   "cell_type": "code",
   "execution_count": null,
   "metadata": {},
   "outputs": [],
   "source": [
    "# Plot fitness progress:\n",
    "plt.figure(figsize=(12,4))\n",
    "plt.grid(linestyle='--', linewidth=0.1)\n",
    "# plt.plot(stats[:,1], label=\"Median Fitness\")\n",
    "plt.plot(stats[:,2], label=\"Best Fitness\") # best fitness (averaged over all trials)\n",
    "# plt.plot(stats[:,3], label=\"Top Fitness\") # highest fitness over all trials\n",
    "# plt.plot(stats[:,4], label=\"Peak Fitness\")\n",
    "plt.plot(stats[:,7], label=\"Average Fitness\")\n",
    "# plt.plot(stats[:,8], label=\"Average nr of Nodes\")\n",
    "# plt.plot(stats[:,9], label=\"Average nr of Connections\")\n",
    "plt.legend()\n",
    "plt.grid(linestyle=':', linewidth=2)\n",
    "plt.xlabel('Generations')\n",
    "plt.ylabel('Fitness')\n",
    "\n",
    "# Approximate time on 8 cores\n",
    "genKey = np.array([32,128,256,384,640,896],dtype=int)\n",
    "\n",
    "for i in range(len(genKey)):\n",
    "    gen = int(genKey[i]/8)-1\n",
    "    time = runTime[gen]/3600\n",
    "    plt.annotate(str(round(time,1))+' hours', xy=(gen*8,0), xytext=(gen*8,-200),\n",
    "               arrowprops=dict(facecolor='black', shrink=0.05), horizontalalignment='center')\n",
    "\n",
    "# plt.title('Sample Run of WANN Cart-Pole Swing-Up on 8 Core Laptop')"
   ]
  },
  {
   "cell_type": "code",
   "execution_count": null,
   "metadata": {},
   "outputs": [],
   "source": [
    "# Plot fitness progress:\n",
    "plt.figure(figsize=(12,4))\n",
    "plt.grid(linestyle='--', linewidth=0.1)\n",
    "plt.plot(stats[:,8], label=\"Average nr of Nodes\")\n",
    "plt.plot(stats[:,9], label=\"Average nr of Connections\")\n",
    "\n",
    "\n",
    "plt.legend()\n",
    "plt.grid(linestyle=':', linewidth=2)\n",
    "plt.xlabel('Generations')\n",
    "plt.ylabel('Quantity')\n",
    "\n",
    "# Approximate time on 8 cores\n",
    "genKey = np.array([32,128,256,384,640,896],dtype=int)\n",
    "\n",
    "for i in range(len(genKey)):\n",
    "    gen = int(genKey[i]/8)-1\n",
    "    time = runTime[gen]/3600\n",
    "    plt.annotate(str(round(time,1))+' hours', xy=(gen*8,0), xytext=(gen*8,-200),\n",
    "               arrowprops=dict(facecolor='black', shrink=0.05), horizontalalignment='center')\n",
    "\n",
    "# plt.title('Sample Run of WANN Cart-Pole Swing-Up on 8 Core Laptop')"
   ]
  },
  {
   "cell_type": "code",
   "execution_count": null,
   "metadata": {},
   "outputs": [],
   "source": [
    "## loading the model to test it \n",
    "!ls"
   ]
  },
  {
   "cell_type": "code",
   "execution_count": 1,
   "metadata": {},
   "outputs": [],
   "source": [
    "import numpy as np\n",
    "import argparse\n",
    "import sys\n",
    "from sklearn.metrics import confusion_matrix\n",
    "import seaborn as sns\n",
    "import matplotlib.pyplot as plt\n",
    "np.set_printoptions(precision=2) \n",
    "np.set_printoptions(linewidth=160)\n",
    "\n",
    "from wann_src import * \n",
    "from domain import *  \n",
    "\n",
    "%load_ext autoreload\n",
    "\n",
    "%autoreload 2"
   ]
  },
  {
   "cell_type": "code",
   "execution_count": 2,
   "metadata": {},
   "outputs": [],
   "source": [
    "IN_FILE='log/fashionmnist_final_final_best.out'\n",
    "OUT_FILE='./test_testrun_'\n",
    "HYPERPARAMS_DEFAULT='p/default_wan.json'\n",
    "HYPERPARAMS_FILE='p/fashion_mnist.json'\n",
    "N_WEIGHTS=6 #number of weights to evaluate\n",
    "N_REPS=1\n",
    "VIEW=False#visualize trial\n",
    "SEED=-1\n",
    "TEST_ACCURACY=True\n",
    "N_CLASSES_TO_USE=10"
   ]
  },
  {
   "cell_type": "code",
   "execution_count": 3,
   "metadata": {
    "scrolled": true
   },
   "outputs": [
    {
     "name": "stdout",
     "output_type": "stream",
     "text": [
      "\t*** Running with hyperparameters:  p/fashion_mnist.json \t***\n"
     ]
    }
   ],
   "source": [
    "# Loading task and parameters\n",
    "hyp = loadHyp(pFileName=HYPERPARAMS_DEFAULT)\n",
    "updateHyp(hyp, HYPERPARAMS_FILE)\n",
    "task = Task(games[hyp['task']], nReps=hyp['alg_nReps'])\n",
    "\n",
    "# Loading the individual\n",
    "wVec, aVec, wKey = importNet(IN_FILE)"
   ]
  },
  {
   "cell_type": "code",
   "execution_count": null,
   "metadata": {},
   "outputs": [],
   "source": [
    "print(wVec.shape)\n",
    "print(345**2)\n",
    "print(aVec.shape)\n",
    "test = wVec.reshape((345,345))"
   ]
  },
  {
   "cell_type": "code",
   "execution_count": null,
   "metadata": {},
   "outputs": [],
   "source": [
    "wVec"
   ]
  },
  {
   "cell_type": "code",
   "execution_count": null,
   "metadata": {
    "scrolled": false
   },
   "outputs": [],
   "source": [
    "##obtain results\n",
    "\n",
    "train_accuracies,\\\n",
    "test_accuracies,\\\n",
    "ensemble_accuracy_train,\\\n",
    "ensemble_accuracy_test,\\\n",
    "train_predictions,\\\n",
    "test_predictions,\\\n",
    "train_majority_pred,\\\n",
    "test_majority_pred,\\\n",
    "y_train,\\\n",
    "y_test = task.evaluateModel(wVec, aVec, hyp, nVals=N_WEIGHTS, nRep=N_REPS, returnVals=True, seed=SEED)"
   ]
  },
  {
   "cell_type": "code",
   "execution_count": 10,
   "metadata": {
    "scrolled": true
   },
   "outputs": [],
   "source": [
    "used_inputs = task.usedInputs(wVec,aVec)"
   ]
  },
  {
   "cell_type": "code",
   "execution_count": null,
   "metadata": {},
   "outputs": [],
   "source": []
  },
  {
   "cell_type": "code",
   "execution_count": 12,
   "metadata": {},
   "outputs": [],
   "source": [
    "tally = list(range(0,256))\n",
    "ui = []\n",
    "\n",
    "for i in tally:\n",
    "    tally[i] = 0\n",
    "    if i in used_inputs[1]:\n",
    "        tally[i] += 1\n",
    "    "
   ]
  },
  {
   "cell_type": "code",
   "execution_count": 27,
   "metadata": {},
   "outputs": [],
   "source": [
    "classes = [\"T-shirt/top\",\"Trouser\",\"Pullover\",\"Dress\",\"Coat\",\"Sandal\", \"Shirt\", \"Sneaker\", \"Bag\", \"Ankle boot\"]"
   ]
  },
  {
   "cell_type": "code",
   "execution_count": 28,
   "metadata": {},
   "outputs": [
    {
     "data": {
      "image/png": "[encoded data removed]",
      "text/plain": [
       "<Figure size 1152x360 with 10 Axes>"
      ]
     },
     "metadata": {},
     "output_type": "display_data"
    }
   ],
   "source": [
    "\n",
    "# Extract input tallies from best individual\n",
    "input_tallies = []\n",
    "\n",
    "for k,inputs_used in used_inputs.items():\n",
    "    input_tally = np.zeros(256)\n",
    "    for arg in inputs_used:\n",
    "        if arg < 256:\n",
    "            input_tally[arg] += 1\n",
    "    input_tallies.append(input_tally)\n",
    "    \n",
    "# Create plots of the inputs (pixels) used in the tree of the best individual for each class\n",
    "# Note: for the best-looking plot, this implementation assumes that N_CLASSES_TO_USE is set to 10\n",
    "fig, ax = plt.subplots(2, 5, figsize=(16,5))\n",
    "ax = ax.ravel()\n",
    "for i, tally in enumerate(input_tallies):\n",
    "    img_shape = int(math.sqrt(256))\n",
    "    ax[i].imshow(np.array(tally).reshape(img_shape, img_shape), clim=(0,np.max(input_tallies)))\n",
    "    ax[i].axis(\"off\")\n",
    "    ax[i].set_title(\"Pixels used for class {}\".format(classes[i]))\n",
    "plt.show()"
   ]
  },
  {
   "cell_type": "code",
   "execution_count": 31,
   "metadata": {},
   "outputs": [
    {
     "data": {
      "image/png": "[encoded data removed]",
      "text/plain": [
       "<Figure size 432x288 with 1 Axes>"
      ]
     },
     "metadata": {},
     "output_type": "display_data"
    }
   ],
   "source": [
    "\n",
    "# Plot image of all inputs used in the tree\n",
    "plt.imshow(np.sum(input_tallies, axis=0).reshape(16,16))\n",
    "plt.axis(\"off\")\n",
    "plt.title(\"Pixels used in the entire tree\")\n",
    "plt.show()"
   ]
  },
  {
   "cell_type": "code",
   "execution_count": null,
   "metadata": {},
   "outputs": [],
   "source": [
    "## determine best model\n",
    "np.argmax(train_accuracies)\n",
    "print(train_accuracies)\n",
    "print(test_accuracies)\n",
    "print(ensemble_accuracy_train)\n",
    "print(ensemble_accuracy_test)"
   ]
  },
  {
   "cell_type": "code",
   "execution_count": null,
   "metadata": {},
   "outputs": [],
   "source": [
    "cm_best_train = confusion_matrix(train_predictions[0,:], y_train, labels=range(N_CLASSES_TO_USE))\n",
    "cm_best_test = confusion_matrix(test_predictions[0,:],y_test, labels=range(N_CLASSES_TO_USE))\n",
    "cm_ensemble_train = confusion_matrix(train_majority_pred, y_train, labels=range(N_CLASSES_TO_USE))\n",
    "cm_ensemble_test = confusion_matrix(test_majority_pred, y_test, labels=range(N_CLASSES_TO_USE))"
   ]
  },
  {
   "cell_type": "code",
   "execution_count": null,
   "metadata": {},
   "outputs": [],
   "source": [
    "# Create figure\n",
    "fig, ax = plt.subplots(2,2, figsize=(11,10))\n",
    "ax = ax.ravel()\n",
    "\n",
    "# Plot confusion matrix for training data using best weight\n",
    "sns.heatmap(cm_best_train, annot=True, fmt='g', ax=ax[0], cmap=\"Blues\")\n",
    "ax[0].set_xlabel('Predicted labels')\n",
    "ax[0].set_ylabel('True labels')\n",
    "ax[0].set_title('Confusion matrix for training data (best weight)')\n",
    "\n",
    "# Plot confusion matrix for validation data using best weight\n",
    "sns.heatmap(cm_best_test, annot=True, fmt='g', ax=ax[1], cmap=\"Blues\")\n",
    "ax[1].set_xlabel('Predicted labels')\n",
    "ax[1].set_ylabel('True labels')\n",
    "ax[1].set_title('Confusion matrix for validation data (best weight)')\n",
    "\n",
    "# Plot confusion matrix for training data using majority vote\n",
    "sns.heatmap(cm_ensemble_train, annot=True, fmt='g', ax=ax[2], cmap=\"Blues\")\n",
    "ax[2].set_xlabel('Predicted labels')\n",
    "ax[2].set_ylabel('True labels')\n",
    "ax[2].set_title('Confusion matrix for training data (majority vote)')\n",
    "\n",
    "# Plot confusion matrix for validation data using majority vote\n",
    "sns.heatmap(cm_ensemble_test, annot=True, fmt='g', ax=ax[3], cmap=\"Blues\")\n",
    "ax[3].set_xlabel('Predicted labels')\n",
    "ax[3].set_ylabel('True labels')\n",
    "ax[3].set_title('Confusion matrix for validation data (majority vote)')\n",
    "\n",
    "# Show the result\n",
    "plt.show()"
   ]
  },
  {
   "cell_type": "code",
   "execution_count": null,
   "metadata": {},
   "outputs": [],
   "source": []
  },
  {
   "cell_type": "code",
   "execution_count": null,
   "metadata": {},
   "outputs": [],
   "source": []
  },
  {
   "cell_type": "code",
   "execution_count": null,
   "metadata": {},
   "outputs": [],
   "source": []
  },
  {
   "cell_type": "code",
   "execution_count": null,
   "metadata": {},
   "outputs": [],
   "source": []
  },
  {
   "cell_type": "code",
   "execution_count": null,
   "metadata": {},
   "outputs": [],
   "source": []
  }
 ],
 "metadata": {
  "kernelspec": {
   "display_name": "Python 3",
   "language": "python",
   "name": "python3"
  },
  "language_info": {
   "codemirror_mode": {
    "name": "ipython",
    "version": 3
   },
   "file_extension": ".py",
   "mimetype": "text/x-python",
   "name": "python",
   "nbconvert_exporter": "python",
   "pygments_lexer": "ipython3",
   "version": "3.5.5"
  }
 },
 "nbformat": 4,
 "nbformat_minor": 2
}
