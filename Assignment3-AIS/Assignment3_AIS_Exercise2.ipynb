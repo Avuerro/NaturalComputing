{
 "cells": [
  {
   "cell_type": "markdown",
   "metadata": {},
   "source": [
    "# Natural Computing - Assignment 3 - Artificial Immune Systems\n",
    "## Exercise 2 - Intrusion Detection for Unix Processes\n",
    "#### Submission by group 25 (Chihab Amghane, Max Driessen, Jordy Naus)\n",
    "\n",
    "This file contains our code for exercise 2 of the \"Artificial Immune Systems\" assignment of the Natural Computing course."
   ]
  },
  {
   "cell_type": "markdown",
   "metadata": {},
   "source": [
    "### Imports"
   ]
  },
  {
   "cell_type": "code",
   "execution_count": 1,
   "metadata": {},
   "outputs": [
    {
     "name": "stdout",
     "output_type": "stream",
     "text": [
      "Requirement already satisfied: StringDist in c:\\users\\max\\anaconda3\\lib\\site-packages (1.0.9)\n"
     ]
    }
   ],
   "source": [
    "!pip install StringDist"
   ]
  },
  {
   "cell_type": "code",
   "execution_count": 2,
   "metadata": {},
   "outputs": [],
   "source": [
    "from subprocess import Popen, PIPE, STDOUT\n",
    "from sklearn.metrics import auc\n",
    "import matplotlib.pyplot as plt \n",
    "import numpy as np\n",
    "import stringdist\n",
    "import random"
   ]
  },
  {
   "cell_type": "markdown",
   "metadata": {},
   "source": [
    "### Determine whether algorithm should run again or use old results (WARNING: running takes > 1h)"
   ]
  },
  {
   "cell_type": "code",
   "execution_count": 3,
   "metadata": {},
   "outputs": [],
   "source": [
    "RUN_ALGORITHM = False"
   ]
  },
  {
   "cell_type": "markdown",
   "metadata": {},
   "source": [
    "### Interfacing with the Java implementation of the Negative Selection algorithm"
   ]
  },
  {
   "cell_type": "code",
   "execution_count": 4,
   "metadata": {},
   "outputs": [],
   "source": [
    "def get_negsel_outputs(test_filename, \n",
    "                       train_filename,\n",
    "                       alphabet_filename,\n",
    "                       negsel_folder=\"negative-selection\",\n",
    "                       n=10, r=4, c=True, l=True):\n",
    "    \n",
    "    # Make sure that negsel_folder ends in / if it is not empty\n",
    "    negsel_folder += \"/\" if not negsel_folder.endswith(\"/\") and negsel_folder else \"\"\n",
    "    \n",
    "    # Create command using given filenames and parameters\n",
    "    command = f\"java -jar {negsel_folder}negsel2.jar \" \\\n",
    "              f\"-alphabet file://{negsel_folder}{alphabet_filename} \" \\\n",
    "              f\"-self {negsel_folder}{train_filename} \" \\\n",
    "              f\"-n {n} -r {r} {'-c' if c else ''} {'-l' if l else ''} \" \\\n",
    "              f\"< {negsel_folder}{test_filename}\"\n",
    "    \n",
    "    # Run the command\n",
    "    process = Popen(command, stdout=PIPE, shell=True, stderr=STDOUT, bufsize=-1, close_fds=True)\n",
    "    \n",
    "    # Extract and return output values (if multiple values are returned for one line, use the average)\n",
    "    outputs = []\n",
    "    for line in iter(process.stdout.readline, b''):\n",
    "        values = [float(val) for val in line.rstrip().decode('utf-8').split(\" \")]\n",
    "        outputs.append(np.average(values) if values[0] == values[0] else 0.0)\n",
    "    return outputs"
   ]
  },
  {
   "cell_type": "markdown",
   "metadata": {},
   "source": [
    "### Preprocessing\n",
    "\n",
    "#### Utility functions"
   ]
  },
  {
   "cell_type": "code",
   "execution_count": 5,
   "metadata": {},
   "outputs": [],
   "source": [
    "def write_to_file(data, folder_name, filename):\n",
    "    \n",
    "    # Make sure that negsel_folder ends in / if it is not empty\n",
    "    folder_name += \"/\" if not folder_name.endswith(\"/\") and folder_name else \"\"\n",
    "    \n",
    "    # Write the provided data to the specified file, one line at a time\n",
    "    with open(f\"{folder_name}{filename}\", \"w\") as f:\n",
    "        for line in data:\n",
    "            f.write(f\"{line}\\n\")"
   ]
  },
  {
   "cell_type": "code",
   "execution_count": 6,
   "metadata": {},
   "outputs": [],
   "source": [
    "def remove_similar(data, min_dist):\n",
    "    \"\"\" Removing datapoints that are too similar (Levenshtein distance < min_dist) \"\"\"\n",
    "    \n",
    "    # Iterate through data, only adding datapoint to new_data that are not too similar to the ones already in new_data\n",
    "    new_data = []\n",
    "    for datapoint in data:\n",
    "        if not any([stringdist.levenshtein(datapoint, x) < min_dist for x in new_data]):\n",
    "            new_data.append(datapoint)\n",
    "    \n",
    "    # Return new_data (in which all datapoints have a Levenshtein distance of at least min_dist)\n",
    "    return new_data"
   ]
  },
  {
   "cell_type": "markdown",
   "metadata": {},
   "source": [
    "#### Training data (chunking)"
   ]
  },
  {
   "cell_type": "code",
   "execution_count": 7,
   "metadata": {},
   "outputs": [],
   "source": [
    "def preprocess_train(folder_name, data_type, n, max_size=float('inf'), init_only=False):\n",
    "    \"\"\" Preprocessing function for the training data (chunking, removing duplicates & chunks that are too similar) \"\"\"\n",
    "    \n",
    "    # Make sure that folder_name ends in / if it is not empty\n",
    "    folder_name += \"/\" if not folder_name.endswith(\"/\") and folder_name else \"\"\n",
    "    \n",
    "    # Extract train data\n",
    "    with open(f\"{folder_name}{data_type}.train\", \"r\") as f:\n",
    "        data = [line.rstrip() for line in f.readlines()]\n",
    "    \n",
    "    # Split data into equally-sized chunks\n",
    "    chunked_data = []\n",
    "    for line in data:\n",
    "        chunked_data.extend([line[:n]] if init_only else [line[i:i+n] for i in range(len(line)-n+1)])\n",
    "        \n",
    "    # Remove duplicates\n",
    "    chunked_data = list(set(chunked_data))\n",
    "    \n",
    "    # Take random sample if size exceeds max_size\n",
    "    if len(chunked_data) > max_size:\n",
    "        chunked_data = random.sample(chunked_data, max_size)\n",
    "    \n",
    "    # Return the chunked training data\n",
    "    return chunked_data"
   ]
  },
  {
   "cell_type": "markdown",
   "metadata": {},
   "source": [
    "##### Full training set"
   ]
  },
  {
   "cell_type": "code",
   "execution_count": 8,
   "metadata": {},
   "outputs": [],
   "source": [
    "cert_chunked_train_full = preprocess_train(\"negative-selection/syscalls/snd-cert\", \"snd-cert\", 7)\n",
    "unm_chunked_train_full = preprocess_train(\"negative-selection/syscalls/snd-unm\", \"snd-unm\", 7)"
   ]
  },
  {
   "cell_type": "code",
   "execution_count": 9,
   "metadata": {},
   "outputs": [],
   "source": [
    "write_to_file(cert_chunked_train_full, \"negative-selection/syscalls/snd-cert\", \"snd-cert.chunked_full.train\")\n",
    "write_to_file(unm_chunked_train_full, \"negative-selection/syscalls/snd-unm\", \"snd-unm.chunked_full.train\")"
   ]
  },
  {
   "cell_type": "markdown",
   "metadata": {},
   "source": [
    "##### Small training set"
   ]
  },
  {
   "cell_type": "code",
   "execution_count": 10,
   "metadata": {},
   "outputs": [],
   "source": [
    "cert_chunked_train_small = preprocess_train(\"negative-selection/syscalls/snd-cert\", \"snd-cert\", 7, 50)\n",
    "unm_chunked_train_small = preprocess_train(\"negative-selection/syscalls/snd-unm\", \"snd-unm\", 7, 50)"
   ]
  },
  {
   "cell_type": "code",
   "execution_count": 11,
   "metadata": {},
   "outputs": [],
   "source": [
    "write_to_file(cert_chunked_train_small, \"negative-selection/syscalls/snd-cert\", \"snd-cert.chunked_small.train\")\n",
    "write_to_file(unm_chunked_train_small, \"negative-selection/syscalls/snd-unm\", \"snd-unm.chunked_small.train\")"
   ]
  },
  {
   "cell_type": "markdown",
   "metadata": {},
   "source": [
    "##### Init training set (first chunk only)"
   ]
  },
  {
   "cell_type": "code",
   "execution_count": 12,
   "metadata": {},
   "outputs": [],
   "source": [
    "cert_chunked_train_init = preprocess_train(\"negative-selection/syscalls/snd-cert\", \"snd-cert\", 7, init_only=True)\n",
    "unm_chunked_train_init = preprocess_train(\"negative-selection/syscalls/snd-unm\", \"snd-unm\", 7, init_only=True)"
   ]
  },
  {
   "cell_type": "code",
   "execution_count": 13,
   "metadata": {},
   "outputs": [],
   "source": [
    "write_to_file(cert_chunked_train_init, \"negative-selection/syscalls/snd-cert\", \"snd-cert.chunked_init.train\")\n",
    "write_to_file(unm_chunked_train_init, \"negative-selection/syscalls/snd-unm\", \"snd-unm.chunked_init.train\")"
   ]
  },
  {
   "cell_type": "markdown",
   "metadata": {},
   "source": [
    "#### Test data (split into self and foreign)"
   ]
  },
  {
   "cell_type": "code",
   "execution_count": 14,
   "metadata": {},
   "outputs": [],
   "source": [
    "def extract_self_foreign(folder_name, data_type, parts=[1,2,3]):\n",
    "    \n",
    "    # Make sure that folder_name ends in / if it is not empty\n",
    "    folder_name += \"/\" if not folder_name.endswith(\"/\") and folder_name else \"\"\n",
    "    \n",
    "    # Extract data from the desired parts\n",
    "    data, labels = [], []\n",
    "    for part in parts:\n",
    "        # Set the correct file location\n",
    "        loc = f\"{folder_name}{data_type}.{part}\"\n",
    "        \n",
    "        # Extract the test data of this part\n",
    "        with open(f\"{loc}.test\", \"r\") as f:\n",
    "            data.extend([line.rstrip() for line in f.readlines()])\n",
    "        \n",
    "        # Extract the labels of this part\n",
    "        with open(f\"{loc}.labels\", \"r\") as f:\n",
    "            labels.extend([int(line.rstrip()) for line in f.readlines()])\n",
    "            \n",
    "    # Convert test data and labels to np arrays\n",
    "    data = np.array(data)\n",
    "    labels = np.array(labels)\n",
    "    \n",
    "    # Extract self and foreign test data\n",
    "    self = data[labels == 0].tolist()\n",
    "    foreign = data[labels == 1].tolist()\n",
    "    \n",
    "    # Return self and foreign test data\n",
    "    return self, foreign"
   ]
  },
  {
   "cell_type": "markdown",
   "metadata": {},
   "source": [
    "##### Full test sets"
   ]
  },
  {
   "cell_type": "code",
   "execution_count": 15,
   "metadata": {},
   "outputs": [],
   "source": [
    "cert_self_full, cert_foreign_full = extract_self_foreign(\"negative-selection/syscalls/snd-cert\", \"snd-cert\", [1,2,3])\n",
    "unm_self_full, unm_foreign_full = extract_self_foreign(\"negative-selection/syscalls/snd-unm\", \"snd-unm\", [1,2,3])"
   ]
  },
  {
   "cell_type": "code",
   "execution_count": 16,
   "metadata": {},
   "outputs": [],
   "source": [
    "write_to_file(cert_self_full, \"negative-selection/syscalls/snd-cert\", \"snd-cert.self_full.test\")\n",
    "write_to_file(cert_foreign_full, \"negative-selection/syscalls/snd-cert\", \"snd-cert.foreign_full.test\")\n",
    "write_to_file(unm_self_full, \"negative-selection/syscalls/snd-unm\", \"snd-unm.self_full.test\")\n",
    "write_to_file(unm_foreign_full, \"negative-selection/syscalls/snd-unm\", \"snd-unm.foreign_full.test\")"
   ]
  },
  {
   "cell_type": "markdown",
   "metadata": {},
   "source": [
    "##### Small test sets"
   ]
  },
  {
   "cell_type": "code",
   "execution_count": 17,
   "metadata": {},
   "outputs": [],
   "source": [
    "cert_self_small, cert_foreign_small = extract_self_foreign(\"negative-selection/syscalls/snd-cert\", \"snd-cert\", [1])\n",
    "unm_self_small, unm_foreign_small = extract_self_foreign(\"negative-selection/syscalls/snd-unm\", \"snd-unm\", [1])"
   ]
  },
  {
   "cell_type": "code",
   "execution_count": 18,
   "metadata": {},
   "outputs": [],
   "source": [
    "write_to_file(cert_self_small, \"negative-selection/syscalls/snd-cert\", \"snd-cert.self_small.test\")\n",
    "write_to_file(cert_foreign_small, \"negative-selection/syscalls/snd-cert\", \"snd-cert.foreign_small.test\")\n",
    "write_to_file(unm_self_small, \"negative-selection/syscalls/snd-unm\", \"snd-unm.self_small.test\")\n",
    "write_to_file(unm_foreign_small, \"negative-selection/syscalls/snd-unm\", \"snd-unm.foreign_small.test\")"
   ]
  },
  {
   "cell_type": "markdown",
   "metadata": {},
   "source": [
    "### Computing ROC-AUC"
   ]
  },
  {
   "cell_type": "code",
   "execution_count": 19,
   "metadata": {},
   "outputs": [],
   "source": [
    "def roc_auc(self_outputs, foreign_outputs, title=\"ROC Curve\"):\n",
    "    # Initialize lists for True Positive Rate (sensitivity) and True Negative Rate (specificity) values\n",
    "    TPRs, FPRs = [], []\n",
    "    \n",
    "    # Merge outputs\n",
    "    merged_outputs = self_outputs + foreign_outputs\n",
    "    cut_off_scores = sorted(set(merged_outputs))\n",
    "\n",
    "    # Compute sensitivity and specificity for each cut-off score in the merged outputs\n",
    "    for cut_off_score in cut_off_scores:\n",
    "        # Calculate TPR/sensitivity: TP/(TP+FN) (% of \"foreign_outputs\" > cut-off score)\n",
    "        TPRs.append(sum(np.array(foreign_outputs) > cut_off_score) / len(foreign_outputs))\n",
    "\n",
    "        # Calculate TNR/specificity: TN/(TN+FP) ($% of \"self_outputs\" < cut-off score)\n",
    "        FPRs.append(1 - sum(np.array(self_outputs) < cut_off_score) / len(self_outputs))\n",
    "    \n",
    "    # Plot ROC curve\n",
    "    plt.plot(FPRs, TPRs)\n",
    "    plt.plot([0.0, 1.0], [0.0, 1.0], ls='--')\n",
    "    plt.xlabel('False Positive Rate (1-specificity)')\n",
    "    plt.ylabel('True Positive Rate (sensitivity)')\n",
    "    plt.title(title)\n",
    "    plt.show()\n",
    "    \n",
    "    # Compute and print AUC score (AUC is computed using FPRs and TPRs)\n",
    "    print(f\"ROC-AUC score = {auc(FPRs, TPRs)}\")"
   ]
  },
  {
   "cell_type": "markdown",
   "metadata": {},
   "source": [
    "### Running the algorithm\n",
    "\n",
    "#### Full training dataset, small testing dataset\n",
    "\n",
    "##### snd-cert"
   ]
  },
  {
   "cell_type": "code",
   "execution_count": 20,
   "metadata": {},
   "outputs": [],
   "source": [
    "if RUN_ALGORITHM:\n",
    "    # Get the output of the negative selection algorithm on the snd-cert testing sets using the full training set\n",
    "    cert_self_full_outputs = get_negsel_outputs(\"syscalls/snd-cert/snd-cert.self_small.test\", \n",
    "                                                \"syscalls/snd-cert/snd-cert.chunked_full.train\", \n",
    "                                                \"syscalls/snd-cert/snd-cert.alpha\",\n",
    "                                                n=7, r=4)\n",
    "    cert_foreign_full_outputs = get_negsel_outputs(\"syscalls/snd-cert/snd-cert.foreign_small.test\", \n",
    "                                                   \"syscalls/snd-cert/snd-cert.chunked_full.train\", \n",
    "                                                   \"syscalls/snd-cert/snd-cert.alpha\",\n",
    "                                                   n=7, r=4)"
   ]
  },
  {
   "cell_type": "code",
   "execution_count": 21,
   "metadata": {},
   "outputs": [],
   "source": [
    "if RUN_ALGORITHM:\n",
    "    # Write results to file (since running the above cell takes a long time)\n",
    "    write_to_file(cert_self_full_outputs, \"outputs\", \"cert_self_full.outputs\")\n",
    "    write_to_file(cert_foreign_full_outputs, \"outputs\", \"cert_foreign_full.outputs\")"
   ]
  },
  {
   "cell_type": "code",
   "execution_count": 22,
   "metadata": {},
   "outputs": [
    {
     "data": {
      "image/png": "[encoded data removed]",
      "text/plain": [
       "<Figure size 432x288 with 1 Axes>"
      ]
     },
     "metadata": {
      "needs_background": "light"
     },
     "output_type": "display_data"
    },
    {
     "name": "stdout",
     "output_type": "stream",
     "text": [
      "ROC-AUC score = 0.95\n"
     ]
    }
   ],
   "source": [
    "# Reload data if required\n",
    "if not RUN_ALGORITHM:\n",
    "    with open(f\"outputs/cert_self_full.outputs\", \"r\") as f:\n",
    "        cert_self_full_outputs = [float(line.rstrip()) for line in f.readlines()]\n",
    "    with open(f\"outputs/cert_foreign_full.outputs\", \"r\") as f:\n",
    "        cert_foreign_full_outputs = [float(line.rstrip()) for line in f.readlines()]\n",
    "\n",
    "# Compute and show ROC-AUC\n",
    "roc_auc(cert_self_full_outputs, \n",
    "        cert_foreign_full_outputs, \n",
    "        \"Negative Selection ROC with n = 7, r = 4,\\nself = cert_self_small, foreign = cert_foreign_small\")"
   ]
  },
  {
   "cell_type": "markdown",
   "metadata": {},
   "source": [
    "##### snd-unm"
   ]
  },
  {
   "cell_type": "code",
   "execution_count": 23,
   "metadata": {},
   "outputs": [],
   "source": [
    "if RUN_ALGORITHM:\n",
    "    # Get the output of the negative selection algorithm on the snd-unm testing sets using the full training set\n",
    "    unm_self_full_outputs = get_negsel_outputs(\"syscalls/snd-unm/snd-unm.self_small.test\", \n",
    "                                               \"syscalls/snd-unm/snd-unm.chunked_full.train\", \n",
    "                                               \"syscalls/snd-unm/snd-unm.alpha\",\n",
    "                                               n=7, r=4)\n",
    "    unm_foreign_full_outputs = get_negsel_outputs(\"syscalls/snd-unm/snd-unm.foreign_small.test\", \n",
    "                                                  \"syscalls/snd-unm/snd-unm.chunked_full.train\", \n",
    "                                                  \"syscalls/snd-unm/snd-unm.alpha\",\n",
    "                                                  n=7, r=4)"
   ]
  },
  {
   "cell_type": "code",
   "execution_count": 24,
   "metadata": {},
   "outputs": [],
   "source": [
    "if RUN_ALGORITHM:\n",
    "    # Write results to file (since running the above cell takes a long time)\n",
    "    write_to_file(unm_self_full_outputs, \"outputs\", \"unm_self_full.outputs\")\n",
    "    write_to_file(unm_foreign_full_outputs, \"outputs\", \"unm_foreign_full.outputs\")"
   ]
  },
  {
   "cell_type": "code",
   "execution_count": 25,
   "metadata": {},
   "outputs": [
    {
     "data": {
      "image/png": "[encoded data removed]",
      "text/plain": [
       "<Figure size 432x288 with 1 Axes>"
      ]
     },
     "metadata": {
      "needs_background": "light"
     },
     "output_type": "display_data"
    },
    {
     "name": "stdout",
     "output_type": "stream",
     "text": [
      "ROC-AUC score = 0.75\n"
     ]
    }
   ],
   "source": [
    "# Compute and show ROC-AUC\n",
    "if not RUN_ALGORITHM:\n",
    "    with open(f\"outputs/unm_self_full.outputs\", \"r\") as f:\n",
    "        unm_self_full_outputs = [float(line.rstrip()) for line in f.readlines()]\n",
    "    with open(f\"outputs/unm_foreign_full.outputs\", \"r\") as f:\n",
    "        unm_foreign_full_outputs = [float(line.rstrip()) for line in f.readlines()]\n",
    "\n",
    "# Reload data if required\n",
    "roc_auc(unm_self_full_outputs, \n",
    "        unm_foreign_full_outputs, \n",
    "        \"Negative Selection ROC with n = 7, r = 4,\\nself = unm_self_small, foreign = unm_foreign_small\")"
   ]
  },
  {
   "cell_type": "markdown",
   "metadata": {},
   "source": [
    "#### Small training dataset, full testing dataset\n",
    "\n",
    "##### snd-cert"
   ]
  },
  {
   "cell_type": "code",
   "execution_count": 26,
   "metadata": {},
   "outputs": [],
   "source": [
    "if RUN_ALGORITHM:\n",
    "    # Get the output of the negative selection algorithm on the snd-cert testing sets using the small training set\n",
    "    cert_self_small_outputs = get_negsel_outputs(\"syscalls/snd-cert/snd-cert.self_full.test\", \n",
    "                                                 \"syscalls/snd-cert/snd-cert.chunked_small.train\", \n",
    "                                                 \"syscalls/snd-cert/snd-cert.alpha\",\n",
    "                                                 n=7, r=4)\n",
    "    cert_foreign_small_outputs = get_negsel_outputs(\"syscalls/snd-cert/snd-cert.foreign_full.test\", \n",
    "                                                    \"syscalls/snd-cert/snd-cert.chunked_small.train\", \n",
    "                                                    \"syscalls/snd-cert/snd-cert.alpha\",\n",
    "                                                    n=7, r=4)"
   ]
  },
  {
   "cell_type": "code",
   "execution_count": 27,
   "metadata": {},
   "outputs": [],
   "source": [
    "if RUN_ALGORITHM:\n",
    "    # Write results to file (since running the above cell takes a long time)\n",
    "    write_to_file(cert_self_small_outputs, \"outputs\", \"cert_self_small.outputs\")\n",
    "    write_to_file(cert_foreign_small_outputs, \"outputs\", \"cert_foreign_small.outputs\")"
   ]
  },
  {
   "cell_type": "code",
   "execution_count": 28,
   "metadata": {},
   "outputs": [
    {
     "data": {
      "image/png": "[encoded data removed]",
      "text/plain": [
       "<Figure size 432x288 with 1 Axes>"
      ]
     },
     "metadata": {
      "needs_background": "light"
     },
     "output_type": "display_data"
    },
    {
     "name": "stdout",
     "output_type": "stream",
     "text": [
      "ROC-AUC score = 0.7466709677419354\n"
     ]
    }
   ],
   "source": [
    "# Reload data if required\n",
    "if not RUN_ALGORITHM:\n",
    "    with open(f\"outputs/cert_self_small.outputs\", \"r\") as f:\n",
    "        cert_self_small_outputs = [float(line.rstrip()) for line in f.readlines()]\n",
    "    with open(f\"outputs/cert_foreign_small.outputs\", \"r\") as f:\n",
    "        cert_foreign_small_outputs = [float(line.rstrip()) for line in f.readlines()]\n",
    "\n",
    "# Compute and show ROC-AUC\n",
    "roc_auc(cert_self_small_outputs, \n",
    "        cert_foreign_small_outputs, \n",
    "        \"Negative Selection ROC with n = 7, r = 4,\\nself = cert_self_full, foreign = cert_foreign_full\")"
   ]
  },
  {
   "cell_type": "markdown",
   "metadata": {},
   "source": [
    "##### snd-unm"
   ]
  },
  {
   "cell_type": "code",
   "execution_count": 29,
   "metadata": {},
   "outputs": [],
   "source": [
    "if RUN_ALGORITHM:\n",
    "    # Get the output of the negative selection algorithm on the snd-unm testing sets using the small training set\n",
    "    unm_self_small_outputs = get_negsel_outputs(\"syscalls/snd-unm/snd-unm.self_full.test\", \n",
    "                                                \"syscalls/snd-unm/snd-unm.chunked_small.train\", \n",
    "                                                \"syscalls/snd-unm/snd-unm.alpha\",\n",
    "                                                n=7, r=4)\n",
    "    unm_foreign_small_outputs = get_negsel_outputs(\"syscalls/snd-unm/snd-unm.foreign_full.test\", \n",
    "                                                   \"syscalls/snd-unm/snd-unm.chunked_small.train\", \n",
    "                                                   \"syscalls/snd-unm/snd-unm.alpha\",\n",
    "                                                   n=7, r=4)"
   ]
  },
  {
   "cell_type": "code",
   "execution_count": 30,
   "metadata": {},
   "outputs": [],
   "source": [
    "if RUN_ALGORITHM:\n",
    "    # Write results to file (since running the above cell takes a long time)\n",
    "    write_to_file(unm_self_small_outputs, \"outputs\", \"unm_self_small.outputs\")\n",
    "    write_to_file(unm_foreign_small_outputs, \"outputs\", \"unm_foreign_small.outputs\")"
   ]
  },
  {
   "cell_type": "code",
   "execution_count": 31,
   "metadata": {},
   "outputs": [
    {
     "data": {
      "image/png": "[encoded data removed]",
      "text/plain": [
       "<Figure size 432x288 with 1 Axes>"
      ]
     },
     "metadata": {
      "needs_background": "light"
     },
     "output_type": "display_data"
    },
    {
     "name": "stdout",
     "output_type": "stream",
     "text": [
      "ROC-AUC score = 0.9246903225806452\n"
     ]
    }
   ],
   "source": [
    "# Reload data if required\n",
    "if not RUN_ALGORITHM:\n",
    "    with open(f\"outputs/unm_self_small.outputs\", \"r\") as f:\n",
    "        unm_self_small_outputs = [float(line.rstrip()) for line in f.readlines()]\n",
    "    with open(f\"outputs/unm_foreign_small.outputs\", \"r\") as f:\n",
    "        unm_foreign_small_outputs = [float(line.rstrip()) for line in f.readlines()]\n",
    "\n",
    "        # Compute and show ROC-AUC\n",
    "roc_auc(unm_self_small_outputs, \n",
    "        unm_foreign_small_outputs, \n",
    "        \"Negative Selection ROC with n = 7, r = 4,\\nself = unm_self_full, foreign = unm_foreign_full\")"
   ]
  },
  {
   "cell_type": "markdown",
   "metadata": {},
   "source": [
    "#### Init training dataset (first chunk only), full testing dataset\n",
    "\n",
    "##### snd-cert"
   ]
  },
  {
   "cell_type": "code",
   "execution_count": 32,
   "metadata": {},
   "outputs": [],
   "source": [
    "if RUN_ALGORITHM:\n",
    "    # Get the output of the negative selection algorithm on the snd-cert testing sets using the init training set\n",
    "    cert_self_init_outputs = get_negsel_outputs(\"syscalls/snd-cert/snd-cert.self_full.test\", \n",
    "                                                \"syscalls/snd-cert/snd-cert.chunked_init.train\", \n",
    "                                                \"syscalls/snd-cert/snd-cert.alpha\",\n",
    "                                                n=7, r=4)\n",
    "    cert_foreign_init_outputs = get_negsel_outputs(\"syscalls/snd-cert/snd-cert.foreign_full.test\", \n",
    "                                                   \"syscalls/snd-cert/snd-cert.chunked_init.train\", \n",
    "                                                   \"syscalls/snd-cert/snd-cert.alpha\",\n",
    "                                                   n=7, r=4)"
   ]
  },
  {
   "cell_type": "code",
   "execution_count": 33,
   "metadata": {},
   "outputs": [],
   "source": [
    "if RUN_ALGORITHM:\n",
    "    # Write results to file (since running the above cell takes a long time)\n",
    "    write_to_file(cert_self_init_outputs, \"outputs\", \"cert_self_init.outputs\")\n",
    "    write_to_file(cert_foreign_init_outputs, \"outputs\", \"cert_foreign_init.outputs\")"
   ]
  },
  {
   "cell_type": "code",
   "execution_count": 34,
   "metadata": {},
   "outputs": [
    {
     "data": {
      "image/png": "[encoded data removed]",
      "text/plain": [
       "<Figure size 432x288 with 1 Axes>"
      ]
     },
     "metadata": {
      "needs_background": "light"
     },
     "output_type": "display_data"
    },
    {
     "name": "stdout",
     "output_type": "stream",
     "text": [
      "ROC-AUC score = 0.9269354838709677\n"
     ]
    }
   ],
   "source": [
    "# Reload data if required\n",
    "if not RUN_ALGORITHM:\n",
    "    with open(f\"outputs/cert_self_init.outputs\", \"r\") as f:\n",
    "        cert_self_init_outputs = [float(line.rstrip()) for line in f.readlines()]\n",
    "    with open(f\"outputs/cert_foreign_init.outputs\", \"r\") as f:\n",
    "        cert_foreign_init_outputs = [float(line.rstrip()) for line in f.readlines()]\n",
    "\n",
    "# Compute and show ROC-AUC\n",
    "roc_auc(cert_self_init_outputs, \n",
    "        cert_foreign_init_outputs, \n",
    "        \"Negative Selection ROC with n = 7, r = 4,\\nself = cert_self_full, foreign = cert_foreign_full\")"
   ]
  },
  {
   "cell_type": "markdown",
   "metadata": {},
   "source": [
    "##### snd-unm"
   ]
  },
  {
   "cell_type": "code",
   "execution_count": 35,
   "metadata": {},
   "outputs": [],
   "source": [
    "if RUN_ALGORITHM:\n",
    "    # Get the output of the negative selection algorithm on the snd-unm testing sets using the init training set\n",
    "    unm_self_init_outputs = get_negsel_outputs(\"syscalls/snd-unm/snd-unm.self_full.test\", \n",
    "                                               \"syscalls/snd-unm/snd-unm.chunked_init.train\", \n",
    "                                               \"syscalls/snd-unm/snd-unm.alpha\",\n",
    "                                               n=7, r=4)\n",
    "    unm_foreign_init_outputs = get_negsel_outputs(\"syscalls/snd-unm/snd-unm.foreign_full.test\", \n",
    "                                                  \"syscalls/snd-unm/snd-unm.chunked_init.train\", \n",
    "                                                  \"syscalls/snd-unm/snd-unm.alpha\",\n",
    "                                                  n=7, r=4)"
   ]
  },
  {
   "cell_type": "code",
   "execution_count": 36,
   "metadata": {},
   "outputs": [],
   "source": [
    "if RUN_ALGORITHM:\n",
    "    # Write results to file (since running the above cell takes a long time)\n",
    "    write_to_file(unm_self_init_outputs, \"outputs\", \"unm_self_init.outputs\")\n",
    "    write_to_file(unm_foreign_init_outputs, \"outputs\", \"unm_foreign_init.outputs\")"
   ]
  },
  {
   "cell_type": "code",
   "execution_count": 37,
   "metadata": {},
   "outputs": [
    {
     "data": {
      "image/png": "[encoded data removed]",
      "text/plain": [
       "<Figure size 432x288 with 1 Axes>"
      ]
     },
     "metadata": {
      "needs_background": "light"
     },
     "output_type": "display_data"
    },
    {
     "name": "stdout",
     "output_type": "stream",
     "text": [
      "ROC-AUC score = 0.9664172043010754\n"
     ]
    }
   ],
   "source": [
    "# Reload data if required\n",
    "if not RUN_ALGORITHM:\n",
    "    with open(f\"outputs/unm_self_init.outputs\", \"r\") as f:\n",
    "        unm_self_init_outputs = [float(line.rstrip()) for line in f.readlines()]\n",
    "    with open(f\"outputs/unm_foreign_init.outputs\", \"r\") as f:\n",
    "        unm_foreign_init_outputs = [float(line.rstrip()) for line in f.readlines()]\n",
    "\n",
    "# Compute and show ROC-AUC\n",
    "roc_auc(unm_self_init_outputs, \n",
    "        unm_foreign_init_outputs, \n",
    "        \"Negative Selection ROC with n = 7, r = 4,\\nself = unm_self_full, foreign = unm_foreign_full\")"
   ]
  }
 ],
 "metadata": {
  "kernelspec": {
   "display_name": "Python 3",
   "language": "python",
   "name": "python3"
  },
  "language_info": {
   "codemirror_mode": {
    "name": "ipython",
    "version": 3
   },
   "file_extension": ".py",
   "mimetype": "text/x-python",
   "name": "python",
   "nbconvert_exporter": "python",
   "pygments_lexer": "ipython3",
   "version": "3.8.3"
  }
 },
 "nbformat": 4,
 "nbformat_minor": 4
}
