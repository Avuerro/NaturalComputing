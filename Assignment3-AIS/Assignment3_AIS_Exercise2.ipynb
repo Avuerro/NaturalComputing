{
 "cells": [
  {
   "cell_type": "markdown",
   "metadata": {},
   "source": [
    "### Imports"
   ]
  },
  {
   "cell_type": "code",
   "execution_count": 1,
   "metadata": {},
   "outputs": [],
   "source": [
    "from subprocess import Popen, PIPE, STDOUT\n",
    "import numpy as np\n",
    "from sklearn.metrics import roc_curve, auc\n",
    "import matplotlib.pyplot as plt "
   ]
  },
  {
   "cell_type": "markdown",
   "metadata": {},
   "source": [
    "### Interfacing with the Java implementation of the Negative Selection algorithm"
   ]
  },
  {
   "cell_type": "code",
   "execution_count": 2,
   "metadata": {},
   "outputs": [],
   "source": [
    "def get_negsel_outputs(test_filename, train_filename=\"english.train\", alphabetfile = None, \n",
    "                       n=10, r=4, c=True, l=True, notebook_in_folder=False):\n",
    "    \n",
    "    # Fix command for when notebook is not inside the negative-selection folder\n",
    "    folder_prefix = \"negative-selection/\" if not notebook_in_folder else \"\"\n",
    "    \n",
    "    # Create command using given filenames and parameters\n",
    "    command = f\"java -jar {folder_prefix}negsel2.jar \" \\\n",
    "              f\"-self {folder_prefix}{train_filename} \" \\\n",
    "              f\"-n {n} -r {r} {'-c' if c else ''} {'-l' if l else ''} \" \\\n",
    "              f\"-alphabet file://{alphabetfile}\" \\\n",
    "              f\"< {folder_prefix}{test_filename}\"\n",
    "    \n",
    "    # Run the command\n",
    "    process = Popen(command, stdout=PIPE, shell=True, stderr=STDOUT, bufsize=2, close_fds=True)\n",
    "    \n",
    "    # Extract and return output values\n",
    "    outputs = [float(line.rstrip().decode('utf-8')) for line in iter(process.stdout.readline, b'')]\n",
    "    return outputs"
   ]
  },
  {
   "cell_type": "markdown",
   "metadata": {},
   "source": [
    "## Strategy?\n",
    ".train files contain normal sequences \n",
    "\n",
    ".test contain both normal and anomalies\n",
    "\n",
    ".labels files contains the labels for the .test files, 0 = normal 1 = anomaly\n",
    "\n",
    ".alpha is the alphabet uste to encode system calls...\n",
    "\n",
    "## Problems \n",
    "* labels 1 file instead of two...\n",
    "* no fixed length sequences\n",
    "    * training: preprocess sequences in to fixed lenght chunks..\n",
    "    * testing: evaluate patterns in chunks and use a measure to obtain anomaly score for a chunk\n",
    "\n",
    "\n",
    "## (possible) Solutions\n",
    "\n",
    "* split the files based on the labels so we end up with two files..?\n",
    "* create a function that splits the sequences in substrings of a specified length\n",
    "\n"
   ]
  },
  {
   "cell_type": "code",
   "execution_count": null,
   "metadata": {},
   "outputs": [],
   "source": []
  },
  {
   "cell_type": "markdown",
   "metadata": {},
   "source": [
    "### Running the algorithm"
   ]
  },
  {
   "cell_type": "code",
   "execution_count": 16,
   "metadata": {},
   "outputs": [
    {
     "ename": "ValueError",
     "evalue": "could not convert string to float: 'Exception in thread \"main\" java.lang.ExceptionInInitializerError'",
     "output_type": "error",
     "traceback": [
      "\u001b[0;31m---------------------------------------------------------------------------\u001b[0m",
      "\u001b[0;31mValueError\u001b[0m                                Traceback (most recent call last)",
      "\u001b[0;32m<ipython-input-16-f7d8fc372996>\u001b[0m in \u001b[0;36m<module>\u001b[0;34m\u001b[0m\n\u001b[0;32m----> 1\u001b[0;31m snd_cert = get_negsel_outputs(\"syscalls/snd-cert/snd-cert.1.test\", \n\u001b[0m\u001b[1;32m      2\u001b[0m                               \u001b[0mtrain_filename\u001b[0m \u001b[0;34m=\u001b[0m \u001b[0;34m\"syscalls/snd-cert/snd-cert.train\"\u001b[0m\u001b[0;34m,\u001b[0m\u001b[0;34m\u001b[0m\u001b[0;34m\u001b[0m\u001b[0m\n\u001b[1;32m      3\u001b[0m                               alphabetfile = \"syscalls/snd-cert/snd-cert.alpha\")\n",
      "\u001b[0;32m<ipython-input-15-041a30a7e4c0>\u001b[0m in \u001b[0;36mget_negsel_outputs\u001b[0;34m(test_filename, train_filename, alphabetfile, n, r, c, l, notebook_in_folder)\u001b[0m\n\u001b[1;32m     16\u001b[0m \u001b[0;34m\u001b[0m\u001b[0m\n\u001b[1;32m     17\u001b[0m     \u001b[0;31m# Extract and return output values\u001b[0m\u001b[0;34m\u001b[0m\u001b[0;34m\u001b[0m\u001b[0;34m\u001b[0m\u001b[0m\n\u001b[0;32m---> 18\u001b[0;31m     \u001b[0moutputs\u001b[0m \u001b[0;34m=\u001b[0m \u001b[0;34m[\u001b[0m\u001b[0mfloat\u001b[0m\u001b[0;34m(\u001b[0m\u001b[0mline\u001b[0m\u001b[0;34m.\u001b[0m\u001b[0mrstrip\u001b[0m\u001b[0;34m(\u001b[0m\u001b[0;34m)\u001b[0m\u001b[0;34m.\u001b[0m\u001b[0mdecode\u001b[0m\u001b[0;34m(\u001b[0m\u001b[0;34m'utf-8'\u001b[0m\u001b[0;34m)\u001b[0m\u001b[0;34m)\u001b[0m \u001b[0;32mfor\u001b[0m \u001b[0mline\u001b[0m \u001b[0;32min\u001b[0m \u001b[0miter\u001b[0m\u001b[0;34m(\u001b[0m\u001b[0mprocess\u001b[0m\u001b[0;34m.\u001b[0m\u001b[0mstdout\u001b[0m\u001b[0;34m.\u001b[0m\u001b[0mreadline\u001b[0m\u001b[0;34m,\u001b[0m \u001b[0;34mb''\u001b[0m\u001b[0;34m)\u001b[0m\u001b[0;34m]\u001b[0m\u001b[0;34m\u001b[0m\u001b[0;34m\u001b[0m\u001b[0m\n\u001b[0m\u001b[1;32m     19\u001b[0m     \u001b[0;32mreturn\u001b[0m \u001b[0moutputs\u001b[0m\u001b[0;34m\u001b[0m\u001b[0;34m\u001b[0m\u001b[0m\n",
      "\u001b[0;32m<ipython-input-15-041a30a7e4c0>\u001b[0m in \u001b[0;36m<listcomp>\u001b[0;34m(.0)\u001b[0m\n\u001b[1;32m     16\u001b[0m \u001b[0;34m\u001b[0m\u001b[0m\n\u001b[1;32m     17\u001b[0m     \u001b[0;31m# Extract and return output values\u001b[0m\u001b[0;34m\u001b[0m\u001b[0;34m\u001b[0m\u001b[0;34m\u001b[0m\u001b[0m\n\u001b[0;32m---> 18\u001b[0;31m     \u001b[0moutputs\u001b[0m \u001b[0;34m=\u001b[0m \u001b[0;34m[\u001b[0m\u001b[0mfloat\u001b[0m\u001b[0;34m(\u001b[0m\u001b[0mline\u001b[0m\u001b[0;34m.\u001b[0m\u001b[0mrstrip\u001b[0m\u001b[0;34m(\u001b[0m\u001b[0;34m)\u001b[0m\u001b[0;34m.\u001b[0m\u001b[0mdecode\u001b[0m\u001b[0;34m(\u001b[0m\u001b[0;34m'utf-8'\u001b[0m\u001b[0;34m)\u001b[0m\u001b[0;34m)\u001b[0m \u001b[0;32mfor\u001b[0m \u001b[0mline\u001b[0m \u001b[0;32min\u001b[0m \u001b[0miter\u001b[0m\u001b[0;34m(\u001b[0m\u001b[0mprocess\u001b[0m\u001b[0;34m.\u001b[0m\u001b[0mstdout\u001b[0m\u001b[0;34m.\u001b[0m\u001b[0mreadline\u001b[0m\u001b[0;34m,\u001b[0m \u001b[0;34mb''\u001b[0m\u001b[0;34m)\u001b[0m\u001b[0;34m]\u001b[0m\u001b[0;34m\u001b[0m\u001b[0;34m\u001b[0m\u001b[0m\n\u001b[0m\u001b[1;32m     19\u001b[0m     \u001b[0;32mreturn\u001b[0m \u001b[0moutputs\u001b[0m\u001b[0;34m\u001b[0m\u001b[0;34m\u001b[0m\u001b[0m\n",
      "\u001b[0;31mValueError\u001b[0m: could not convert string to float: 'Exception in thread \"main\" java.lang.ExceptionInInitializerError'"
     ]
    }
   ],
   "source": [
    "snd_cert = get_negsel_outputs(\"syscalls/snd-cert/snd-cert.1.test\", \n",
    "                              train_filename = \"syscalls/snd-cert/snd-cert.train\",\n",
    "                              alphabetfile = \"syscalls/snd-cert/snd-cert.alpha\")"
   ]
  },
  {
   "cell_type": "markdown",
   "metadata": {},
   "source": [
    "### Computing ROC-AUC"
   ]
  },
  {
   "cell_type": "code",
   "execution_count": 5,
   "metadata": {
    "scrolled": false
   },
   "outputs": [],
   "source": [
    "def roc_auc(merged_outputs, title = 'Nog Mooiere en Minder Gehandicapte ROC-Curve, Maar Waarschijnlijk Net Zo Fout'):\n",
    "    sensitivity = []\n",
    "    specificity = []\n",
    "\n",
    "    for v in merged_outputs:\n",
    "        # For each v in merged_outputs: calculate percentage of values in tagalog that are larger\n",
    "        sensitivity_v = len([x for x in tagalog_outputs if x > v]) / len(tagalog_outputs)\n",
    "\n",
    "        # For each v in merged_outputs: calculate percentage of values in english that are smaller\n",
    "        specificity_v = len([x for x in english_outputs if x < v]) / len(english_outputs)\n",
    "        \n",
    "        # Keep track of these values\n",
    "        sensitivity.append(sensitivity_v)\n",
    "        specificity.append(specificity_v)\n",
    "\n",
    "    plt.plot(sorted(sensitivity),sorted(specificity))\n",
    "    plt.plot([0.0, 1.0], [0.0,1.0], ls='--')\n",
    "    plt.xlabel('sensitivity')\n",
    "    plt.ylabel('specificity')\n",
    "    plt.title(title)\n",
    "    plt.show()\n",
    "    print(\"ROC-AUC = {}\".format(auc(sorted(sensitivity), sorted(specificity))))"
   ]
  }
 ],
 "metadata": {
  "kernelspec": {
   "display_name": "Python 3",
   "language": "python",
   "name": "python3"
  },
  "language_info": {
   "codemirror_mode": {
    "name": "ipython",
    "version": 3
   },
   "file_extension": ".py",
   "mimetype": "text/x-python",
   "name": "python",
   "nbconvert_exporter": "python",
   "pygments_lexer": "ipython3",
   "version": "3.8.5"
  }
 },
 "nbformat": 4,
 "nbformat_minor": 4
}
