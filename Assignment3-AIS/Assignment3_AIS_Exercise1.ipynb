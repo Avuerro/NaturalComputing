{
 "cells": [
  {
   "cell_type": "markdown",
   "metadata": {},
   "source": [
    "### Imports"
   ]
  },
  {
   "cell_type": "code",
   "execution_count": 1,
   "metadata": {},
   "outputs": [],
   "source": [
    "from subprocess import Popen, PIPE, STDOUT"
   ]
  },
  {
   "cell_type": "markdown",
   "metadata": {},
   "source": [
    "### Interfacing with the Java implementation of the Negative Selection algorithm"
   ]
  },
  {
   "cell_type": "code",
   "execution_count": 2,
   "metadata": {},
   "outputs": [],
   "source": [
    "def get_negsel_outputs(test_filename, train_filename=\"english.train\", \n",
    "                       n=10, r=4, c=True, l=True, notebook_in_folder=False):\n",
    "    \n",
    "    # Fix command for when notebook is not inside the negative-selection folder\n",
    "    folder_prefix = \"negative-selection/\" if not notebook_in_folder else \"\"\n",
    "    \n",
    "    # Create command using given filenames and parameters\n",
    "    command = f\"java -jar {folder_prefix}negsel2.jar \" \\\n",
    "              f\"-self {folder_prefix}{train_filename} \" \\\n",
    "              f\"-n {n} -r {r} {'-c' if c else ''} {'-l' if l else ''} \" \\\n",
    "              f\"< {folder_prefix}{test_filename}\"\n",
    "    \n",
    "    # Run the command\n",
    "    process = Popen(command, stdout=PIPE, shell=True, stderr=STDOUT, bufsize=2, close_fds=True)\n",
    "    \n",
    "    # Extract and return output values\n",
    "    outputs = [float(line.rstrip().decode('utf-8')) for line in iter(process.stdout.readline, b'')]\n",
    "    return outputs"
   ]
  },
  {
   "cell_type": "markdown",
   "metadata": {},
   "source": [
    "### Running the algorithm"
   ]
  },
  {
   "cell_type": "code",
   "execution_count": 3,
   "metadata": {},
   "outputs": [],
   "source": [
    "english_outputs = get_negsel_outputs(\"english.test\")\n",
    "tagalog_outputs = get_negsel_outputs(\"tagalog.test\")"
   ]
  }
 ],
 "metadata": {
  "kernelspec": {
   "display_name": "Python 3",
   "language": "python",
   "name": "python3"
  },
  "language_info": {
   "codemirror_mode": {
    "name": "ipython",
    "version": 3
   },
   "file_extension": ".py",
   "mimetype": "text/x-python",
   "name": "python",
   "nbconvert_exporter": "python",
   "pygments_lexer": "ipython3",
   "version": "3.8.3"
  }
 },
 "nbformat": 4,
 "nbformat_minor": 4
}
