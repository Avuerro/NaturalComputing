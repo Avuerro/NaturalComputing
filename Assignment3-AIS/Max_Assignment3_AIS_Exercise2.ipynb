{
 "cells": [
  {
   "cell_type": "markdown",
   "metadata": {},
   "source": [
    "# Natural Computing - Assignment 3 - Artificial Immune Systems\n",
    "## Exercise 2 - Intrusion Detection for Unix Processes\n",
    "#### Submission by group 25 (Chihab Amghane, Max Driessen, Jordy Naus)\n",
    "\n",
    "This file contains our code for exercise 2 of the \"Artificial Immune Systems\" assignment of the Natural Computing course."
   ]
  },
  {
   "cell_type": "markdown",
   "metadata": {},
   "source": [
    "### Imports"
   ]
  },
  {
   "cell_type": "code",
   "execution_count": 1,
   "metadata": {},
   "outputs": [],
   "source": [
    "from subprocess import Popen, PIPE, STDOUT\n",
    "from sklearn.metrics import auc\n",
    "import matplotlib.pyplot as plt \n",
    "import numpy as np"
   ]
  },
  {
   "cell_type": "markdown",
   "metadata": {},
   "source": [
    "### Interfacing with the Java implementation of the Negative Selection algorithm"
   ]
  },
  {
   "cell_type": "code",
   "execution_count": 2,
   "metadata": {},
   "outputs": [],
   "source": [
    "def get_negsel_outputs(test_filename, \n",
    "                       train_filename,\n",
    "                       alphabet_filename,\n",
    "                       negsel_folder=\"negative-selection\",\n",
    "                       n=10, r=4, c=True, l=True):\n",
    "    \n",
    "    # Make sure that negsel_folder ends in / if it is not empty\n",
    "    negsel_folder += \"/\" if not negsel_folder.endswith(\"/\") and negsel_folder else \"\"\n",
    "    \n",
    "    # Create command using given filenames and parameters\n",
    "    command = f\"java -jar {negsel_folder}negsel2.jar \" \\\n",
    "              f\"-alphabet file://{negsel_folder}{alphabet_filename} \" \\\n",
    "              f\"-self {negsel_folder}{train_filename} \" \\\n",
    "              f\"-n {n} -r {r} {'-c' if c else ''} {'-l' if l else ''} \" \\\n",
    "              f\"< {negsel_folder}{test_filename}\"\n",
    "    \n",
    "    # Run the command\n",
    "    process = Popen(command, stdout=PIPE, shell=True, stderr=STDOUT, bufsize=2, close_fds=True)\n",
    "    \n",
    "    # Extract and return output values (if multiple values are returned for one line, use the average)\n",
    "    outputs = []\n",
    "    for line in iter(process.stdout.readline, b''):\n",
    "        values = [float(val) for val in line.rstrip().decode('utf-8').split(\" \")]\n",
    "        outputs.append(np.average(values) if values[0] == values[0] else 0.0)\n",
    "    return outputs"
   ]
  },
  {
   "cell_type": "markdown",
   "metadata": {},
   "source": [
    "### Preprocessing"
   ]
  },
  {
   "cell_type": "code",
   "execution_count": 3,
   "metadata": {},
   "outputs": [],
   "source": [
    "def extract_self_foreign(folder_name, data_type, parts=[1,2,3]):\n",
    "    \n",
    "    # Make sure that negsel_folder ends in / if it is not empty\n",
    "    folder_name += \"/\" if not folder_name.endswith(\"/\") and folder_name else \"\"\n",
    "    \n",
    "    # Extract data from the desired parts\n",
    "    data, labels = [], []\n",
    "    for part in parts:\n",
    "        # Set the correct file location\n",
    "        loc = f\"{folder_name}{data_type}.{part}\"\n",
    "        \n",
    "        # Extract the test data of this part\n",
    "        with open(f\"{loc}.test\", \"r\") as f:\n",
    "            data.extend([line.rstrip() for line in f.readlines()])\n",
    "        \n",
    "        # Extract the labels of this part\n",
    "        with open(f\"{loc}.labels\", \"r\") as f:\n",
    "            labels.extend([int(line.rstrip()) for line in f.readlines()])\n",
    "            \n",
    "    # Convert test data and labels to np arrays\n",
    "    data = np.array(data)\n",
    "    labels = np.array(labels)\n",
    "    \n",
    "    # Extract self and foreign test data\n",
    "    self = data[labels == 0].tolist()\n",
    "    foreign = data[labels == 1].tolist()\n",
    "    \n",
    "    # Return self and foreign test data\n",
    "    return self, foreign"
   ]
  },
  {
   "cell_type": "code",
   "execution_count": 4,
   "metadata": {},
   "outputs": [],
   "source": [
    "cert_self, cert_foreign = extract_self_foreign(\"negative-selection/syscalls/snd-cert\", \"snd-cert\", [1,2,3])\n",
    "unm_self, unm_foreign = extract_self_foreign(\"negative-selection/syscalls/snd-unm\", \"snd-unm\", [1,2,3])"
   ]
  },
  {
   "cell_type": "code",
   "execution_count": 5,
   "metadata": {},
   "outputs": [],
   "source": [
    "def write_to_file(data, folder_name, filename):\n",
    "    \n",
    "    # Make sure that negsel_folder ends in / if it is not empty\n",
    "    folder_name += \"/\" if not folder_name.endswith(\"/\") and folder_name else \"\"\n",
    "    \n",
    "    # Write the provided data to the specified file, one line at a time\n",
    "    with open(f\"{folder_name}{filename}\", \"w\") as f:\n",
    "        for line in data:\n",
    "            f.write(f\"{line}\\n\")"
   ]
  },
  {
   "cell_type": "code",
   "execution_count": 6,
   "metadata": {},
   "outputs": [],
   "source": [
    "write_to_file(cert_self, \"negative-selection/syscalls/snd-cert\", \"snd-cert.self.test\")\n",
    "write_to_file(cert_foreign, \"negative-selection/syscalls/snd-cert\", \"snd-cert.foreign.test\")\n",
    "write_to_file(unm_self, \"negative-selection/syscalls/snd-unm\", \"snd-unm.self.test\")\n",
    "write_to_file(unm_foreign, \"negative-selection/syscalls/snd-unm\", \"snd-unm.foreign.test\")"
   ]
  },
  {
   "cell_type": "markdown",
   "metadata": {},
   "source": [
    "### Computing ROC-AUC"
   ]
  },
  {
   "cell_type": "code",
   "execution_count": 7,
   "metadata": {},
   "outputs": [],
   "source": [
    "def roc_auc(self_outputs, foreign_outputs, title=\"ROC Curve\"):\n",
    "    # Initialize lists for True Positive Rate (sensitivity) and True Negative Rate (specificity) values\n",
    "    TPRs, FPRs = [], []\n",
    "    \n",
    "    # Merge outputs\n",
    "    merged_outputs = self_outputs + foreign_outputs\n",
    "    cut_off_scores = sorted(set(merged_outputs))\n",
    "\n",
    "    # Compute sensitivity and specificity for each cut-off score in the merged outputs\n",
    "    for cut_off_score in cut_off_scores:\n",
    "        # Calculate TPR/sensitivity: TP/(TP+FN) (% of \"foreign_outputs\" > cut-off score)\n",
    "        TPRs.append(sum(np.array(foreign_outputs) > cut_off_score) / len(foreign_outputs))\n",
    "\n",
    "        # Calculate TNR/specificity: TN/(TN+FP) ($% of \"self_outputs\" < cut-off score)\n",
    "        FPRs.append(1 - sum(np.array(self_outputs) < cut_off_score) / len(self_outputs))\n",
    "    \n",
    "    # Plot ROC curve\n",
    "    plt.plot(FPRs, TPRs)\n",
    "    plt.plot([0.0, 1.0], [0.0, 1.0], ls='--')\n",
    "    plt.xlabel('False Positive Rate (1-specificity)')\n",
    "    plt.ylabel('True Positive Rate (sensitivity)')\n",
    "    plt.title(title)\n",
    "    plt.show()\n",
    "    \n",
    "    # Compute and print AUC score (AUC is computed using FPRs and TPRs)\n",
    "    print(f\"ROC-AUC score = {auc(FPRs, TPRs)}\")"
   ]
  },
  {
   "cell_type": "markdown",
   "metadata": {},
   "source": [
    "### Running the algorithm"
   ]
  },
  {
   "cell_type": "code",
   "execution_count": 8,
   "metadata": {},
   "outputs": [],
   "source": [
    "cert_self_outputs = get_negsel_outputs(\"syscalls/snd-cert/snd-cert.self.test\", \n",
    "                                       \"syscalls/snd-cert/snd-cert.train\", \n",
    "                                       \"syscalls/snd-cert/snd-cert.alpha\")\n",
    "cert_foreign_outputs = get_negsel_outputs(\"syscalls/snd-cert/snd-cert.foreign.test\", \n",
    "                                          \"syscalls/snd-cert/snd-cert.train\", \n",
    "                                          \"syscalls/snd-cert/snd-cert.alpha\")"
   ]
  },
  {
   "cell_type": "code",
   "execution_count": 9,
   "metadata": {},
   "outputs": [
    {
     "data": {
      "image/png": "[encoded data removed]",
      "text/plain": [
       "<Figure size 432x288 with 1 Axes>"
      ]
     },
     "metadata": {
      "needs_background": "light"
     },
     "output_type": "display_data"
    },
    {
     "name": "stdout",
     "output_type": "stream",
     "text": [
      "ROC-AUC score = 0.924105376344086\n"
     ]
    }
   ],
   "source": [
    "roc_auc(cert_self_outputs, \n",
    "        cert_foreign_outputs, \n",
    "        \"Negative Selection ROC with n = 10, r = 4, self = cert_self, foreign = cert_foreign\")"
   ]
  },
  {
   "cell_type": "code",
   "execution_count": 10,
   "metadata": {},
   "outputs": [],
   "source": [
    "unm_self_outputs = get_negsel_outputs(\"syscalls/snd-unm/snd-unm.self.test\", \n",
    "                                      \"syscalls/snd-unm/snd-unm.train\", \n",
    "                                      \"syscalls/snd-unm/snd-unm.alpha\")\n",
    "unm_foreign_outputs = get_negsel_outputs(\"syscalls/snd-unm/snd-unm.foreign.test\", \n",
    "                                         \"syscalls/snd-unm/snd-unm.train\", \n",
    "                                         \"syscalls/snd-unm/snd-unm.alpha\")"
   ]
  },
  {
   "cell_type": "code",
   "execution_count": 11,
   "metadata": {},
   "outputs": [
    {
     "data": {
      "image/png": "[encoded data removed]",
      "text/plain": [
       "<Figure size 432x288 with 1 Axes>"
      ]
     },
     "metadata": {
      "needs_background": "light"
     },
     "output_type": "display_data"
    },
    {
     "name": "stdout",
     "output_type": "stream",
     "text": [
      "ROC-AUC score = 0.9667720430107527\n"
     ]
    }
   ],
   "source": [
    "roc_auc(unm_self_outputs, \n",
    "        unm_foreign_outputs, \n",
    "        \"Negative Selection ROC with n = 10, r = 4, self = unm_self, foreign = unm_foreign\")"
   ]
  }
 ],
 "metadata": {
  "kernelspec": {
   "display_name": "Python 3",
   "language": "python",
   "name": "python3"
  },
  "language_info": {
   "codemirror_mode": {
    "name": "ipython",
    "version": 3
   },
   "file_extension": ".py",
   "mimetype": "text/x-python",
   "name": "python",
   "nbconvert_exporter": "python",
   "pygments_lexer": "ipython3",
   "version": "3.8.3"
  }
 },
 "nbformat": 4,
 "nbformat_minor": 4
}
